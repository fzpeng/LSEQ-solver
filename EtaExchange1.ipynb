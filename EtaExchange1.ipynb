{
 "cells": [
  {
   "cell_type": "markdown",
   "metadata": {},
   "source": [
    "## Integral LS equation"
   ]
  },
  {
   "cell_type": "code",
   "execution_count": 1,
   "metadata": {},
   "outputs": [],
   "source": [
    "# for binder\n",
    "ENV[\"PYTHON\"] = \"\"\n",
    "using Pkg;\n",
    "\n",
    "using IMinuit, QuadGK, NLsolve, NIntegration;\n",
    "using CSV, DataFrames, LaTeXStrings; ENV[\"COLUMNS\"]=160;\n",
    "import PyPlot;\n",
    "using Plots; default(frame=:box, minorticks=5, size=(500,350));\n",
    "using BenchmarkTools;\n",
    "\n",
    "\n",
    "using LinearAlgebra, StaticArrays\n",
    "using Roots\n",
    "using DifferentialEquations\n",
    "using Interpolations\n",
    "using FastGaussQuadrature\n",
    "\n",
    "PyPlot.matplotlib[:rc](\"mathtext\",fontset=\"cm\");    \n",
    "PyPlot.matplotlib[:rc](\"font\", family=\"serif\", size=11);"
   ]
  },
  {
   "cell_type": "code",
   "execution_count": 2,
   "metadata": {},
   "outputs": [],
   "source": [
    "#Pkg.add(\"PyCall\")\n",
    "#Pkg.build(\"PyCall\")"
   ]
  },
  {
   "cell_type": "code",
   "execution_count": 3,
   "metadata": {},
   "outputs": [],
   "source": [
    "#import Pkg; \n",
    "#Pkg.precompile()"
   ]
  },
  {
   "cell_type": "code",
   "execution_count": 4,
   "metadata": {},
   "outputs": [],
   "source": [
    "include(\"quadgauss.jl\");\n",
    "include(\"hadronmasses.jl\");"
   ]
  },
  {
   "cell_type": "code",
   "execution_count": 5,
   "metadata": {},
   "outputs": [],
   "source": [
    "λ(a,b,c) = a^2+b^2+c^2-2a*b-2b*c-2a*c\n",
    "qsq(E,m1,m2) = λ(E^2,m1^2,m2^2)/(4E^2)\n",
    "# 2-body phase space factor\n",
    "phsp(E,m1,m2) = sqrt(qsq(E,m1,m2))/(8*pi*E);\n",
    "\n"
   ]
  },
  {
   "cell_type": "code",
   "execution_count": 6,
   "metadata": {},
   "outputs": [],
   "source": [
    "function xsqrt(x)\n",
    "    imag(x) >=0 ? sqrt(x+0im) : -sqrt(x-0im)\n",
    "end\n",
    "\n",
    "ρ(w,m1,m2) = xsqrt(qsq(w,m1,m2)+0im)/(8π*w);"
   ]
  },
  {
   "cell_type": "code",
   "execution_count": null,
   "metadata": {},
   "outputs": [],
   "source": []
  },
  {
   "cell_type": "markdown",
   "metadata": {},
   "source": [
    "## LHCb data"
   ]
  },
  {
   "cell_type": "code",
   "execution_count": 7,
   "metadata": {},
   "outputs": [],
   "source": [
    "# read the data from file and wrap that into Data defined in IMinuit\n",
    "data_full_df=DataFrame(CSV.File(\"data10GeV_corrected.csv\", header=[\"w\", \"y\", \"err\"]))\n",
    "const data_full=Data(data_full_df);"
   ]
  },
  {
   "cell_type": "code",
   "execution_count": 8,
   "metadata": {},
   "outputs": [
    {
     "data": {
      "image/svg+xml": [
       "<?xml version=\"1.0\" encoding=\"utf-8\"?>\n",
       "<svg xmlns=\"http://www.w3.org/2000/svg\" xmlns:xlink=\"http://www.w3.org/1999/xlink\" width=\"500\" height=\"350\" viewBox=\"0 0 2000 1400\">\n",
       "<defs>\n",
       "  <clipPath id=\"clip550\">\n",
       "    <rect x=\"0\" y=\"0\" width=\"2000\" height=\"1400\"/>\n",
       "  </clipPath>\n",
       "</defs>\n",
       "<path clip-path=\"url(#clip550)\" d=\"\n",
       "M0 1400 L2000 1400 L2000 0 L0 0  Z\n",
       "  \" fill=\"#ffffff\" fill-rule=\"evenodd\" fill-opacity=\"1\"/>\n",
       "<defs>\n",
       "  <clipPath id=\"clip551\">\n",
       "    <rect x=\"400\" y=\"0\" width=\"1401\" height=\"1400\"/>\n",
       "  </clipPath>\n",
       "</defs>\n",
       "<path clip-path=\"url(#clip550)\" d=\"\n",
       "M233.659 1221.08 L1952.76 1221.08 L1952.76 47.2441 L233.659 47.2441  Z\n",
       "  \" fill=\"#ffffff\" fill-rule=\"evenodd\" fill-opacity=\"1\"/>\n",
       "<defs>\n",
       "  <clipPath id=\"clip552\">\n",
       "    <rect x=\"233\" y=\"47\" width=\"1720\" height=\"1175\"/>\n",
       "  </clipPath>\n",
       "</defs>\n",
       "<polyline clip-path=\"url(#clip552)\" style=\"stroke:#000000; stroke-linecap:butt; stroke-linejoin:round; stroke-width:2; stroke-opacity:0.1; fill:none\" points=\"\n",
       "  261.039,1221.08 261.039,47.2441 \n",
       "  \"/>\n",
       "<polyline clip-path=\"url(#clip552)\" style=\"stroke:#000000; stroke-linecap:butt; stroke-linejoin:round; stroke-width:2; stroke-opacity:0.1; fill:none\" points=\"\n",
       "  511.315,1221.08 511.315,47.2441 \n",
       "  \"/>\n",
       "<polyline clip-path=\"url(#clip552)\" style=\"stroke:#000000; stroke-linecap:butt; stroke-linejoin:round; stroke-width:2; stroke-opacity:0.1; fill:none\" points=\"\n",
       "  761.591,1221.08 761.591,47.2441 \n",
       "  \"/>\n",
       "<polyline clip-path=\"url(#clip552)\" style=\"stroke:#000000; stroke-linecap:butt; stroke-linejoin:round; stroke-width:2; stroke-opacity:0.1; fill:none\" points=\"\n",
       "  1011.87,1221.08 1011.87,47.2441 \n",
       "  \"/>\n",
       "<polyline clip-path=\"url(#clip552)\" style=\"stroke:#000000; stroke-linecap:butt; stroke-linejoin:round; stroke-width:2; stroke-opacity:0.1; fill:none\" points=\"\n",
       "  1262.14,1221.08 1262.14,47.2441 \n",
       "  \"/>\n",
       "<polyline clip-path=\"url(#clip552)\" style=\"stroke:#000000; stroke-linecap:butt; stroke-linejoin:round; stroke-width:2; stroke-opacity:0.1; fill:none\" points=\"\n",
       "  1512.42,1221.08 1512.42,47.2441 \n",
       "  \"/>\n",
       "<polyline clip-path=\"url(#clip552)\" style=\"stroke:#000000; stroke-linecap:butt; stroke-linejoin:round; stroke-width:2; stroke-opacity:0.1; fill:none\" points=\"\n",
       "  1762.7,1221.08 1762.7,47.2441 \n",
       "  \"/>\n",
       "<polyline clip-path=\"url(#clip550)\" style=\"stroke:#000000; stroke-linecap:butt; stroke-linejoin:round; stroke-width:4; stroke-opacity:1; fill:none\" points=\"\n",
       "  233.659,1221.08 1952.76,1221.08 \n",
       "  \"/>\n",
       "<polyline clip-path=\"url(#clip550)\" style=\"stroke:#000000; stroke-linecap:butt; stroke-linejoin:round; stroke-width:4; stroke-opacity:1; fill:none\" points=\"\n",
       "  233.659,47.2441 1952.76,47.2441 \n",
       "  \"/>\n",
       "<polyline clip-path=\"url(#clip550)\" style=\"stroke:#000000; stroke-linecap:butt; stroke-linejoin:round; stroke-width:4; stroke-opacity:1; fill:none\" points=\"\n",
       "  261.039,1221.08 261.039,1202.18 \n",
       "  \"/>\n",
       "<polyline clip-path=\"url(#clip550)\" style=\"stroke:#000000; stroke-linecap:butt; stroke-linejoin:round; stroke-width:4; stroke-opacity:1; fill:none\" points=\"\n",
       "  511.315,1221.08 511.315,1202.18 \n",
       "  \"/>\n",
       "<polyline clip-path=\"url(#clip550)\" style=\"stroke:#000000; stroke-linecap:butt; stroke-linejoin:round; stroke-width:4; stroke-opacity:1; fill:none\" points=\"\n",
       "  761.591,1221.08 761.591,1202.18 \n",
       "  \"/>\n",
       "<polyline clip-path=\"url(#clip550)\" style=\"stroke:#000000; stroke-linecap:butt; stroke-linejoin:round; stroke-width:4; stroke-opacity:1; fill:none\" points=\"\n",
       "  1011.87,1221.08 1011.87,1202.18 \n",
       "  \"/>\n",
       "<polyline clip-path=\"url(#clip550)\" style=\"stroke:#000000; stroke-linecap:butt; stroke-linejoin:round; stroke-width:4; stroke-opacity:1; fill:none\" points=\"\n",
       "  1262.14,1221.08 1262.14,1202.18 \n",
       "  \"/>\n",
       "<polyline clip-path=\"url(#clip550)\" style=\"stroke:#000000; stroke-linecap:butt; stroke-linejoin:round; stroke-width:4; stroke-opacity:1; fill:none\" points=\"\n",
       "  1512.42,1221.08 1512.42,1202.18 \n",
       "  \"/>\n",
       "<polyline clip-path=\"url(#clip550)\" style=\"stroke:#000000; stroke-linecap:butt; stroke-linejoin:round; stroke-width:4; stroke-opacity:1; fill:none\" points=\"\n",
       "  1762.7,1221.08 1762.7,1202.18 \n",
       "  \"/>\n",
       "<polyline clip-path=\"url(#clip550)\" style=\"stroke:#000000; stroke-linecap:butt; stroke-linejoin:round; stroke-width:4; stroke-opacity:1; fill:none\" points=\"\n",
       "  311.094,1221.08 311.094,1211.63 \n",
       "  \"/>\n",
       "<polyline clip-path=\"url(#clip550)\" style=\"stroke:#000000; stroke-linecap:butt; stroke-linejoin:round; stroke-width:4; stroke-opacity:1; fill:none\" points=\"\n",
       "  361.15,1221.08 361.15,1211.63 \n",
       "  \"/>\n",
       "<polyline clip-path=\"url(#clip550)\" style=\"stroke:#000000; stroke-linecap:butt; stroke-linejoin:round; stroke-width:4; stroke-opacity:1; fill:none\" points=\"\n",
       "  411.205,1221.08 411.205,1211.63 \n",
       "  \"/>\n",
       "<polyline clip-path=\"url(#clip550)\" style=\"stroke:#000000; stroke-linecap:butt; stroke-linejoin:round; stroke-width:4; stroke-opacity:1; fill:none\" points=\"\n",
       "  461.26,1221.08 461.26,1211.63 \n",
       "  \"/>\n",
       "<polyline clip-path=\"url(#clip550)\" style=\"stroke:#000000; stroke-linecap:butt; stroke-linejoin:round; stroke-width:4; stroke-opacity:1; fill:none\" points=\"\n",
       "  561.37,1221.08 561.37,1211.63 \n",
       "  \"/>\n",
       "<polyline clip-path=\"url(#clip550)\" style=\"stroke:#000000; stroke-linecap:butt; stroke-linejoin:round; stroke-width:4; stroke-opacity:1; fill:none\" points=\"\n",
       "  611.426,1221.08 611.426,1211.63 \n",
       "  \"/>\n",
       "<polyline clip-path=\"url(#clip550)\" style=\"stroke:#000000; stroke-linecap:butt; stroke-linejoin:round; stroke-width:4; stroke-opacity:1; fill:none\" points=\"\n",
       "  661.481,1221.08 661.481,1211.63 \n",
       "  \"/>\n",
       "<polyline clip-path=\"url(#clip550)\" style=\"stroke:#000000; stroke-linecap:butt; stroke-linejoin:round; stroke-width:4; stroke-opacity:1; fill:none\" points=\"\n",
       "  711.536,1221.08 711.536,1211.63 \n",
       "  \"/>\n",
       "<polyline clip-path=\"url(#clip550)\" style=\"stroke:#000000; stroke-linecap:butt; stroke-linejoin:round; stroke-width:4; stroke-opacity:1; fill:none\" points=\"\n",
       "  811.647,1221.08 811.647,1211.63 \n",
       "  \"/>\n",
       "<polyline clip-path=\"url(#clip550)\" style=\"stroke:#000000; stroke-linecap:butt; stroke-linejoin:round; stroke-width:4; stroke-opacity:1; fill:none\" points=\"\n",
       "  861.702,1221.08 861.702,1211.63 \n",
       "  \"/>\n",
       "<polyline clip-path=\"url(#clip550)\" style=\"stroke:#000000; stroke-linecap:butt; stroke-linejoin:round; stroke-width:4; stroke-opacity:1; fill:none\" points=\"\n",
       "  911.757,1221.08 911.757,1211.63 \n",
       "  \"/>\n",
       "<polyline clip-path=\"url(#clip550)\" style=\"stroke:#000000; stroke-linecap:butt; stroke-linejoin:round; stroke-width:4; stroke-opacity:1; fill:none\" points=\"\n",
       "  961.812,1221.08 961.812,1211.63 \n",
       "  \"/>\n",
       "<polyline clip-path=\"url(#clip550)\" style=\"stroke:#000000; stroke-linecap:butt; stroke-linejoin:round; stroke-width:4; stroke-opacity:1; fill:none\" points=\"\n",
       "  1061.92,1221.08 1061.92,1211.63 \n",
       "  \"/>\n",
       "<polyline clip-path=\"url(#clip550)\" style=\"stroke:#000000; stroke-linecap:butt; stroke-linejoin:round; stroke-width:4; stroke-opacity:1; fill:none\" points=\"\n",
       "  1111.98,1221.08 1111.98,1211.63 \n",
       "  \"/>\n",
       "<polyline clip-path=\"url(#clip550)\" style=\"stroke:#000000; stroke-linecap:butt; stroke-linejoin:round; stroke-width:4; stroke-opacity:1; fill:none\" points=\"\n",
       "  1162.03,1221.08 1162.03,1211.63 \n",
       "  \"/>\n",
       "<polyline clip-path=\"url(#clip550)\" style=\"stroke:#000000; stroke-linecap:butt; stroke-linejoin:round; stroke-width:4; stroke-opacity:1; fill:none\" points=\"\n",
       "  1212.09,1221.08 1212.09,1211.63 \n",
       "  \"/>\n",
       "<polyline clip-path=\"url(#clip550)\" style=\"stroke:#000000; stroke-linecap:butt; stroke-linejoin:round; stroke-width:4; stroke-opacity:1; fill:none\" points=\"\n",
       "  1312.2,1221.08 1312.2,1211.63 \n",
       "  \"/>\n",
       "<polyline clip-path=\"url(#clip550)\" style=\"stroke:#000000; stroke-linecap:butt; stroke-linejoin:round; stroke-width:4; stroke-opacity:1; fill:none\" points=\"\n",
       "  1362.25,1221.08 1362.25,1211.63 \n",
       "  \"/>\n",
       "<polyline clip-path=\"url(#clip550)\" style=\"stroke:#000000; stroke-linecap:butt; stroke-linejoin:round; stroke-width:4; stroke-opacity:1; fill:none\" points=\"\n",
       "  1412.31,1221.08 1412.31,1211.63 \n",
       "  \"/>\n",
       "<polyline clip-path=\"url(#clip550)\" style=\"stroke:#000000; stroke-linecap:butt; stroke-linejoin:round; stroke-width:4; stroke-opacity:1; fill:none\" points=\"\n",
       "  1462.36,1221.08 1462.36,1211.63 \n",
       "  \"/>\n",
       "<polyline clip-path=\"url(#clip550)\" style=\"stroke:#000000; stroke-linecap:butt; stroke-linejoin:round; stroke-width:4; stroke-opacity:1; fill:none\" points=\"\n",
       "  1562.48,1221.08 1562.48,1211.63 \n",
       "  \"/>\n",
       "<polyline clip-path=\"url(#clip550)\" style=\"stroke:#000000; stroke-linecap:butt; stroke-linejoin:round; stroke-width:4; stroke-opacity:1; fill:none\" points=\"\n",
       "  1612.53,1221.08 1612.53,1211.63 \n",
       "  \"/>\n",
       "<polyline clip-path=\"url(#clip550)\" style=\"stroke:#000000; stroke-linecap:butt; stroke-linejoin:round; stroke-width:4; stroke-opacity:1; fill:none\" points=\"\n",
       "  1662.59,1221.08 1662.59,1211.63 \n",
       "  \"/>\n",
       "<polyline clip-path=\"url(#clip550)\" style=\"stroke:#000000; stroke-linecap:butt; stroke-linejoin:round; stroke-width:4; stroke-opacity:1; fill:none\" points=\"\n",
       "  1712.64,1221.08 1712.64,1211.63 \n",
       "  \"/>\n",
       "<polyline clip-path=\"url(#clip550)\" style=\"stroke:#000000; stroke-linecap:butt; stroke-linejoin:round; stroke-width:4; stroke-opacity:1; fill:none\" points=\"\n",
       "  1812.75,1221.08 1812.75,1211.63 \n",
       "  \"/>\n",
       "<polyline clip-path=\"url(#clip550)\" style=\"stroke:#000000; stroke-linecap:butt; stroke-linejoin:round; stroke-width:4; stroke-opacity:1; fill:none\" points=\"\n",
       "  1862.81,1221.08 1862.81,1211.63 \n",
       "  \"/>\n",
       "<polyline clip-path=\"url(#clip550)\" style=\"stroke:#000000; stroke-linecap:butt; stroke-linejoin:round; stroke-width:4; stroke-opacity:1; fill:none\" points=\"\n",
       "  1912.86,1221.08 1912.86,1211.63 \n",
       "  \"/>\n",
       "<path clip-path=\"url(#clip550)\" d=\"M227.046 1249.79 L215.241 1268.24 L227.046 1268.24 L227.046 1249.79 M225.819 1245.72 L231.699 1245.72 L231.699 1268.24 L236.629 1268.24 L236.629 1272.13 L231.699 1272.13 L231.699 1280.28 L227.046 1280.28 L227.046 1272.13 L211.444 1272.13 L211.444 1267.61 L225.819 1245.72 Z\" fill=\"#000000\" fill-rule=\"evenodd\" fill-opacity=\"1\" /><path clip-path=\"url(#clip550)\" d=\"M244.361 1274.4 L249.245 1274.4 L249.245 1280.28 L244.361 1280.28 L244.361 1274.4 Z\" fill=\"#000000\" fill-rule=\"evenodd\" fill-opacity=\"1\" /><path clip-path=\"url(#clip550)\" d=\"M263.458 1276.34 L279.777 1276.34 L279.777 1280.28 L257.833 1280.28 L257.833 1276.34 Q260.495 1273.59 265.078 1268.96 Q269.685 1264.3 270.865 1262.96 Q273.111 1260.44 273.99 1258.7 Q274.893 1256.94 274.893 1255.25 Q274.893 1252.5 272.949 1250.76 Q271.027 1249.03 267.926 1249.03 Q265.727 1249.03 263.273 1249.79 Q260.842 1250.55 258.065 1252.1 L258.065 1247.38 Q260.889 1246.25 263.342 1245.67 Q265.796 1245.09 267.833 1245.09 Q273.203 1245.09 276.398 1247.78 Q279.592 1250.46 279.592 1254.95 Q279.592 1257.08 278.782 1259 Q277.995 1260.9 275.889 1263.49 Q275.31 1264.16 272.208 1267.38 Q269.106 1270.58 263.458 1276.34 Z\" fill=\"#000000\" fill-rule=\"evenodd\" fill-opacity=\"1\" /><path clip-path=\"url(#clip550)\" d=\"M288.412 1245.72 L310.634 1245.72 L310.634 1247.71 L298.087 1280.28 L293.203 1280.28 L305.009 1249.65 L288.412 1249.65 L288.412 1245.72 Z\" fill=\"#000000\" fill-rule=\"evenodd\" fill-opacity=\"1\" /><path clip-path=\"url(#clip550)\" d=\"M476.917 1249.79 L465.112 1268.24 L476.917 1268.24 L476.917 1249.79 M475.69 1245.72 L481.57 1245.72 L481.57 1268.24 L486.501 1268.24 L486.501 1272.13 L481.57 1272.13 L481.57 1280.28 L476.917 1280.28 L476.917 1272.13 L461.316 1272.13 L461.316 1267.61 L475.69 1245.72 Z\" fill=\"#000000\" fill-rule=\"evenodd\" fill-opacity=\"1\" /><path clip-path=\"url(#clip550)\" d=\"M494.232 1274.4 L499.116 1274.4 L499.116 1280.28 L494.232 1280.28 L494.232 1274.4 Z\" fill=\"#000000\" fill-rule=\"evenodd\" fill-opacity=\"1\" /><path clip-path=\"url(#clip550)\" d=\"M513.329 1276.34 L529.648 1276.34 L529.648 1280.28 L507.704 1280.28 L507.704 1276.34 Q510.366 1273.59 514.949 1268.96 Q519.556 1264.3 520.736 1262.96 Q522.982 1260.44 523.861 1258.7 Q524.764 1256.94 524.764 1255.25 Q524.764 1252.5 522.82 1250.76 Q520.899 1249.03 517.797 1249.03 Q515.598 1249.03 513.144 1249.79 Q510.713 1250.55 507.936 1252.1 L507.936 1247.38 Q510.76 1246.25 513.213 1245.67 Q515.667 1245.09 517.704 1245.09 Q523.074 1245.09 526.269 1247.78 Q529.463 1250.46 529.463 1254.95 Q529.463 1257.08 528.653 1259 Q527.866 1260.9 525.76 1263.49 Q525.181 1264.16 522.079 1267.38 Q518.977 1270.58 513.329 1276.34 Z\" fill=\"#000000\" fill-rule=\"evenodd\" fill-opacity=\"1\" /><path clip-path=\"url(#clip550)\" d=\"M549.463 1263.86 Q546.13 1263.86 544.209 1265.65 Q542.31 1267.43 542.31 1270.55 Q542.31 1273.68 544.209 1275.46 Q546.13 1277.24 549.463 1277.24 Q552.797 1277.24 554.718 1275.46 Q556.639 1273.66 556.639 1270.55 Q556.639 1267.43 554.718 1265.65 Q552.82 1263.86 549.463 1263.86 M544.787 1261.87 Q541.778 1261.13 540.088 1259.07 Q538.422 1257.01 538.422 1254.05 Q538.422 1249.91 541.361 1247.5 Q544.324 1245.09 549.463 1245.09 Q554.625 1245.09 557.565 1247.5 Q560.505 1249.91 560.505 1254.05 Q560.505 1257.01 558.815 1259.07 Q557.148 1261.13 554.162 1261.87 Q557.542 1262.66 559.417 1264.95 Q561.315 1267.24 561.315 1270.55 Q561.315 1275.58 558.236 1278.26 Q555.181 1280.95 549.463 1280.95 Q543.746 1280.95 540.667 1278.26 Q537.611 1275.58 537.611 1270.55 Q537.611 1267.24 539.51 1264.95 Q541.408 1262.66 544.787 1261.87 M543.074 1254.49 Q543.074 1257.17 544.741 1258.68 Q546.431 1260.18 549.463 1260.18 Q552.472 1260.18 554.162 1258.68 Q555.875 1257.17 555.875 1254.49 Q555.875 1251.8 554.162 1250.3 Q552.472 1248.79 549.463 1248.79 Q546.431 1248.79 544.741 1250.3 Q543.074 1251.8 543.074 1254.49 Z\" fill=\"#000000\" fill-rule=\"evenodd\" fill-opacity=\"1\" /><path clip-path=\"url(#clip550)\" d=\"M727.24 1249.79 L715.434 1268.24 L727.24 1268.24 L727.24 1249.79 M726.013 1245.72 L731.893 1245.72 L731.893 1268.24 L736.823 1268.24 L736.823 1272.13 L731.893 1272.13 L731.893 1280.28 L727.24 1280.28 L727.24 1272.13 L711.638 1272.13 L711.638 1267.61 L726.013 1245.72 Z\" fill=\"#000000\" fill-rule=\"evenodd\" fill-opacity=\"1\" /><path clip-path=\"url(#clip550)\" d=\"M744.554 1274.4 L749.439 1274.4 L749.439 1280.28 L744.554 1280.28 L744.554 1274.4 Z\" fill=\"#000000\" fill-rule=\"evenodd\" fill-opacity=\"1\" /><path clip-path=\"url(#clip550)\" d=\"M763.652 1276.34 L779.971 1276.34 L779.971 1280.28 L758.027 1280.28 L758.027 1276.34 Q760.689 1273.59 765.272 1268.96 Q769.878 1264.3 771.059 1262.96 Q773.304 1260.44 774.184 1258.7 Q775.087 1256.94 775.087 1255.25 Q775.087 1252.5 773.142 1250.76 Q771.221 1249.03 768.119 1249.03 Q765.92 1249.03 763.466 1249.79 Q761.036 1250.55 758.258 1252.1 L758.258 1247.38 Q761.082 1246.25 763.536 1245.67 Q765.99 1245.09 768.027 1245.09 Q773.397 1245.09 776.591 1247.78 Q779.786 1250.46 779.786 1254.95 Q779.786 1257.08 778.976 1259 Q778.189 1260.9 776.082 1263.49 Q775.503 1264.16 772.402 1267.38 Q769.3 1270.58 763.652 1276.34 Z\" fill=\"#000000\" fill-rule=\"evenodd\" fill-opacity=\"1\" /><path clip-path=\"url(#clip550)\" d=\"M789.925 1279.56 L789.925 1275.3 Q791.684 1276.13 793.489 1276.57 Q795.295 1277.01 797.031 1277.01 Q801.661 1277.01 804.091 1273.91 Q806.545 1270.79 806.892 1264.44 Q805.55 1266.43 803.489 1267.5 Q801.429 1268.56 798.929 1268.56 Q793.744 1268.56 790.712 1265.44 Q787.702 1262.29 787.702 1256.85 Q787.702 1251.53 790.851 1248.31 Q793.999 1245.09 799.23 1245.09 Q805.225 1245.09 808.374 1249.7 Q811.545 1254.28 811.545 1263.03 Q811.545 1271.2 807.656 1276.09 Q803.79 1280.95 797.239 1280.95 Q795.48 1280.95 793.675 1280.6 Q791.869 1280.25 789.925 1279.56 M799.23 1264.91 Q802.378 1264.91 804.207 1262.75 Q806.059 1260.6 806.059 1256.85 Q806.059 1253.12 804.207 1250.97 Q802.378 1248.79 799.23 1248.79 Q796.082 1248.79 794.23 1250.97 Q792.401 1253.12 792.401 1256.85 Q792.401 1260.6 794.23 1262.75 Q796.082 1264.91 799.23 1264.91 Z\" fill=\"#000000\" fill-rule=\"evenodd\" fill-opacity=\"1\" /><path clip-path=\"url(#clip550)\" d=\"M977.423 1249.79 L965.618 1268.24 L977.423 1268.24 L977.423 1249.79 M976.197 1245.72 L982.076 1245.72 L982.076 1268.24 L987.007 1268.24 L987.007 1272.13 L982.076 1272.13 L982.076 1280.28 L977.423 1280.28 L977.423 1272.13 L961.822 1272.13 L961.822 1267.61 L976.197 1245.72 Z\" fill=\"#000000\" fill-rule=\"evenodd\" fill-opacity=\"1\" /><path clip-path=\"url(#clip550)\" d=\"M994.738 1274.4 L999.622 1274.4 L999.622 1280.28 L994.738 1280.28 L994.738 1274.4 Z\" fill=\"#000000\" fill-rule=\"evenodd\" fill-opacity=\"1\" /><path clip-path=\"url(#clip550)\" d=\"M1023.97 1261.64 Q1027.33 1262.36 1029.21 1264.63 Q1031.1 1266.9 1031.1 1270.23 Q1031.1 1275.35 1027.59 1278.15 Q1024.07 1280.95 1017.59 1280.95 Q1015.41 1280.95 1013.09 1280.51 Q1010.8 1280.09 1008.35 1279.23 L1008.35 1274.72 Q1010.29 1275.85 1012.61 1276.43 Q1014.92 1277.01 1017.45 1277.01 Q1021.84 1277.01 1024.14 1275.28 Q1026.45 1273.54 1026.45 1270.23 Q1026.45 1267.17 1024.3 1265.46 Q1022.17 1263.73 1018.35 1263.73 L1014.32 1263.73 L1014.32 1259.88 L1018.53 1259.88 Q1021.98 1259.88 1023.81 1258.52 Q1025.64 1257.13 1025.64 1254.54 Q1025.64 1251.87 1023.74 1250.46 Q1021.87 1249.03 1018.35 1249.03 Q1016.43 1249.03 1014.23 1249.44 Q1012.03 1249.86 1009.39 1250.74 L1009.39 1246.57 Q1012.05 1245.83 1014.37 1245.46 Q1016.71 1245.09 1018.77 1245.09 Q1024.09 1245.09 1027.19 1247.52 Q1030.29 1249.93 1030.29 1254.05 Q1030.29 1256.92 1028.65 1258.91 Q1027.01 1260.88 1023.97 1261.64 Z\" fill=\"#000000\" fill-rule=\"evenodd\" fill-opacity=\"1\" /><path clip-path=\"url(#clip550)\" d=\"M1049.97 1248.79 Q1046.36 1248.79 1044.53 1252.36 Q1042.72 1255.9 1042.72 1263.03 Q1042.72 1270.14 1044.53 1273.7 Q1046.36 1277.24 1049.97 1277.24 Q1053.6 1277.24 1055.41 1273.7 Q1057.24 1270.14 1057.24 1263.03 Q1057.24 1255.9 1055.41 1252.36 Q1053.6 1248.79 1049.97 1248.79 M1049.97 1245.09 Q1055.78 1245.09 1058.83 1249.7 Q1061.91 1254.28 1061.91 1263.03 Q1061.91 1271.76 1058.83 1276.36 Q1055.78 1280.95 1049.97 1280.95 Q1044.16 1280.95 1041.08 1276.36 Q1038.02 1271.76 1038.02 1263.03 Q1038.02 1254.28 1041.08 1249.7 Q1044.16 1245.09 1049.97 1245.09 Z\" fill=\"#000000\" fill-rule=\"evenodd\" fill-opacity=\"1\" /><path clip-path=\"url(#clip550)\" d=\"M1228.31 1249.79 L1216.51 1268.24 L1228.31 1268.24 L1228.31 1249.79 M1227.09 1245.72 L1232.97 1245.72 L1232.97 1268.24 L1237.9 1268.24 L1237.9 1272.13 L1232.97 1272.13 L1232.97 1280.28 L1228.31 1280.28 L1228.31 1272.13 L1212.71 1272.13 L1212.71 1267.61 L1227.09 1245.72 Z\" fill=\"#000000\" fill-rule=\"evenodd\" fill-opacity=\"1\" /><path clip-path=\"url(#clip550)\" d=\"M1245.63 1274.4 L1250.51 1274.4 L1250.51 1280.28 L1245.63 1280.28 L1245.63 1274.4 Z\" fill=\"#000000\" fill-rule=\"evenodd\" fill-opacity=\"1\" /><path clip-path=\"url(#clip550)\" d=\"M1274.86 1261.64 Q1278.22 1262.36 1280.1 1264.63 Q1281.99 1266.9 1281.99 1270.23 Q1281.99 1275.35 1278.47 1278.15 Q1274.96 1280.95 1268.47 1280.95 Q1266.3 1280.95 1263.98 1280.51 Q1261.69 1280.09 1259.24 1279.23 L1259.24 1274.72 Q1261.18 1275.85 1263.5 1276.43 Q1265.81 1277.01 1268.34 1277.01 Q1272.73 1277.01 1275.03 1275.28 Q1277.34 1273.54 1277.34 1270.23 Q1277.34 1267.17 1275.19 1265.46 Q1273.06 1263.73 1269.24 1263.73 L1265.21 1263.73 L1265.21 1259.88 L1269.42 1259.88 Q1272.87 1259.88 1274.7 1258.52 Q1276.53 1257.13 1276.53 1254.54 Q1276.53 1251.87 1274.63 1250.46 Q1272.76 1249.03 1269.24 1249.03 Q1267.32 1249.03 1265.12 1249.44 Q1262.92 1249.86 1260.28 1250.74 L1260.28 1246.57 Q1262.94 1245.83 1265.26 1245.46 Q1267.6 1245.09 1269.66 1245.09 Q1274.98 1245.09 1278.08 1247.52 Q1281.18 1249.93 1281.18 1254.05 Q1281.18 1256.92 1279.54 1258.91 Q1277.9 1260.88 1274.86 1261.64 Z\" fill=\"#000000\" fill-rule=\"evenodd\" fill-opacity=\"1\" /><path clip-path=\"url(#clip550)\" d=\"M1291.67 1276.34 L1299.31 1276.34 L1299.31 1249.98 L1291 1251.64 L1291 1247.38 L1299.26 1245.72 L1303.94 1245.72 L1303.94 1276.34 L1311.58 1276.34 L1311.58 1280.28 L1291.67 1280.28 L1291.67 1276.34 Z\" fill=\"#000000\" fill-rule=\"evenodd\" fill-opacity=\"1\" /><path clip-path=\"url(#clip550)\" d=\"M1478.77 1249.79 L1466.97 1268.24 L1478.77 1268.24 L1478.77 1249.79 M1477.55 1245.72 L1483.43 1245.72 L1483.43 1268.24 L1488.36 1268.24 L1488.36 1272.13 L1483.43 1272.13 L1483.43 1280.28 L1478.77 1280.28 L1478.77 1272.13 L1463.17 1272.13 L1463.17 1267.61 L1477.55 1245.72 Z\" fill=\"#000000\" fill-rule=\"evenodd\" fill-opacity=\"1\" /><path clip-path=\"url(#clip550)\" d=\"M1496.09 1274.4 L1500.97 1274.4 L1500.97 1280.28 L1496.09 1280.28 L1496.09 1274.4 Z\" fill=\"#000000\" fill-rule=\"evenodd\" fill-opacity=\"1\" /><path clip-path=\"url(#clip550)\" d=\"M1525.33 1261.64 Q1528.68 1262.36 1530.56 1264.63 Q1532.45 1266.9 1532.45 1270.23 Q1532.45 1275.35 1528.94 1278.15 Q1525.42 1280.95 1518.94 1280.95 Q1516.76 1280.95 1514.45 1280.51 Q1512.15 1280.09 1509.7 1279.23 L1509.7 1274.72 Q1511.64 1275.85 1513.96 1276.43 Q1516.27 1277.01 1518.8 1277.01 Q1523.2 1277.01 1525.49 1275.28 Q1527.8 1273.54 1527.8 1270.23 Q1527.8 1267.17 1525.65 1265.46 Q1523.52 1263.73 1519.7 1263.73 L1515.67 1263.73 L1515.67 1259.88 L1519.89 1259.88 Q1523.33 1259.88 1525.16 1258.52 Q1526.99 1257.13 1526.99 1254.54 Q1526.99 1251.87 1525.09 1250.46 Q1523.22 1249.03 1519.7 1249.03 Q1517.78 1249.03 1515.58 1249.44 Q1513.38 1249.86 1510.74 1250.74 L1510.74 1246.57 Q1513.4 1245.83 1515.72 1245.46 Q1518.06 1245.09 1520.12 1245.09 Q1525.44 1245.09 1528.54 1247.52 Q1531.64 1249.93 1531.64 1254.05 Q1531.64 1256.92 1530 1258.91 Q1528.36 1260.88 1525.33 1261.64 Z\" fill=\"#000000\" fill-rule=\"evenodd\" fill-opacity=\"1\" /><path clip-path=\"url(#clip550)\" d=\"M1545.35 1276.34 L1561.67 1276.34 L1561.67 1280.28 L1539.72 1280.28 L1539.72 1276.34 Q1542.39 1273.59 1546.97 1268.96 Q1551.57 1264.3 1552.76 1262.96 Q1555 1260.44 1555.88 1258.7 Q1556.78 1256.94 1556.78 1255.25 Q1556.78 1252.5 1554.84 1250.76 Q1552.92 1249.03 1549.82 1249.03 Q1547.62 1249.03 1545.16 1249.79 Q1542.73 1250.55 1539.95 1252.1 L1539.95 1247.38 Q1542.78 1246.25 1545.23 1245.67 Q1547.69 1245.09 1549.72 1245.09 Q1555.09 1245.09 1558.29 1247.78 Q1561.48 1250.46 1561.48 1254.95 Q1561.48 1257.08 1560.67 1259 Q1559.89 1260.9 1557.78 1263.49 Q1557.2 1264.16 1554.1 1267.38 Q1551 1270.58 1545.35 1276.34 Z\" fill=\"#000000\" fill-rule=\"evenodd\" fill-opacity=\"1\" /><path clip-path=\"url(#clip550)\" d=\"M1728.58 1249.79 L1716.77 1268.24 L1728.58 1268.24 L1728.58 1249.79 M1727.35 1245.72 L1733.23 1245.72 L1733.23 1268.24 L1738.16 1268.24 L1738.16 1272.13 L1733.23 1272.13 L1733.23 1280.28 L1728.58 1280.28 L1728.58 1272.13 L1712.97 1272.13 L1712.97 1267.61 L1727.35 1245.72 Z\" fill=\"#000000\" fill-rule=\"evenodd\" fill-opacity=\"1\" /><path clip-path=\"url(#clip550)\" d=\"M1745.89 1274.4 L1750.77 1274.4 L1750.77 1280.28 L1745.89 1280.28 L1745.89 1274.4 Z\" fill=\"#000000\" fill-rule=\"evenodd\" fill-opacity=\"1\" /><path clip-path=\"url(#clip550)\" d=\"M1775.13 1261.64 Q1778.48 1262.36 1780.36 1264.63 Q1782.26 1266.9 1782.26 1270.23 Q1782.26 1275.35 1778.74 1278.15 Q1775.22 1280.95 1768.74 1280.95 Q1766.56 1280.95 1764.25 1280.51 Q1761.96 1280.09 1759.5 1279.23 L1759.5 1274.72 Q1761.45 1275.85 1763.76 1276.43 Q1766.08 1277.01 1768.6 1277.01 Q1773 1277.01 1775.29 1275.28 Q1777.6 1273.54 1777.6 1270.23 Q1777.6 1267.17 1775.45 1265.46 Q1773.32 1263.73 1769.5 1263.73 L1765.47 1263.73 L1765.47 1259.88 L1769.69 1259.88 Q1773.14 1259.88 1774.96 1258.52 Q1776.79 1257.13 1776.79 1254.54 Q1776.79 1251.87 1774.9 1250.46 Q1773.02 1249.03 1769.5 1249.03 Q1767.58 1249.03 1765.38 1249.44 Q1763.18 1249.86 1760.54 1250.74 L1760.54 1246.57 Q1763.21 1245.83 1765.52 1245.46 Q1767.86 1245.09 1769.92 1245.09 Q1775.24 1245.09 1778.34 1247.52 Q1781.45 1249.93 1781.45 1254.05 Q1781.45 1256.92 1779.8 1258.91 Q1778.16 1260.88 1775.13 1261.64 Z\" fill=\"#000000\" fill-rule=\"evenodd\" fill-opacity=\"1\" /><path clip-path=\"url(#clip550)\" d=\"M1805.29 1261.64 Q1808.64 1262.36 1810.52 1264.63 Q1812.42 1266.9 1812.42 1270.23 Q1812.42 1275.35 1808.9 1278.15 Q1805.38 1280.95 1798.9 1280.95 Q1796.72 1280.95 1794.41 1280.51 Q1792.12 1280.09 1789.66 1279.23 L1789.66 1274.72 Q1791.61 1275.85 1793.92 1276.43 Q1796.24 1277.01 1798.76 1277.01 Q1803.16 1277.01 1805.45 1275.28 Q1807.77 1273.54 1807.77 1270.23 Q1807.77 1267.17 1805.61 1265.46 Q1803.48 1263.73 1799.66 1263.73 L1795.64 1263.73 L1795.64 1259.88 L1799.85 1259.88 Q1803.3 1259.88 1805.13 1258.52 Q1806.96 1257.13 1806.96 1254.54 Q1806.96 1251.87 1805.06 1250.46 Q1803.18 1249.03 1799.66 1249.03 Q1797.74 1249.03 1795.54 1249.44 Q1793.34 1249.86 1790.71 1250.74 L1790.71 1246.57 Q1793.37 1245.83 1795.68 1245.46 Q1798.02 1245.09 1800.08 1245.09 Q1805.4 1245.09 1808.51 1247.52 Q1811.61 1249.93 1811.61 1254.05 Q1811.61 1256.92 1809.96 1258.91 Q1808.32 1260.88 1805.29 1261.64 Z\" fill=\"#000000\" fill-rule=\"evenodd\" fill-opacity=\"1\" /><path clip-path=\"url(#clip550)\" d=\"M1109.82 1324.29 L1096.93 1341.64 L1110.49 1359.94 L1103.58 1359.94 L1093.21 1345.94 L1082.83 1359.94 L1075.92 1359.94 L1089.77 1341.29 L1077.1 1324.29 L1084.01 1324.29 L1093.46 1336.99 L1102.92 1324.29 L1109.82 1324.29 Z\" fill=\"#000000\" fill-rule=\"evenodd\" fill-opacity=\"1\" /><polyline clip-path=\"url(#clip552)\" style=\"stroke:#000000; stroke-linecap:butt; stroke-linejoin:round; stroke-width:2; stroke-opacity:0.1; fill:none\" points=\"\n",
       "  233.659,1140.42 1952.76,1140.42 \n",
       "  \"/>\n",
       "<polyline clip-path=\"url(#clip552)\" style=\"stroke:#000000; stroke-linecap:butt; stroke-linejoin:round; stroke-width:2; stroke-opacity:0.1; fill:none\" points=\"\n",
       "  233.659,881.916 1952.76,881.916 \n",
       "  \"/>\n",
       "<polyline clip-path=\"url(#clip552)\" style=\"stroke:#000000; stroke-linecap:butt; stroke-linejoin:round; stroke-width:2; stroke-opacity:0.1; fill:none\" points=\"\n",
       "  233.659,623.408 1952.76,623.408 \n",
       "  \"/>\n",
       "<polyline clip-path=\"url(#clip552)\" style=\"stroke:#000000; stroke-linecap:butt; stroke-linejoin:round; stroke-width:2; stroke-opacity:0.1; fill:none\" points=\"\n",
       "  233.659,364.9 1952.76,364.9 \n",
       "  \"/>\n",
       "<polyline clip-path=\"url(#clip552)\" style=\"stroke:#000000; stroke-linecap:butt; stroke-linejoin:round; stroke-width:2; stroke-opacity:0.1; fill:none\" points=\"\n",
       "  233.659,106.392 1952.76,106.392 \n",
       "  \"/>\n",
       "<polyline clip-path=\"url(#clip550)\" style=\"stroke:#000000; stroke-linecap:butt; stroke-linejoin:round; stroke-width:4; stroke-opacity:1; fill:none\" points=\"\n",
       "  233.659,1221.08 233.659,47.2441 \n",
       "  \"/>\n",
       "<polyline clip-path=\"url(#clip550)\" style=\"stroke:#000000; stroke-linecap:butt; stroke-linejoin:round; stroke-width:4; stroke-opacity:1; fill:none\" points=\"\n",
       "  1952.76,1221.08 1952.76,47.2441 \n",
       "  \"/>\n",
       "<polyline clip-path=\"url(#clip550)\" style=\"stroke:#000000; stroke-linecap:butt; stroke-linejoin:round; stroke-width:4; stroke-opacity:1; fill:none\" points=\"\n",
       "  233.659,1140.42 252.556,1140.42 \n",
       "  \"/>\n",
       "<polyline clip-path=\"url(#clip550)\" style=\"stroke:#000000; stroke-linecap:butt; stroke-linejoin:round; stroke-width:4; stroke-opacity:1; fill:none\" points=\"\n",
       "  233.659,881.916 252.556,881.916 \n",
       "  \"/>\n",
       "<polyline clip-path=\"url(#clip550)\" style=\"stroke:#000000; stroke-linecap:butt; stroke-linejoin:round; stroke-width:4; stroke-opacity:1; fill:none\" points=\"\n",
       "  233.659,623.408 252.556,623.408 \n",
       "  \"/>\n",
       "<polyline clip-path=\"url(#clip550)\" style=\"stroke:#000000; stroke-linecap:butt; stroke-linejoin:round; stroke-width:4; stroke-opacity:1; fill:none\" points=\"\n",
       "  233.659,364.9 252.556,364.9 \n",
       "  \"/>\n",
       "<polyline clip-path=\"url(#clip550)\" style=\"stroke:#000000; stroke-linecap:butt; stroke-linejoin:round; stroke-width:4; stroke-opacity:1; fill:none\" points=\"\n",
       "  233.659,106.392 252.556,106.392 \n",
       "  \"/>\n",
       "<polyline clip-path=\"url(#clip550)\" style=\"stroke:#000000; stroke-linecap:butt; stroke-linejoin:round; stroke-width:4; stroke-opacity:1; fill:none\" points=\"\n",
       "  233.659,1192.13 243.108,1192.13 \n",
       "  \"/>\n",
       "<polyline clip-path=\"url(#clip550)\" style=\"stroke:#000000; stroke-linecap:butt; stroke-linejoin:round; stroke-width:4; stroke-opacity:1; fill:none\" points=\"\n",
       "  233.659,1088.72 243.108,1088.72 \n",
       "  \"/>\n",
       "<polyline clip-path=\"url(#clip550)\" style=\"stroke:#000000; stroke-linecap:butt; stroke-linejoin:round; stroke-width:4; stroke-opacity:1; fill:none\" points=\"\n",
       "  233.659,1037.02 243.108,1037.02 \n",
       "  \"/>\n",
       "<polyline clip-path=\"url(#clip550)\" style=\"stroke:#000000; stroke-linecap:butt; stroke-linejoin:round; stroke-width:4; stroke-opacity:1; fill:none\" points=\"\n",
       "  233.659,985.319 243.108,985.319 \n",
       "  \"/>\n",
       "<polyline clip-path=\"url(#clip550)\" style=\"stroke:#000000; stroke-linecap:butt; stroke-linejoin:round; stroke-width:4; stroke-opacity:1; fill:none\" points=\"\n",
       "  233.659,933.618 243.108,933.618 \n",
       "  \"/>\n",
       "<polyline clip-path=\"url(#clip550)\" style=\"stroke:#000000; stroke-linecap:butt; stroke-linejoin:round; stroke-width:4; stroke-opacity:1; fill:none\" points=\"\n",
       "  233.659,830.215 243.108,830.215 \n",
       "  \"/>\n",
       "<polyline clip-path=\"url(#clip550)\" style=\"stroke:#000000; stroke-linecap:butt; stroke-linejoin:round; stroke-width:4; stroke-opacity:1; fill:none\" points=\"\n",
       "  233.659,778.513 243.108,778.513 \n",
       "  \"/>\n",
       "<polyline clip-path=\"url(#clip550)\" style=\"stroke:#000000; stroke-linecap:butt; stroke-linejoin:round; stroke-width:4; stroke-opacity:1; fill:none\" points=\"\n",
       "  233.659,726.811 243.108,726.811 \n",
       "  \"/>\n",
       "<polyline clip-path=\"url(#clip550)\" style=\"stroke:#000000; stroke-linecap:butt; stroke-linejoin:round; stroke-width:4; stroke-opacity:1; fill:none\" points=\"\n",
       "  233.659,675.11 243.108,675.11 \n",
       "  \"/>\n",
       "<polyline clip-path=\"url(#clip550)\" style=\"stroke:#000000; stroke-linecap:butt; stroke-linejoin:round; stroke-width:4; stroke-opacity:1; fill:none\" points=\"\n",
       "  233.659,571.707 243.108,571.707 \n",
       "  \"/>\n",
       "<polyline clip-path=\"url(#clip550)\" style=\"stroke:#000000; stroke-linecap:butt; stroke-linejoin:round; stroke-width:4; stroke-opacity:1; fill:none\" points=\"\n",
       "  233.659,520.005 243.108,520.005 \n",
       "  \"/>\n",
       "<polyline clip-path=\"url(#clip550)\" style=\"stroke:#000000; stroke-linecap:butt; stroke-linejoin:round; stroke-width:4; stroke-opacity:1; fill:none\" points=\"\n",
       "  233.659,468.303 243.108,468.303 \n",
       "  \"/>\n",
       "<polyline clip-path=\"url(#clip550)\" style=\"stroke:#000000; stroke-linecap:butt; stroke-linejoin:round; stroke-width:4; stroke-opacity:1; fill:none\" points=\"\n",
       "  233.659,416.602 243.108,416.602 \n",
       "  \"/>\n",
       "<polyline clip-path=\"url(#clip550)\" style=\"stroke:#000000; stroke-linecap:butt; stroke-linejoin:round; stroke-width:4; stroke-opacity:1; fill:none\" points=\"\n",
       "  233.659,313.199 243.108,313.199 \n",
       "  \"/>\n",
       "<polyline clip-path=\"url(#clip550)\" style=\"stroke:#000000; stroke-linecap:butt; stroke-linejoin:round; stroke-width:4; stroke-opacity:1; fill:none\" points=\"\n",
       "  233.659,261.497 243.108,261.497 \n",
       "  \"/>\n",
       "<polyline clip-path=\"url(#clip550)\" style=\"stroke:#000000; stroke-linecap:butt; stroke-linejoin:round; stroke-width:4; stroke-opacity:1; fill:none\" points=\"\n",
       "  233.659,209.795 243.108,209.795 \n",
       "  \"/>\n",
       "<polyline clip-path=\"url(#clip550)\" style=\"stroke:#000000; stroke-linecap:butt; stroke-linejoin:round; stroke-width:4; stroke-opacity:1; fill:none\" points=\"\n",
       "  233.659,158.094 243.108,158.094 \n",
       "  \"/>\n",
       "<polyline clip-path=\"url(#clip550)\" style=\"stroke:#000000; stroke-linecap:butt; stroke-linejoin:round; stroke-width:4; stroke-opacity:1; fill:none\" points=\"\n",
       "  233.659,54.6905 243.108,54.6905 \n",
       "  \"/>\n",
       "<path clip-path=\"url(#clip550)\" d=\"M134.238 1127.22 L122.432 1145.67 L134.238 1145.67 L134.238 1127.22 M133.011 1123.14 L138.891 1123.14 L138.891 1145.67 L143.821 1145.67 L143.821 1149.56 L138.891 1149.56 L138.891 1157.7 L134.238 1157.7 L134.238 1149.56 L118.636 1149.56 L118.636 1145.04 L133.011 1123.14 Z\" fill=\"#000000\" fill-rule=\"evenodd\" fill-opacity=\"1\" /><path clip-path=\"url(#clip550)\" d=\"M161.553 1126.22 Q157.942 1126.22 156.113 1129.79 Q154.307 1133.33 154.307 1140.46 Q154.307 1147.57 156.113 1151.13 Q157.942 1154.67 161.553 1154.67 Q165.187 1154.67 166.992 1151.13 Q168.821 1147.57 168.821 1140.46 Q168.821 1133.33 166.992 1129.79 Q165.187 1126.22 161.553 1126.22 M161.553 1122.52 Q167.363 1122.52 170.418 1127.13 Q173.497 1131.71 173.497 1140.46 Q173.497 1149.19 170.418 1153.79 Q167.363 1158.38 161.553 1158.38 Q155.742 1158.38 152.664 1153.79 Q149.608 1149.19 149.608 1140.46 Q149.608 1131.71 152.664 1127.13 Q155.742 1122.52 161.553 1122.52 Z\" fill=\"#000000\" fill-rule=\"evenodd\" fill-opacity=\"1\" /><path clip-path=\"url(#clip550)\" d=\"M191.714 1126.22 Q188.103 1126.22 186.275 1129.79 Q184.469 1133.33 184.469 1140.46 Q184.469 1147.57 186.275 1151.13 Q188.103 1154.67 191.714 1154.67 Q195.349 1154.67 197.154 1151.13 Q198.983 1147.57 198.983 1140.46 Q198.983 1133.33 197.154 1129.79 Q195.349 1126.22 191.714 1126.22 M191.714 1122.52 Q197.525 1122.52 200.58 1127.13 Q203.659 1131.71 203.659 1140.46 Q203.659 1149.19 200.58 1153.79 Q197.525 1158.38 191.714 1158.38 Q185.904 1158.38 182.826 1153.79 Q179.77 1149.19 179.77 1140.46 Q179.77 1131.71 182.826 1127.13 Q185.904 1122.52 191.714 1122.52 Z\" fill=\"#000000\" fill-rule=\"evenodd\" fill-opacity=\"1\" /><path clip-path=\"url(#clip550)\" d=\"M134.238 868.71 L122.432 887.159 L134.238 887.159 L134.238 868.71 M133.011 864.636 L138.891 864.636 L138.891 887.159 L143.821 887.159 L143.821 891.048 L138.891 891.048 L138.891 899.196 L134.238 899.196 L134.238 891.048 L118.636 891.048 L118.636 886.534 L133.011 864.636 Z\" fill=\"#000000\" fill-rule=\"evenodd\" fill-opacity=\"1\" /><path clip-path=\"url(#clip550)\" d=\"M151.599 864.636 L169.955 864.636 L169.955 868.571 L155.881 868.571 L155.881 877.044 Q156.9 876.696 157.918 876.534 Q158.937 876.349 159.955 876.349 Q165.742 876.349 169.122 879.52 Q172.502 882.692 172.502 888.108 Q172.502 893.687 169.029 896.789 Q165.557 899.868 159.238 899.868 Q157.062 899.868 154.793 899.497 Q152.548 899.127 150.141 898.386 L150.141 893.687 Q152.224 894.821 154.446 895.377 Q156.668 895.932 159.145 895.932 Q163.15 895.932 165.488 893.826 Q167.826 891.719 167.826 888.108 Q167.826 884.497 165.488 882.391 Q163.15 880.284 159.145 880.284 Q157.27 880.284 155.395 880.701 Q153.543 881.118 151.599 881.997 L151.599 864.636 Z\" fill=\"#000000\" fill-rule=\"evenodd\" fill-opacity=\"1\" /><path clip-path=\"url(#clip550)\" d=\"M191.714 867.715 Q188.103 867.715 186.275 871.28 Q184.469 874.821 184.469 881.951 Q184.469 889.057 186.275 892.622 Q188.103 896.164 191.714 896.164 Q195.349 896.164 197.154 892.622 Q198.983 889.057 198.983 881.951 Q198.983 874.821 197.154 871.28 Q195.349 867.715 191.714 867.715 M191.714 864.011 Q197.525 864.011 200.58 868.618 Q203.659 873.201 203.659 881.951 Q203.659 890.678 200.58 895.284 Q197.525 899.868 191.714 899.868 Q185.904 899.868 182.826 895.284 Q179.77 890.678 179.77 881.951 Q179.77 873.201 182.826 868.618 Q185.904 864.011 191.714 864.011 Z\" fill=\"#000000\" fill-rule=\"evenodd\" fill-opacity=\"1\" /><path clip-path=\"url(#clip550)\" d=\"M121.437 606.128 L139.793 606.128 L139.793 610.063 L125.719 610.063 L125.719 618.536 Q126.738 618.188 127.756 618.026 Q128.775 617.841 129.794 617.841 Q135.581 617.841 138.96 621.012 Q142.34 624.184 142.34 629.6 Q142.34 635.179 138.868 638.281 Q135.395 641.359 129.076 641.359 Q126.9 641.359 124.631 640.989 Q122.386 640.619 119.979 639.878 L119.979 635.179 Q122.062 636.313 124.284 636.869 Q126.506 637.424 128.983 637.424 Q132.988 637.424 135.326 635.318 Q137.664 633.211 137.664 629.6 Q137.664 625.989 135.326 623.883 Q132.988 621.776 128.983 621.776 Q127.108 621.776 125.233 622.193 Q123.382 622.61 121.437 623.489 L121.437 606.128 Z\" fill=\"#000000\" fill-rule=\"evenodd\" fill-opacity=\"1\" /><path clip-path=\"url(#clip550)\" d=\"M161.553 609.207 Q157.942 609.207 156.113 612.772 Q154.307 616.313 154.307 623.443 Q154.307 630.549 156.113 634.114 Q157.942 637.656 161.553 637.656 Q165.187 637.656 166.992 634.114 Q168.821 630.549 168.821 623.443 Q168.821 616.313 166.992 612.772 Q165.187 609.207 161.553 609.207 M161.553 605.503 Q167.363 605.503 170.418 610.11 Q173.497 614.693 173.497 623.443 Q173.497 632.17 170.418 636.776 Q167.363 641.359 161.553 641.359 Q155.742 641.359 152.664 636.776 Q149.608 632.17 149.608 623.443 Q149.608 614.693 152.664 610.11 Q155.742 605.503 161.553 605.503 Z\" fill=\"#000000\" fill-rule=\"evenodd\" fill-opacity=\"1\" /><path clip-path=\"url(#clip550)\" d=\"M191.714 609.207 Q188.103 609.207 186.275 612.772 Q184.469 616.313 184.469 623.443 Q184.469 630.549 186.275 634.114 Q188.103 637.656 191.714 637.656 Q195.349 637.656 197.154 634.114 Q198.983 630.549 198.983 623.443 Q198.983 616.313 197.154 612.772 Q195.349 609.207 191.714 609.207 M191.714 605.503 Q197.525 605.503 200.58 610.11 Q203.659 614.693 203.659 623.443 Q203.659 632.17 200.58 636.776 Q197.525 641.359 191.714 641.359 Q185.904 641.359 182.826 636.776 Q179.77 632.17 179.77 623.443 Q179.77 614.693 182.826 610.11 Q185.904 605.503 191.714 605.503 Z\" fill=\"#000000\" fill-rule=\"evenodd\" fill-opacity=\"1\" /><path clip-path=\"url(#clip550)\" d=\"M121.437 347.62 L139.793 347.62 L139.793 351.555 L125.719 351.555 L125.719 360.027 Q126.738 359.68 127.756 359.518 Q128.775 359.333 129.794 359.333 Q135.581 359.333 138.96 362.504 Q142.34 365.676 142.34 371.092 Q142.34 376.671 138.868 379.773 Q135.395 382.851 129.076 382.851 Q126.9 382.851 124.631 382.481 Q122.386 382.111 119.979 381.37 L119.979 376.671 Q122.062 377.805 124.284 378.361 Q126.506 378.916 128.983 378.916 Q132.988 378.916 135.326 376.81 Q137.664 374.703 137.664 371.092 Q137.664 367.481 135.326 365.375 Q132.988 363.268 128.983 363.268 Q127.108 363.268 125.233 363.685 Q123.382 364.102 121.437 364.981 L121.437 347.62 Z\" fill=\"#000000\" fill-rule=\"evenodd\" fill-opacity=\"1\" /><path clip-path=\"url(#clip550)\" d=\"M151.599 347.62 L169.955 347.62 L169.955 351.555 L155.881 351.555 L155.881 360.027 Q156.9 359.68 157.918 359.518 Q158.937 359.333 159.955 359.333 Q165.742 359.333 169.122 362.504 Q172.502 365.676 172.502 371.092 Q172.502 376.671 169.029 379.773 Q165.557 382.851 159.238 382.851 Q157.062 382.851 154.793 382.481 Q152.548 382.111 150.141 381.37 L150.141 376.671 Q152.224 377.805 154.446 378.361 Q156.668 378.916 159.145 378.916 Q163.15 378.916 165.488 376.81 Q167.826 374.703 167.826 371.092 Q167.826 367.481 165.488 365.375 Q163.15 363.268 159.145 363.268 Q157.27 363.268 155.395 363.685 Q153.543 364.102 151.599 364.981 L151.599 347.62 Z\" fill=\"#000000\" fill-rule=\"evenodd\" fill-opacity=\"1\" /><path clip-path=\"url(#clip550)\" d=\"M191.714 350.699 Q188.103 350.699 186.275 354.264 Q184.469 357.805 184.469 364.935 Q184.469 372.041 186.275 375.606 Q188.103 379.148 191.714 379.148 Q195.349 379.148 197.154 375.606 Q198.983 372.041 198.983 364.935 Q198.983 357.805 197.154 354.264 Q195.349 350.699 191.714 350.699 M191.714 346.995 Q197.525 346.995 200.58 351.602 Q203.659 356.185 203.659 364.935 Q203.659 373.662 200.58 378.268 Q197.525 382.851 191.714 382.851 Q185.904 382.851 182.826 378.268 Q179.77 373.662 179.77 364.935 Q179.77 356.185 182.826 351.602 Q185.904 346.995 191.714 346.995 Z\" fill=\"#000000\" fill-rule=\"evenodd\" fill-opacity=\"1\" /><path clip-path=\"url(#clip550)\" d=\"M131.969 104.529 Q128.821 104.529 126.969 106.681 Q125.141 108.834 125.141 112.584 Q125.141 116.311 126.969 118.487 Q128.821 120.64 131.969 120.64 Q135.118 120.64 136.946 118.487 Q138.798 116.311 138.798 112.584 Q138.798 108.834 136.946 106.681 Q135.118 104.529 131.969 104.529 M141.252 89.876 L141.252 94.1352 Q139.493 93.3019 137.687 92.8621 Q135.905 92.4223 134.145 92.4223 Q129.516 92.4223 127.062 95.5472 Q124.631 98.6722 124.284 104.992 Q125.65 102.978 127.71 101.913 Q129.77 100.825 132.247 100.825 Q137.456 100.825 140.465 103.996 Q143.497 107.144 143.497 112.584 Q143.497 117.908 140.349 121.126 Q137.201 124.343 131.969 124.343 Q125.974 124.343 122.803 119.76 Q119.632 115.154 119.632 106.427 Q119.632 98.2324 123.52 93.3713 Q127.409 88.4871 133.96 88.4871 Q135.719 88.4871 137.502 88.8343 Q139.307 89.1815 141.252 89.876 Z\" fill=\"#000000\" fill-rule=\"evenodd\" fill-opacity=\"1\" /><path clip-path=\"url(#clip550)\" d=\"M161.553 92.1908 Q157.942 92.1908 156.113 95.7556 Q154.307 99.2972 154.307 106.427 Q154.307 113.533 156.113 117.098 Q157.942 120.64 161.553 120.64 Q165.187 120.64 166.992 117.098 Q168.821 113.533 168.821 106.427 Q168.821 99.2972 166.992 95.7556 Q165.187 92.1908 161.553 92.1908 M161.553 88.4871 Q167.363 88.4871 170.418 93.0935 Q173.497 97.6769 173.497 106.427 Q173.497 115.154 170.418 119.76 Q167.363 124.343 161.553 124.343 Q155.742 124.343 152.664 119.76 Q149.608 115.154 149.608 106.427 Q149.608 97.6769 152.664 93.0935 Q155.742 88.4871 161.553 88.4871 Z\" fill=\"#000000\" fill-rule=\"evenodd\" fill-opacity=\"1\" /><path clip-path=\"url(#clip550)\" d=\"M191.714 92.1908 Q188.103 92.1908 186.275 95.7556 Q184.469 99.2972 184.469 106.427 Q184.469 113.533 186.275 117.098 Q188.103 120.64 191.714 120.64 Q195.349 120.64 197.154 117.098 Q198.983 113.533 198.983 106.427 Q198.983 99.2972 197.154 95.7556 Q195.349 92.1908 191.714 92.1908 M191.714 88.4871 Q197.525 88.4871 200.58 93.0935 Q203.659 97.6769 203.659 106.427 Q203.659 115.154 200.58 119.76 Q197.525 124.343 191.714 124.343 Q185.904 124.343 182.826 119.76 Q179.77 115.154 179.77 106.427 Q179.77 97.6769 182.826 93.0935 Q185.904 88.4871 191.714 88.4871 Z\" fill=\"#000000\" fill-rule=\"evenodd\" fill-opacity=\"1\" /><path clip-path=\"url(#clip550)\" d=\"M77.6903 632.473 Q84.056 634.956 85.9976 637.311 Q87.9391 639.666 87.9391 643.613 L87.9391 648.292 L83.0375 648.292 L83.0375 644.854 Q83.0375 642.435 81.8917 641.099 Q80.7459 639.762 76.4808 638.139 L73.8072 637.088 L38.7322 651.507 L38.7322 645.3 L66.614 634.16 L38.7322 623.02 L38.7322 616.813 L77.6903 632.473 Z\" fill=\"#000000\" fill-rule=\"evenodd\" fill-opacity=\"1\" /><polyline clip-path=\"url(#clip552)\" style=\"stroke:#000000; stroke-linecap:butt; stroke-linejoin:round; stroke-width:4; stroke-opacity:1; fill:none\" points=\"\n",
       "  282.313,1092.42 282.313,862.627 \n",
       "  \"/>\n",
       "<polyline clip-path=\"url(#clip552)\" style=\"stroke:#000000; stroke-linecap:butt; stroke-linejoin:round; stroke-width:4; stroke-opacity:1; fill:none\" points=\"\n",
       "  485.036,847.091 485.036,606.283 \n",
       "  \"/>\n",
       "<polyline clip-path=\"url(#clip552)\" style=\"stroke:#000000; stroke-linecap:butt; stroke-linejoin:round; stroke-width:4; stroke-opacity:1; fill:none\" points=\"\n",
       "  687.76,664.507 687.76,417.558 \n",
       "  \"/>\n",
       "<polyline clip-path=\"url(#clip552)\" style=\"stroke:#000000; stroke-linecap:butt; stroke-linejoin:round; stroke-width:4; stroke-opacity:1; fill:none\" points=\"\n",
       "  890.484,575.806 890.484,327.22 \n",
       "  \"/>\n",
       "<polyline clip-path=\"url(#clip552)\" style=\"stroke:#000000; stroke-linecap:butt; stroke-linejoin:round; stroke-width:4; stroke-opacity:1; fill:none\" points=\"\n",
       "  1093.21,338.653 1093.21,80.4657 \n",
       "  \"/>\n",
       "<polyline clip-path=\"url(#clip552)\" style=\"stroke:#000000; stroke-linecap:butt; stroke-linejoin:round; stroke-width:4; stroke-opacity:1; fill:none\" points=\"\n",
       "  1295.93,611.116 1295.93,363.698 \n",
       "  \"/>\n",
       "<polyline clip-path=\"url(#clip552)\" style=\"stroke:#000000; stroke-linecap:butt; stroke-linejoin:round; stroke-width:4; stroke-opacity:1; fill:none\" points=\"\n",
       "  1498.65,999.128 1498.65,770.771 \n",
       "  \"/>\n",
       "<polyline clip-path=\"url(#clip552)\" style=\"stroke:#000000; stroke-linecap:butt; stroke-linejoin:round; stroke-width:4; stroke-opacity:1; fill:none\" points=\"\n",
       "  1701.38,1017.84 1701.38,792.099 \n",
       "  \"/>\n",
       "<polyline clip-path=\"url(#clip552)\" style=\"stroke:#000000; stroke-linecap:butt; stroke-linejoin:round; stroke-width:4; stroke-opacity:1; fill:none\" points=\"\n",
       "  1904.1,1187.85 1904.1,972.696 \n",
       "  \"/>\n",
       "<line clip-path=\"url(#clip552)\" x1=\"298.313\" y1=\"1092.42\" x2=\"266.313\" y2=\"1092.42\" style=\"stroke:#000000; stroke-width:2.8; stroke-opacity:1\"/>\n",
       "<line clip-path=\"url(#clip552)\" x1=\"298.313\" y1=\"862.627\" x2=\"266.313\" y2=\"862.627\" style=\"stroke:#000000; stroke-width:2.8; stroke-opacity:1\"/>\n",
       "<line clip-path=\"url(#clip552)\" x1=\"501.036\" y1=\"847.091\" x2=\"469.036\" y2=\"847.091\" style=\"stroke:#000000; stroke-width:2.8; stroke-opacity:1\"/>\n",
       "<line clip-path=\"url(#clip552)\" x1=\"501.036\" y1=\"606.283\" x2=\"469.036\" y2=\"606.283\" style=\"stroke:#000000; stroke-width:2.8; stroke-opacity:1\"/>\n",
       "<line clip-path=\"url(#clip552)\" x1=\"703.76\" y1=\"664.507\" x2=\"671.76\" y2=\"664.507\" style=\"stroke:#000000; stroke-width:2.8; stroke-opacity:1\"/>\n",
       "<line clip-path=\"url(#clip552)\" x1=\"703.76\" y1=\"417.558\" x2=\"671.76\" y2=\"417.558\" style=\"stroke:#000000; stroke-width:2.8; stroke-opacity:1\"/>\n",
       "<line clip-path=\"url(#clip552)\" x1=\"906.484\" y1=\"575.806\" x2=\"874.484\" y2=\"575.806\" style=\"stroke:#000000; stroke-width:2.8; stroke-opacity:1\"/>\n",
       "<line clip-path=\"url(#clip552)\" x1=\"906.484\" y1=\"327.22\" x2=\"874.484\" y2=\"327.22\" style=\"stroke:#000000; stroke-width:2.8; stroke-opacity:1\"/>\n",
       "<line clip-path=\"url(#clip552)\" x1=\"1109.21\" y1=\"338.653\" x2=\"1077.21\" y2=\"338.653\" style=\"stroke:#000000; stroke-width:2.8; stroke-opacity:1\"/>\n",
       "<line clip-path=\"url(#clip552)\" x1=\"1109.21\" y1=\"80.4657\" x2=\"1077.21\" y2=\"80.4657\" style=\"stroke:#000000; stroke-width:2.8; stroke-opacity:1\"/>\n",
       "<line clip-path=\"url(#clip552)\" x1=\"1311.93\" y1=\"611.116\" x2=\"1279.93\" y2=\"611.116\" style=\"stroke:#000000; stroke-width:2.8; stroke-opacity:1\"/>\n",
       "<line clip-path=\"url(#clip552)\" x1=\"1311.93\" y1=\"363.698\" x2=\"1279.93\" y2=\"363.698\" style=\"stroke:#000000; stroke-width:2.8; stroke-opacity:1\"/>\n",
       "<line clip-path=\"url(#clip552)\" x1=\"1514.65\" y1=\"999.128\" x2=\"1482.65\" y2=\"999.128\" style=\"stroke:#000000; stroke-width:2.8; stroke-opacity:1\"/>\n",
       "<line clip-path=\"url(#clip552)\" x1=\"1514.65\" y1=\"770.771\" x2=\"1482.65\" y2=\"770.771\" style=\"stroke:#000000; stroke-width:2.8; stroke-opacity:1\"/>\n",
       "<line clip-path=\"url(#clip552)\" x1=\"1717.38\" y1=\"1017.84\" x2=\"1685.38\" y2=\"1017.84\" style=\"stroke:#000000; stroke-width:2.8; stroke-opacity:1\"/>\n",
       "<line clip-path=\"url(#clip552)\" x1=\"1717.38\" y1=\"792.099\" x2=\"1685.38\" y2=\"792.099\" style=\"stroke:#000000; stroke-width:2.8; stroke-opacity:1\"/>\n",
       "<line clip-path=\"url(#clip552)\" x1=\"1920.1\" y1=\"1187.85\" x2=\"1888.1\" y2=\"1187.85\" style=\"stroke:#000000; stroke-width:2.8; stroke-opacity:1\"/>\n",
       "<line clip-path=\"url(#clip552)\" x1=\"1920.1\" y1=\"972.696\" x2=\"1888.1\" y2=\"972.696\" style=\"stroke:#000000; stroke-width:2.8; stroke-opacity:1\"/>\n",
       "<circle clip-path=\"url(#clip552)\" cx=\"282.313\" cy=\"977.524\" r=\"14.4\" fill=\"#009af9\" fill-rule=\"evenodd\" fill-opacity=\"1\" stroke=\"#000000\" stroke-opacity=\"1\" stroke-width=\"2.8\"/>\n",
       "<circle clip-path=\"url(#clip552)\" cx=\"485.036\" cy=\"726.687\" r=\"14.4\" fill=\"#009af9\" fill-rule=\"evenodd\" fill-opacity=\"1\" stroke=\"#000000\" stroke-opacity=\"1\" stroke-width=\"2.8\"/>\n",
       "<circle clip-path=\"url(#clip552)\" cx=\"687.76\" cy=\"541.033\" r=\"14.4\" fill=\"#009af9\" fill-rule=\"evenodd\" fill-opacity=\"1\" stroke=\"#000000\" stroke-opacity=\"1\" stroke-width=\"2.8\"/>\n",
       "<circle clip-path=\"url(#clip552)\" cx=\"890.484\" cy=\"451.513\" r=\"14.4\" fill=\"#009af9\" fill-rule=\"evenodd\" fill-opacity=\"1\" stroke=\"#000000\" stroke-opacity=\"1\" stroke-width=\"2.8\"/>\n",
       "<circle clip-path=\"url(#clip552)\" cx=\"1093.21\" cy=\"209.56\" r=\"14.4\" fill=\"#009af9\" fill-rule=\"evenodd\" fill-opacity=\"1\" stroke=\"#000000\" stroke-opacity=\"1\" stroke-width=\"2.8\"/>\n",
       "<circle clip-path=\"url(#clip552)\" cx=\"1295.93\" cy=\"487.407\" r=\"14.4\" fill=\"#009af9\" fill-rule=\"evenodd\" fill-opacity=\"1\" stroke=\"#000000\" stroke-opacity=\"1\" stroke-width=\"2.8\"/>\n",
       "<circle clip-path=\"url(#clip552)\" cx=\"1498.65\" cy=\"884.95\" r=\"14.4\" fill=\"#009af9\" fill-rule=\"evenodd\" fill-opacity=\"1\" stroke=\"#000000\" stroke-opacity=\"1\" stroke-width=\"2.8\"/>\n",
       "<circle clip-path=\"url(#clip552)\" cx=\"1701.38\" cy=\"904.968\" r=\"14.4\" fill=\"#009af9\" fill-rule=\"evenodd\" fill-opacity=\"1\" stroke=\"#000000\" stroke-opacity=\"1\" stroke-width=\"2.8\"/>\n",
       "<circle clip-path=\"url(#clip552)\" cx=\"1904.1\" cy=\"1080.28\" r=\"14.4\" fill=\"#009af9\" fill-rule=\"evenodd\" fill-opacity=\"1\" stroke=\"#000000\" stroke-opacity=\"1\" stroke-width=\"2.8\"/>\n",
       "<path clip-path=\"url(#clip550)\" d=\"\n",
       "M1600.21 190.052 L1895.45 190.052 L1895.45 86.3718 L1600.21 86.3718  Z\n",
       "  \" fill=\"#ffffff\" fill-rule=\"evenodd\" fill-opacity=\"1\"/>\n",
       "<polyline clip-path=\"url(#clip550)\" style=\"stroke:#000000; stroke-linecap:butt; stroke-linejoin:round; stroke-width:4; stroke-opacity:1; fill:none\" points=\"\n",
       "  1600.21,190.052 1895.45,190.052 1895.45,86.3718 1600.21,86.3718 1600.21,190.052 \n",
       "  \"/>\n",
       "<circle clip-path=\"url(#clip550)\" cx=\"1676.61\" cy=\"138.212\" r=\"23.04\" fill=\"#009af9\" fill-rule=\"evenodd\" fill-opacity=\"1\" stroke=\"#000000\" stroke-opacity=\"1\" stroke-width=\"4.48\"/>\n",
       "<path clip-path=\"url(#clip550)\" d=\"M1757.69 124.774 L1757.69 151.649 L1763.34 151.649 Q1770.49 151.649 1773.8 148.409 Q1777.14 145.168 1777.14 138.177 Q1777.14 131.233 1773.8 128.015 Q1770.49 124.774 1763.34 124.774 L1757.69 124.774 M1753.01 120.932 L1762.62 120.932 Q1772.67 120.932 1777.37 125.122 Q1782.07 129.288 1782.07 138.177 Q1782.07 147.112 1777.34 151.302 Q1772.62 155.492 1762.62 155.492 L1753.01 155.492 L1753.01 120.932 Z\" fill=\"#000000\" fill-rule=\"evenodd\" fill-opacity=\"1\" /><path clip-path=\"url(#clip550)\" d=\"M1801.12 142.459 Q1795.95 142.459 1793.96 143.64 Q1791.97 144.821 1791.97 147.668 Q1791.97 149.936 1793.45 151.279 Q1794.96 152.598 1797.53 152.598 Q1801.07 152.598 1803.2 150.098 Q1805.35 147.575 1805.35 143.409 L1805.35 142.459 L1801.12 142.459 M1809.61 140.7 L1809.61 155.492 L1805.35 155.492 L1805.35 151.557 Q1803.89 153.918 1801.72 155.052 Q1799.54 156.163 1796.39 156.163 Q1792.41 156.163 1790.05 153.941 Q1787.71 151.696 1787.71 147.946 Q1787.71 143.571 1790.63 141.348 Q1793.57 139.126 1799.38 139.126 L1805.35 139.126 L1805.35 138.71 Q1805.35 135.77 1803.41 134.172 Q1801.49 132.552 1797.99 132.552 Q1795.77 132.552 1793.66 133.085 Q1791.56 133.617 1789.61 134.682 L1789.61 130.747 Q1791.95 129.844 1794.15 129.404 Q1796.35 128.941 1798.43 128.941 Q1804.06 128.941 1806.83 131.858 Q1809.61 134.774 1809.61 140.7 Z\" fill=\"#000000\" fill-rule=\"evenodd\" fill-opacity=\"1\" /><path clip-path=\"url(#clip550)\" d=\"M1822.6 122.205 L1822.6 129.566 L1831.37 129.566 L1831.37 132.876 L1822.6 132.876 L1822.6 146.95 Q1822.6 150.121 1823.45 151.024 Q1824.33 151.927 1827 151.927 L1831.37 151.927 L1831.37 155.492 L1827 155.492 Q1822.07 155.492 1820.19 153.663 Q1818.32 151.811 1818.32 146.95 L1818.32 132.876 L1815.19 132.876 L1815.19 129.566 L1818.32 129.566 L1818.32 122.205 L1822.6 122.205 Z\" fill=\"#000000\" fill-rule=\"evenodd\" fill-opacity=\"1\" /><path clip-path=\"url(#clip550)\" d=\"M1848.76 142.459 Q1843.59 142.459 1841.6 143.64 Q1839.61 144.821 1839.61 147.668 Q1839.61 149.936 1841.09 151.279 Q1842.6 152.598 1845.17 152.598 Q1848.71 152.598 1850.84 150.098 Q1852.99 147.575 1852.99 143.409 L1852.99 142.459 L1848.76 142.459 M1857.25 140.7 L1857.25 155.492 L1852.99 155.492 L1852.99 151.557 Q1851.53 153.918 1849.36 155.052 Q1847.18 156.163 1844.03 156.163 Q1840.05 156.163 1837.69 153.941 Q1835.35 151.696 1835.35 147.946 Q1835.35 143.571 1838.27 141.348 Q1841.21 139.126 1847.02 139.126 L1852.99 139.126 L1852.99 138.71 Q1852.99 135.77 1851.05 134.172 Q1849.13 132.552 1845.63 132.552 Q1843.41 132.552 1841.3 133.085 Q1839.2 133.617 1837.25 134.682 L1837.25 130.747 Q1839.59 129.844 1841.79 129.404 Q1843.99 128.941 1846.07 128.941 Q1851.69 128.941 1854.47 131.858 Q1857.25 134.774 1857.25 140.7 Z\" fill=\"#000000\" fill-rule=\"evenodd\" fill-opacity=\"1\" /></svg>\n"
      ]
     },
     "execution_count": 8,
     "metadata": {},
     "output_type": "execute_result"
    }
   ],
   "source": [
    "@plt_data data_full"
   ]
  },
  {
   "cell_type": "code",
   "execution_count": 9,
   "metadata": {},
   "outputs": [
    {
     "data": {
      "image/svg+xml": [
       "<?xml version=\"1.0\" encoding=\"utf-8\"?>\n",
       "<svg xmlns=\"http://www.w3.org/2000/svg\" xmlns:xlink=\"http://www.w3.org/1999/xlink\" width=\"500\" height=\"350\" viewBox=\"0 0 2000 1400\">\n",
       "<defs>\n",
       "  <clipPath id=\"clip590\">\n",
       "    <rect x=\"0\" y=\"0\" width=\"2000\" height=\"1400\"/>\n",
       "  </clipPath>\n",
       "</defs>\n",
       "<path clip-path=\"url(#clip590)\" d=\"\n",
       "M0 1400 L2000 1400 L2000 0 L0 0  Z\n",
       "  \" fill=\"#ffffff\" fill-rule=\"evenodd\" fill-opacity=\"1\"/>\n",
       "<defs>\n",
       "  <clipPath id=\"clip591\">\n",
       "    <rect x=\"400\" y=\"0\" width=\"1401\" height=\"1400\"/>\n",
       "  </clipPath>\n",
       "</defs>\n",
       "<defs>\n",
       "  <clipPath id=\"clip592\">\n",
       "    <rect x=\"233\" y=\"47\" width=\"1720\" height=\"1175\"/>\n",
       "  </clipPath>\n",
       "</defs>\n",
       "<path clip-path=\"url(#clip590)\" d=\"\n",
       "M233.659 1221.08 L1952.76 1221.08 L1952.76 47.2441 L233.659 47.2441  Z\n",
       "  \" fill=\"#ffffff\" fill-rule=\"evenodd\" fill-opacity=\"1\"/>\n",
       "<polyline clip-path=\"url(#clip592)\" style=\"stroke:#000000; stroke-linecap:butt; stroke-linejoin:round; stroke-width:2; stroke-opacity:0.1; fill:none\" points=\"\n",
       "  261.039,1221.08 261.039,47.2441 \n",
       "  \"/>\n",
       "<polyline clip-path=\"url(#clip592)\" style=\"stroke:#000000; stroke-linecap:butt; stroke-linejoin:round; stroke-width:2; stroke-opacity:0.1; fill:none\" points=\"\n",
       "  511.315,1221.08 511.315,47.2441 \n",
       "  \"/>\n",
       "<polyline clip-path=\"url(#clip592)\" style=\"stroke:#000000; stroke-linecap:butt; stroke-linejoin:round; stroke-width:2; stroke-opacity:0.1; fill:none\" points=\"\n",
       "  761.591,1221.08 761.591,47.2441 \n",
       "  \"/>\n",
       "<polyline clip-path=\"url(#clip592)\" style=\"stroke:#000000; stroke-linecap:butt; stroke-linejoin:round; stroke-width:2; stroke-opacity:0.1; fill:none\" points=\"\n",
       "  1011.87,1221.08 1011.87,47.2441 \n",
       "  \"/>\n",
       "<polyline clip-path=\"url(#clip592)\" style=\"stroke:#000000; stroke-linecap:butt; stroke-linejoin:round; stroke-width:2; stroke-opacity:0.1; fill:none\" points=\"\n",
       "  1262.14,1221.08 1262.14,47.2441 \n",
       "  \"/>\n",
       "<polyline clip-path=\"url(#clip592)\" style=\"stroke:#000000; stroke-linecap:butt; stroke-linejoin:round; stroke-width:2; stroke-opacity:0.1; fill:none\" points=\"\n",
       "  1512.42,1221.08 1512.42,47.2441 \n",
       "  \"/>\n",
       "<polyline clip-path=\"url(#clip592)\" style=\"stroke:#000000; stroke-linecap:butt; stroke-linejoin:round; stroke-width:2; stroke-opacity:0.1; fill:none\" points=\"\n",
       "  1762.7,1221.08 1762.7,47.2441 \n",
       "  \"/>\n",
       "<polyline clip-path=\"url(#clip590)\" style=\"stroke:#000000; stroke-linecap:butt; stroke-linejoin:round; stroke-width:4; stroke-opacity:1; fill:none\" points=\"\n",
       "  233.659,1221.08 1952.76,1221.08 \n",
       "  \"/>\n",
       "<polyline clip-path=\"url(#clip590)\" style=\"stroke:#000000; stroke-linecap:butt; stroke-linejoin:round; stroke-width:4; stroke-opacity:1; fill:none\" points=\"\n",
       "  233.659,47.2441 1952.76,47.2441 \n",
       "  \"/>\n",
       "<polyline clip-path=\"url(#clip590)\" style=\"stroke:#000000; stroke-linecap:butt; stroke-linejoin:round; stroke-width:4; stroke-opacity:1; fill:none\" points=\"\n",
       "  261.039,1221.08 261.039,1202.18 \n",
       "  \"/>\n",
       "<polyline clip-path=\"url(#clip590)\" style=\"stroke:#000000; stroke-linecap:butt; stroke-linejoin:round; stroke-width:4; stroke-opacity:1; fill:none\" points=\"\n",
       "  511.315,1221.08 511.315,1202.18 \n",
       "  \"/>\n",
       "<polyline clip-path=\"url(#clip590)\" style=\"stroke:#000000; stroke-linecap:butt; stroke-linejoin:round; stroke-width:4; stroke-opacity:1; fill:none\" points=\"\n",
       "  761.591,1221.08 761.591,1202.18 \n",
       "  \"/>\n",
       "<polyline clip-path=\"url(#clip590)\" style=\"stroke:#000000; stroke-linecap:butt; stroke-linejoin:round; stroke-width:4; stroke-opacity:1; fill:none\" points=\"\n",
       "  1011.87,1221.08 1011.87,1202.18 \n",
       "  \"/>\n",
       "<polyline clip-path=\"url(#clip590)\" style=\"stroke:#000000; stroke-linecap:butt; stroke-linejoin:round; stroke-width:4; stroke-opacity:1; fill:none\" points=\"\n",
       "  1262.14,1221.08 1262.14,1202.18 \n",
       "  \"/>\n",
       "<polyline clip-path=\"url(#clip590)\" style=\"stroke:#000000; stroke-linecap:butt; stroke-linejoin:round; stroke-width:4; stroke-opacity:1; fill:none\" points=\"\n",
       "  1512.42,1221.08 1512.42,1202.18 \n",
       "  \"/>\n",
       "<polyline clip-path=\"url(#clip590)\" style=\"stroke:#000000; stroke-linecap:butt; stroke-linejoin:round; stroke-width:4; stroke-opacity:1; fill:none\" points=\"\n",
       "  1762.7,1221.08 1762.7,1202.18 \n",
       "  \"/>\n",
       "<polyline clip-path=\"url(#clip590)\" style=\"stroke:#000000; stroke-linecap:butt; stroke-linejoin:round; stroke-width:4; stroke-opacity:1; fill:none\" points=\"\n",
       "  311.094,1221.08 311.094,1211.63 \n",
       "  \"/>\n",
       "<polyline clip-path=\"url(#clip590)\" style=\"stroke:#000000; stroke-linecap:butt; stroke-linejoin:round; stroke-width:4; stroke-opacity:1; fill:none\" points=\"\n",
       "  361.15,1221.08 361.15,1211.63 \n",
       "  \"/>\n",
       "<polyline clip-path=\"url(#clip590)\" style=\"stroke:#000000; stroke-linecap:butt; stroke-linejoin:round; stroke-width:4; stroke-opacity:1; fill:none\" points=\"\n",
       "  411.205,1221.08 411.205,1211.63 \n",
       "  \"/>\n",
       "<polyline clip-path=\"url(#clip590)\" style=\"stroke:#000000; stroke-linecap:butt; stroke-linejoin:round; stroke-width:4; stroke-opacity:1; fill:none\" points=\"\n",
       "  461.26,1221.08 461.26,1211.63 \n",
       "  \"/>\n",
       "<polyline clip-path=\"url(#clip590)\" style=\"stroke:#000000; stroke-linecap:butt; stroke-linejoin:round; stroke-width:4; stroke-opacity:1; fill:none\" points=\"\n",
       "  561.37,1221.08 561.37,1211.63 \n",
       "  \"/>\n",
       "<polyline clip-path=\"url(#clip590)\" style=\"stroke:#000000; stroke-linecap:butt; stroke-linejoin:round; stroke-width:4; stroke-opacity:1; fill:none\" points=\"\n",
       "  611.426,1221.08 611.426,1211.63 \n",
       "  \"/>\n",
       "<polyline clip-path=\"url(#clip590)\" style=\"stroke:#000000; stroke-linecap:butt; stroke-linejoin:round; stroke-width:4; stroke-opacity:1; fill:none\" points=\"\n",
       "  661.481,1221.08 661.481,1211.63 \n",
       "  \"/>\n",
       "<polyline clip-path=\"url(#clip590)\" style=\"stroke:#000000; stroke-linecap:butt; stroke-linejoin:round; stroke-width:4; stroke-opacity:1; fill:none\" points=\"\n",
       "  711.536,1221.08 711.536,1211.63 \n",
       "  \"/>\n",
       "<polyline clip-path=\"url(#clip590)\" style=\"stroke:#000000; stroke-linecap:butt; stroke-linejoin:round; stroke-width:4; stroke-opacity:1; fill:none\" points=\"\n",
       "  811.647,1221.08 811.647,1211.63 \n",
       "  \"/>\n",
       "<polyline clip-path=\"url(#clip590)\" style=\"stroke:#000000; stroke-linecap:butt; stroke-linejoin:round; stroke-width:4; stroke-opacity:1; fill:none\" points=\"\n",
       "  861.702,1221.08 861.702,1211.63 \n",
       "  \"/>\n",
       "<polyline clip-path=\"url(#clip590)\" style=\"stroke:#000000; stroke-linecap:butt; stroke-linejoin:round; stroke-width:4; stroke-opacity:1; fill:none\" points=\"\n",
       "  911.757,1221.08 911.757,1211.63 \n",
       "  \"/>\n",
       "<polyline clip-path=\"url(#clip590)\" style=\"stroke:#000000; stroke-linecap:butt; stroke-linejoin:round; stroke-width:4; stroke-opacity:1; fill:none\" points=\"\n",
       "  961.812,1221.08 961.812,1211.63 \n",
       "  \"/>\n",
       "<polyline clip-path=\"url(#clip590)\" style=\"stroke:#000000; stroke-linecap:butt; stroke-linejoin:round; stroke-width:4; stroke-opacity:1; fill:none\" points=\"\n",
       "  1061.92,1221.08 1061.92,1211.63 \n",
       "  \"/>\n",
       "<polyline clip-path=\"url(#clip590)\" style=\"stroke:#000000; stroke-linecap:butt; stroke-linejoin:round; stroke-width:4; stroke-opacity:1; fill:none\" points=\"\n",
       "  1111.98,1221.08 1111.98,1211.63 \n",
       "  \"/>\n",
       "<polyline clip-path=\"url(#clip590)\" style=\"stroke:#000000; stroke-linecap:butt; stroke-linejoin:round; stroke-width:4; stroke-opacity:1; fill:none\" points=\"\n",
       "  1162.03,1221.08 1162.03,1211.63 \n",
       "  \"/>\n",
       "<polyline clip-path=\"url(#clip590)\" style=\"stroke:#000000; stroke-linecap:butt; stroke-linejoin:round; stroke-width:4; stroke-opacity:1; fill:none\" points=\"\n",
       "  1212.09,1221.08 1212.09,1211.63 \n",
       "  \"/>\n",
       "<polyline clip-path=\"url(#clip590)\" style=\"stroke:#000000; stroke-linecap:butt; stroke-linejoin:round; stroke-width:4; stroke-opacity:1; fill:none\" points=\"\n",
       "  1312.2,1221.08 1312.2,1211.63 \n",
       "  \"/>\n",
       "<polyline clip-path=\"url(#clip590)\" style=\"stroke:#000000; stroke-linecap:butt; stroke-linejoin:round; stroke-width:4; stroke-opacity:1; fill:none\" points=\"\n",
       "  1362.25,1221.08 1362.25,1211.63 \n",
       "  \"/>\n",
       "<polyline clip-path=\"url(#clip590)\" style=\"stroke:#000000; stroke-linecap:butt; stroke-linejoin:round; stroke-width:4; stroke-opacity:1; fill:none\" points=\"\n",
       "  1412.31,1221.08 1412.31,1211.63 \n",
       "  \"/>\n",
       "<polyline clip-path=\"url(#clip590)\" style=\"stroke:#000000; stroke-linecap:butt; stroke-linejoin:round; stroke-width:4; stroke-opacity:1; fill:none\" points=\"\n",
       "  1462.36,1221.08 1462.36,1211.63 \n",
       "  \"/>\n",
       "<polyline clip-path=\"url(#clip590)\" style=\"stroke:#000000; stroke-linecap:butt; stroke-linejoin:round; stroke-width:4; stroke-opacity:1; fill:none\" points=\"\n",
       "  1562.48,1221.08 1562.48,1211.63 \n",
       "  \"/>\n",
       "<polyline clip-path=\"url(#clip590)\" style=\"stroke:#000000; stroke-linecap:butt; stroke-linejoin:round; stroke-width:4; stroke-opacity:1; fill:none\" points=\"\n",
       "  1612.53,1221.08 1612.53,1211.63 \n",
       "  \"/>\n",
       "<polyline clip-path=\"url(#clip590)\" style=\"stroke:#000000; stroke-linecap:butt; stroke-linejoin:round; stroke-width:4; stroke-opacity:1; fill:none\" points=\"\n",
       "  1662.59,1221.08 1662.59,1211.63 \n",
       "  \"/>\n",
       "<polyline clip-path=\"url(#clip590)\" style=\"stroke:#000000; stroke-linecap:butt; stroke-linejoin:round; stroke-width:4; stroke-opacity:1; fill:none\" points=\"\n",
       "  1712.64,1221.08 1712.64,1211.63 \n",
       "  \"/>\n",
       "<polyline clip-path=\"url(#clip590)\" style=\"stroke:#000000; stroke-linecap:butt; stroke-linejoin:round; stroke-width:4; stroke-opacity:1; fill:none\" points=\"\n",
       "  1812.75,1221.08 1812.75,1211.63 \n",
       "  \"/>\n",
       "<polyline clip-path=\"url(#clip590)\" style=\"stroke:#000000; stroke-linecap:butt; stroke-linejoin:round; stroke-width:4; stroke-opacity:1; fill:none\" points=\"\n",
       "  1862.81,1221.08 1862.81,1211.63 \n",
       "  \"/>\n",
       "<polyline clip-path=\"url(#clip590)\" style=\"stroke:#000000; stroke-linecap:butt; stroke-linejoin:round; stroke-width:4; stroke-opacity:1; fill:none\" points=\"\n",
       "  1912.86,1221.08 1912.86,1211.63 \n",
       "  \"/>\n",
       "<path clip-path=\"url(#clip590)\" d=\"M227.046 1249.79 L215.241 1268.24 L227.046 1268.24 L227.046 1249.79 M225.819 1245.72 L231.699 1245.72 L231.699 1268.24 L236.629 1268.24 L236.629 1272.13 L231.699 1272.13 L231.699 1280.28 L227.046 1280.28 L227.046 1272.13 L211.444 1272.13 L211.444 1267.61 L225.819 1245.72 Z\" fill=\"#000000\" fill-rule=\"evenodd\" fill-opacity=\"1\" /><path clip-path=\"url(#clip590)\" d=\"M244.361 1274.4 L249.245 1274.4 L249.245 1280.28 L244.361 1280.28 L244.361 1274.4 Z\" fill=\"#000000\" fill-rule=\"evenodd\" fill-opacity=\"1\" /><path clip-path=\"url(#clip590)\" d=\"M263.458 1276.34 L279.777 1276.34 L279.777 1280.28 L257.833 1280.28 L257.833 1276.34 Q260.495 1273.59 265.078 1268.96 Q269.685 1264.3 270.865 1262.96 Q273.111 1260.44 273.99 1258.7 Q274.893 1256.94 274.893 1255.25 Q274.893 1252.5 272.949 1250.76 Q271.027 1249.03 267.926 1249.03 Q265.727 1249.03 263.273 1249.79 Q260.842 1250.55 258.065 1252.1 L258.065 1247.38 Q260.889 1246.25 263.342 1245.67 Q265.796 1245.09 267.833 1245.09 Q273.203 1245.09 276.398 1247.78 Q279.592 1250.46 279.592 1254.95 Q279.592 1257.08 278.782 1259 Q277.995 1260.9 275.889 1263.49 Q275.31 1264.16 272.208 1267.38 Q269.106 1270.58 263.458 1276.34 Z\" fill=\"#000000\" fill-rule=\"evenodd\" fill-opacity=\"1\" /><path clip-path=\"url(#clip590)\" d=\"M288.412 1245.72 L310.634 1245.72 L310.634 1247.71 L298.087 1280.28 L293.203 1280.28 L305.009 1249.65 L288.412 1249.65 L288.412 1245.72 Z\" fill=\"#000000\" fill-rule=\"evenodd\" fill-opacity=\"1\" /><path clip-path=\"url(#clip590)\" d=\"M476.917 1249.79 L465.112 1268.24 L476.917 1268.24 L476.917 1249.79 M475.69 1245.72 L481.57 1245.72 L481.57 1268.24 L486.501 1268.24 L486.501 1272.13 L481.57 1272.13 L481.57 1280.28 L476.917 1280.28 L476.917 1272.13 L461.316 1272.13 L461.316 1267.61 L475.69 1245.72 Z\" fill=\"#000000\" fill-rule=\"evenodd\" fill-opacity=\"1\" /><path clip-path=\"url(#clip590)\" d=\"M494.232 1274.4 L499.116 1274.4 L499.116 1280.28 L494.232 1280.28 L494.232 1274.4 Z\" fill=\"#000000\" fill-rule=\"evenodd\" fill-opacity=\"1\" /><path clip-path=\"url(#clip590)\" d=\"M513.329 1276.34 L529.648 1276.34 L529.648 1280.28 L507.704 1280.28 L507.704 1276.34 Q510.366 1273.59 514.949 1268.96 Q519.556 1264.3 520.736 1262.96 Q522.982 1260.44 523.861 1258.7 Q524.764 1256.94 524.764 1255.25 Q524.764 1252.5 522.82 1250.76 Q520.899 1249.03 517.797 1249.03 Q515.598 1249.03 513.144 1249.79 Q510.713 1250.55 507.936 1252.1 L507.936 1247.38 Q510.76 1246.25 513.213 1245.67 Q515.667 1245.09 517.704 1245.09 Q523.074 1245.09 526.269 1247.78 Q529.463 1250.46 529.463 1254.95 Q529.463 1257.08 528.653 1259 Q527.866 1260.9 525.76 1263.49 Q525.181 1264.16 522.079 1267.38 Q518.977 1270.58 513.329 1276.34 Z\" fill=\"#000000\" fill-rule=\"evenodd\" fill-opacity=\"1\" /><path clip-path=\"url(#clip590)\" d=\"M549.463 1263.86 Q546.13 1263.86 544.209 1265.65 Q542.31 1267.43 542.31 1270.55 Q542.31 1273.68 544.209 1275.46 Q546.13 1277.24 549.463 1277.24 Q552.797 1277.24 554.718 1275.46 Q556.639 1273.66 556.639 1270.55 Q556.639 1267.43 554.718 1265.65 Q552.82 1263.86 549.463 1263.86 M544.787 1261.87 Q541.778 1261.13 540.088 1259.07 Q538.422 1257.01 538.422 1254.05 Q538.422 1249.91 541.361 1247.5 Q544.324 1245.09 549.463 1245.09 Q554.625 1245.09 557.565 1247.5 Q560.505 1249.91 560.505 1254.05 Q560.505 1257.01 558.815 1259.07 Q557.148 1261.13 554.162 1261.87 Q557.542 1262.66 559.417 1264.95 Q561.315 1267.24 561.315 1270.55 Q561.315 1275.58 558.236 1278.26 Q555.181 1280.95 549.463 1280.95 Q543.746 1280.95 540.667 1278.26 Q537.611 1275.58 537.611 1270.55 Q537.611 1267.24 539.51 1264.95 Q541.408 1262.66 544.787 1261.87 M543.074 1254.49 Q543.074 1257.17 544.741 1258.68 Q546.431 1260.18 549.463 1260.18 Q552.472 1260.18 554.162 1258.68 Q555.875 1257.17 555.875 1254.49 Q555.875 1251.8 554.162 1250.3 Q552.472 1248.79 549.463 1248.79 Q546.431 1248.79 544.741 1250.3 Q543.074 1251.8 543.074 1254.49 Z\" fill=\"#000000\" fill-rule=\"evenodd\" fill-opacity=\"1\" /><path clip-path=\"url(#clip590)\" d=\"M727.24 1249.79 L715.434 1268.24 L727.24 1268.24 L727.24 1249.79 M726.013 1245.72 L731.893 1245.72 L731.893 1268.24 L736.823 1268.24 L736.823 1272.13 L731.893 1272.13 L731.893 1280.28 L727.24 1280.28 L727.24 1272.13 L711.638 1272.13 L711.638 1267.61 L726.013 1245.72 Z\" fill=\"#000000\" fill-rule=\"evenodd\" fill-opacity=\"1\" /><path clip-path=\"url(#clip590)\" d=\"M744.554 1274.4 L749.439 1274.4 L749.439 1280.28 L744.554 1280.28 L744.554 1274.4 Z\" fill=\"#000000\" fill-rule=\"evenodd\" fill-opacity=\"1\" /><path clip-path=\"url(#clip590)\" d=\"M763.652 1276.34 L779.971 1276.34 L779.971 1280.28 L758.027 1280.28 L758.027 1276.34 Q760.689 1273.59 765.272 1268.96 Q769.878 1264.3 771.059 1262.96 Q773.304 1260.44 774.184 1258.7 Q775.087 1256.94 775.087 1255.25 Q775.087 1252.5 773.142 1250.76 Q771.221 1249.03 768.119 1249.03 Q765.92 1249.03 763.466 1249.79 Q761.036 1250.55 758.258 1252.1 L758.258 1247.38 Q761.082 1246.25 763.536 1245.67 Q765.99 1245.09 768.027 1245.09 Q773.397 1245.09 776.591 1247.78 Q779.786 1250.46 779.786 1254.95 Q779.786 1257.08 778.976 1259 Q778.189 1260.9 776.082 1263.49 Q775.503 1264.16 772.402 1267.38 Q769.3 1270.58 763.652 1276.34 Z\" fill=\"#000000\" fill-rule=\"evenodd\" fill-opacity=\"1\" /><path clip-path=\"url(#clip590)\" d=\"M789.925 1279.56 L789.925 1275.3 Q791.684 1276.13 793.489 1276.57 Q795.295 1277.01 797.031 1277.01 Q801.661 1277.01 804.091 1273.91 Q806.545 1270.79 806.892 1264.44 Q805.55 1266.43 803.489 1267.5 Q801.429 1268.56 798.929 1268.56 Q793.744 1268.56 790.712 1265.44 Q787.702 1262.29 787.702 1256.85 Q787.702 1251.53 790.851 1248.31 Q793.999 1245.09 799.23 1245.09 Q805.225 1245.09 808.374 1249.7 Q811.545 1254.28 811.545 1263.03 Q811.545 1271.2 807.656 1276.09 Q803.79 1280.95 797.239 1280.95 Q795.48 1280.95 793.675 1280.6 Q791.869 1280.25 789.925 1279.56 M799.23 1264.91 Q802.378 1264.91 804.207 1262.75 Q806.059 1260.6 806.059 1256.85 Q806.059 1253.12 804.207 1250.97 Q802.378 1248.79 799.23 1248.79 Q796.082 1248.79 794.23 1250.97 Q792.401 1253.12 792.401 1256.85 Q792.401 1260.6 794.23 1262.75 Q796.082 1264.91 799.23 1264.91 Z\" fill=\"#000000\" fill-rule=\"evenodd\" fill-opacity=\"1\" /><path clip-path=\"url(#clip590)\" d=\"M977.423 1249.79 L965.618 1268.24 L977.423 1268.24 L977.423 1249.79 M976.197 1245.72 L982.076 1245.72 L982.076 1268.24 L987.007 1268.24 L987.007 1272.13 L982.076 1272.13 L982.076 1280.28 L977.423 1280.28 L977.423 1272.13 L961.822 1272.13 L961.822 1267.61 L976.197 1245.72 Z\" fill=\"#000000\" fill-rule=\"evenodd\" fill-opacity=\"1\" /><path clip-path=\"url(#clip590)\" d=\"M994.738 1274.4 L999.622 1274.4 L999.622 1280.28 L994.738 1280.28 L994.738 1274.4 Z\" fill=\"#000000\" fill-rule=\"evenodd\" fill-opacity=\"1\" /><path clip-path=\"url(#clip590)\" d=\"M1023.97 1261.64 Q1027.33 1262.36 1029.21 1264.63 Q1031.1 1266.9 1031.1 1270.23 Q1031.1 1275.35 1027.59 1278.15 Q1024.07 1280.95 1017.59 1280.95 Q1015.41 1280.95 1013.09 1280.51 Q1010.8 1280.09 1008.35 1279.23 L1008.35 1274.72 Q1010.29 1275.85 1012.61 1276.43 Q1014.92 1277.01 1017.45 1277.01 Q1021.84 1277.01 1024.14 1275.28 Q1026.45 1273.54 1026.45 1270.23 Q1026.45 1267.17 1024.3 1265.46 Q1022.17 1263.73 1018.35 1263.73 L1014.32 1263.73 L1014.32 1259.88 L1018.53 1259.88 Q1021.98 1259.88 1023.81 1258.52 Q1025.64 1257.13 1025.64 1254.54 Q1025.64 1251.87 1023.74 1250.46 Q1021.87 1249.03 1018.35 1249.03 Q1016.43 1249.03 1014.23 1249.44 Q1012.03 1249.86 1009.39 1250.74 L1009.39 1246.57 Q1012.05 1245.83 1014.37 1245.46 Q1016.71 1245.09 1018.77 1245.09 Q1024.09 1245.09 1027.19 1247.52 Q1030.29 1249.93 1030.29 1254.05 Q1030.29 1256.92 1028.65 1258.91 Q1027.01 1260.88 1023.97 1261.64 Z\" fill=\"#000000\" fill-rule=\"evenodd\" fill-opacity=\"1\" /><path clip-path=\"url(#clip590)\" d=\"M1049.97 1248.79 Q1046.36 1248.79 1044.53 1252.36 Q1042.72 1255.9 1042.72 1263.03 Q1042.72 1270.14 1044.53 1273.7 Q1046.36 1277.24 1049.97 1277.24 Q1053.6 1277.24 1055.41 1273.7 Q1057.24 1270.14 1057.24 1263.03 Q1057.24 1255.9 1055.41 1252.36 Q1053.6 1248.79 1049.97 1248.79 M1049.97 1245.09 Q1055.78 1245.09 1058.83 1249.7 Q1061.91 1254.28 1061.91 1263.03 Q1061.91 1271.76 1058.83 1276.36 Q1055.78 1280.95 1049.97 1280.95 Q1044.16 1280.95 1041.08 1276.36 Q1038.02 1271.76 1038.02 1263.03 Q1038.02 1254.28 1041.08 1249.7 Q1044.16 1245.09 1049.97 1245.09 Z\" fill=\"#000000\" fill-rule=\"evenodd\" fill-opacity=\"1\" /><path clip-path=\"url(#clip590)\" d=\"M1228.31 1249.79 L1216.51 1268.24 L1228.31 1268.24 L1228.31 1249.79 M1227.09 1245.72 L1232.97 1245.72 L1232.97 1268.24 L1237.9 1268.24 L1237.9 1272.13 L1232.97 1272.13 L1232.97 1280.28 L1228.31 1280.28 L1228.31 1272.13 L1212.71 1272.13 L1212.71 1267.61 L1227.09 1245.72 Z\" fill=\"#000000\" fill-rule=\"evenodd\" fill-opacity=\"1\" /><path clip-path=\"url(#clip590)\" d=\"M1245.63 1274.4 L1250.51 1274.4 L1250.51 1280.28 L1245.63 1280.28 L1245.63 1274.4 Z\" fill=\"#000000\" fill-rule=\"evenodd\" fill-opacity=\"1\" /><path clip-path=\"url(#clip590)\" d=\"M1274.86 1261.64 Q1278.22 1262.36 1280.1 1264.63 Q1281.99 1266.9 1281.99 1270.23 Q1281.99 1275.35 1278.47 1278.15 Q1274.96 1280.95 1268.47 1280.95 Q1266.3 1280.95 1263.98 1280.51 Q1261.69 1280.09 1259.24 1279.23 L1259.24 1274.72 Q1261.18 1275.85 1263.5 1276.43 Q1265.81 1277.01 1268.34 1277.01 Q1272.73 1277.01 1275.03 1275.28 Q1277.34 1273.54 1277.34 1270.23 Q1277.34 1267.17 1275.19 1265.46 Q1273.06 1263.73 1269.24 1263.73 L1265.21 1263.73 L1265.21 1259.88 L1269.42 1259.88 Q1272.87 1259.88 1274.7 1258.52 Q1276.53 1257.13 1276.53 1254.54 Q1276.53 1251.87 1274.63 1250.46 Q1272.76 1249.03 1269.24 1249.03 Q1267.32 1249.03 1265.12 1249.44 Q1262.92 1249.86 1260.28 1250.74 L1260.28 1246.57 Q1262.94 1245.83 1265.26 1245.46 Q1267.6 1245.09 1269.66 1245.09 Q1274.98 1245.09 1278.08 1247.52 Q1281.18 1249.93 1281.18 1254.05 Q1281.18 1256.92 1279.54 1258.91 Q1277.9 1260.88 1274.86 1261.64 Z\" fill=\"#000000\" fill-rule=\"evenodd\" fill-opacity=\"1\" /><path clip-path=\"url(#clip590)\" d=\"M1291.67 1276.34 L1299.31 1276.34 L1299.31 1249.98 L1291 1251.64 L1291 1247.38 L1299.26 1245.72 L1303.94 1245.72 L1303.94 1276.34 L1311.58 1276.34 L1311.58 1280.28 L1291.67 1280.28 L1291.67 1276.34 Z\" fill=\"#000000\" fill-rule=\"evenodd\" fill-opacity=\"1\" /><path clip-path=\"url(#clip590)\" d=\"M1478.77 1249.79 L1466.97 1268.24 L1478.77 1268.24 L1478.77 1249.79 M1477.55 1245.72 L1483.43 1245.72 L1483.43 1268.24 L1488.36 1268.24 L1488.36 1272.13 L1483.43 1272.13 L1483.43 1280.28 L1478.77 1280.28 L1478.77 1272.13 L1463.17 1272.13 L1463.17 1267.61 L1477.55 1245.72 Z\" fill=\"#000000\" fill-rule=\"evenodd\" fill-opacity=\"1\" /><path clip-path=\"url(#clip590)\" d=\"M1496.09 1274.4 L1500.97 1274.4 L1500.97 1280.28 L1496.09 1280.28 L1496.09 1274.4 Z\" fill=\"#000000\" fill-rule=\"evenodd\" fill-opacity=\"1\" /><path clip-path=\"url(#clip590)\" d=\"M1525.33 1261.64 Q1528.68 1262.36 1530.56 1264.63 Q1532.45 1266.9 1532.45 1270.23 Q1532.45 1275.35 1528.94 1278.15 Q1525.42 1280.95 1518.94 1280.95 Q1516.76 1280.95 1514.45 1280.51 Q1512.15 1280.09 1509.7 1279.23 L1509.7 1274.72 Q1511.64 1275.85 1513.96 1276.43 Q1516.27 1277.01 1518.8 1277.01 Q1523.2 1277.01 1525.49 1275.28 Q1527.8 1273.54 1527.8 1270.23 Q1527.8 1267.17 1525.65 1265.46 Q1523.52 1263.73 1519.7 1263.73 L1515.67 1263.73 L1515.67 1259.88 L1519.89 1259.88 Q1523.33 1259.88 1525.16 1258.52 Q1526.99 1257.13 1526.99 1254.54 Q1526.99 1251.87 1525.09 1250.46 Q1523.22 1249.03 1519.7 1249.03 Q1517.78 1249.03 1515.58 1249.44 Q1513.38 1249.86 1510.74 1250.74 L1510.74 1246.57 Q1513.4 1245.83 1515.72 1245.46 Q1518.06 1245.09 1520.12 1245.09 Q1525.44 1245.09 1528.54 1247.52 Q1531.64 1249.93 1531.64 1254.05 Q1531.64 1256.92 1530 1258.91 Q1528.36 1260.88 1525.33 1261.64 Z\" fill=\"#000000\" fill-rule=\"evenodd\" fill-opacity=\"1\" /><path clip-path=\"url(#clip590)\" d=\"M1545.35 1276.34 L1561.67 1276.34 L1561.67 1280.28 L1539.72 1280.28 L1539.72 1276.34 Q1542.39 1273.59 1546.97 1268.96 Q1551.57 1264.3 1552.76 1262.96 Q1555 1260.44 1555.88 1258.7 Q1556.78 1256.94 1556.78 1255.25 Q1556.78 1252.5 1554.84 1250.76 Q1552.92 1249.03 1549.82 1249.03 Q1547.62 1249.03 1545.16 1249.79 Q1542.73 1250.55 1539.95 1252.1 L1539.95 1247.38 Q1542.78 1246.25 1545.23 1245.67 Q1547.69 1245.09 1549.72 1245.09 Q1555.09 1245.09 1558.29 1247.78 Q1561.48 1250.46 1561.48 1254.95 Q1561.48 1257.08 1560.67 1259 Q1559.89 1260.9 1557.78 1263.49 Q1557.2 1264.16 1554.1 1267.38 Q1551 1270.58 1545.35 1276.34 Z\" fill=\"#000000\" fill-rule=\"evenodd\" fill-opacity=\"1\" /><path clip-path=\"url(#clip590)\" d=\"M1728.58 1249.79 L1716.77 1268.24 L1728.58 1268.24 L1728.58 1249.79 M1727.35 1245.72 L1733.23 1245.72 L1733.23 1268.24 L1738.16 1268.24 L1738.16 1272.13 L1733.23 1272.13 L1733.23 1280.28 L1728.58 1280.28 L1728.58 1272.13 L1712.97 1272.13 L1712.97 1267.61 L1727.35 1245.72 Z\" fill=\"#000000\" fill-rule=\"evenodd\" fill-opacity=\"1\" /><path clip-path=\"url(#clip590)\" d=\"M1745.89 1274.4 L1750.77 1274.4 L1750.77 1280.28 L1745.89 1280.28 L1745.89 1274.4 Z\" fill=\"#000000\" fill-rule=\"evenodd\" fill-opacity=\"1\" /><path clip-path=\"url(#clip590)\" d=\"M1775.13 1261.64 Q1778.48 1262.36 1780.36 1264.63 Q1782.26 1266.9 1782.26 1270.23 Q1782.26 1275.35 1778.74 1278.15 Q1775.22 1280.95 1768.74 1280.95 Q1766.56 1280.95 1764.25 1280.51 Q1761.96 1280.09 1759.5 1279.23 L1759.5 1274.72 Q1761.45 1275.85 1763.76 1276.43 Q1766.08 1277.01 1768.6 1277.01 Q1773 1277.01 1775.29 1275.28 Q1777.6 1273.54 1777.6 1270.23 Q1777.6 1267.17 1775.45 1265.46 Q1773.32 1263.73 1769.5 1263.73 L1765.47 1263.73 L1765.47 1259.88 L1769.69 1259.88 Q1773.14 1259.88 1774.96 1258.52 Q1776.79 1257.13 1776.79 1254.54 Q1776.79 1251.87 1774.9 1250.46 Q1773.02 1249.03 1769.5 1249.03 Q1767.58 1249.03 1765.38 1249.44 Q1763.18 1249.86 1760.54 1250.74 L1760.54 1246.57 Q1763.21 1245.83 1765.52 1245.46 Q1767.86 1245.09 1769.92 1245.09 Q1775.24 1245.09 1778.34 1247.52 Q1781.45 1249.93 1781.45 1254.05 Q1781.45 1256.92 1779.8 1258.91 Q1778.16 1260.88 1775.13 1261.64 Z\" fill=\"#000000\" fill-rule=\"evenodd\" fill-opacity=\"1\" /><path clip-path=\"url(#clip590)\" d=\"M1805.29 1261.64 Q1808.64 1262.36 1810.52 1264.63 Q1812.42 1266.9 1812.42 1270.23 Q1812.42 1275.35 1808.9 1278.15 Q1805.38 1280.95 1798.9 1280.95 Q1796.72 1280.95 1794.41 1280.51 Q1792.12 1280.09 1789.66 1279.23 L1789.66 1274.72 Q1791.61 1275.85 1793.92 1276.43 Q1796.24 1277.01 1798.76 1277.01 Q1803.16 1277.01 1805.45 1275.28 Q1807.77 1273.54 1807.77 1270.23 Q1807.77 1267.17 1805.61 1265.46 Q1803.48 1263.73 1799.66 1263.73 L1795.64 1263.73 L1795.64 1259.88 L1799.85 1259.88 Q1803.3 1259.88 1805.13 1258.52 Q1806.96 1257.13 1806.96 1254.54 Q1806.96 1251.87 1805.06 1250.46 Q1803.18 1249.03 1799.66 1249.03 Q1797.74 1249.03 1795.54 1249.44 Q1793.34 1249.86 1790.71 1250.74 L1790.71 1246.57 Q1793.37 1245.83 1795.68 1245.46 Q1798.02 1245.09 1800.08 1245.09 Q1805.4 1245.09 1808.51 1247.52 Q1811.61 1249.93 1811.61 1254.05 Q1811.61 1256.92 1809.96 1258.91 Q1808.32 1260.88 1805.29 1261.64 Z\" fill=\"#000000\" fill-rule=\"evenodd\" fill-opacity=\"1\" /><path clip-path=\"url(#clip590)\" d=\"M1109.82 1324.29 L1096.93 1341.64 L1110.49 1359.94 L1103.58 1359.94 L1093.21 1345.94 L1082.83 1359.94 L1075.92 1359.94 L1089.77 1341.29 L1077.1 1324.29 L1084.01 1324.29 L1093.46 1336.99 L1102.92 1324.29 L1109.82 1324.29 Z\" fill=\"#000000\" fill-rule=\"evenodd\" fill-opacity=\"1\" /><polyline clip-path=\"url(#clip592)\" style=\"stroke:#000000; stroke-linecap:butt; stroke-linejoin:round; stroke-width:2; stroke-opacity:0.1; fill:none\" points=\"\n",
       "  233.659,1140.42 1952.76,1140.42 \n",
       "  \"/>\n",
       "<polyline clip-path=\"url(#clip592)\" style=\"stroke:#000000; stroke-linecap:butt; stroke-linejoin:round; stroke-width:2; stroke-opacity:0.1; fill:none\" points=\"\n",
       "  233.659,881.916 1952.76,881.916 \n",
       "  \"/>\n",
       "<polyline clip-path=\"url(#clip592)\" style=\"stroke:#000000; stroke-linecap:butt; stroke-linejoin:round; stroke-width:2; stroke-opacity:0.1; fill:none\" points=\"\n",
       "  233.659,623.408 1952.76,623.408 \n",
       "  \"/>\n",
       "<polyline clip-path=\"url(#clip592)\" style=\"stroke:#000000; stroke-linecap:butt; stroke-linejoin:round; stroke-width:2; stroke-opacity:0.1; fill:none\" points=\"\n",
       "  233.659,364.9 1952.76,364.9 \n",
       "  \"/>\n",
       "<polyline clip-path=\"url(#clip592)\" style=\"stroke:#000000; stroke-linecap:butt; stroke-linejoin:round; stroke-width:2; stroke-opacity:0.1; fill:none\" points=\"\n",
       "  233.659,106.392 1952.76,106.392 \n",
       "  \"/>\n",
       "<polyline clip-path=\"url(#clip590)\" style=\"stroke:#000000; stroke-linecap:butt; stroke-linejoin:round; stroke-width:4; stroke-opacity:1; fill:none\" points=\"\n",
       "  233.659,1221.08 233.659,47.2441 \n",
       "  \"/>\n",
       "<polyline clip-path=\"url(#clip590)\" style=\"stroke:#000000; stroke-linecap:butt; stroke-linejoin:round; stroke-width:4; stroke-opacity:1; fill:none\" points=\"\n",
       "  1952.76,1221.08 1952.76,47.2441 \n",
       "  \"/>\n",
       "<polyline clip-path=\"url(#clip590)\" style=\"stroke:#000000; stroke-linecap:butt; stroke-linejoin:round; stroke-width:4; stroke-opacity:1; fill:none\" points=\"\n",
       "  233.659,1140.42 252.556,1140.42 \n",
       "  \"/>\n",
       "<polyline clip-path=\"url(#clip590)\" style=\"stroke:#000000; stroke-linecap:butt; stroke-linejoin:round; stroke-width:4; stroke-opacity:1; fill:none\" points=\"\n",
       "  233.659,881.916 252.556,881.916 \n",
       "  \"/>\n",
       "<polyline clip-path=\"url(#clip590)\" style=\"stroke:#000000; stroke-linecap:butt; stroke-linejoin:round; stroke-width:4; stroke-opacity:1; fill:none\" points=\"\n",
       "  233.659,623.408 252.556,623.408 \n",
       "  \"/>\n",
       "<polyline clip-path=\"url(#clip590)\" style=\"stroke:#000000; stroke-linecap:butt; stroke-linejoin:round; stroke-width:4; stroke-opacity:1; fill:none\" points=\"\n",
       "  233.659,364.9 252.556,364.9 \n",
       "  \"/>\n",
       "<polyline clip-path=\"url(#clip590)\" style=\"stroke:#000000; stroke-linecap:butt; stroke-linejoin:round; stroke-width:4; stroke-opacity:1; fill:none\" points=\"\n",
       "  233.659,106.392 252.556,106.392 \n",
       "  \"/>\n",
       "<polyline clip-path=\"url(#clip590)\" style=\"stroke:#000000; stroke-linecap:butt; stroke-linejoin:round; stroke-width:4; stroke-opacity:1; fill:none\" points=\"\n",
       "  233.659,1192.13 243.108,1192.13 \n",
       "  \"/>\n",
       "<polyline clip-path=\"url(#clip590)\" style=\"stroke:#000000; stroke-linecap:butt; stroke-linejoin:round; stroke-width:4; stroke-opacity:1; fill:none\" points=\"\n",
       "  233.659,1088.72 243.108,1088.72 \n",
       "  \"/>\n",
       "<polyline clip-path=\"url(#clip590)\" style=\"stroke:#000000; stroke-linecap:butt; stroke-linejoin:round; stroke-width:4; stroke-opacity:1; fill:none\" points=\"\n",
       "  233.659,1037.02 243.108,1037.02 \n",
       "  \"/>\n",
       "<polyline clip-path=\"url(#clip590)\" style=\"stroke:#000000; stroke-linecap:butt; stroke-linejoin:round; stroke-width:4; stroke-opacity:1; fill:none\" points=\"\n",
       "  233.659,985.319 243.108,985.319 \n",
       "  \"/>\n",
       "<polyline clip-path=\"url(#clip590)\" style=\"stroke:#000000; stroke-linecap:butt; stroke-linejoin:round; stroke-width:4; stroke-opacity:1; fill:none\" points=\"\n",
       "  233.659,933.618 243.108,933.618 \n",
       "  \"/>\n",
       "<polyline clip-path=\"url(#clip590)\" style=\"stroke:#000000; stroke-linecap:butt; stroke-linejoin:round; stroke-width:4; stroke-opacity:1; fill:none\" points=\"\n",
       "  233.659,830.215 243.108,830.215 \n",
       "  \"/>\n",
       "<polyline clip-path=\"url(#clip590)\" style=\"stroke:#000000; stroke-linecap:butt; stroke-linejoin:round; stroke-width:4; stroke-opacity:1; fill:none\" points=\"\n",
       "  233.659,778.513 243.108,778.513 \n",
       "  \"/>\n",
       "<polyline clip-path=\"url(#clip590)\" style=\"stroke:#000000; stroke-linecap:butt; stroke-linejoin:round; stroke-width:4; stroke-opacity:1; fill:none\" points=\"\n",
       "  233.659,726.811 243.108,726.811 \n",
       "  \"/>\n",
       "<polyline clip-path=\"url(#clip590)\" style=\"stroke:#000000; stroke-linecap:butt; stroke-linejoin:round; stroke-width:4; stroke-opacity:1; fill:none\" points=\"\n",
       "  233.659,675.11 243.108,675.11 \n",
       "  \"/>\n",
       "<polyline clip-path=\"url(#clip590)\" style=\"stroke:#000000; stroke-linecap:butt; stroke-linejoin:round; stroke-width:4; stroke-opacity:1; fill:none\" points=\"\n",
       "  233.659,571.707 243.108,571.707 \n",
       "  \"/>\n",
       "<polyline clip-path=\"url(#clip590)\" style=\"stroke:#000000; stroke-linecap:butt; stroke-linejoin:round; stroke-width:4; stroke-opacity:1; fill:none\" points=\"\n",
       "  233.659,520.005 243.108,520.005 \n",
       "  \"/>\n",
       "<polyline clip-path=\"url(#clip590)\" style=\"stroke:#000000; stroke-linecap:butt; stroke-linejoin:round; stroke-width:4; stroke-opacity:1; fill:none\" points=\"\n",
       "  233.659,468.303 243.108,468.303 \n",
       "  \"/>\n",
       "<polyline clip-path=\"url(#clip590)\" style=\"stroke:#000000; stroke-linecap:butt; stroke-linejoin:round; stroke-width:4; stroke-opacity:1; fill:none\" points=\"\n",
       "  233.659,416.602 243.108,416.602 \n",
       "  \"/>\n",
       "<polyline clip-path=\"url(#clip590)\" style=\"stroke:#000000; stroke-linecap:butt; stroke-linejoin:round; stroke-width:4; stroke-opacity:1; fill:none\" points=\"\n",
       "  233.659,313.199 243.108,313.199 \n",
       "  \"/>\n",
       "<polyline clip-path=\"url(#clip590)\" style=\"stroke:#000000; stroke-linecap:butt; stroke-linejoin:round; stroke-width:4; stroke-opacity:1; fill:none\" points=\"\n",
       "  233.659,261.497 243.108,261.497 \n",
       "  \"/>\n",
       "<polyline clip-path=\"url(#clip590)\" style=\"stroke:#000000; stroke-linecap:butt; stroke-linejoin:round; stroke-width:4; stroke-opacity:1; fill:none\" points=\"\n",
       "  233.659,209.795 243.108,209.795 \n",
       "  \"/>\n",
       "<polyline clip-path=\"url(#clip590)\" style=\"stroke:#000000; stroke-linecap:butt; stroke-linejoin:round; stroke-width:4; stroke-opacity:1; fill:none\" points=\"\n",
       "  233.659,158.094 243.108,158.094 \n",
       "  \"/>\n",
       "<polyline clip-path=\"url(#clip590)\" style=\"stroke:#000000; stroke-linecap:butt; stroke-linejoin:round; stroke-width:4; stroke-opacity:1; fill:none\" points=\"\n",
       "  233.659,54.6905 243.108,54.6905 \n",
       "  \"/>\n",
       "<path clip-path=\"url(#clip590)\" d=\"M134.238 1127.22 L122.432 1145.67 L134.238 1145.67 L134.238 1127.22 M133.011 1123.14 L138.891 1123.14 L138.891 1145.67 L143.821 1145.67 L143.821 1149.56 L138.891 1149.56 L138.891 1157.7 L134.238 1157.7 L134.238 1149.56 L118.636 1149.56 L118.636 1145.04 L133.011 1123.14 Z\" fill=\"#000000\" fill-rule=\"evenodd\" fill-opacity=\"1\" /><path clip-path=\"url(#clip590)\" d=\"M161.553 1126.22 Q157.942 1126.22 156.113 1129.79 Q154.307 1133.33 154.307 1140.46 Q154.307 1147.57 156.113 1151.13 Q157.942 1154.67 161.553 1154.67 Q165.187 1154.67 166.992 1151.13 Q168.821 1147.57 168.821 1140.46 Q168.821 1133.33 166.992 1129.79 Q165.187 1126.22 161.553 1126.22 M161.553 1122.52 Q167.363 1122.52 170.418 1127.13 Q173.497 1131.71 173.497 1140.46 Q173.497 1149.19 170.418 1153.79 Q167.363 1158.38 161.553 1158.38 Q155.742 1158.38 152.664 1153.79 Q149.608 1149.19 149.608 1140.46 Q149.608 1131.71 152.664 1127.13 Q155.742 1122.52 161.553 1122.52 Z\" fill=\"#000000\" fill-rule=\"evenodd\" fill-opacity=\"1\" /><path clip-path=\"url(#clip590)\" d=\"M191.714 1126.22 Q188.103 1126.22 186.275 1129.79 Q184.469 1133.33 184.469 1140.46 Q184.469 1147.57 186.275 1151.13 Q188.103 1154.67 191.714 1154.67 Q195.349 1154.67 197.154 1151.13 Q198.983 1147.57 198.983 1140.46 Q198.983 1133.33 197.154 1129.79 Q195.349 1126.22 191.714 1126.22 M191.714 1122.52 Q197.525 1122.52 200.58 1127.13 Q203.659 1131.71 203.659 1140.46 Q203.659 1149.19 200.58 1153.79 Q197.525 1158.38 191.714 1158.38 Q185.904 1158.38 182.826 1153.79 Q179.77 1149.19 179.77 1140.46 Q179.77 1131.71 182.826 1127.13 Q185.904 1122.52 191.714 1122.52 Z\" fill=\"#000000\" fill-rule=\"evenodd\" fill-opacity=\"1\" /><path clip-path=\"url(#clip590)\" d=\"M134.238 868.71 L122.432 887.159 L134.238 887.159 L134.238 868.71 M133.011 864.636 L138.891 864.636 L138.891 887.159 L143.821 887.159 L143.821 891.048 L138.891 891.048 L138.891 899.196 L134.238 899.196 L134.238 891.048 L118.636 891.048 L118.636 886.534 L133.011 864.636 Z\" fill=\"#000000\" fill-rule=\"evenodd\" fill-opacity=\"1\" /><path clip-path=\"url(#clip590)\" d=\"M151.599 864.636 L169.955 864.636 L169.955 868.571 L155.881 868.571 L155.881 877.044 Q156.9 876.696 157.918 876.534 Q158.937 876.349 159.955 876.349 Q165.742 876.349 169.122 879.52 Q172.502 882.692 172.502 888.108 Q172.502 893.687 169.029 896.789 Q165.557 899.868 159.238 899.868 Q157.062 899.868 154.793 899.497 Q152.548 899.127 150.141 898.386 L150.141 893.687 Q152.224 894.821 154.446 895.377 Q156.668 895.932 159.145 895.932 Q163.15 895.932 165.488 893.826 Q167.826 891.719 167.826 888.108 Q167.826 884.497 165.488 882.391 Q163.15 880.284 159.145 880.284 Q157.27 880.284 155.395 880.701 Q153.543 881.118 151.599 881.997 L151.599 864.636 Z\" fill=\"#000000\" fill-rule=\"evenodd\" fill-opacity=\"1\" /><path clip-path=\"url(#clip590)\" d=\"M191.714 867.715 Q188.103 867.715 186.275 871.28 Q184.469 874.821 184.469 881.951 Q184.469 889.057 186.275 892.622 Q188.103 896.164 191.714 896.164 Q195.349 896.164 197.154 892.622 Q198.983 889.057 198.983 881.951 Q198.983 874.821 197.154 871.28 Q195.349 867.715 191.714 867.715 M191.714 864.011 Q197.525 864.011 200.58 868.618 Q203.659 873.201 203.659 881.951 Q203.659 890.678 200.58 895.284 Q197.525 899.868 191.714 899.868 Q185.904 899.868 182.826 895.284 Q179.77 890.678 179.77 881.951 Q179.77 873.201 182.826 868.618 Q185.904 864.011 191.714 864.011 Z\" fill=\"#000000\" fill-rule=\"evenodd\" fill-opacity=\"1\" /><path clip-path=\"url(#clip590)\" d=\"M121.437 606.128 L139.793 606.128 L139.793 610.063 L125.719 610.063 L125.719 618.536 Q126.738 618.188 127.756 618.026 Q128.775 617.841 129.794 617.841 Q135.581 617.841 138.96 621.012 Q142.34 624.184 142.34 629.6 Q142.34 635.179 138.868 638.281 Q135.395 641.359 129.076 641.359 Q126.9 641.359 124.631 640.989 Q122.386 640.619 119.979 639.878 L119.979 635.179 Q122.062 636.313 124.284 636.869 Q126.506 637.424 128.983 637.424 Q132.988 637.424 135.326 635.318 Q137.664 633.211 137.664 629.6 Q137.664 625.989 135.326 623.883 Q132.988 621.776 128.983 621.776 Q127.108 621.776 125.233 622.193 Q123.382 622.61 121.437 623.489 L121.437 606.128 Z\" fill=\"#000000\" fill-rule=\"evenodd\" fill-opacity=\"1\" /><path clip-path=\"url(#clip590)\" d=\"M161.553 609.207 Q157.942 609.207 156.113 612.772 Q154.307 616.313 154.307 623.443 Q154.307 630.549 156.113 634.114 Q157.942 637.656 161.553 637.656 Q165.187 637.656 166.992 634.114 Q168.821 630.549 168.821 623.443 Q168.821 616.313 166.992 612.772 Q165.187 609.207 161.553 609.207 M161.553 605.503 Q167.363 605.503 170.418 610.11 Q173.497 614.693 173.497 623.443 Q173.497 632.17 170.418 636.776 Q167.363 641.359 161.553 641.359 Q155.742 641.359 152.664 636.776 Q149.608 632.17 149.608 623.443 Q149.608 614.693 152.664 610.11 Q155.742 605.503 161.553 605.503 Z\" fill=\"#000000\" fill-rule=\"evenodd\" fill-opacity=\"1\" /><path clip-path=\"url(#clip590)\" d=\"M191.714 609.207 Q188.103 609.207 186.275 612.772 Q184.469 616.313 184.469 623.443 Q184.469 630.549 186.275 634.114 Q188.103 637.656 191.714 637.656 Q195.349 637.656 197.154 634.114 Q198.983 630.549 198.983 623.443 Q198.983 616.313 197.154 612.772 Q195.349 609.207 191.714 609.207 M191.714 605.503 Q197.525 605.503 200.58 610.11 Q203.659 614.693 203.659 623.443 Q203.659 632.17 200.58 636.776 Q197.525 641.359 191.714 641.359 Q185.904 641.359 182.826 636.776 Q179.77 632.17 179.77 623.443 Q179.77 614.693 182.826 610.11 Q185.904 605.503 191.714 605.503 Z\" fill=\"#000000\" fill-rule=\"evenodd\" fill-opacity=\"1\" /><path clip-path=\"url(#clip590)\" d=\"M121.437 347.62 L139.793 347.62 L139.793 351.555 L125.719 351.555 L125.719 360.027 Q126.738 359.68 127.756 359.518 Q128.775 359.333 129.794 359.333 Q135.581 359.333 138.96 362.504 Q142.34 365.676 142.34 371.092 Q142.34 376.671 138.868 379.773 Q135.395 382.851 129.076 382.851 Q126.9 382.851 124.631 382.481 Q122.386 382.111 119.979 381.37 L119.979 376.671 Q122.062 377.805 124.284 378.361 Q126.506 378.916 128.983 378.916 Q132.988 378.916 135.326 376.81 Q137.664 374.703 137.664 371.092 Q137.664 367.481 135.326 365.375 Q132.988 363.268 128.983 363.268 Q127.108 363.268 125.233 363.685 Q123.382 364.102 121.437 364.981 L121.437 347.62 Z\" fill=\"#000000\" fill-rule=\"evenodd\" fill-opacity=\"1\" /><path clip-path=\"url(#clip590)\" d=\"M151.599 347.62 L169.955 347.62 L169.955 351.555 L155.881 351.555 L155.881 360.027 Q156.9 359.68 157.918 359.518 Q158.937 359.333 159.955 359.333 Q165.742 359.333 169.122 362.504 Q172.502 365.676 172.502 371.092 Q172.502 376.671 169.029 379.773 Q165.557 382.851 159.238 382.851 Q157.062 382.851 154.793 382.481 Q152.548 382.111 150.141 381.37 L150.141 376.671 Q152.224 377.805 154.446 378.361 Q156.668 378.916 159.145 378.916 Q163.15 378.916 165.488 376.81 Q167.826 374.703 167.826 371.092 Q167.826 367.481 165.488 365.375 Q163.15 363.268 159.145 363.268 Q157.27 363.268 155.395 363.685 Q153.543 364.102 151.599 364.981 L151.599 347.62 Z\" fill=\"#000000\" fill-rule=\"evenodd\" fill-opacity=\"1\" /><path clip-path=\"url(#clip590)\" d=\"M191.714 350.699 Q188.103 350.699 186.275 354.264 Q184.469 357.805 184.469 364.935 Q184.469 372.041 186.275 375.606 Q188.103 379.148 191.714 379.148 Q195.349 379.148 197.154 375.606 Q198.983 372.041 198.983 364.935 Q198.983 357.805 197.154 354.264 Q195.349 350.699 191.714 350.699 M191.714 346.995 Q197.525 346.995 200.58 351.602 Q203.659 356.185 203.659 364.935 Q203.659 373.662 200.58 378.268 Q197.525 382.851 191.714 382.851 Q185.904 382.851 182.826 378.268 Q179.77 373.662 179.77 364.935 Q179.77 356.185 182.826 351.602 Q185.904 346.995 191.714 346.995 Z\" fill=\"#000000\" fill-rule=\"evenodd\" fill-opacity=\"1\" /><path clip-path=\"url(#clip590)\" d=\"M131.969 104.529 Q128.821 104.529 126.969 106.681 Q125.141 108.834 125.141 112.584 Q125.141 116.311 126.969 118.487 Q128.821 120.64 131.969 120.64 Q135.118 120.64 136.946 118.487 Q138.798 116.311 138.798 112.584 Q138.798 108.834 136.946 106.681 Q135.118 104.529 131.969 104.529 M141.252 89.876 L141.252 94.1352 Q139.493 93.3019 137.687 92.8621 Q135.905 92.4223 134.145 92.4223 Q129.516 92.4223 127.062 95.5472 Q124.631 98.6722 124.284 104.992 Q125.65 102.978 127.71 101.913 Q129.77 100.825 132.247 100.825 Q137.456 100.825 140.465 103.996 Q143.497 107.144 143.497 112.584 Q143.497 117.908 140.349 121.126 Q137.201 124.343 131.969 124.343 Q125.974 124.343 122.803 119.76 Q119.632 115.154 119.632 106.427 Q119.632 98.2324 123.52 93.3713 Q127.409 88.4871 133.96 88.4871 Q135.719 88.4871 137.502 88.8343 Q139.307 89.1815 141.252 89.876 Z\" fill=\"#000000\" fill-rule=\"evenodd\" fill-opacity=\"1\" /><path clip-path=\"url(#clip590)\" d=\"M161.553 92.1908 Q157.942 92.1908 156.113 95.7556 Q154.307 99.2972 154.307 106.427 Q154.307 113.533 156.113 117.098 Q157.942 120.64 161.553 120.64 Q165.187 120.64 166.992 117.098 Q168.821 113.533 168.821 106.427 Q168.821 99.2972 166.992 95.7556 Q165.187 92.1908 161.553 92.1908 M161.553 88.4871 Q167.363 88.4871 170.418 93.0935 Q173.497 97.6769 173.497 106.427 Q173.497 115.154 170.418 119.76 Q167.363 124.343 161.553 124.343 Q155.742 124.343 152.664 119.76 Q149.608 115.154 149.608 106.427 Q149.608 97.6769 152.664 93.0935 Q155.742 88.4871 161.553 88.4871 Z\" fill=\"#000000\" fill-rule=\"evenodd\" fill-opacity=\"1\" /><path clip-path=\"url(#clip590)\" d=\"M191.714 92.1908 Q188.103 92.1908 186.275 95.7556 Q184.469 99.2972 184.469 106.427 Q184.469 113.533 186.275 117.098 Q188.103 120.64 191.714 120.64 Q195.349 120.64 197.154 117.098 Q198.983 113.533 198.983 106.427 Q198.983 99.2972 197.154 95.7556 Q195.349 92.1908 191.714 92.1908 M191.714 88.4871 Q197.525 88.4871 200.58 93.0935 Q203.659 97.6769 203.659 106.427 Q203.659 115.154 200.58 119.76 Q197.525 124.343 191.714 124.343 Q185.904 124.343 182.826 119.76 Q179.77 115.154 179.77 106.427 Q179.77 97.6769 182.826 93.0935 Q185.904 88.4871 191.714 88.4871 Z\" fill=\"#000000\" fill-rule=\"evenodd\" fill-opacity=\"1\" /><path clip-path=\"url(#clip590)\" d=\"M77.6903 632.473 Q84.056 634.956 85.9976 637.311 Q87.9391 639.666 87.9391 643.613 L87.9391 648.292 L83.0375 648.292 L83.0375 644.854 Q83.0375 642.435 81.8917 641.099 Q80.7459 639.762 76.4808 638.139 L73.8072 637.088 L38.7322 651.507 L38.7322 645.3 L66.614 634.16 L38.7322 623.02 L38.7322 616.813 L77.6903 632.473 Z\" fill=\"#000000\" fill-rule=\"evenodd\" fill-opacity=\"1\" /><polyline clip-path=\"url(#clip592)\" style=\"stroke:#000000; stroke-linecap:butt; stroke-linejoin:round; stroke-width:4; stroke-opacity:1; fill:none\" points=\"\n",
       "  282.313,1092.42 282.313,862.627 \n",
       "  \"/>\n",
       "<polyline clip-path=\"url(#clip592)\" style=\"stroke:#000000; stroke-linecap:butt; stroke-linejoin:round; stroke-width:4; stroke-opacity:1; fill:none\" points=\"\n",
       "  485.036,847.091 485.036,606.283 \n",
       "  \"/>\n",
       "<polyline clip-path=\"url(#clip592)\" style=\"stroke:#000000; stroke-linecap:butt; stroke-linejoin:round; stroke-width:4; stroke-opacity:1; fill:none\" points=\"\n",
       "  687.76,664.507 687.76,417.558 \n",
       "  \"/>\n",
       "<polyline clip-path=\"url(#clip592)\" style=\"stroke:#000000; stroke-linecap:butt; stroke-linejoin:round; stroke-width:4; stroke-opacity:1; fill:none\" points=\"\n",
       "  890.484,575.806 890.484,327.22 \n",
       "  \"/>\n",
       "<polyline clip-path=\"url(#clip592)\" style=\"stroke:#000000; stroke-linecap:butt; stroke-linejoin:round; stroke-width:4; stroke-opacity:1; fill:none\" points=\"\n",
       "  1093.21,338.653 1093.21,80.4657 \n",
       "  \"/>\n",
       "<polyline clip-path=\"url(#clip592)\" style=\"stroke:#000000; stroke-linecap:butt; stroke-linejoin:round; stroke-width:4; stroke-opacity:1; fill:none\" points=\"\n",
       "  1295.93,611.116 1295.93,363.698 \n",
       "  \"/>\n",
       "<polyline clip-path=\"url(#clip592)\" style=\"stroke:#000000; stroke-linecap:butt; stroke-linejoin:round; stroke-width:4; stroke-opacity:1; fill:none\" points=\"\n",
       "  1498.65,999.128 1498.65,770.771 \n",
       "  \"/>\n",
       "<polyline clip-path=\"url(#clip592)\" style=\"stroke:#000000; stroke-linecap:butt; stroke-linejoin:round; stroke-width:4; stroke-opacity:1; fill:none\" points=\"\n",
       "  1701.38,1017.84 1701.38,792.099 \n",
       "  \"/>\n",
       "<polyline clip-path=\"url(#clip592)\" style=\"stroke:#000000; stroke-linecap:butt; stroke-linejoin:round; stroke-width:4; stroke-opacity:1; fill:none\" points=\"\n",
       "  1904.1,1187.85 1904.1,972.696 \n",
       "  \"/>\n",
       "<line clip-path=\"url(#clip592)\" x1=\"298.313\" y1=\"1092.42\" x2=\"266.313\" y2=\"1092.42\" style=\"stroke:#000000; stroke-width:2.8; stroke-opacity:1\"/>\n",
       "<line clip-path=\"url(#clip592)\" x1=\"298.313\" y1=\"862.627\" x2=\"266.313\" y2=\"862.627\" style=\"stroke:#000000; stroke-width:2.8; stroke-opacity:1\"/>\n",
       "<line clip-path=\"url(#clip592)\" x1=\"501.036\" y1=\"847.091\" x2=\"469.036\" y2=\"847.091\" style=\"stroke:#000000; stroke-width:2.8; stroke-opacity:1\"/>\n",
       "<line clip-path=\"url(#clip592)\" x1=\"501.036\" y1=\"606.283\" x2=\"469.036\" y2=\"606.283\" style=\"stroke:#000000; stroke-width:2.8; stroke-opacity:1\"/>\n",
       "<line clip-path=\"url(#clip592)\" x1=\"703.76\" y1=\"664.507\" x2=\"671.76\" y2=\"664.507\" style=\"stroke:#000000; stroke-width:2.8; stroke-opacity:1\"/>\n",
       "<line clip-path=\"url(#clip592)\" x1=\"703.76\" y1=\"417.558\" x2=\"671.76\" y2=\"417.558\" style=\"stroke:#000000; stroke-width:2.8; stroke-opacity:1\"/>\n",
       "<line clip-path=\"url(#clip592)\" x1=\"906.484\" y1=\"575.806\" x2=\"874.484\" y2=\"575.806\" style=\"stroke:#000000; stroke-width:2.8; stroke-opacity:1\"/>\n",
       "<line clip-path=\"url(#clip592)\" x1=\"906.484\" y1=\"327.22\" x2=\"874.484\" y2=\"327.22\" style=\"stroke:#000000; stroke-width:2.8; stroke-opacity:1\"/>\n",
       "<line clip-path=\"url(#clip592)\" x1=\"1109.21\" y1=\"338.653\" x2=\"1077.21\" y2=\"338.653\" style=\"stroke:#000000; stroke-width:2.8; stroke-opacity:1\"/>\n",
       "<line clip-path=\"url(#clip592)\" x1=\"1109.21\" y1=\"80.4657\" x2=\"1077.21\" y2=\"80.4657\" style=\"stroke:#000000; stroke-width:2.8; stroke-opacity:1\"/>\n",
       "<line clip-path=\"url(#clip592)\" x1=\"1311.93\" y1=\"611.116\" x2=\"1279.93\" y2=\"611.116\" style=\"stroke:#000000; stroke-width:2.8; stroke-opacity:1\"/>\n",
       "<line clip-path=\"url(#clip592)\" x1=\"1311.93\" y1=\"363.698\" x2=\"1279.93\" y2=\"363.698\" style=\"stroke:#000000; stroke-width:2.8; stroke-opacity:1\"/>\n",
       "<line clip-path=\"url(#clip592)\" x1=\"1514.65\" y1=\"999.128\" x2=\"1482.65\" y2=\"999.128\" style=\"stroke:#000000; stroke-width:2.8; stroke-opacity:1\"/>\n",
       "<line clip-path=\"url(#clip592)\" x1=\"1514.65\" y1=\"770.771\" x2=\"1482.65\" y2=\"770.771\" style=\"stroke:#000000; stroke-width:2.8; stroke-opacity:1\"/>\n",
       "<line clip-path=\"url(#clip592)\" x1=\"1717.38\" y1=\"1017.84\" x2=\"1685.38\" y2=\"1017.84\" style=\"stroke:#000000; stroke-width:2.8; stroke-opacity:1\"/>\n",
       "<line clip-path=\"url(#clip592)\" x1=\"1717.38\" y1=\"792.099\" x2=\"1685.38\" y2=\"792.099\" style=\"stroke:#000000; stroke-width:2.8; stroke-opacity:1\"/>\n",
       "<line clip-path=\"url(#clip592)\" x1=\"1920.1\" y1=\"1187.85\" x2=\"1888.1\" y2=\"1187.85\" style=\"stroke:#000000; stroke-width:2.8; stroke-opacity:1\"/>\n",
       "<line clip-path=\"url(#clip592)\" x1=\"1920.1\" y1=\"972.696\" x2=\"1888.1\" y2=\"972.696\" style=\"stroke:#000000; stroke-width:2.8; stroke-opacity:1\"/>\n",
       "<circle clip-path=\"url(#clip592)\" cx=\"282.313\" cy=\"977.524\" r=\"14.4\" fill=\"#009af9\" fill-rule=\"evenodd\" fill-opacity=\"1\" stroke=\"#000000\" stroke-opacity=\"1\" stroke-width=\"2.8\"/>\n",
       "<circle clip-path=\"url(#clip592)\" cx=\"485.036\" cy=\"726.687\" r=\"14.4\" fill=\"#009af9\" fill-rule=\"evenodd\" fill-opacity=\"1\" stroke=\"#000000\" stroke-opacity=\"1\" stroke-width=\"2.8\"/>\n",
       "<circle clip-path=\"url(#clip592)\" cx=\"687.76\" cy=\"541.033\" r=\"14.4\" fill=\"#009af9\" fill-rule=\"evenodd\" fill-opacity=\"1\" stroke=\"#000000\" stroke-opacity=\"1\" stroke-width=\"2.8\"/>\n",
       "<circle clip-path=\"url(#clip592)\" cx=\"890.484\" cy=\"451.513\" r=\"14.4\" fill=\"#009af9\" fill-rule=\"evenodd\" fill-opacity=\"1\" stroke=\"#000000\" stroke-opacity=\"1\" stroke-width=\"2.8\"/>\n",
       "<circle clip-path=\"url(#clip592)\" cx=\"1093.21\" cy=\"209.56\" r=\"14.4\" fill=\"#009af9\" fill-rule=\"evenodd\" fill-opacity=\"1\" stroke=\"#000000\" stroke-opacity=\"1\" stroke-width=\"2.8\"/>\n",
       "<circle clip-path=\"url(#clip592)\" cx=\"1295.93\" cy=\"487.407\" r=\"14.4\" fill=\"#009af9\" fill-rule=\"evenodd\" fill-opacity=\"1\" stroke=\"#000000\" stroke-opacity=\"1\" stroke-width=\"2.8\"/>\n",
       "<circle clip-path=\"url(#clip592)\" cx=\"1498.65\" cy=\"884.95\" r=\"14.4\" fill=\"#009af9\" fill-rule=\"evenodd\" fill-opacity=\"1\" stroke=\"#000000\" stroke-opacity=\"1\" stroke-width=\"2.8\"/>\n",
       "<circle clip-path=\"url(#clip592)\" cx=\"1701.38\" cy=\"904.968\" r=\"14.4\" fill=\"#009af9\" fill-rule=\"evenodd\" fill-opacity=\"1\" stroke=\"#000000\" stroke-opacity=\"1\" stroke-width=\"2.8\"/>\n",
       "<circle clip-path=\"url(#clip592)\" cx=\"1904.1\" cy=\"1080.28\" r=\"14.4\" fill=\"#009af9\" fill-rule=\"evenodd\" fill-opacity=\"1\" stroke=\"#000000\" stroke-opacity=\"1\" stroke-width=\"2.8\"/>\n",
       "<polyline clip-path=\"url(#clip592)\" style=\"stroke:#e26f46; stroke-linecap:butt; stroke-linejoin:round; stroke-width:4; stroke-opacity:1; fill:none\" stroke-dasharray=\"16, 10\" points=\"\n",
       "  662.482,2394.91 662.482,-1126.59 \n",
       "  \"/>\n",
       "<path clip-path=\"url(#clip590)\" d=\"\n",
       "M1439.95 258.08 L1895.45 258.08 L1895.45 86.3718 L1439.95 86.3718  Z\n",
       "  \" fill=\"#ffffff\" fill-rule=\"evenodd\" fill-opacity=\"1\"/>\n",
       "<polyline clip-path=\"url(#clip590)\" style=\"stroke:#000000; stroke-linecap:butt; stroke-linejoin:round; stroke-width:4; stroke-opacity:1; fill:none\" points=\"\n",
       "  1439.95,258.08 1895.45,258.08 1895.45,86.3718 1439.95,86.3718 1439.95,258.08 \n",
       "  \"/>\n",
       "<circle clip-path=\"url(#clip590)\" cx=\"1516.35\" cy=\"143.608\" r=\"23.04\" fill=\"#009af9\" fill-rule=\"evenodd\" fill-opacity=\"1\" stroke=\"#000000\" stroke-opacity=\"1\" stroke-width=\"4.48\"/>\n",
       "<path clip-path=\"url(#clip590)\" d=\"M1597.43 130.171 L1597.43 157.045 L1603.08 157.045 Q1610.23 157.045 1613.54 153.805 Q1616.88 150.564 1616.88 143.573 Q1616.88 136.629 1613.54 133.411 Q1610.23 130.171 1603.08 130.171 L1597.43 130.171 M1592.75 126.328 L1602.36 126.328 Q1612.41 126.328 1617.11 130.518 Q1621.81 134.684 1621.81 143.573 Q1621.81 152.508 1617.08 156.698 Q1612.36 160.888 1602.36 160.888 L1592.75 160.888 L1592.75 126.328 Z\" fill=\"#000000\" fill-rule=\"evenodd\" fill-opacity=\"1\" /><path clip-path=\"url(#clip590)\" d=\"M1640.86 147.856 Q1635.69 147.856 1633.7 149.036 Q1631.71 150.217 1631.71 153.064 Q1631.71 155.332 1633.19 156.675 Q1634.7 157.995 1637.27 157.995 Q1640.81 157.995 1642.94 155.495 Q1645.09 152.971 1645.09 148.805 L1645.09 147.856 L1640.86 147.856 M1649.35 146.096 L1649.35 160.888 L1645.09 160.888 L1645.09 156.953 Q1643.63 159.314 1641.46 160.448 Q1639.28 161.559 1636.13 161.559 Q1632.15 161.559 1629.79 159.337 Q1627.45 157.092 1627.45 153.342 Q1627.45 148.967 1630.37 146.745 Q1633.31 144.522 1639.12 144.522 L1645.09 144.522 L1645.09 144.106 Q1645.09 141.166 1643.15 139.569 Q1641.23 137.948 1637.73 137.948 Q1635.51 137.948 1633.4 138.481 Q1631.3 139.013 1629.35 140.078 L1629.35 136.143 Q1631.69 135.24 1633.89 134.8 Q1636.09 134.337 1638.17 134.337 Q1643.8 134.337 1646.57 137.254 Q1649.35 140.171 1649.35 146.096 Z\" fill=\"#000000\" fill-rule=\"evenodd\" fill-opacity=\"1\" /><path clip-path=\"url(#clip590)\" d=\"M1662.34 127.601 L1662.34 134.962 L1671.11 134.962 L1671.11 138.272 L1662.34 138.272 L1662.34 152.346 Q1662.34 155.518 1663.19 156.42 Q1664.07 157.323 1666.74 157.323 L1671.11 157.323 L1671.11 160.888 L1666.74 160.888 Q1661.81 160.888 1659.93 159.059 Q1658.06 157.207 1658.06 152.346 L1658.06 138.272 L1654.93 138.272 L1654.93 134.962 L1658.06 134.962 L1658.06 127.601 L1662.34 127.601 Z\" fill=\"#000000\" fill-rule=\"evenodd\" fill-opacity=\"1\" /><path clip-path=\"url(#clip590)\" d=\"M1688.5 147.856 Q1683.33 147.856 1681.34 149.036 Q1679.35 150.217 1679.35 153.064 Q1679.35 155.332 1680.83 156.675 Q1682.34 157.995 1684.91 157.995 Q1688.45 157.995 1690.58 155.495 Q1692.73 152.971 1692.73 148.805 L1692.73 147.856 L1688.5 147.856 M1696.99 146.096 L1696.99 160.888 L1692.73 160.888 L1692.73 156.953 Q1691.27 159.314 1689.1 160.448 Q1686.92 161.559 1683.77 161.559 Q1679.79 161.559 1677.43 159.337 Q1675.09 157.092 1675.09 153.342 Q1675.09 148.967 1678.01 146.745 Q1680.95 144.522 1686.76 144.522 L1692.73 144.522 L1692.73 144.106 Q1692.73 141.166 1690.79 139.569 Q1688.87 137.948 1685.37 137.948 Q1683.15 137.948 1681.04 138.481 Q1678.93 139.013 1676.99 140.078 L1676.99 136.143 Q1679.33 135.24 1681.53 134.8 Q1683.73 134.337 1685.81 134.337 Q1691.43 134.337 1694.21 137.254 Q1696.99 140.171 1696.99 146.096 Z\" fill=\"#000000\" fill-rule=\"evenodd\" fill-opacity=\"1\" /><polyline clip-path=\"url(#clip590)\" style=\"stroke:#e26f46; stroke-linecap:butt; stroke-linejoin:round; stroke-width:4; stroke-opacity:1; fill:none\" stroke-dasharray=\"16, 10\" points=\"\n",
       "  1459.05,200.844 1573.65,200.844 \n",
       "  \"/>\n",
       "<path clip-path=\"url(#clip590)\" d=\"M1629.41 194.809 Q1629.41 198.674 1627.75 202.468 Q1626.11 206.239 1623.44 209.097 Q1620.79 211.931 1617.21 213.687 Q1613.62 215.444 1609.97 215.444 L1594.09 215.444 Q1593.53 215.444 1593.29 215.421 Q1593.08 215.397 1592.92 215.28 Q1592.75 215.14 1592.75 214.859 Q1592.75 214.413 1592.94 214.226 Q1593.13 214.015 1593.34 213.992 Q1593.55 213.968 1594.09 213.968 Q1595.26 213.968 1595.96 213.898 Q1596.67 213.828 1597.11 213.734 Q1597.58 213.617 1597.81 213.289 Q1598.07 212.961 1598.19 212.68 Q1598.31 212.376 1598.47 211.696 L1604.89 185.932 Q1605.08 185.159 1605.08 185.042 Q1605.08 184.644 1604.84 184.503 Q1604.63 184.339 1604.02 184.269 Q1602.85 184.175 1601.96 184.175 Q1601.37 184.175 1601.14 184.152 Q1600.93 184.128 1600.74 184.011 Q1600.58 183.871 1600.58 183.59 Q1600.58 183.145 1600.77 182.957 Q1600.98 182.746 1601.21 182.723 Q1601.44 182.676 1602.01 182.676 L1618.12 182.676 Q1621.61 182.676 1624.21 184.316 Q1626.81 185.932 1628.1 188.672 Q1629.41 191.389 1629.41 194.809 M1625.22 193.052 Q1625.22 188.579 1622.78 186.377 Q1620.37 184.175 1616.55 184.175 L1611.42 184.175 Q1609.9 184.175 1609.53 184.456 Q1609.15 184.714 1608.82 186.002 L1602.24 212.329 Q1602.01 213.196 1602.01 213.43 Q1602.01 213.687 1602.12 213.781 Q1602.26 213.851 1602.64 213.898 Q1603.06 213.968 1603.69 213.968 L1609.1 213.968 Q1611.19 213.968 1613.09 213.406 Q1615.01 212.821 1616.39 211.907 Q1617.77 210.97 1618.66 210.174 Q1619.55 209.354 1620.18 208.534 Q1621.61 206.684 1622.67 204.272 Q1623.74 201.859 1624.23 199.657 Q1624.75 197.432 1624.98 195.793 Q1625.22 194.13 1625.22 193.052 Z\" fill=\"#000000\" fill-rule=\"evenodd\" fill-opacity=\"1\" /><path clip-path=\"url(#clip590)\" d=\"M1646.54 216.781 Q1646.54 217.699 1646.08 218.191 Q1645.62 218.666 1645 218.666 Q1644.49 218.666 1644.21 218.371 Q1643.95 218.076 1643.95 217.682 Q1643.95 217.109 1644.41 216.65 Q1644.88 216.19 1645.57 216.174 Q1645.34 215.567 1644.74 215.207 Q1644.13 214.83 1643.59 214.731 Q1643.06 214.633 1642.54 214.633 Q1641.51 214.633 1640.72 214.961 Q1639.93 215.289 1639.54 215.797 Q1639.14 216.289 1638.96 216.764 Q1638.78 217.24 1638.78 217.65 Q1638.78 218.01 1638.87 218.305 Q1638.96 218.584 1639.19 218.797 Q1639.42 218.994 1639.59 219.125 Q1639.77 219.256 1640.16 219.371 Q1640.55 219.486 1640.72 219.535 Q1640.88 219.568 1641.34 219.666 Q1642.29 219.863 1642.72 219.978 Q1643.15 220.076 1643.7 220.355 Q1644.28 220.634 1644.7 221.076 Q1645.74 222.109 1645.74 223.536 Q1645.74 224.06 1645.56 224.7 Q1645.39 225.339 1644.92 226.143 Q1644.44 226.946 1643.72 227.585 Q1643 228.225 1641.75 228.668 Q1640.52 229.11 1638.98 229.11 Q1636.83 229.11 1635.51 228.208 Q1634.18 227.29 1634.18 225.848 Q1634.18 224.798 1634.75 224.224 Q1635.32 223.634 1636.06 223.634 Q1636.62 223.634 1636.96 223.946 Q1637.31 224.241 1637.31 224.798 Q1637.31 225.552 1636.7 226.126 Q1636.1 226.7 1635.19 226.585 Q1635.96 228.356 1639.01 228.356 Q1640.16 228.356 1641.05 228.061 Q1641.95 227.749 1642.44 227.323 Q1642.95 226.88 1643.28 226.339 Q1643.6 225.798 1643.7 225.388 Q1643.82 224.979 1643.82 224.667 Q1643.82 224.126 1643.6 223.716 Q1643.39 223.306 1643.1 223.077 Q1642.82 222.831 1642.28 222.634 Q1641.75 222.421 1641.37 222.339 Q1641 222.257 1640.33 222.126 Q1640.01 222.06 1639.82 222.027 Q1639.62 221.978 1639.21 221.847 Q1638.82 221.699 1638.54 221.552 Q1638.28 221.404 1637.93 221.142 Q1637.59 220.88 1637.37 220.568 Q1637.16 220.257 1637.01 219.797 Q1636.87 219.338 1636.87 218.797 Q1636.87 218.305 1637.01 217.715 Q1637.18 217.125 1637.59 216.436 Q1638.01 215.748 1638.62 215.19 Q1639.23 214.633 1640.24 214.272 Q1641.28 213.895 1642.54 213.895 Q1644.38 213.895 1645.46 214.748 Q1646.54 215.584 1646.54 216.781 Z\" fill=\"#000000\" fill-rule=\"evenodd\" fill-opacity=\"1\" /><path clip-path=\"url(#clip590)\" d=\"M1649.63 217.994 Q1649.63 213.059 1650.88 210.37 Q1652.62 206.369 1656.72 206.369 Q1657.58 206.369 1658.49 206.615 Q1659.4 206.845 1660.55 207.747 Q1661.72 208.648 1662.42 210.124 Q1663.77 212.977 1663.77 217.994 Q1663.77 222.896 1662.52 225.569 Q1660.7 229.471 1656.68 229.471 Q1655.17 229.471 1653.63 228.7 Q1652.11 227.93 1651.14 226.077 Q1649.63 223.306 1649.63 217.994 M1652.42 217.584 Q1652.42 222.65 1652.78 224.667 Q1653.19 226.848 1654.31 227.799 Q1655.44 228.733 1656.68 228.733 Q1658.03 228.733 1659.14 227.733 Q1660.27 226.716 1660.62 224.536 Q1661 222.388 1660.98 217.584 Q1660.98 212.911 1660.65 211.042 Q1660.21 208.862 1659.03 207.993 Q1657.86 207.107 1656.68 207.107 Q1656.24 207.107 1655.76 207.238 Q1655.31 207.37 1654.63 207.747 Q1653.96 208.124 1653.44 209.058 Q1652.93 209.993 1652.68 211.403 Q1652.42 213.223 1652.42 217.584 Z\" fill=\"#000000\" fill-rule=\"evenodd\" fill-opacity=\"1\" /><path clip-path=\"url(#clip590)\" d=\"M1646.7 182.757 Q1646.49 183.134 1646.05 183.232 Q1645.62 183.314 1645.26 183.068 L1640.96 179.904 L1641.52 185.216 Q1641.57 185.642 1641.29 185.97 Q1641.01 186.282 1640.55 186.282 Q1640.1 186.282 1639.82 185.97 Q1639.54 185.642 1639.59 185.216 L1640.15 179.904 L1635.85 183.068 Q1635.49 183.314 1635.05 183.232 Q1634.62 183.134 1634.41 182.757 Q1634.18 182.347 1634.31 181.937 Q1634.46 181.51 1634.88 181.347 L1639.75 179.199 L1634.88 177.051 Q1634.46 176.887 1634.31 176.477 Q1634.18 176.051 1634.41 175.641 Q1634.62 175.264 1635.05 175.182 Q1635.49 175.083 1635.85 175.329 L1640.15 178.494 L1639.59 173.181 Q1639.54 172.739 1639.82 172.411 Q1640.11 172.083 1640.55 172.083 Q1641 172.083 1641.28 172.411 Q1641.57 172.739 1641.52 173.181 L1640.96 178.494 L1645.26 175.329 Q1645.62 175.083 1646.05 175.182 Q1646.49 175.264 1646.7 175.641 Q1646.93 176.051 1646.79 176.477 Q1646.65 176.887 1646.23 177.051 L1641.36 179.199 L1646.23 181.347 Q1646.65 181.51 1646.79 181.937 Q1646.93 182.347 1646.7 182.757 Z\" fill=\"#000000\" fill-rule=\"evenodd\" fill-opacity=\"1\" /><path clip-path=\"url(#clip590)\" d=\"M1676.5 203.452 Q1676.5 195.348 1679.52 188.813 Q1680.81 186.072 1682.62 183.777 Q1684.42 181.482 1685.61 180.474 Q1686.81 179.467 1687.14 179.467 Q1687.6 179.467 1687.63 179.936 Q1687.63 180.17 1687 180.755 Q1679.27 188.625 1679.29 203.452 Q1679.29 218.325 1686.81 225.89 Q1687.63 226.71 1687.63 226.968 Q1687.63 227.436 1687.14 227.436 Q1686.81 227.436 1685.66 226.476 Q1684.51 225.516 1682.73 223.314 Q1680.95 221.112 1679.66 218.419 Q1676.5 211.884 1676.5 203.452 Z\" fill=\"#000000\" fill-rule=\"evenodd\" fill-opacity=\"1\" /><path clip-path=\"url(#clip590)\" d=\"M1692.23 215.444 Q1692.23 214.577 1692.31 214.32 Q1692.4 214.062 1692.77 213.664 L1701.98 203.405 Q1707.01 197.737 1707.01 192.795 Q1707.01 189.586 1705.33 187.29 Q1703.67 184.995 1700.6 184.995 Q1698.49 184.995 1696.71 186.283 Q1694.93 187.571 1694.11 189.867 Q1694.25 189.82 1694.74 189.82 Q1695.94 189.82 1696.59 190.569 Q1697.27 191.319 1697.27 192.326 Q1697.27 193.614 1696.43 194.247 Q1695.61 194.856 1694.79 194.856 Q1694.46 194.856 1694.02 194.785 Q1693.59 194.715 1692.91 194.059 Q1692.23 193.38 1692.23 192.186 Q1692.23 188.836 1694.76 186.166 Q1697.32 183.496 1701.21 183.496 Q1705.61 183.496 1708.49 186.119 Q1711.39 188.719 1711.39 192.795 Q1711.39 194.223 1710.95 195.535 Q1710.53 196.823 1709.94 197.83 Q1709.38 198.838 1707.83 200.454 Q1706.29 202.07 1705.05 203.218 Q1703.81 204.365 1701.02 206.801 L1695.94 211.743 L1704.58 211.743 Q1708.79 211.743 1709.12 211.369 Q1709.59 210.689 1710.18 207.106 L1711.39 207.106 L1710.04 215.444 L1692.23 215.444 Z\" fill=\"#000000\" fill-rule=\"evenodd\" fill-opacity=\"1\" /><path clip-path=\"url(#clip590)\" d=\"M1716.18 208.979 Q1716.18 207.551 1717 206.871 Q1717.82 206.192 1718.88 206.192 Q1719.98 206.192 1720.75 206.918 Q1721.55 207.621 1721.55 208.862 Q1721.55 210.197 1720.61 210.947 Q1719.7 211.696 1718.39 211.509 Q1719.53 213.43 1721.64 214.296 Q1723.77 215.163 1725.74 215.163 Q1727.8 215.163 1729.46 213.383 Q1731.15 211.603 1731.15 207.246 Q1731.15 203.545 1729.7 201.414 Q1728.27 199.283 1725.44 199.283 L1723.33 199.283 Q1722.6 199.283 1722.39 199.212 Q1722.18 199.142 1722.18 198.744 Q1722.18 198.275 1722.91 198.182 Q1723.63 198.182 1724.78 198.041 Q1727.57 197.948 1729.04 195.535 Q1730.38 193.286 1730.38 190.078 Q1730.38 187.15 1728.97 185.932 Q1727.59 184.69 1725.79 184.69 Q1724.1 184.69 1722.25 185.393 Q1720.4 186.096 1719.39 187.665 Q1722.37 187.665 1722.37 190.078 Q1722.37 191.132 1721.69 191.834 Q1721.03 192.514 1719.93 192.514 Q1718.88 192.514 1718.17 191.858 Q1717.47 191.178 1717.47 190.031 Q1717.47 187.29 1719.91 185.393 Q1722.37 183.496 1725.97 183.496 Q1729.53 183.496 1732.16 185.37 Q1734.8 187.243 1734.8 190.124 Q1734.8 192.959 1732.93 195.277 Q1731.06 197.596 1728.08 198.557 Q1731.74 199.283 1733.91 201.765 Q1736.09 204.225 1736.09 207.246 Q1736.09 210.994 1733.14 213.758 Q1730.19 216.498 1725.88 216.498 Q1721.9 216.498 1719.04 214.343 Q1716.18 212.188 1716.18 208.979 Z\" fill=\"#000000\" fill-rule=\"evenodd\" fill-opacity=\"1\" /><path clip-path=\"url(#clip590)\" d=\"M1738.84 188.063 L1738.84 186.564 Q1744.6 186.564 1747.58 183.496 Q1748.4 183.496 1748.54 183.683 Q1748.68 183.871 1748.68 184.737 L1748.68 211.65 Q1748.68 213.078 1749.38 213.523 Q1750.08 213.968 1753.15 213.968 L1754.67 213.968 L1754.67 215.444 Q1752.99 215.304 1746.9 215.304 Q1740.81 215.304 1739.14 215.444 L1739.14 213.968 L1740.67 213.968 Q1743.69 213.968 1744.41 213.547 Q1745.14 213.102 1745.14 211.65 L1745.14 186.798 Q1742.63 188.063 1738.84 188.063 Z\" fill=\"#000000\" fill-rule=\"evenodd\" fill-opacity=\"1\" /><path clip-path=\"url(#clip590)\" d=\"M1756.1 192.888 L1757.67 183.027 L1758.86 183.027 Q1759 183.613 1759.24 183.871 Q1759.49 184.128 1760.85 184.339 Q1762.24 184.55 1765.02 184.55 L1776.66 184.55 Q1776.66 185.651 1776.24 186.236 L1769.75 195.348 Q1767.69 198.229 1766.78 203.545 Q1766.24 207.106 1766.26 211.415 L1766.26 213.851 Q1766.26 216.498 1764.04 216.498 Q1761.84 216.498 1761.84 213.851 Q1761.84 204.693 1767.74 195.816 Q1768.37 194.903 1770.69 191.647 Q1773.03 188.391 1773.13 188.251 L1763.2 188.251 Q1758.84 188.251 1758.49 188.532 Q1758.02 188.953 1757.29 192.888 L1756.1 192.888 Z\" fill=\"#000000\" fill-rule=\"evenodd\" fill-opacity=\"1\" /><path clip-path=\"url(#clip590)\" d=\"M1780.05 226.968 Q1780.05 226.734 1780.66 226.148 Q1788.39 218.278 1788.39 203.452 Q1788.39 188.579 1780.96 181.06 Q1780.05 180.193 1780.05 179.936 Q1780.05 179.467 1780.52 179.467 Q1780.84 179.467 1781.99 180.428 Q1783.16 181.388 1784.92 183.59 Q1786.7 185.791 1788.01 188.485 Q1791.17 195.02 1791.17 203.452 Q1791.17 211.556 1788.15 218.091 Q1786.86 220.831 1785.06 223.127 Q1783.26 225.422 1782.06 226.429 Q1780.87 227.436 1780.52 227.436 Q1780.05 227.436 1780.05 226.968 Z\" fill=\"#000000\" fill-rule=\"evenodd\" fill-opacity=\"1\" /><path clip-path=\"url(#clip590)\" d=\"M1825.66 177.67 L1813.55 177.67 L1813.55 176.621 L1825.66 176.621 L1825.66 177.67 Z\" fill=\"#000000\" fill-rule=\"evenodd\" fill-opacity=\"1\" /><path clip-path=\"url(#clip590)\" d=\"M1835.12 194.809 Q1835.12 198.674 1833.46 202.468 Q1831.82 206.239 1829.15 209.097 Q1826.5 211.931 1822.92 213.687 Q1819.34 215.444 1815.68 215.444 L1799.8 215.444 Q1799.24 215.444 1799.01 215.421 Q1798.8 215.397 1798.63 215.28 Q1798.47 215.14 1798.47 214.859 Q1798.47 214.413 1798.65 214.226 Q1798.84 214.015 1799.05 213.992 Q1799.26 213.968 1799.8 213.968 Q1800.97 213.968 1801.68 213.898 Q1802.38 213.828 1802.82 213.734 Q1803.29 213.617 1803.53 213.289 Q1803.78 212.961 1803.9 212.68 Q1804.02 212.376 1804.18 211.696 L1810.6 185.932 Q1810.79 185.159 1810.79 185.042 Q1810.79 184.644 1810.55 184.503 Q1810.34 184.339 1809.73 184.269 Q1808.56 184.175 1807.67 184.175 Q1807.09 184.175 1806.85 184.152 Q1806.64 184.128 1806.45 184.011 Q1806.29 183.871 1806.29 183.59 Q1806.29 183.145 1806.48 182.957 Q1806.69 182.746 1806.92 182.723 Q1807.16 182.676 1807.72 182.676 L1823.83 182.676 Q1827.32 182.676 1829.92 184.316 Q1832.52 185.932 1833.81 188.672 Q1835.12 191.389 1835.12 194.809 M1830.93 193.052 Q1830.93 188.579 1828.5 186.377 Q1826.08 184.175 1822.26 184.175 L1817.14 184.175 Q1815.61 184.175 1815.24 184.456 Q1814.86 184.714 1814.54 186.002 L1807.95 212.329 Q1807.72 213.196 1807.72 213.43 Q1807.72 213.687 1807.84 213.781 Q1807.98 213.851 1808.35 213.898 Q1808.77 213.968 1809.41 213.968 L1814.82 213.968 Q1816.9 213.968 1818.8 213.406 Q1820.72 212.821 1822.1 211.907 Q1823.48 210.97 1824.37 210.174 Q1825.26 209.354 1825.9 208.534 Q1827.32 206.684 1828.38 204.272 Q1829.46 201.859 1829.95 199.657 Q1830.46 197.432 1830.7 195.793 Q1830.93 194.13 1830.93 193.052 Z\" fill=\"#000000\" fill-rule=\"evenodd\" fill-opacity=\"1\" /><path clip-path=\"url(#clip590)\" d=\"M1852.25 212.307 Q1852.25 213.225 1851.79 213.717 Q1851.33 214.193 1850.71 214.193 Q1850.2 214.193 1849.92 213.898 Q1849.66 213.602 1849.66 213.209 Q1849.66 212.635 1850.12 212.176 Q1850.6 211.717 1851.28 211.701 Q1851.06 211.094 1850.45 210.733 Q1849.84 210.356 1849.3 210.258 Q1848.78 210.159 1848.25 210.159 Q1847.22 210.159 1846.43 210.487 Q1845.64 210.815 1845.25 211.323 Q1844.86 211.815 1844.68 212.291 Q1844.5 212.766 1844.5 213.176 Q1844.5 213.537 1844.58 213.832 Q1844.68 214.111 1844.91 214.324 Q1845.14 214.521 1845.3 214.652 Q1845.48 214.783 1845.87 214.898 Q1846.27 215.013 1846.43 215.062 Q1846.6 215.095 1847.05 215.193 Q1848.01 215.39 1848.43 215.504 Q1848.86 215.603 1849.42 215.882 Q1849.99 216.16 1850.42 216.603 Q1851.45 217.636 1851.45 219.062 Q1851.45 219.587 1851.27 220.226 Q1851.1 220.866 1850.63 221.669 Q1850.15 222.473 1849.43 223.112 Q1848.71 223.751 1847.46 224.194 Q1846.23 224.637 1844.69 224.637 Q1842.55 224.637 1841.22 223.735 Q1839.89 222.817 1839.89 221.374 Q1839.89 220.325 1840.46 219.751 Q1841.04 219.161 1841.78 219.161 Q1842.33 219.161 1842.68 219.472 Q1843.02 219.767 1843.02 220.325 Q1843.02 221.079 1842.41 221.653 Q1841.81 222.227 1840.91 222.112 Q1841.68 223.883 1844.73 223.883 Q1845.87 223.883 1846.76 223.587 Q1847.66 223.276 1848.15 222.85 Q1848.66 222.407 1848.99 221.866 Q1849.32 221.325 1849.42 220.915 Q1849.53 220.505 1849.53 220.194 Q1849.53 219.653 1849.32 219.243 Q1849.1 218.833 1848.81 218.603 Q1848.53 218.357 1847.99 218.161 Q1847.46 217.947 1847.09 217.865 Q1846.71 217.783 1846.04 217.652 Q1845.73 217.587 1845.53 217.554 Q1845.33 217.505 1844.92 217.374 Q1844.53 217.226 1844.25 217.078 Q1843.99 216.931 1843.64 216.668 Q1843.3 216.406 1843.09 216.095 Q1842.87 215.783 1842.73 215.324 Q1842.58 214.865 1842.58 214.324 Q1842.58 213.832 1842.73 213.242 Q1842.89 212.652 1843.3 211.963 Q1843.73 211.274 1844.33 210.717 Q1844.94 210.159 1845.96 209.799 Q1846.99 209.422 1848.25 209.422 Q1850.09 209.422 1851.17 210.274 Q1852.25 211.11 1852.25 212.307 Z\" fill=\"#000000\" fill-rule=\"evenodd\" fill-opacity=\"1\" /></svg>\n"
      ]
     },
     "execution_count": 9,
     "metadata": {},
     "output_type": "execute_result"
    }
   ],
   "source": [
    "@plt_data data_full\n",
    "#@plt_data! dps_data label=\"DPS\" legend=:outerright size=(700,400)\n",
    "#vline!([mLamc+mkc], line=:dash, label=L\"J/\\psi\\psi'\")\n",
    "vline!([mds02317+mds], line=:dash, label=L\"D_{s0}^{\\ast}(2317)\\bar{D}_s\")"
   ]
  },
  {
   "cell_type": "markdown",
   "metadata": {},
   "source": [
    "## Gauss-Legendre quadrature"
   ]
  },
  {
   "cell_type": "code",
   "execution_count": 10,
   "metadata": {},
   "outputs": [
    {
     "data": {
      "text/plain": [
       "RectRootsWeight (generic function with 1 method)"
      ]
     },
     "execution_count": 10,
     "metadata": {},
     "output_type": "execute_result"
    }
   ],
   "source": [
    "function RectRootsWeight(a,b,NI)\n",
    "    step = (b-a)/NI\n",
    "    XI = collect(a+step/2:step:b)\n",
    "    WI = ones(NI)*step\n",
    "    return XI,WI\n",
    "end\n"
   ]
  },
  {
   "cell_type": "code",
   "execution_count": 11,
   "metadata": {},
   "outputs": [
    {
     "data": {
      "text/plain": [
       "GaussRootsWeight (generic function with 1 method)"
      ]
     },
     "execution_count": 11,
     "metadata": {},
     "output_type": "execute_result"
    }
   ],
   "source": [
    "function GaussRootsWeight(a,b,NI)#::Tuple(Float64,Float64)\n",
    "    TI,WTI=gausslegendre(NI) ; # (-1,1)\n",
    "    XI = (b-a)/2.0e0*TI .+ (b+a)/2.0e0\n",
    "    WI = (b-a)/2.0e0*WTI\n",
    "    return XI,WI\n",
    "end"
   ]
  },
  {
   "cell_type": "code",
   "execution_count": null,
   "metadata": {},
   "outputs": [],
   "source": []
  },
  {
   "cell_type": "code",
   "execution_count": 12,
   "metadata": {},
   "outputs": [],
   "source": [
    "const ϵ=1e-8;\n",
    "\n",
    "const NZ = 5;\n",
    "const xx1, ww1 = GaussRootsWeight(0,20.,NZ);"
   ]
  },
  {
   "cell_type": "code",
   "execution_count": 13,
   "metadata": {},
   "outputs": [],
   "source": [
    "const m1=mds;\n",
    "const m2=mds02317;\n",
    "const geff=9.3*0.77; # in unit of GeV\n",
    "const metaeff=0.421;# \\sqrt{-\\delta E^2+ meta^2} in unit of GeV\n",
    "\n",
    "#const Λ=1.0;"
   ]
  },
  {
   "cell_type": "code",
   "execution_count": 14,
   "metadata": {},
   "outputs": [
    {
     "data": {
      "text/plain": [
       "vGau (generic function with 1 method)"
      ]
     },
     "execution_count": 14,
     "metadata": {},
     "output_type": "execute_result"
    }
   ],
   "source": [
    "function vGau(m1,m2,mex,geff0,p1,p2, Λ)\n",
    "    \n",
    "  @fastmath Vopess=geff0*1/(4p1*p2)*log(((p1+p2)^2 +mex^2)/((p1-p2)^2 +mex^2) )#*exp(-(p1^2+p2^2)/(Λ^2))\n",
    "        \n",
    "    return -1/(4m1*m2)*Vopess*(1/2)\n",
    "end\n",
    "\n",
    "#1/(4m1*m2) is replaced by 1/(m1*m2) in HQEFT?, \n",
    "#where 1/2 coresponds to Ds0 Dsbar->Ds0bar Ds with respect to eigenvalues of {{0,1/2},{1/2,0}}"
   ]
  },
  {
   "cell_type": "markdown",
   "metadata": {},
   "source": [
    "##### Details in OPE\n",
    "1/(4m1*m2) is replaced by 1/(m1*m2) in HQEFT? \n",
    "The factor 1/2 coresponds to Ds0 Dsbar->Ds0bar Ds with respect to eigenvalues of {{0,1/2},{1/2,0}}."
   ]
  },
  {
   "cell_type": "code",
   "execution_count": 15,
   "metadata": {},
   "outputs": [
    {
     "data": {
      "text/plain": [
       "Ginte (generic function with 1 method)"
      ]
     },
     "execution_count": 15,
     "metadata": {},
     "output_type": "execute_result"
    }
   ],
   "source": [
    "function Ginte(w,q,m1,m2)\n",
    "    mu=m1*m2/(m1+m2);\n",
    "    Gint=q^2/(2pi^2)*1/(w-m1-m2-q^2/(2mu))\n",
    "end"
   ]
  },
  {
   "cell_type": "code",
   "execution_count": null,
   "metadata": {},
   "outputs": [],
   "source": []
  },
  {
   "cell_type": "code",
   "execution_count": 16,
   "metadata": {},
   "outputs": [
    {
     "data": {
      "text/plain": [
       "Gintesep (generic function with 1 method)"
      ]
     },
     "execution_count": 16,
     "metadata": {},
     "output_type": "execute_result"
    }
   ],
   "source": [
    "function Gintesep0(w,q,m1,m2,Λ)\n",
    "    mu=m1*m2/(m1+m2);\n",
    "    psq=abs(2mu*(m1+m2-w));\n",
    "    \n",
    "    Gint0=q^2/(2pi^2)*1/(w-m1-m2-q^2/(2mu)+1im*ϵ)*exp(-2q^2/(Λ^2))-(2mu*(w-m1-m2))/(2pi^2)*1/(w-m1-m2-q^2/(2mu)+1im*ϵ)*exp(-2psq/(Λ^2))\n",
    "    if w<m1+m2\n",
    "        Gint=Gint0+1/(2pi)*xsqrt(2mu*(m1+m2-w))*exp(-2psq/(Λ^2))\n",
    "        else Gint=Gint0+1im/(2pi)*xsqrt(2mu*(w-m1-m2))*exp(-2psq/(Λ^2))\n",
    "    end\n",
    "    return Gint\n",
    "end\n",
    "\n",
    "function Gintesep(w,q,m1,m2,Λ)\n",
    "    mu=m1*m2/(m1+m2);\n",
    "    psq=abs(2mu*(m1+m2-w));\n",
    "    \n",
    "    Gint=q^2/(2pi^2)*1/(w-m1-m2-q^2/(2mu)+1im*ϵ)*exp(-2q^2/(Λ^2))-(2mu*(w-m1-m2))/(2pi^2)*1/(w-m1-m2-q^2/(2mu)+1im*ϵ)*exp(-2psq/(Λ^2))\n",
    "   \n",
    "    return Gint\n",
    "end"
   ]
  },
  {
   "cell_type": "code",
   "execution_count": null,
   "metadata": {},
   "outputs": [],
   "source": []
  },
  {
   "cell_type": "code",
   "execution_count": 17,
   "metadata": {},
   "outputs": [
    {
     "data": {
      "text/plain": [
       "VGgaussRS (generic function with 1 method)"
      ]
     },
     "execution_count": 17,
     "metadata": {},
     "output_type": "execute_result"
    }
   ],
   "source": [
    "const Nq =25;\n",
    "const a0=0.;\n",
    "const b0=2.0;\n",
    " xx2, ww2 = GaussRootsWeight(a0,b0,Nq);\n",
    "\n",
    "\n",
    "\n",
    "\n",
    "function VGgaussRS(w,m1,m2,mex,geff0, Λ)\n",
    "    mu=m1*m2/(m1+m2);\n",
    "    psq=abs(2mu*(m1+m2-w));\n",
    "    t=0im\n",
    "    VG(q)=vGau(m1,m2,mex,geff0,q,q,Λ)*Gintesep(w,q,m1,m2,Λ)\n",
    "  \n",
    "       for i in 1:Nq\n",
    "        t+=(VG(xx2[i])*ww2[i])\n",
    "    end\n",
    "     if w<m1+m2\n",
    "        t+=1/(2pi)*xsqrt(2mu*(m1+m2-w))*exp(-2psq/(Λ^2))*vGau(m1,m2,mex,geff0,xsqrt(2mu*(m1+m2-w)),xsqrt(2mu*(m1+m2-w)),Λ)\n",
    "        else t+=1im/(2pi)*xsqrt(2mu*(w-m1-m2))*exp(-2psq/(Λ^2))*vGau(m1,m2,mex,geff0,xsqrt(2mu*(w-m1-m2)),xsqrt(2mu*(w-m1-m2)),Λ)\n",
    "    end\n",
    "    \n",
    "    return t\n",
    "end"
   ]
  },
  {
   "cell_type": "code",
   "execution_count": null,
   "metadata": {},
   "outputs": [],
   "source": []
  },
  {
   "cell_type": "code",
   "execution_count": 18,
   "metadata": {},
   "outputs": [
    {
     "name": "stdout",
     "output_type": "stream",
     "text": [
      "  0.058261 seconds (190.36 k allocations: 10.733 MiB, 44.02% gc time, 99.74% compilation time)\n"
     ]
    },
    {
     "data": {
      "text/plain": [
       "0.002659737094869577 + 1.8894603278265956e-9im"
      ]
     },
     "execution_count": 18,
     "metadata": {},
     "output_type": "execute_result"
    }
   ],
   "source": [
    "@time VGgaussRS(4.27,mds,mds02317,0.4,1, 1)"
   ]
  },
  {
   "cell_type": "code",
   "execution_count": 19,
   "metadata": {},
   "outputs": [
    {
     "data": {
      "text/plain": [
       "VGgauss0 (generic function with 1 method)"
      ]
     },
     "execution_count": 19,
     "metadata": {},
     "output_type": "execute_result"
    }
   ],
   "source": [
    "function VGgauss0(w)\n",
    "   VGgaussRS(w,mds,mds02317,0.4,1.0, 1.0)\n",
    "end"
   ]
  },
  {
   "cell_type": "code",
   "execution_count": 20,
   "metadata": {},
   "outputs": [
    {
     "data": {
      "text/plain": [
       "0.0038207821768766513 + 4.8834685590198994e-9im"
      ]
     },
     "execution_count": 20,
     "metadata": {},
     "output_type": "execute_result"
    }
   ],
   "source": [
    "VGgauss0(4.282)"
   ]
  },
  {
   "cell_type": "code",
   "execution_count": null,
   "metadata": {},
   "outputs": [],
   "source": [
    "\n"
   ]
  },
  {
   "cell_type": "code",
   "execution_count": 21,
   "metadata": {},
   "outputs": [
    {
     "data": {
      "image/svg+xml": [
       "<?xml version=\"1.0\" encoding=\"utf-8\"?>\n",
       "<svg xmlns=\"http://www.w3.org/2000/svg\" xmlns:xlink=\"http://www.w3.org/1999/xlink\" width=\"500\" height=\"350\" viewBox=\"0 0 2000 1400\">\n",
       "<defs>\n",
       "  <clipPath id=\"clip630\">\n",
       "    <rect x=\"0\" y=\"0\" width=\"2000\" height=\"1400\"/>\n",
       "  </clipPath>\n",
       "</defs>\n",
       "<path clip-path=\"url(#clip630)\" d=\"\n",
       "M0 1400 L2000 1400 L2000 0 L0 0  Z\n",
       "  \" fill=\"#ffffff\" fill-rule=\"evenodd\" fill-opacity=\"1\"/>\n",
       "<defs>\n",
       "  <clipPath id=\"clip631\">\n",
       "    <rect x=\"400\" y=\"0\" width=\"1401\" height=\"1400\"/>\n",
       "  </clipPath>\n",
       "</defs>\n",
       "<defs>\n",
       "  <clipPath id=\"clip632\">\n",
       "    <rect x=\"233\" y=\"47\" width=\"1720\" height=\"1175\"/>\n",
       "  </clipPath>\n",
       "</defs>\n",
       "<path clip-path=\"url(#clip630)\" d=\"\n",
       "M242.598 1286.72 L1952.76 1286.72 L1952.76 47.2441 L242.598 47.2441  Z\n",
       "  \" fill=\"#ffffff\" fill-rule=\"evenodd\" fill-opacity=\"1\"/>\n",
       "<defs>\n",
       "  <clipPath id=\"clip633\">\n",
       "    <rect x=\"242\" y=\"47\" width=\"1711\" height=\"1240\"/>\n",
       "  </clipPath>\n",
       "</defs>\n",
       "<polyline clip-path=\"url(#clip633)\" style=\"stroke:#000000; stroke-linecap:butt; stroke-linejoin:round; stroke-width:2; stroke-opacity:0.1; fill:none\" points=\"\n",
       "  290.998,1286.72 290.998,47.2441 \n",
       "  \"/>\n",
       "<polyline clip-path=\"url(#clip633)\" style=\"stroke:#000000; stroke-linecap:butt; stroke-linejoin:round; stroke-width:2; stroke-opacity:0.1; fill:none\" points=\"\n",
       "  694.338,1286.72 694.338,47.2441 \n",
       "  \"/>\n",
       "<polyline clip-path=\"url(#clip633)\" style=\"stroke:#000000; stroke-linecap:butt; stroke-linejoin:round; stroke-width:2; stroke-opacity:0.1; fill:none\" points=\"\n",
       "  1097.68,1286.72 1097.68,47.2441 \n",
       "  \"/>\n",
       "<polyline clip-path=\"url(#clip633)\" style=\"stroke:#000000; stroke-linecap:butt; stroke-linejoin:round; stroke-width:2; stroke-opacity:0.1; fill:none\" points=\"\n",
       "  1501.02,1286.72 1501.02,47.2441 \n",
       "  \"/>\n",
       "<polyline clip-path=\"url(#clip633)\" style=\"stroke:#000000; stroke-linecap:butt; stroke-linejoin:round; stroke-width:2; stroke-opacity:0.1; fill:none\" points=\"\n",
       "  1904.36,1286.72 1904.36,47.2441 \n",
       "  \"/>\n",
       "<polyline clip-path=\"url(#clip630)\" style=\"stroke:#000000; stroke-linecap:butt; stroke-linejoin:round; stroke-width:4; stroke-opacity:1; fill:none\" points=\"\n",
       "  242.598,1286.72 1952.76,1286.72 \n",
       "  \"/>\n",
       "<polyline clip-path=\"url(#clip630)\" style=\"stroke:#000000; stroke-linecap:butt; stroke-linejoin:round; stroke-width:4; stroke-opacity:1; fill:none\" points=\"\n",
       "  242.598,47.2441 1952.76,47.2441 \n",
       "  \"/>\n",
       "<polyline clip-path=\"url(#clip630)\" style=\"stroke:#000000; stroke-linecap:butt; stroke-linejoin:round; stroke-width:4; stroke-opacity:1; fill:none\" points=\"\n",
       "  290.998,1286.72 290.998,1267.82 \n",
       "  \"/>\n",
       "<polyline clip-path=\"url(#clip630)\" style=\"stroke:#000000; stroke-linecap:butt; stroke-linejoin:round; stroke-width:4; stroke-opacity:1; fill:none\" points=\"\n",
       "  694.338,1286.72 694.338,1267.82 \n",
       "  \"/>\n",
       "<polyline clip-path=\"url(#clip630)\" style=\"stroke:#000000; stroke-linecap:butt; stroke-linejoin:round; stroke-width:4; stroke-opacity:1; fill:none\" points=\"\n",
       "  1097.68,1286.72 1097.68,1267.82 \n",
       "  \"/>\n",
       "<polyline clip-path=\"url(#clip630)\" style=\"stroke:#000000; stroke-linecap:butt; stroke-linejoin:round; stroke-width:4; stroke-opacity:1; fill:none\" points=\"\n",
       "  1501.02,1286.72 1501.02,1267.82 \n",
       "  \"/>\n",
       "<polyline clip-path=\"url(#clip630)\" style=\"stroke:#000000; stroke-linecap:butt; stroke-linejoin:round; stroke-width:4; stroke-opacity:1; fill:none\" points=\"\n",
       "  1904.36,1286.72 1904.36,1267.82 \n",
       "  \"/>\n",
       "<polyline clip-path=\"url(#clip630)\" style=\"stroke:#000000; stroke-linecap:butt; stroke-linejoin:round; stroke-width:4; stroke-opacity:1; fill:none\" points=\"\n",
       "  371.666,1286.72 371.666,1277.27 \n",
       "  \"/>\n",
       "<polyline clip-path=\"url(#clip630)\" style=\"stroke:#000000; stroke-linecap:butt; stroke-linejoin:round; stroke-width:4; stroke-opacity:1; fill:none\" points=\"\n",
       "  452.334,1286.72 452.334,1277.27 \n",
       "  \"/>\n",
       "<polyline clip-path=\"url(#clip630)\" style=\"stroke:#000000; stroke-linecap:butt; stroke-linejoin:round; stroke-width:4; stroke-opacity:1; fill:none\" points=\"\n",
       "  533.002,1286.72 533.002,1277.27 \n",
       "  \"/>\n",
       "<polyline clip-path=\"url(#clip630)\" style=\"stroke:#000000; stroke-linecap:butt; stroke-linejoin:round; stroke-width:4; stroke-opacity:1; fill:none\" points=\"\n",
       "  613.67,1286.72 613.67,1277.27 \n",
       "  \"/>\n",
       "<polyline clip-path=\"url(#clip630)\" style=\"stroke:#000000; stroke-linecap:butt; stroke-linejoin:round; stroke-width:4; stroke-opacity:1; fill:none\" points=\"\n",
       "  775.005,1286.72 775.005,1277.27 \n",
       "  \"/>\n",
       "<polyline clip-path=\"url(#clip630)\" style=\"stroke:#000000; stroke-linecap:butt; stroke-linejoin:round; stroke-width:4; stroke-opacity:1; fill:none\" points=\"\n",
       "  855.673,1286.72 855.673,1277.27 \n",
       "  \"/>\n",
       "<polyline clip-path=\"url(#clip630)\" style=\"stroke:#000000; stroke-linecap:butt; stroke-linejoin:round; stroke-width:4; stroke-opacity:1; fill:none\" points=\"\n",
       "  936.341,1286.72 936.341,1277.27 \n",
       "  \"/>\n",
       "<polyline clip-path=\"url(#clip630)\" style=\"stroke:#000000; stroke-linecap:butt; stroke-linejoin:round; stroke-width:4; stroke-opacity:1; fill:none\" points=\"\n",
       "  1017.01,1286.72 1017.01,1277.27 \n",
       "  \"/>\n",
       "<polyline clip-path=\"url(#clip630)\" style=\"stroke:#000000; stroke-linecap:butt; stroke-linejoin:round; stroke-width:4; stroke-opacity:1; fill:none\" points=\"\n",
       "  1178.34,1286.72 1178.34,1277.27 \n",
       "  \"/>\n",
       "<polyline clip-path=\"url(#clip630)\" style=\"stroke:#000000; stroke-linecap:butt; stroke-linejoin:round; stroke-width:4; stroke-opacity:1; fill:none\" points=\"\n",
       "  1259.01,1286.72 1259.01,1277.27 \n",
       "  \"/>\n",
       "<polyline clip-path=\"url(#clip630)\" style=\"stroke:#000000; stroke-linecap:butt; stroke-linejoin:round; stroke-width:4; stroke-opacity:1; fill:none\" points=\"\n",
       "  1339.68,1286.72 1339.68,1277.27 \n",
       "  \"/>\n",
       "<polyline clip-path=\"url(#clip630)\" style=\"stroke:#000000; stroke-linecap:butt; stroke-linejoin:round; stroke-width:4; stroke-opacity:1; fill:none\" points=\"\n",
       "  1420.35,1286.72 1420.35,1277.27 \n",
       "  \"/>\n",
       "<polyline clip-path=\"url(#clip630)\" style=\"stroke:#000000; stroke-linecap:butt; stroke-linejoin:round; stroke-width:4; stroke-opacity:1; fill:none\" points=\"\n",
       "  1581.68,1286.72 1581.68,1277.27 \n",
       "  \"/>\n",
       "<polyline clip-path=\"url(#clip630)\" style=\"stroke:#000000; stroke-linecap:butt; stroke-linejoin:round; stroke-width:4; stroke-opacity:1; fill:none\" points=\"\n",
       "  1662.35,1286.72 1662.35,1277.27 \n",
       "  \"/>\n",
       "<polyline clip-path=\"url(#clip630)\" style=\"stroke:#000000; stroke-linecap:butt; stroke-linejoin:round; stroke-width:4; stroke-opacity:1; fill:none\" points=\"\n",
       "  1743.02,1286.72 1743.02,1277.27 \n",
       "  \"/>\n",
       "<polyline clip-path=\"url(#clip630)\" style=\"stroke:#000000; stroke-linecap:butt; stroke-linejoin:round; stroke-width:4; stroke-opacity:1; fill:none\" points=\"\n",
       "  1823.69,1286.72 1823.69,1277.27 \n",
       "  \"/>\n",
       "<path clip-path=\"url(#clip630)\" d=\"M241.473 1315.43 L229.668 1333.88 L241.473 1333.88 L241.473 1315.43 M240.246 1311.36 L246.126 1311.36 L246.126 1333.88 L251.057 1333.88 L251.057 1337.77 L246.126 1337.77 L246.126 1345.92 L241.473 1345.92 L241.473 1337.77 L225.871 1337.77 L225.871 1333.26 L240.246 1311.36 Z\" fill=\"#000000\" fill-rule=\"evenodd\" fill-opacity=\"1\" /><path clip-path=\"url(#clip630)\" d=\"M258.788 1340.04 L263.672 1340.04 L263.672 1345.92 L258.788 1345.92 L258.788 1340.04 Z\" fill=\"#000000\" fill-rule=\"evenodd\" fill-opacity=\"1\" /><path clip-path=\"url(#clip630)\" d=\"M277.885 1341.98 L294.204 1341.98 L294.204 1345.92 L272.26 1345.92 L272.26 1341.98 Q274.922 1339.23 279.505 1334.6 Q284.112 1329.95 285.292 1328.61 Q287.538 1326.08 288.417 1324.35 Q289.32 1322.59 289.32 1320.9 Q289.32 1318.14 287.376 1316.41 Q285.455 1314.67 282.353 1314.67 Q280.154 1314.67 277.7 1315.43 Q275.269 1316.2 272.492 1317.75 L272.492 1313.03 Q275.316 1311.89 277.769 1311.31 Q280.223 1310.73 282.26 1310.73 Q287.63 1310.73 290.825 1313.42 Q294.019 1316.11 294.019 1320.6 Q294.019 1322.73 293.209 1324.65 Q292.422 1326.54 290.316 1329.14 Q289.737 1329.81 286.635 1333.03 Q283.533 1336.22 277.885 1341.98 Z\" fill=\"#000000\" fill-rule=\"evenodd\" fill-opacity=\"1\" /><path clip-path=\"url(#clip630)\" d=\"M314.019 1329.51 Q310.686 1329.51 308.765 1331.29 Q306.866 1333.07 306.866 1336.2 Q306.866 1339.32 308.765 1341.11 Q310.686 1342.89 314.019 1342.89 Q317.352 1342.89 319.274 1341.11 Q321.195 1339.3 321.195 1336.2 Q321.195 1333.07 319.274 1331.29 Q317.376 1329.51 314.019 1329.51 M309.343 1327.52 Q306.334 1326.78 304.644 1324.72 Q302.978 1322.66 302.978 1319.69 Q302.978 1315.55 305.917 1313.14 Q308.88 1310.73 314.019 1310.73 Q319.181 1310.73 322.121 1313.14 Q325.061 1315.55 325.061 1319.69 Q325.061 1322.66 323.371 1324.72 Q321.704 1326.78 318.718 1327.52 Q322.098 1328.3 323.973 1330.6 Q325.871 1332.89 325.871 1336.2 Q325.871 1341.22 322.792 1343.91 Q319.737 1346.59 314.019 1346.59 Q308.302 1346.59 305.223 1343.91 Q302.167 1341.22 302.167 1336.2 Q302.167 1332.89 304.066 1330.6 Q305.964 1328.3 309.343 1327.52 M307.63 1320.13 Q307.63 1322.82 309.297 1324.32 Q310.987 1325.83 314.019 1325.83 Q317.028 1325.83 318.718 1324.32 Q320.431 1322.82 320.431 1320.13 Q320.431 1317.45 318.718 1315.94 Q317.028 1314.44 314.019 1314.44 Q310.987 1314.44 309.297 1315.94 Q307.63 1317.45 307.63 1320.13 Z\" fill=\"#000000\" fill-rule=\"evenodd\" fill-opacity=\"1\" /><path clip-path=\"url(#clip630)\" d=\"M344.181 1314.44 Q340.57 1314.44 338.741 1318 Q336.936 1321.55 336.936 1328.67 Q336.936 1335.78 338.741 1339.35 Q340.57 1342.89 344.181 1342.89 Q347.815 1342.89 349.621 1339.35 Q351.45 1335.78 351.45 1328.67 Q351.45 1321.55 349.621 1318 Q347.815 1314.44 344.181 1314.44 M344.181 1310.73 Q349.991 1310.73 353.047 1315.34 Q356.125 1319.92 356.125 1328.67 Q356.125 1337.4 353.047 1342.01 Q349.991 1346.59 344.181 1346.59 Q338.371 1346.59 335.292 1342.01 Q332.237 1337.4 332.237 1328.67 Q332.237 1319.92 335.292 1315.34 Q338.371 1310.73 344.181 1310.73 Z\" fill=\"#000000\" fill-rule=\"evenodd\" fill-opacity=\"1\" /><path clip-path=\"url(#clip630)\" d=\"M645.31 1315.43 L633.505 1333.88 L645.31 1333.88 L645.31 1315.43 M644.083 1311.36 L649.963 1311.36 L649.963 1333.88 L654.893 1333.88 L654.893 1337.77 L649.963 1337.77 L649.963 1345.92 L645.31 1345.92 L645.31 1337.77 L629.708 1337.77 L629.708 1333.26 L644.083 1311.36 Z\" fill=\"#000000\" fill-rule=\"evenodd\" fill-opacity=\"1\" /><path clip-path=\"url(#clip630)\" d=\"M662.625 1340.04 L667.509 1340.04 L667.509 1345.92 L662.625 1345.92 L662.625 1340.04 Z\" fill=\"#000000\" fill-rule=\"evenodd\" fill-opacity=\"1\" /><path clip-path=\"url(#clip630)\" d=\"M681.722 1341.98 L698.041 1341.98 L698.041 1345.92 L676.097 1345.92 L676.097 1341.98 Q678.759 1339.23 683.342 1334.6 Q687.949 1329.95 689.129 1328.61 Q691.375 1326.08 692.254 1324.35 Q693.157 1322.59 693.157 1320.9 Q693.157 1318.14 691.213 1316.41 Q689.291 1314.67 686.19 1314.67 Q683.99 1314.67 681.537 1315.43 Q679.106 1316.2 676.328 1317.75 L676.328 1313.03 Q679.153 1311.89 681.606 1311.31 Q684.06 1310.73 686.097 1310.73 Q691.467 1310.73 694.662 1313.42 Q697.856 1316.11 697.856 1320.6 Q697.856 1322.73 697.046 1324.65 Q696.259 1326.54 694.152 1329.14 Q693.574 1329.81 690.472 1333.03 Q687.37 1336.22 681.722 1341.98 Z\" fill=\"#000000\" fill-rule=\"evenodd\" fill-opacity=\"1\" /><path clip-path=\"url(#clip630)\" d=\"M717.856 1329.51 Q714.523 1329.51 712.601 1331.29 Q710.703 1333.07 710.703 1336.2 Q710.703 1339.32 712.601 1341.11 Q714.523 1342.89 717.856 1342.89 Q721.189 1342.89 723.111 1341.11 Q725.032 1339.3 725.032 1336.2 Q725.032 1333.07 723.111 1331.29 Q721.212 1329.51 717.856 1329.51 M713.18 1327.52 Q710.171 1326.78 708.481 1324.72 Q706.814 1322.66 706.814 1319.69 Q706.814 1315.55 709.754 1313.14 Q712.717 1310.73 717.856 1310.73 Q723.018 1310.73 725.958 1313.14 Q728.898 1315.55 728.898 1319.69 Q728.898 1322.66 727.208 1324.72 Q725.541 1326.78 722.555 1327.52 Q725.935 1328.3 727.81 1330.6 Q729.708 1332.89 729.708 1336.2 Q729.708 1341.22 726.629 1343.91 Q723.574 1346.59 717.856 1346.59 Q712.138 1346.59 709.06 1343.91 Q706.004 1341.22 706.004 1336.2 Q706.004 1332.89 707.902 1330.6 Q709.801 1328.3 713.18 1327.52 M711.467 1320.13 Q711.467 1322.82 713.134 1324.32 Q714.824 1325.83 717.856 1325.83 Q720.865 1325.83 722.555 1324.32 Q724.268 1322.82 724.268 1320.13 Q724.268 1317.45 722.555 1315.94 Q720.865 1314.44 717.856 1314.44 Q714.824 1314.44 713.134 1315.94 Q711.467 1317.45 711.467 1320.13 Z\" fill=\"#000000\" fill-rule=\"evenodd\" fill-opacity=\"1\" /><path clip-path=\"url(#clip630)\" d=\"M738.064 1311.36 L756.421 1311.36 L756.421 1315.3 L742.347 1315.3 L742.347 1323.77 Q743.365 1323.42 744.384 1323.26 Q745.402 1323.07 746.421 1323.07 Q752.208 1323.07 755.587 1326.24 Q758.967 1329.42 758.967 1334.83 Q758.967 1340.41 755.495 1343.51 Q752.023 1346.59 745.703 1346.59 Q743.527 1346.59 741.259 1346.22 Q739.013 1345.85 736.606 1345.11 L736.606 1340.41 Q738.689 1341.54 740.911 1342.1 Q743.134 1342.66 745.611 1342.66 Q749.615 1342.66 751.953 1340.55 Q754.291 1338.44 754.291 1334.83 Q754.291 1331.22 751.953 1329.11 Q749.615 1327.01 745.611 1327.01 Q743.736 1327.01 741.861 1327.42 Q740.009 1327.84 738.064 1328.72 L738.064 1311.36 Z\" fill=\"#000000\" fill-rule=\"evenodd\" fill-opacity=\"1\" /><path clip-path=\"url(#clip630)\" d=\"M1048.15 1315.43 L1036.35 1333.88 L1048.15 1333.88 L1048.15 1315.43 M1046.92 1311.36 L1052.8 1311.36 L1052.8 1333.88 L1057.73 1333.88 L1057.73 1337.77 L1052.8 1337.77 L1052.8 1345.92 L1048.15 1345.92 L1048.15 1337.77 L1032.55 1337.77 L1032.55 1333.26 L1046.92 1311.36 Z\" fill=\"#000000\" fill-rule=\"evenodd\" fill-opacity=\"1\" /><path clip-path=\"url(#clip630)\" d=\"M1065.47 1340.04 L1070.35 1340.04 L1070.35 1345.92 L1065.47 1345.92 L1065.47 1340.04 Z\" fill=\"#000000\" fill-rule=\"evenodd\" fill-opacity=\"1\" /><path clip-path=\"url(#clip630)\" d=\"M1084.56 1341.98 L1100.88 1341.98 L1100.88 1345.92 L1078.94 1345.92 L1078.94 1341.98 Q1081.6 1339.23 1086.18 1334.6 Q1090.79 1329.95 1091.97 1328.61 Q1094.22 1326.08 1095.1 1324.35 Q1096 1322.59 1096 1320.9 Q1096 1318.14 1094.05 1316.41 Q1092.13 1314.67 1089.03 1314.67 Q1086.83 1314.67 1084.38 1315.43 Q1081.95 1316.2 1079.17 1317.75 L1079.17 1313.03 Q1081.99 1311.89 1084.45 1311.31 Q1086.9 1310.73 1088.94 1310.73 Q1094.31 1310.73 1097.5 1313.42 Q1100.7 1316.11 1100.7 1320.6 Q1100.7 1322.73 1099.89 1324.65 Q1099.1 1326.54 1096.99 1329.14 Q1096.42 1329.81 1093.31 1333.03 Q1090.21 1336.22 1084.56 1341.98 Z\" fill=\"#000000\" fill-rule=\"evenodd\" fill-opacity=\"1\" /><path clip-path=\"url(#clip630)\" d=\"M1110.84 1345.2 L1110.84 1340.94 Q1112.6 1341.78 1114.4 1342.22 Q1116.21 1342.66 1117.94 1342.66 Q1122.57 1342.66 1125 1339.55 Q1127.46 1336.43 1127.8 1330.09 Q1126.46 1332.08 1124.4 1333.14 Q1122.34 1334.21 1119.84 1334.21 Q1114.66 1334.21 1111.62 1331.08 Q1108.61 1327.93 1108.61 1322.49 Q1108.61 1317.17 1111.76 1313.95 Q1114.91 1310.73 1120.14 1310.73 Q1126.14 1310.73 1129.29 1315.34 Q1132.46 1319.92 1132.46 1328.67 Q1132.46 1336.85 1128.57 1341.73 Q1124.7 1346.59 1118.15 1346.59 Q1116.39 1346.59 1114.59 1346.24 Q1112.78 1345.9 1110.84 1345.2 M1120.14 1330.55 Q1123.29 1330.55 1125.12 1328.4 Q1126.97 1326.24 1126.97 1322.49 Q1126.97 1318.77 1125.12 1316.61 Q1123.29 1314.44 1120.14 1314.44 Q1116.99 1314.44 1115.14 1316.61 Q1113.31 1318.77 1113.31 1322.49 Q1113.31 1326.24 1115.14 1328.4 Q1116.99 1330.55 1120.14 1330.55 Z\" fill=\"#000000\" fill-rule=\"evenodd\" fill-opacity=\"1\" /><path clip-path=\"url(#clip630)\" d=\"M1150.86 1314.44 Q1147.25 1314.44 1145.42 1318 Q1143.61 1321.55 1143.61 1328.67 Q1143.61 1335.78 1145.42 1339.35 Q1147.25 1342.89 1150.86 1342.89 Q1154.49 1342.89 1156.3 1339.35 Q1158.13 1335.78 1158.13 1328.67 Q1158.13 1321.55 1156.3 1318 Q1154.49 1314.44 1150.86 1314.44 M1150.86 1310.73 Q1156.67 1310.73 1159.73 1315.34 Q1162.8 1319.92 1162.8 1328.67 Q1162.8 1337.4 1159.73 1342.01 Q1156.67 1346.59 1150.86 1346.59 Q1145.05 1346.59 1141.97 1342.01 Q1138.92 1337.4 1138.92 1328.67 Q1138.92 1319.92 1141.97 1315.34 Q1145.05 1310.73 1150.86 1310.73 Z\" fill=\"#000000\" fill-rule=\"evenodd\" fill-opacity=\"1\" /><path clip-path=\"url(#clip630)\" d=\"M1451.99 1315.43 L1440.18 1333.88 L1451.99 1333.88 L1451.99 1315.43 M1450.76 1311.36 L1456.64 1311.36 L1456.64 1333.88 L1461.57 1333.88 L1461.57 1337.77 L1456.64 1337.77 L1456.64 1345.92 L1451.99 1345.92 L1451.99 1337.77 L1436.39 1337.77 L1436.39 1333.26 L1450.76 1311.36 Z\" fill=\"#000000\" fill-rule=\"evenodd\" fill-opacity=\"1\" /><path clip-path=\"url(#clip630)\" d=\"M1469.3 1340.04 L1474.19 1340.04 L1474.19 1345.92 L1469.3 1345.92 L1469.3 1340.04 Z\" fill=\"#000000\" fill-rule=\"evenodd\" fill-opacity=\"1\" /><path clip-path=\"url(#clip630)\" d=\"M1488.4 1341.98 L1504.72 1341.98 L1504.72 1345.92 L1482.78 1345.92 L1482.78 1341.98 Q1485.44 1339.23 1490.02 1334.6 Q1494.63 1329.95 1495.81 1328.61 Q1498.05 1326.08 1498.93 1324.35 Q1499.84 1322.59 1499.84 1320.9 Q1499.84 1318.14 1497.89 1316.41 Q1495.97 1314.67 1492.87 1314.67 Q1490.67 1314.67 1488.22 1315.43 Q1485.78 1316.2 1483.01 1317.75 L1483.01 1313.03 Q1485.83 1311.89 1488.28 1311.31 Q1490.74 1310.73 1492.78 1310.73 Q1498.15 1310.73 1501.34 1313.42 Q1504.53 1316.11 1504.53 1320.6 Q1504.53 1322.73 1503.72 1324.65 Q1502.94 1326.54 1500.83 1329.14 Q1500.25 1329.81 1497.15 1333.03 Q1494.05 1336.22 1488.4 1341.98 Z\" fill=\"#000000\" fill-rule=\"evenodd\" fill-opacity=\"1\" /><path clip-path=\"url(#clip630)\" d=\"M1514.67 1345.2 L1514.67 1340.94 Q1516.43 1341.78 1518.24 1342.22 Q1520.04 1342.66 1521.78 1342.66 Q1526.41 1342.66 1528.84 1339.55 Q1531.29 1336.43 1531.64 1330.09 Q1530.3 1332.08 1528.24 1333.14 Q1526.18 1334.21 1523.68 1334.21 Q1518.49 1334.21 1515.46 1331.08 Q1512.45 1327.93 1512.45 1322.49 Q1512.45 1317.17 1515.6 1313.95 Q1518.75 1310.73 1523.98 1310.73 Q1529.97 1310.73 1533.12 1315.34 Q1536.29 1319.92 1536.29 1328.67 Q1536.29 1336.85 1532.4 1341.73 Q1528.54 1346.59 1521.99 1346.59 Q1520.23 1346.59 1518.42 1346.24 Q1516.62 1345.9 1514.67 1345.2 M1523.98 1330.55 Q1527.13 1330.55 1528.96 1328.4 Q1530.81 1326.24 1530.81 1322.49 Q1530.81 1318.77 1528.96 1316.61 Q1527.13 1314.44 1523.98 1314.44 Q1520.83 1314.44 1518.98 1316.61 Q1517.15 1318.77 1517.15 1322.49 Q1517.15 1326.24 1518.98 1328.4 Q1520.83 1330.55 1523.98 1330.55 Z\" fill=\"#000000\" fill-rule=\"evenodd\" fill-opacity=\"1\" /><path clip-path=\"url(#clip630)\" d=\"M1544.74 1311.36 L1563.1 1311.36 L1563.1 1315.3 L1549.03 1315.3 L1549.03 1323.77 Q1550.04 1323.42 1551.06 1323.26 Q1552.08 1323.07 1553.1 1323.07 Q1558.89 1323.07 1562.27 1326.24 Q1565.65 1329.42 1565.65 1334.83 Q1565.65 1340.41 1562.17 1343.51 Q1558.7 1346.59 1552.38 1346.59 Q1550.21 1346.59 1547.94 1346.22 Q1545.69 1345.85 1543.28 1345.11 L1543.28 1340.41 Q1545.37 1341.54 1547.59 1342.1 Q1549.81 1342.66 1552.29 1342.66 Q1556.29 1342.66 1558.63 1340.55 Q1560.97 1338.44 1560.97 1334.83 Q1560.97 1331.22 1558.63 1329.11 Q1556.29 1327.01 1552.29 1327.01 Q1550.41 1327.01 1548.54 1327.42 Q1546.69 1327.84 1544.74 1328.72 L1544.74 1311.36 Z\" fill=\"#000000\" fill-rule=\"evenodd\" fill-opacity=\"1\" /><path clip-path=\"url(#clip630)\" d=\"M1854.83 1315.43 L1843.02 1333.88 L1854.83 1333.88 L1854.83 1315.43 M1853.6 1311.36 L1859.48 1311.36 L1859.48 1333.88 L1864.41 1333.88 L1864.41 1337.77 L1859.48 1337.77 L1859.48 1345.92 L1854.83 1345.92 L1854.83 1337.77 L1839.23 1337.77 L1839.23 1333.26 L1853.6 1311.36 Z\" fill=\"#000000\" fill-rule=\"evenodd\" fill-opacity=\"1\" /><path clip-path=\"url(#clip630)\" d=\"M1872.14 1340.04 L1877.03 1340.04 L1877.03 1345.92 L1872.14 1345.92 L1872.14 1340.04 Z\" fill=\"#000000\" fill-rule=\"evenodd\" fill-opacity=\"1\" /><path clip-path=\"url(#clip630)\" d=\"M1901.38 1327.29 Q1904.74 1328 1906.61 1330.27 Q1908.51 1332.54 1908.51 1335.87 Q1908.51 1340.99 1904.99 1343.79 Q1901.47 1346.59 1894.99 1346.59 Q1892.82 1346.59 1890.5 1346.15 Q1888.21 1345.73 1885.76 1344.88 L1885.76 1340.36 Q1887.7 1341.5 1890.02 1342.08 Q1892.33 1342.66 1894.85 1342.66 Q1899.25 1342.66 1901.54 1340.92 Q1903.86 1339.18 1903.86 1335.87 Q1903.86 1332.82 1901.7 1331.11 Q1899.58 1329.37 1895.76 1329.37 L1891.73 1329.37 L1891.73 1325.53 L1895.94 1325.53 Q1899.39 1325.53 1901.22 1324.16 Q1903.05 1322.77 1903.05 1320.18 Q1903.05 1317.52 1901.15 1316.11 Q1899.27 1314.67 1895.76 1314.67 Q1893.83 1314.67 1891.64 1315.09 Q1889.44 1315.5 1886.8 1316.38 L1886.8 1312.22 Q1889.46 1311.48 1891.77 1311.11 Q1894.11 1310.73 1896.17 1310.73 Q1901.5 1310.73 1904.6 1313.17 Q1907.7 1315.57 1907.7 1319.69 Q1907.7 1322.56 1906.06 1324.55 Q1904.41 1326.52 1901.38 1327.29 Z\" fill=\"#000000\" fill-rule=\"evenodd\" fill-opacity=\"1\" /><path clip-path=\"url(#clip630)\" d=\"M1927.38 1314.44 Q1923.76 1314.44 1921.94 1318 Q1920.13 1321.55 1920.13 1328.67 Q1920.13 1335.78 1921.94 1339.35 Q1923.76 1342.89 1927.38 1342.89 Q1931.01 1342.89 1932.82 1339.35 Q1934.64 1335.78 1934.64 1328.67 Q1934.64 1321.55 1932.82 1318 Q1931.01 1314.44 1927.38 1314.44 M1927.38 1310.73 Q1933.19 1310.73 1936.24 1315.34 Q1939.32 1319.92 1939.32 1328.67 Q1939.32 1337.4 1936.24 1342.01 Q1933.19 1346.59 1927.38 1346.59 Q1921.57 1346.59 1918.49 1342.01 Q1915.43 1337.4 1915.43 1328.67 Q1915.43 1319.92 1918.49 1315.34 Q1921.57 1310.73 1927.38 1310.73 Z\" fill=\"#000000\" fill-rule=\"evenodd\" fill-opacity=\"1\" /><path clip-path=\"url(#clip630)\" d=\"M1957.54 1314.44 Q1953.93 1314.44 1952.1 1318 Q1950.29 1321.55 1950.29 1328.67 Q1950.29 1335.78 1952.1 1339.35 Q1953.93 1342.89 1957.54 1342.89 Q1961.17 1342.89 1962.98 1339.35 Q1964.81 1335.78 1964.81 1328.67 Q1964.81 1321.55 1962.98 1318 Q1961.17 1314.44 1957.54 1314.44 M1957.54 1310.73 Q1963.35 1310.73 1966.4 1315.34 Q1969.48 1319.92 1969.48 1328.67 Q1969.48 1337.4 1966.4 1342.01 Q1963.35 1346.59 1957.54 1346.59 Q1951.73 1346.59 1948.65 1342.01 Q1945.59 1337.4 1945.59 1328.67 Q1945.59 1319.92 1948.65 1315.34 Q1951.73 1310.73 1957.54 1310.73 Z\" fill=\"#000000\" fill-rule=\"evenodd\" fill-opacity=\"1\" /><polyline clip-path=\"url(#clip633)\" style=\"stroke:#000000; stroke-linecap:butt; stroke-linejoin:round; stroke-width:2; stroke-opacity:0.1; fill:none\" points=\"\n",
       "  242.598,1237.23 1952.76,1237.23 \n",
       "  \"/>\n",
       "<polyline clip-path=\"url(#clip633)\" style=\"stroke:#000000; stroke-linecap:butt; stroke-linejoin:round; stroke-width:2; stroke-opacity:0.1; fill:none\" points=\"\n",
       "  242.598,1007.82 1952.76,1007.82 \n",
       "  \"/>\n",
       "<polyline clip-path=\"url(#clip633)\" style=\"stroke:#000000; stroke-linecap:butt; stroke-linejoin:round; stroke-width:2; stroke-opacity:0.1; fill:none\" points=\"\n",
       "  242.598,778.415 1952.76,778.415 \n",
       "  \"/>\n",
       "<polyline clip-path=\"url(#clip633)\" style=\"stroke:#000000; stroke-linecap:butt; stroke-linejoin:round; stroke-width:2; stroke-opacity:0.1; fill:none\" points=\"\n",
       "  242.598,549.01 1952.76,549.01 \n",
       "  \"/>\n",
       "<polyline clip-path=\"url(#clip633)\" style=\"stroke:#000000; stroke-linecap:butt; stroke-linejoin:round; stroke-width:2; stroke-opacity:0.1; fill:none\" points=\"\n",
       "  242.598,319.605 1952.76,319.605 \n",
       "  \"/>\n",
       "<polyline clip-path=\"url(#clip633)\" style=\"stroke:#000000; stroke-linecap:butt; stroke-linejoin:round; stroke-width:2; stroke-opacity:0.1; fill:none\" points=\"\n",
       "  242.598,90.1995 1952.76,90.1995 \n",
       "  \"/>\n",
       "<polyline clip-path=\"url(#clip630)\" style=\"stroke:#000000; stroke-linecap:butt; stroke-linejoin:round; stroke-width:4; stroke-opacity:1; fill:none\" points=\"\n",
       "  242.598,1286.72 242.598,47.2441 \n",
       "  \"/>\n",
       "<polyline clip-path=\"url(#clip630)\" style=\"stroke:#000000; stroke-linecap:butt; stroke-linejoin:round; stroke-width:4; stroke-opacity:1; fill:none\" points=\"\n",
       "  1952.76,1286.72 1952.76,47.2441 \n",
       "  \"/>\n",
       "<polyline clip-path=\"url(#clip630)\" style=\"stroke:#000000; stroke-linecap:butt; stroke-linejoin:round; stroke-width:4; stroke-opacity:1; fill:none\" points=\"\n",
       "  242.598,1237.23 261.495,1237.23 \n",
       "  \"/>\n",
       "<polyline clip-path=\"url(#clip630)\" style=\"stroke:#000000; stroke-linecap:butt; stroke-linejoin:round; stroke-width:4; stroke-opacity:1; fill:none\" points=\"\n",
       "  242.598,1007.82 261.495,1007.82 \n",
       "  \"/>\n",
       "<polyline clip-path=\"url(#clip630)\" style=\"stroke:#000000; stroke-linecap:butt; stroke-linejoin:round; stroke-width:4; stroke-opacity:1; fill:none\" points=\"\n",
       "  242.598,778.415 261.495,778.415 \n",
       "  \"/>\n",
       "<polyline clip-path=\"url(#clip630)\" style=\"stroke:#000000; stroke-linecap:butt; stroke-linejoin:round; stroke-width:4; stroke-opacity:1; fill:none\" points=\"\n",
       "  242.598,549.01 261.495,549.01 \n",
       "  \"/>\n",
       "<polyline clip-path=\"url(#clip630)\" style=\"stroke:#000000; stroke-linecap:butt; stroke-linejoin:round; stroke-width:4; stroke-opacity:1; fill:none\" points=\"\n",
       "  242.598,319.605 261.495,319.605 \n",
       "  \"/>\n",
       "<polyline clip-path=\"url(#clip630)\" style=\"stroke:#000000; stroke-linecap:butt; stroke-linejoin:round; stroke-width:4; stroke-opacity:1; fill:none\" points=\"\n",
       "  242.598,90.1995 261.495,90.1995 \n",
       "  \"/>\n",
       "<polyline clip-path=\"url(#clip630)\" style=\"stroke:#000000; stroke-linecap:butt; stroke-linejoin:round; stroke-width:4; stroke-opacity:1; fill:none\" points=\"\n",
       "  242.598,1283.11 252.047,1283.11 \n",
       "  \"/>\n",
       "<polyline clip-path=\"url(#clip630)\" style=\"stroke:#000000; stroke-linecap:butt; stroke-linejoin:round; stroke-width:4; stroke-opacity:1; fill:none\" points=\"\n",
       "  242.598,1191.34 252.047,1191.34 \n",
       "  \"/>\n",
       "<polyline clip-path=\"url(#clip630)\" style=\"stroke:#000000; stroke-linecap:butt; stroke-linejoin:round; stroke-width:4; stroke-opacity:1; fill:none\" points=\"\n",
       "  242.598,1145.46 252.047,1145.46 \n",
       "  \"/>\n",
       "<polyline clip-path=\"url(#clip630)\" style=\"stroke:#000000; stroke-linecap:butt; stroke-linejoin:round; stroke-width:4; stroke-opacity:1; fill:none\" points=\"\n",
       "  242.598,1099.58 252.047,1099.58 \n",
       "  \"/>\n",
       "<polyline clip-path=\"url(#clip630)\" style=\"stroke:#000000; stroke-linecap:butt; stroke-linejoin:round; stroke-width:4; stroke-opacity:1; fill:none\" points=\"\n",
       "  242.598,1053.7 252.047,1053.7 \n",
       "  \"/>\n",
       "<polyline clip-path=\"url(#clip630)\" style=\"stroke:#000000; stroke-linecap:butt; stroke-linejoin:round; stroke-width:4; stroke-opacity:1; fill:none\" points=\"\n",
       "  242.598,961.939 252.047,961.939 \n",
       "  \"/>\n",
       "<polyline clip-path=\"url(#clip630)\" style=\"stroke:#000000; stroke-linecap:butt; stroke-linejoin:round; stroke-width:4; stroke-opacity:1; fill:none\" points=\"\n",
       "  242.598,916.058 252.047,916.058 \n",
       "  \"/>\n",
       "<polyline clip-path=\"url(#clip630)\" style=\"stroke:#000000; stroke-linecap:butt; stroke-linejoin:round; stroke-width:4; stroke-opacity:1; fill:none\" points=\"\n",
       "  242.598,870.177 252.047,870.177 \n",
       "  \"/>\n",
       "<polyline clip-path=\"url(#clip630)\" style=\"stroke:#000000; stroke-linecap:butt; stroke-linejoin:round; stroke-width:4; stroke-opacity:1; fill:none\" points=\"\n",
       "  242.598,824.296 252.047,824.296 \n",
       "  \"/>\n",
       "<polyline clip-path=\"url(#clip630)\" style=\"stroke:#000000; stroke-linecap:butt; stroke-linejoin:round; stroke-width:4; stroke-opacity:1; fill:none\" points=\"\n",
       "  242.598,732.534 252.047,732.534 \n",
       "  \"/>\n",
       "<polyline clip-path=\"url(#clip630)\" style=\"stroke:#000000; stroke-linecap:butt; stroke-linejoin:round; stroke-width:4; stroke-opacity:1; fill:none\" points=\"\n",
       "  242.598,686.653 252.047,686.653 \n",
       "  \"/>\n",
       "<polyline clip-path=\"url(#clip630)\" style=\"stroke:#000000; stroke-linecap:butt; stroke-linejoin:round; stroke-width:4; stroke-opacity:1; fill:none\" points=\"\n",
       "  242.598,640.772 252.047,640.772 \n",
       "  \"/>\n",
       "<polyline clip-path=\"url(#clip630)\" style=\"stroke:#000000; stroke-linecap:butt; stroke-linejoin:round; stroke-width:4; stroke-opacity:1; fill:none\" points=\"\n",
       "  242.598,594.891 252.047,594.891 \n",
       "  \"/>\n",
       "<polyline clip-path=\"url(#clip630)\" style=\"stroke:#000000; stroke-linecap:butt; stroke-linejoin:round; stroke-width:4; stroke-opacity:1; fill:none\" points=\"\n",
       "  242.598,503.129 252.047,503.129 \n",
       "  \"/>\n",
       "<polyline clip-path=\"url(#clip630)\" style=\"stroke:#000000; stroke-linecap:butt; stroke-linejoin:round; stroke-width:4; stroke-opacity:1; fill:none\" points=\"\n",
       "  242.598,457.248 252.047,457.248 \n",
       "  \"/>\n",
       "<polyline clip-path=\"url(#clip630)\" style=\"stroke:#000000; stroke-linecap:butt; stroke-linejoin:round; stroke-width:4; stroke-opacity:1; fill:none\" points=\"\n",
       "  242.598,411.367 252.047,411.367 \n",
       "  \"/>\n",
       "<polyline clip-path=\"url(#clip630)\" style=\"stroke:#000000; stroke-linecap:butt; stroke-linejoin:round; stroke-width:4; stroke-opacity:1; fill:none\" points=\"\n",
       "  242.598,365.486 252.047,365.486 \n",
       "  \"/>\n",
       "<polyline clip-path=\"url(#clip630)\" style=\"stroke:#000000; stroke-linecap:butt; stroke-linejoin:round; stroke-width:4; stroke-opacity:1; fill:none\" points=\"\n",
       "  242.598,273.724 252.047,273.724 \n",
       "  \"/>\n",
       "<polyline clip-path=\"url(#clip630)\" style=\"stroke:#000000; stroke-linecap:butt; stroke-linejoin:round; stroke-width:4; stroke-opacity:1; fill:none\" points=\"\n",
       "  242.598,227.843 252.047,227.843 \n",
       "  \"/>\n",
       "<polyline clip-path=\"url(#clip630)\" style=\"stroke:#000000; stroke-linecap:butt; stroke-linejoin:round; stroke-width:4; stroke-opacity:1; fill:none\" points=\"\n",
       "  242.598,181.962 252.047,181.962 \n",
       "  \"/>\n",
       "<polyline clip-path=\"url(#clip630)\" style=\"stroke:#000000; stroke-linecap:butt; stroke-linejoin:round; stroke-width:4; stroke-opacity:1; fill:none\" points=\"\n",
       "  242.598,136.081 252.047,136.081 \n",
       "  \"/>\n",
       "<path clip-path=\"url(#clip630)\" d=\"M65.9319 1223.02 Q62.3208 1223.02 60.4921 1226.59 Q58.6865 1230.13 58.6865 1237.26 Q58.6865 1244.37 60.4921 1247.93 Q62.3208 1251.47 65.9319 1251.47 Q69.5661 1251.47 71.3717 1247.93 Q73.2004 1244.37 73.2004 1237.26 Q73.2004 1230.13 71.3717 1226.59 Q69.5661 1223.02 65.9319 1223.02 M65.9319 1219.32 Q71.742 1219.32 74.7976 1223.93 Q77.8763 1228.51 77.8763 1237.26 Q77.8763 1245.99 74.7976 1250.59 Q71.742 1255.18 65.9319 1255.18 Q60.1217 1255.18 57.043 1250.59 Q53.9875 1245.99 53.9875 1237.26 Q53.9875 1228.51 57.043 1223.93 Q60.1217 1219.32 65.9319 1219.32 Z\" fill=\"#000000\" fill-rule=\"evenodd\" fill-opacity=\"1\" /><path clip-path=\"url(#clip630)\" d=\"M86.0938 1248.63 L90.978 1248.63 L90.978 1254.51 L86.0938 1254.51 L86.0938 1248.63 Z\" fill=\"#000000\" fill-rule=\"evenodd\" fill-opacity=\"1\" /><path clip-path=\"url(#clip630)\" d=\"M111.163 1223.02 Q107.552 1223.02 105.723 1226.59 Q103.918 1230.13 103.918 1237.26 Q103.918 1244.37 105.723 1247.93 Q107.552 1251.47 111.163 1251.47 Q114.797 1251.47 116.603 1247.93 Q118.432 1244.37 118.432 1237.26 Q118.432 1230.13 116.603 1226.59 Q114.797 1223.02 111.163 1223.02 M111.163 1219.32 Q116.973 1219.32 120.029 1223.93 Q123.107 1228.51 123.107 1237.26 Q123.107 1245.99 120.029 1250.59 Q116.973 1255.18 111.163 1255.18 Q105.353 1255.18 102.274 1250.59 Q99.2187 1245.99 99.2187 1237.26 Q99.2187 1228.51 102.274 1223.93 Q105.353 1219.32 111.163 1219.32 Z\" fill=\"#000000\" fill-rule=\"evenodd\" fill-opacity=\"1\" /><path clip-path=\"url(#clip630)\" d=\"M141.325 1223.02 Q137.714 1223.02 135.885 1226.59 Q134.08 1230.13 134.08 1237.26 Q134.08 1244.37 135.885 1247.93 Q137.714 1251.47 141.325 1251.47 Q144.959 1251.47 146.765 1247.93 Q148.593 1244.37 148.593 1237.26 Q148.593 1230.13 146.765 1226.59 Q144.959 1223.02 141.325 1223.02 M141.325 1219.32 Q147.135 1219.32 150.191 1223.93 Q153.269 1228.51 153.269 1237.26 Q153.269 1245.99 150.191 1250.59 Q147.135 1255.18 141.325 1255.18 Q135.515 1255.18 132.436 1250.59 Q129.381 1245.99 129.381 1237.26 Q129.381 1228.51 132.436 1223.93 Q135.515 1219.32 141.325 1219.32 Z\" fill=\"#000000\" fill-rule=\"evenodd\" fill-opacity=\"1\" /><path clip-path=\"url(#clip630)\" d=\"M175.654 1235.87 Q179.01 1236.59 180.885 1238.86 Q182.783 1241.13 182.783 1244.46 Q182.783 1249.57 179.265 1252.38 Q175.746 1255.18 169.265 1255.18 Q167.089 1255.18 164.774 1254.74 Q162.482 1254.32 160.029 1253.46 L160.029 1248.95 Q161.973 1250.08 164.288 1250.66 Q166.603 1251.24 169.126 1251.24 Q173.524 1251.24 175.816 1249.51 Q178.13 1247.77 178.13 1244.46 Q178.13 1241.4 175.978 1239.69 Q173.848 1237.95 170.029 1237.95 L166.001 1237.95 L166.001 1234.11 L170.214 1234.11 Q173.663 1234.11 175.491 1232.75 Q177.32 1231.36 177.32 1228.76 Q177.32 1226.1 175.422 1224.69 Q173.547 1223.26 170.029 1223.26 Q168.107 1223.26 165.908 1223.67 Q163.709 1224.09 161.07 1224.97 L161.07 1220.8 Q163.732 1220.06 166.047 1219.69 Q168.385 1219.32 170.445 1219.32 Q175.769 1219.32 178.871 1221.75 Q181.973 1224.16 181.973 1228.28 Q181.973 1231.15 180.329 1233.14 Q178.686 1235.11 175.654 1235.87 Z\" fill=\"#000000\" fill-rule=\"evenodd\" fill-opacity=\"1\" /><path clip-path=\"url(#clip630)\" d=\"M191.695 1219.95 L210.051 1219.95 L210.051 1223.88 L195.977 1223.88 L195.977 1232.35 Q196.996 1232.01 198.014 1231.84 Q199.033 1231.66 200.052 1231.66 Q205.839 1231.66 209.218 1234.83 Q212.598 1238 212.598 1243.42 Q212.598 1249 209.126 1252.1 Q205.653 1255.18 199.334 1255.18 Q197.158 1255.18 194.89 1254.81 Q192.644 1254.44 190.237 1253.69 L190.237 1249 Q192.32 1250.13 194.542 1250.69 Q196.765 1251.24 199.241 1251.24 Q203.246 1251.24 205.584 1249.13 Q207.922 1247.03 207.922 1243.42 Q207.922 1239.81 205.584 1237.7 Q203.246 1235.59 199.241 1235.59 Q197.366 1235.59 195.491 1236.01 Q193.64 1236.43 191.695 1237.31 L191.695 1219.95 Z\" fill=\"#000000\" fill-rule=\"evenodd\" fill-opacity=\"1\" /><path clip-path=\"url(#clip630)\" d=\"M64.9365 993.619 Q61.3254 993.619 59.4967 997.183 Q57.6912 1000.73 57.6912 1007.85 Q57.6912 1014.96 59.4967 1018.53 Q61.3254 1022.07 64.9365 1022.07 Q68.5707 1022.07 70.3763 1018.53 Q72.205 1014.96 72.205 1007.85 Q72.205 1000.73 70.3763 997.183 Q68.5707 993.619 64.9365 993.619 M64.9365 989.915 Q70.7467 989.915 73.8022 994.521 Q76.8809 999.105 76.8809 1007.85 Q76.8809 1016.58 73.8022 1021.19 Q70.7467 1025.77 64.9365 1025.77 Q59.1264 1025.77 56.0477 1021.19 Q52.9921 1016.58 52.9921 1007.85 Q52.9921 999.105 56.0477 994.521 Q59.1264 989.915 64.9365 989.915 Z\" fill=\"#000000\" fill-rule=\"evenodd\" fill-opacity=\"1\" /><path clip-path=\"url(#clip630)\" d=\"M85.0984 1019.22 L89.9827 1019.22 L89.9827 1025.1 L85.0984 1025.1 L85.0984 1019.22 Z\" fill=\"#000000\" fill-rule=\"evenodd\" fill-opacity=\"1\" /><path clip-path=\"url(#clip630)\" d=\"M110.168 993.619 Q106.557 993.619 104.728 997.183 Q102.922 1000.73 102.922 1007.85 Q102.922 1014.96 104.728 1018.53 Q106.557 1022.07 110.168 1022.07 Q113.802 1022.07 115.608 1018.53 Q117.436 1014.96 117.436 1007.85 Q117.436 1000.73 115.608 997.183 Q113.802 993.619 110.168 993.619 M110.168 989.915 Q115.978 989.915 119.033 994.521 Q122.112 999.105 122.112 1007.85 Q122.112 1016.58 119.033 1021.19 Q115.978 1025.77 110.168 1025.77 Q104.358 1025.77 101.279 1021.19 Q98.2234 1016.58 98.2234 1007.85 Q98.2234 999.105 101.279 994.521 Q104.358 989.915 110.168 989.915 Z\" fill=\"#000000\" fill-rule=\"evenodd\" fill-opacity=\"1\" /><path clip-path=\"url(#clip630)\" d=\"M140.33 993.619 Q136.719 993.619 134.89 997.183 Q133.084 1000.73 133.084 1007.85 Q133.084 1014.96 134.89 1018.53 Q136.719 1022.07 140.33 1022.07 Q143.964 1022.07 145.769 1018.53 Q147.598 1014.96 147.598 1007.85 Q147.598 1000.73 145.769 997.183 Q143.964 993.619 140.33 993.619 M140.33 989.915 Q146.14 989.915 149.195 994.521 Q152.274 999.105 152.274 1007.85 Q152.274 1016.58 149.195 1021.19 Q146.14 1025.77 140.33 1025.77 Q134.519 1025.77 131.441 1021.19 Q128.385 1016.58 128.385 1007.85 Q128.385 999.105 131.441 994.521 Q134.519 989.915 140.33 989.915 Z\" fill=\"#000000\" fill-rule=\"evenodd\" fill-opacity=\"1\" /><path clip-path=\"url(#clip630)\" d=\"M173.339 994.614 L161.533 1013.06 L173.339 1013.06 L173.339 994.614 M172.112 990.54 L177.991 990.54 L177.991 1013.06 L182.922 1013.06 L182.922 1016.95 L177.991 1016.95 L177.991 1025.1 L173.339 1025.1 L173.339 1016.95 L157.737 1016.95 L157.737 1012.44 L172.112 990.54 Z\" fill=\"#000000\" fill-rule=\"evenodd\" fill-opacity=\"1\" /><path clip-path=\"url(#clip630)\" d=\"M200.653 993.619 Q197.042 993.619 195.214 997.183 Q193.408 1000.73 193.408 1007.85 Q193.408 1014.96 195.214 1018.53 Q197.042 1022.07 200.653 1022.07 Q204.288 1022.07 206.093 1018.53 Q207.922 1014.96 207.922 1007.85 Q207.922 1000.73 206.093 997.183 Q204.288 993.619 200.653 993.619 M200.653 989.915 Q206.464 989.915 209.519 994.521 Q212.598 999.105 212.598 1007.85 Q212.598 1016.58 209.519 1021.19 Q206.464 1025.77 200.653 1025.77 Q194.843 1025.77 191.765 1021.19 Q188.709 1016.58 188.709 1007.85 Q188.709 999.105 191.765 994.521 Q194.843 989.915 200.653 989.915 Z\" fill=\"#000000\" fill-rule=\"evenodd\" fill-opacity=\"1\" /><path clip-path=\"url(#clip630)\" d=\"M65.9319 764.214 Q62.3208 764.214 60.4921 767.778 Q58.6865 771.32 58.6865 778.45 Q58.6865 785.556 60.4921 789.121 Q62.3208 792.662 65.9319 792.662 Q69.5661 792.662 71.3717 789.121 Q73.2004 785.556 73.2004 778.45 Q73.2004 771.32 71.3717 767.778 Q69.5661 764.214 65.9319 764.214 M65.9319 760.51 Q71.742 760.51 74.7976 765.116 Q77.8763 769.7 77.8763 778.45 Q77.8763 787.176 74.7976 791.783 Q71.742 796.366 65.9319 796.366 Q60.1217 796.366 57.043 791.783 Q53.9875 787.176 53.9875 778.45 Q53.9875 769.7 57.043 765.116 Q60.1217 760.51 65.9319 760.51 Z\" fill=\"#000000\" fill-rule=\"evenodd\" fill-opacity=\"1\" /><path clip-path=\"url(#clip630)\" d=\"M86.0938 789.815 L90.978 789.815 L90.978 795.695 L86.0938 795.695 L86.0938 789.815 Z\" fill=\"#000000\" fill-rule=\"evenodd\" fill-opacity=\"1\" /><path clip-path=\"url(#clip630)\" d=\"M111.163 764.214 Q107.552 764.214 105.723 767.778 Q103.918 771.32 103.918 778.45 Q103.918 785.556 105.723 789.121 Q107.552 792.662 111.163 792.662 Q114.797 792.662 116.603 789.121 Q118.432 785.556 118.432 778.45 Q118.432 771.32 116.603 767.778 Q114.797 764.214 111.163 764.214 M111.163 760.51 Q116.973 760.51 120.029 765.116 Q123.107 769.7 123.107 778.45 Q123.107 787.176 120.029 791.783 Q116.973 796.366 111.163 796.366 Q105.353 796.366 102.274 791.783 Q99.2187 787.176 99.2187 778.45 Q99.2187 769.7 102.274 765.116 Q105.353 760.51 111.163 760.51 Z\" fill=\"#000000\" fill-rule=\"evenodd\" fill-opacity=\"1\" /><path clip-path=\"url(#clip630)\" d=\"M141.325 764.214 Q137.714 764.214 135.885 767.778 Q134.08 771.32 134.08 778.45 Q134.08 785.556 135.885 789.121 Q137.714 792.662 141.325 792.662 Q144.959 792.662 146.765 789.121 Q148.593 785.556 148.593 778.45 Q148.593 771.32 146.765 767.778 Q144.959 764.214 141.325 764.214 M141.325 760.51 Q147.135 760.51 150.191 765.116 Q153.269 769.7 153.269 778.45 Q153.269 787.176 150.191 791.783 Q147.135 796.366 141.325 796.366 Q135.515 796.366 132.436 791.783 Q129.381 787.176 129.381 778.45 Q129.381 769.7 132.436 765.116 Q135.515 760.51 141.325 760.51 Z\" fill=\"#000000\" fill-rule=\"evenodd\" fill-opacity=\"1\" /><path clip-path=\"url(#clip630)\" d=\"M174.334 765.209 L162.529 783.658 L174.334 783.658 L174.334 765.209 M173.107 761.135 L178.987 761.135 L178.987 783.658 L183.917 783.658 L183.917 787.547 L178.987 787.547 L178.987 795.695 L174.334 795.695 L174.334 787.547 L158.732 787.547 L158.732 783.033 L173.107 761.135 Z\" fill=\"#000000\" fill-rule=\"evenodd\" fill-opacity=\"1\" /><path clip-path=\"url(#clip630)\" d=\"M191.695 761.135 L210.051 761.135 L210.051 765.07 L195.977 765.07 L195.977 773.542 Q196.996 773.195 198.014 773.033 Q199.033 772.848 200.052 772.848 Q205.839 772.848 209.218 776.019 Q212.598 779.19 212.598 784.607 Q212.598 790.186 209.126 793.287 Q205.653 796.366 199.334 796.366 Q197.158 796.366 194.89 795.996 Q192.644 795.625 190.237 794.885 L190.237 790.186 Q192.32 791.32 194.542 791.875 Q196.765 792.431 199.241 792.431 Q203.246 792.431 205.584 790.324 Q207.922 788.218 207.922 784.607 Q207.922 780.996 205.584 778.889 Q203.246 776.783 199.241 776.783 Q197.366 776.783 195.491 777.2 Q193.64 777.616 191.695 778.496 L191.695 761.135 Z\" fill=\"#000000\" fill-rule=\"evenodd\" fill-opacity=\"1\" /><path clip-path=\"url(#clip630)\" d=\"M64.9365 534.808 Q61.3254 534.808 59.4967 538.373 Q57.6912 541.915 57.6912 549.044 Q57.6912 556.151 59.4967 559.716 Q61.3254 563.257 64.9365 563.257 Q68.5707 563.257 70.3763 559.716 Q72.205 556.151 72.205 549.044 Q72.205 541.915 70.3763 538.373 Q68.5707 534.808 64.9365 534.808 M64.9365 531.105 Q70.7467 531.105 73.8022 535.711 Q76.8809 540.294 76.8809 549.044 Q76.8809 557.771 73.8022 562.378 Q70.7467 566.961 64.9365 566.961 Q59.1264 566.961 56.0477 562.378 Q52.9921 557.771 52.9921 549.044 Q52.9921 540.294 56.0477 535.711 Q59.1264 531.105 64.9365 531.105 Z\" fill=\"#000000\" fill-rule=\"evenodd\" fill-opacity=\"1\" /><path clip-path=\"url(#clip630)\" d=\"M85.0984 560.41 L89.9827 560.41 L89.9827 566.29 L85.0984 566.29 L85.0984 560.41 Z\" fill=\"#000000\" fill-rule=\"evenodd\" fill-opacity=\"1\" /><path clip-path=\"url(#clip630)\" d=\"M110.168 534.808 Q106.557 534.808 104.728 538.373 Q102.922 541.915 102.922 549.044 Q102.922 556.151 104.728 559.716 Q106.557 563.257 110.168 563.257 Q113.802 563.257 115.608 559.716 Q117.436 556.151 117.436 549.044 Q117.436 541.915 115.608 538.373 Q113.802 534.808 110.168 534.808 M110.168 531.105 Q115.978 531.105 119.033 535.711 Q122.112 540.294 122.112 549.044 Q122.112 557.771 119.033 562.378 Q115.978 566.961 110.168 566.961 Q104.358 566.961 101.279 562.378 Q98.2234 557.771 98.2234 549.044 Q98.2234 540.294 101.279 535.711 Q104.358 531.105 110.168 531.105 Z\" fill=\"#000000\" fill-rule=\"evenodd\" fill-opacity=\"1\" /><path clip-path=\"url(#clip630)\" d=\"M140.33 534.808 Q136.719 534.808 134.89 538.373 Q133.084 541.915 133.084 549.044 Q133.084 556.151 134.89 559.716 Q136.719 563.257 140.33 563.257 Q143.964 563.257 145.769 559.716 Q147.598 556.151 147.598 549.044 Q147.598 541.915 145.769 538.373 Q143.964 534.808 140.33 534.808 M140.33 531.105 Q146.14 531.105 149.195 535.711 Q152.274 540.294 152.274 549.044 Q152.274 557.771 149.195 562.378 Q146.14 566.961 140.33 566.961 Q134.519 566.961 131.441 562.378 Q128.385 557.771 128.385 549.044 Q128.385 540.294 131.441 535.711 Q134.519 531.105 140.33 531.105 Z\" fill=\"#000000\" fill-rule=\"evenodd\" fill-opacity=\"1\" /><path clip-path=\"url(#clip630)\" d=\"M160.538 531.73 L178.894 531.73 L178.894 535.665 L164.82 535.665 L164.82 544.137 Q165.839 543.79 166.857 543.628 Q167.876 543.443 168.894 543.443 Q174.681 543.443 178.061 546.614 Q181.441 549.785 181.441 555.202 Q181.441 560.78 177.968 563.882 Q174.496 566.961 168.177 566.961 Q166.001 566.961 163.732 566.591 Q161.487 566.22 159.08 565.48 L159.08 560.78 Q161.163 561.915 163.385 562.47 Q165.607 563.026 168.084 563.026 Q172.089 563.026 174.427 560.919 Q176.765 558.813 176.765 555.202 Q176.765 551.591 174.427 549.484 Q172.089 547.378 168.084 547.378 Q166.209 547.378 164.334 547.794 Q162.482 548.211 160.538 549.091 L160.538 531.73 Z\" fill=\"#000000\" fill-rule=\"evenodd\" fill-opacity=\"1\" /><path clip-path=\"url(#clip630)\" d=\"M200.653 534.808 Q197.042 534.808 195.214 538.373 Q193.408 541.915 193.408 549.044 Q193.408 556.151 195.214 559.716 Q197.042 563.257 200.653 563.257 Q204.288 563.257 206.093 559.716 Q207.922 556.151 207.922 549.044 Q207.922 541.915 206.093 538.373 Q204.288 534.808 200.653 534.808 M200.653 531.105 Q206.464 531.105 209.519 535.711 Q212.598 540.294 212.598 549.044 Q212.598 557.771 209.519 562.378 Q206.464 566.961 200.653 566.961 Q194.843 566.961 191.765 562.378 Q188.709 557.771 188.709 549.044 Q188.709 540.294 191.765 535.711 Q194.843 531.105 200.653 531.105 Z\" fill=\"#000000\" fill-rule=\"evenodd\" fill-opacity=\"1\" /><path clip-path=\"url(#clip630)\" d=\"M65.9319 305.403 Q62.3208 305.403 60.4921 308.968 Q58.6865 312.51 58.6865 319.639 Q58.6865 326.746 60.4921 330.311 Q62.3208 333.852 65.9319 333.852 Q69.5661 333.852 71.3717 330.311 Q73.2004 326.746 73.2004 319.639 Q73.2004 312.51 71.3717 308.968 Q69.5661 305.403 65.9319 305.403 M65.9319 301.7 Q71.742 301.7 74.7976 306.306 Q77.8763 310.889 77.8763 319.639 Q77.8763 328.366 74.7976 332.973 Q71.742 337.556 65.9319 337.556 Q60.1217 337.556 57.043 332.973 Q53.9875 328.366 53.9875 319.639 Q53.9875 310.889 57.043 306.306 Q60.1217 301.7 65.9319 301.7 Z\" fill=\"#000000\" fill-rule=\"evenodd\" fill-opacity=\"1\" /><path clip-path=\"url(#clip630)\" d=\"M86.0938 331.005 L90.978 331.005 L90.978 336.885 L86.0938 336.885 L86.0938 331.005 Z\" fill=\"#000000\" fill-rule=\"evenodd\" fill-opacity=\"1\" /><path clip-path=\"url(#clip630)\" d=\"M111.163 305.403 Q107.552 305.403 105.723 308.968 Q103.918 312.51 103.918 319.639 Q103.918 326.746 105.723 330.311 Q107.552 333.852 111.163 333.852 Q114.797 333.852 116.603 330.311 Q118.432 326.746 118.432 319.639 Q118.432 312.51 116.603 308.968 Q114.797 305.403 111.163 305.403 M111.163 301.7 Q116.973 301.7 120.029 306.306 Q123.107 310.889 123.107 319.639 Q123.107 328.366 120.029 332.973 Q116.973 337.556 111.163 337.556 Q105.353 337.556 102.274 332.973 Q99.2187 328.366 99.2187 319.639 Q99.2187 310.889 102.274 306.306 Q105.353 301.7 111.163 301.7 Z\" fill=\"#000000\" fill-rule=\"evenodd\" fill-opacity=\"1\" /><path clip-path=\"url(#clip630)\" d=\"M141.325 305.403 Q137.714 305.403 135.885 308.968 Q134.08 312.51 134.08 319.639 Q134.08 326.746 135.885 330.311 Q137.714 333.852 141.325 333.852 Q144.959 333.852 146.765 330.311 Q148.593 326.746 148.593 319.639 Q148.593 312.51 146.765 308.968 Q144.959 305.403 141.325 305.403 M141.325 301.7 Q147.135 301.7 150.191 306.306 Q153.269 310.889 153.269 319.639 Q153.269 328.366 150.191 332.973 Q147.135 337.556 141.325 337.556 Q135.515 337.556 132.436 332.973 Q129.381 328.366 129.381 319.639 Q129.381 310.889 132.436 306.306 Q135.515 301.7 141.325 301.7 Z\" fill=\"#000000\" fill-rule=\"evenodd\" fill-opacity=\"1\" /><path clip-path=\"url(#clip630)\" d=\"M161.533 302.325 L179.89 302.325 L179.89 306.26 L165.816 306.26 L165.816 314.732 Q166.834 314.385 167.853 314.223 Q168.871 314.038 169.89 314.038 Q175.677 314.038 179.056 317.209 Q182.436 320.38 182.436 325.797 Q182.436 331.375 178.964 334.477 Q175.491 337.556 169.172 337.556 Q166.996 337.556 164.728 337.186 Q162.482 336.815 160.075 336.074 L160.075 331.375 Q162.158 332.51 164.38 333.065 Q166.603 333.621 169.079 333.621 Q173.084 333.621 175.422 331.514 Q177.76 329.408 177.76 325.797 Q177.76 322.186 175.422 320.079 Q173.084 317.973 169.079 317.973 Q167.204 317.973 165.329 318.389 Q163.478 318.806 161.533 319.686 L161.533 302.325 Z\" fill=\"#000000\" fill-rule=\"evenodd\" fill-opacity=\"1\" /><path clip-path=\"url(#clip630)\" d=\"M191.695 302.325 L210.051 302.325 L210.051 306.26 L195.977 306.26 L195.977 314.732 Q196.996 314.385 198.014 314.223 Q199.033 314.038 200.052 314.038 Q205.839 314.038 209.218 317.209 Q212.598 320.38 212.598 325.797 Q212.598 331.375 209.126 334.477 Q205.653 337.556 199.334 337.556 Q197.158 337.556 194.89 337.186 Q192.644 336.815 190.237 336.074 L190.237 331.375 Q192.32 332.51 194.542 333.065 Q196.765 333.621 199.241 333.621 Q203.246 333.621 205.584 331.514 Q207.922 329.408 207.922 325.797 Q207.922 322.186 205.584 320.079 Q203.246 317.973 199.241 317.973 Q197.366 317.973 195.491 318.389 Q193.64 318.806 191.695 319.686 L191.695 302.325 Z\" fill=\"#000000\" fill-rule=\"evenodd\" fill-opacity=\"1\" /><path clip-path=\"url(#clip630)\" d=\"M64.9365 75.9982 Q61.3254 75.9982 59.4967 79.563 Q57.6912 83.1046 57.6912 90.2342 Q57.6912 97.3407 59.4967 100.905 Q61.3254 104.447 64.9365 104.447 Q68.5707 104.447 70.3763 100.905 Q72.205 97.3407 72.205 90.2342 Q72.205 83.1046 70.3763 79.563 Q68.5707 75.9982 64.9365 75.9982 M64.9365 72.2945 Q70.7467 72.2945 73.8022 76.901 Q76.8809 81.4843 76.8809 90.2342 Q76.8809 98.961 73.8022 103.567 Q70.7467 108.151 64.9365 108.151 Q59.1264 108.151 56.0477 103.567 Q52.9921 98.961 52.9921 90.2342 Q52.9921 81.4843 56.0477 76.901 Q59.1264 72.2945 64.9365 72.2945 Z\" fill=\"#000000\" fill-rule=\"evenodd\" fill-opacity=\"1\" /><path clip-path=\"url(#clip630)\" d=\"M85.0984 101.6 L89.9827 101.6 L89.9827 107.48 L85.0984 107.48 L85.0984 101.6 Z\" fill=\"#000000\" fill-rule=\"evenodd\" fill-opacity=\"1\" /><path clip-path=\"url(#clip630)\" d=\"M110.168 75.9982 Q106.557 75.9982 104.728 79.563 Q102.922 83.1046 102.922 90.2342 Q102.922 97.3407 104.728 100.905 Q106.557 104.447 110.168 104.447 Q113.802 104.447 115.608 100.905 Q117.436 97.3407 117.436 90.2342 Q117.436 83.1046 115.608 79.563 Q113.802 75.9982 110.168 75.9982 M110.168 72.2945 Q115.978 72.2945 119.033 76.901 Q122.112 81.4843 122.112 90.2342 Q122.112 98.961 119.033 103.567 Q115.978 108.151 110.168 108.151 Q104.358 108.151 101.279 103.567 Q98.2234 98.961 98.2234 90.2342 Q98.2234 81.4843 101.279 76.901 Q104.358 72.2945 110.168 72.2945 Z\" fill=\"#000000\" fill-rule=\"evenodd\" fill-opacity=\"1\" /><path clip-path=\"url(#clip630)\" d=\"M140.33 75.9982 Q136.719 75.9982 134.89 79.563 Q133.084 83.1046 133.084 90.2342 Q133.084 97.3407 134.89 100.905 Q136.719 104.447 140.33 104.447 Q143.964 104.447 145.769 100.905 Q147.598 97.3407 147.598 90.2342 Q147.598 83.1046 145.769 79.563 Q143.964 75.9982 140.33 75.9982 M140.33 72.2945 Q146.14 72.2945 149.195 76.901 Q152.274 81.4843 152.274 90.2342 Q152.274 98.961 149.195 103.567 Q146.14 108.151 140.33 108.151 Q134.519 108.151 131.441 103.567 Q128.385 98.961 128.385 90.2342 Q128.385 81.4843 131.441 76.901 Q134.519 72.2945 140.33 72.2945 Z\" fill=\"#000000\" fill-rule=\"evenodd\" fill-opacity=\"1\" /><path clip-path=\"url(#clip630)\" d=\"M171.07 88.3361 Q167.922 88.3361 166.07 90.4889 Q164.242 92.6416 164.242 96.3916 Q164.242 100.118 166.07 102.294 Q167.922 104.447 171.07 104.447 Q174.218 104.447 176.047 102.294 Q177.899 100.118 177.899 96.3916 Q177.899 92.6416 176.047 90.4889 Q174.218 88.3361 171.07 88.3361 M180.353 73.6834 L180.353 77.9426 Q178.593 77.1093 176.788 76.6695 Q175.005 76.2297 173.246 76.2297 Q168.617 76.2297 166.163 79.3547 Q163.732 82.4796 163.385 88.7991 Q164.751 86.7852 166.811 85.7204 Q168.871 84.6324 171.348 84.6324 Q176.556 84.6324 179.566 87.8037 Q182.598 90.9518 182.598 96.3916 Q182.598 101.716 179.45 104.933 Q176.302 108.151 171.07 108.151 Q165.075 108.151 161.904 103.567 Q158.732 98.961 158.732 90.2342 Q158.732 82.0398 162.621 77.1787 Q166.51 72.2945 173.061 72.2945 Q174.82 72.2945 176.603 72.6417 Q178.408 72.989 180.353 73.6834 Z\" fill=\"#000000\" fill-rule=\"evenodd\" fill-opacity=\"1\" /><path clip-path=\"url(#clip630)\" d=\"M200.653 75.9982 Q197.042 75.9982 195.214 79.563 Q193.408 83.1046 193.408 90.2342 Q193.408 97.3407 195.214 100.905 Q197.042 104.447 200.653 104.447 Q204.288 104.447 206.093 100.905 Q207.922 97.3407 207.922 90.2342 Q207.922 83.1046 206.093 79.563 Q204.288 75.9982 200.653 75.9982 M200.653 72.2945 Q206.464 72.2945 209.519 76.901 Q212.598 81.4843 212.598 90.2342 Q212.598 98.961 209.519 103.567 Q206.464 108.151 200.653 108.151 Q194.843 108.151 191.765 103.567 Q188.709 98.961 188.709 90.2342 Q188.709 81.4843 191.765 76.901 Q194.843 72.2945 200.653 72.2945 Z\" fill=\"#000000\" fill-rule=\"evenodd\" fill-opacity=\"1\" /><polyline clip-path=\"url(#clip633)\" style=\"stroke:#0000ff; stroke-linecap:butt; stroke-linejoin:round; stroke-width:8; stroke-opacity:1; fill:none\" points=\"\n",
       "  290.998,1251.64 299.065,1244.84 307.132,1237.92 315.199,1230.89 323.266,1223.74 331.332,1216.47 339.399,1209.08 347.466,1201.55 355.533,1193.89 363.6,1186.1 \n",
       "  371.666,1178.16 379.733,1170.09 387.8,1161.86 395.867,1153.48 403.933,1144.93 412,1136.23 420.067,1127.36 428.134,1118.31 436.201,1109.08 444.267,1099.66 \n",
       "  452.334,1090.05 460.401,1080.23 468.468,1070.21 476.534,1059.97 484.601,1049.5 492.668,1038.8 500.735,1027.86 508.802,1016.66 516.868,1005.19 524.935,993.441 \n",
       "  533.002,981.402 541.069,969.057 549.136,956.391 557.202,943.388 565.269,930.028 573.336,916.293 581.403,902.16 589.469,887.606 597.536,872.606 605.603,857.128 \n",
       "  613.67,841.142 621.737,824.611 629.803,807.492 637.87,789.741 645.937,771.304 654.004,752.119 662.071,732.115 670.137,711.209 678.204,689.301 686.271,666.272 \n",
       "  694.338,641.977 702.404,616.234 710.471,588.813 718.538,559.413 726.605,527.63 734.672,492.894 742.738,454.357 750.805,410.654 758.872,359.306 766.939,294.758 \n",
       "  775.005,196.228 783.072,82.3236 791.139,83.7115 799.206,85.1 807.273,86.4854 815.339,87.8714 823.406,89.2567 831.473,90.6415 839.54,92.0256 847.607,93.4091 \n",
       "  855.673,94.7919 863.74,96.1742 871.807,97.5558 879.874,98.9367 887.94,100.317 896.007,101.697 904.074,103.076 912.141,104.454 920.208,105.832 928.274,107.209 \n",
       "  936.341,108.586 944.408,109.962 952.475,111.337 960.542,112.712 968.608,114.086 976.675,115.46 984.742,116.832 992.809,118.205 1000.88,119.576 1008.94,120.947 \n",
       "  1017.01,122.318 1025.08,123.687 1033.14,125.056 1041.21,126.425 1049.28,127.793 1057.34,129.16 1065.41,130.527 1073.48,131.893 1081.54,133.258 1089.61,134.623 \n",
       "  1097.68,135.987 1105.74,137.35 1113.81,138.713 1121.88,140.076 1129.94,141.437 1138.01,142.798 1146.08,144.159 1154.14,145.519 1162.21,146.878 1170.28,148.236 \n",
       "  1178.34,149.594 1186.41,150.952 1194.48,152.308 1202.55,153.664 1210.61,155.02 1218.68,156.375 1226.75,157.729 1234.81,159.083 1242.88,160.436 1250.95,161.788 \n",
       "  1259.01,163.14 1267.08,164.491 1275.15,165.842 1283.21,167.192 1291.28,168.541 1299.35,169.89 1307.41,171.238 1315.48,172.585 1323.55,173.932 1331.61,175.279 \n",
       "  1339.68,176.624 1347.75,177.969 1355.81,179.314 1363.88,180.658 1371.95,182.001 1380.01,183.344 1388.08,184.686 1396.15,186.027 1404.21,187.368 1412.28,188.708 \n",
       "  1420.35,190.047 1428.41,191.386 1436.48,192.725 1444.55,194.063 1452.62,195.4 1460.68,196.736 1468.75,198.072 1476.82,199.407 1484.88,200.742 1492.95,202.076 \n",
       "  1501.02,203.41 1509.08,204.743 1517.15,206.075 1525.22,207.407 1533.28,208.738 1541.35,210.068 1549.42,211.398 1557.48,212.727 1565.55,214.056 1573.62,215.384 \n",
       "  1581.68,216.711 1589.75,218.038 1597.82,219.365 1605.88,220.69 1613.95,222.015 1622.02,223.34 1630.08,224.663 1638.15,225.987 1646.22,227.309 1654.28,228.631 \n",
       "  1662.35,229.953 1670.42,231.274 1678.49,232.594 1686.55,233.913 1694.62,235.232 1702.69,236.551 1710.75,237.869 1718.82,239.186 1726.89,240.503 1734.95,241.819 \n",
       "  1743.02,243.134 1751.09,244.449 1759.15,245.763 1767.22,247.077 1775.29,248.39 1783.35,249.702 1791.42,251.014 1799.49,252.325 1807.55,253.636 1815.62,254.946 \n",
       "  1823.69,256.256 1831.75,257.564 1839.82,258.873 1847.89,260.18 1855.95,261.487 1864.02,262.794 1872.09,264.1 1880.15,265.405 1888.22,266.71 1896.29,268.014 \n",
       "  1904.36,269.318 \n",
       "  \"/>\n",
       "<polyline clip-path=\"url(#clip633)\" style=\"stroke:#e26f46; stroke-linecap:butt; stroke-linejoin:round; stroke-width:4; stroke-opacity:1; fill:none\" stroke-dasharray=\"16, 10\" points=\"\n",
       "  778.232,2526.2 778.232,-1192.23 \n",
       "  \"/>\n",
       "<path clip-path=\"url(#clip630)\" d=\"\n",
       "M1441.24 260.269 L1895.75 260.269 L1895.75 88.56 L1441.24 88.56  Z\n",
       "  \" fill=\"#ffffff\" fill-rule=\"evenodd\" fill-opacity=\"1\"/>\n",
       "<polyline clip-path=\"url(#clip630)\" style=\"stroke:#000000; stroke-linecap:butt; stroke-linejoin:round; stroke-width:4; stroke-opacity:1; fill:none\" points=\"\n",
       "  1441.24,260.269 1895.75,260.269 1895.75,88.56 1441.24,88.56 1441.24,260.269 \n",
       "  \"/>\n",
       "<polyline clip-path=\"url(#clip630)\" style=\"stroke:#0000ff; stroke-linecap:butt; stroke-linejoin:round; stroke-width:4; stroke-opacity:1; fill:none\" points=\"\n",
       "  1460.24,145.796 1574.25,145.796 \n",
       "  \"/>\n",
       "<path clip-path=\"url(#clip630)\" d=\"M1609.64 146.873 Q1611.14 147.382 1612.56 149.048 Q1613.99 150.715 1615.43 153.632 L1620.17 163.076 L1615.15 163.076 L1610.73 154.21 Q1609.02 150.738 1607.39 149.604 Q1605.8 148.47 1603.02 148.47 L1597.93 148.47 L1597.93 163.076 L1593.25 163.076 L1593.25 128.516 L1603.81 128.516 Q1609.73 128.516 1612.65 130.993 Q1615.57 133.47 1615.57 138.47 Q1615.57 141.734 1614.04 143.886 Q1612.53 146.039 1609.64 146.873 M1597.93 132.359 L1597.93 144.627 L1603.81 144.627 Q1607.19 144.627 1608.9 143.076 Q1610.64 141.502 1610.64 138.47 Q1610.64 135.437 1608.9 133.91 Q1607.19 132.359 1603.81 132.359 L1597.93 132.359 Z\" fill=\"#000000\" fill-rule=\"evenodd\" fill-opacity=\"1\" /><path clip-path=\"url(#clip630)\" d=\"M1646.05 149.048 L1646.05 151.132 L1626.47 151.132 Q1626.75 155.53 1629.11 157.845 Q1631.49 160.136 1635.73 160.136 Q1638.18 160.136 1640.47 159.535 Q1642.79 158.933 1645.06 157.729 L1645.06 161.757 Q1642.77 162.729 1640.36 163.238 Q1637.95 163.747 1635.47 163.747 Q1629.27 163.747 1625.64 160.136 Q1622.02 156.525 1622.02 150.368 Q1622.02 144.002 1625.45 140.275 Q1628.9 136.525 1634.73 136.525 Q1639.96 136.525 1643 139.905 Q1646.05 143.261 1646.05 149.048 M1641.79 147.798 Q1641.75 144.303 1639.83 142.22 Q1637.93 140.136 1634.78 140.136 Q1631.21 140.136 1629.06 142.15 Q1626.93 144.164 1626.61 147.822 L1641.79 147.798 Z\" fill=\"#000000\" fill-rule=\"evenodd\" fill-opacity=\"1\" /><path clip-path=\"url(#clip630)\" d=\"M1691.86 158.146 L1691.86 148.863 L1684.22 148.863 L1684.22 145.021 L1696.49 145.021 L1696.49 159.859 Q1693.78 161.78 1690.52 162.775 Q1687.26 163.747 1683.55 163.747 Q1675.45 163.747 1670.87 159.025 Q1666.31 154.28 1666.31 145.831 Q1666.31 137.359 1670.87 132.637 Q1675.45 127.891 1683.55 127.891 Q1686.93 127.891 1689.96 128.724 Q1693.02 129.558 1695.59 131.178 L1695.59 136.155 Q1693 133.956 1690.08 132.845 Q1687.16 131.734 1683.95 131.734 Q1677.6 131.734 1674.41 135.275 Q1671.24 138.817 1671.24 145.831 Q1671.24 152.822 1674.41 156.363 Q1677.6 159.905 1683.95 159.905 Q1686.42 159.905 1688.37 159.488 Q1690.31 159.048 1691.86 158.146 Z\" fill=\"#000000\" fill-rule=\"evenodd\" fill-opacity=\"1\" /><polyline clip-path=\"url(#clip630)\" style=\"stroke:#e26f46; stroke-linecap:butt; stroke-linejoin:round; stroke-width:4; stroke-opacity:1; fill:none\" stroke-dasharray=\"16, 10\" points=\"\n",
       "  1460.24,203.032 1574.25,203.032 \n",
       "  \"/>\n",
       "<path clip-path=\"url(#clip630)\" d=\"M1629.91 196.997 Q1629.91 200.862 1628.24 204.656 Q1626.61 208.427 1623.93 211.285 Q1621.29 214.119 1617.7 215.876 Q1614.12 217.632 1610.47 217.632 L1594.59 217.632 Q1594.02 217.632 1593.79 217.609 Q1593.58 217.585 1593.42 217.468 Q1593.25 217.328 1593.25 217.047 Q1593.25 216.602 1593.44 216.414 Q1593.63 216.203 1593.84 216.18 Q1594.05 216.157 1594.59 216.157 Q1595.76 216.157 1596.46 216.086 Q1597.16 216.016 1597.61 215.922 Q1598.08 215.805 1598.31 215.477 Q1598.57 215.149 1598.69 214.868 Q1598.8 214.564 1598.97 213.885 L1605.38 188.12 Q1605.57 187.347 1605.57 187.23 Q1605.57 186.832 1605.34 186.691 Q1605.13 186.527 1604.52 186.457 Q1603.35 186.363 1602.46 186.363 Q1601.87 186.363 1601.64 186.34 Q1601.43 186.316 1601.24 186.199 Q1601.07 186.059 1601.07 185.778 Q1601.07 185.333 1601.26 185.145 Q1601.47 184.934 1601.71 184.911 Q1601.94 184.864 1602.5 184.864 L1618.62 184.864 Q1622.11 184.864 1624.71 186.504 Q1627.31 188.12 1628.6 190.86 Q1629.91 193.577 1629.91 196.997 M1625.72 195.24 Q1625.72 190.767 1623.28 188.565 Q1620.87 186.363 1617.05 186.363 L1611.92 186.363 Q1610.4 186.363 1610.02 186.644 Q1609.65 186.902 1609.32 188.19 L1602.74 214.517 Q1602.5 215.384 1602.5 215.618 Q1602.5 215.876 1602.62 215.969 Q1602.76 216.039 1603.14 216.086 Q1603.56 216.157 1604.19 216.157 L1609.6 216.157 Q1611.68 216.157 1613.58 215.594 Q1615.5 215.009 1616.88 214.095 Q1618.27 213.159 1619.16 212.362 Q1620.05 211.542 1620.68 210.723 Q1622.11 208.872 1623.16 206.46 Q1624.24 204.047 1624.73 201.845 Q1625.25 199.62 1625.48 197.981 Q1625.72 196.318 1625.72 195.24 Z\" fill=\"#000000\" fill-rule=\"evenodd\" fill-opacity=\"1\" /><path clip-path=\"url(#clip630)\" d=\"M1647.04 218.969 Q1647.04 219.887 1646.58 220.379 Q1646.12 220.854 1645.49 220.854 Q1644.99 220.854 1644.71 220.559 Q1644.45 220.264 1644.45 219.871 Q1644.45 219.297 1644.9 218.838 Q1645.38 218.379 1646.07 218.362 Q1645.84 217.756 1645.23 217.395 Q1644.63 217.018 1644.08 216.919 Q1643.56 216.821 1643.04 216.821 Q1642 216.821 1641.22 217.149 Q1640.43 217.477 1640.03 217.985 Q1639.64 218.477 1639.46 218.952 Q1639.28 219.428 1639.28 219.838 Q1639.28 220.198 1639.36 220.494 Q1639.46 220.772 1639.69 220.985 Q1639.92 221.182 1640.08 221.313 Q1640.26 221.445 1640.66 221.559 Q1641.05 221.674 1641.22 221.723 Q1641.38 221.756 1641.84 221.854 Q1642.79 222.051 1643.22 222.166 Q1643.64 222.264 1644.2 222.543 Q1644.77 222.822 1645.2 223.264 Q1646.23 224.297 1646.23 225.724 Q1646.23 226.249 1646.05 226.888 Q1645.89 227.527 1645.41 228.331 Q1644.94 229.134 1644.22 229.774 Q1643.49 230.413 1642.25 230.856 Q1641.02 231.298 1639.48 231.298 Q1637.33 231.298 1636 230.397 Q1634.67 229.478 1634.67 228.036 Q1634.67 226.986 1635.25 226.412 Q1635.82 225.822 1636.56 225.822 Q1637.12 225.822 1637.46 226.134 Q1637.81 226.429 1637.81 226.986 Q1637.81 227.741 1637.2 228.314 Q1636.59 228.888 1635.69 228.773 Q1636.46 230.544 1639.51 230.544 Q1640.66 230.544 1641.54 230.249 Q1642.45 229.938 1642.94 229.511 Q1643.45 229.069 1643.77 228.528 Q1644.1 227.986 1644.2 227.577 Q1644.31 227.167 1644.31 226.855 Q1644.31 226.314 1644.1 225.904 Q1643.89 225.494 1643.59 225.265 Q1643.31 225.019 1642.77 224.822 Q1642.25 224.609 1641.87 224.527 Q1641.49 224.445 1640.82 224.314 Q1640.51 224.248 1640.31 224.215 Q1640.12 224.166 1639.71 224.035 Q1639.31 223.888 1639.03 223.74 Q1638.77 223.592 1638.43 223.33 Q1638.08 223.068 1637.87 222.756 Q1637.66 222.445 1637.51 221.986 Q1637.36 221.527 1637.36 220.985 Q1637.36 220.494 1637.51 219.903 Q1637.67 219.313 1638.08 218.624 Q1638.51 217.936 1639.12 217.378 Q1639.72 216.821 1640.74 216.46 Q1641.77 216.083 1643.04 216.083 Q1644.87 216.083 1645.95 216.936 Q1647.04 217.772 1647.04 218.969 Z\" fill=\"#000000\" fill-rule=\"evenodd\" fill-opacity=\"1\" /><path clip-path=\"url(#clip630)\" d=\"M1650.13 220.182 Q1650.13 215.247 1651.38 212.558 Q1653.11 208.558 1657.21 208.558 Q1658.08 208.558 1658.98 208.803 Q1659.9 209.033 1661.05 209.935 Q1662.21 210.837 1662.92 212.312 Q1664.26 215.165 1664.26 220.182 Q1664.26 225.084 1663.02 227.757 Q1661.2 231.659 1657.18 231.659 Q1655.67 231.659 1654.13 230.888 Q1652.61 230.118 1651.64 228.265 Q1650.13 225.494 1650.13 220.182 M1652.92 219.772 Q1652.92 224.838 1653.28 226.855 Q1653.69 229.036 1654.8 229.987 Q1655.93 230.921 1657.18 230.921 Q1658.52 230.921 1659.64 229.921 Q1660.77 228.905 1661.11 226.724 Q1661.49 224.576 1661.48 219.772 Q1661.48 215.099 1661.15 213.23 Q1660.7 211.05 1659.52 210.181 Q1658.36 209.295 1657.18 209.295 Q1656.74 209.295 1656.26 209.427 Q1655.8 209.558 1655.13 209.935 Q1654.46 210.312 1653.93 211.246 Q1653.42 212.181 1653.18 213.591 Q1652.92 215.411 1652.92 219.772 Z\" fill=\"#000000\" fill-rule=\"evenodd\" fill-opacity=\"1\" /><path clip-path=\"url(#clip630)\" d=\"M1647.2 184.945 Q1646.99 185.322 1646.54 185.42 Q1646.12 185.502 1645.76 185.256 L1641.46 182.092 L1642.02 187.404 Q1642.07 187.83 1641.79 188.158 Q1641.51 188.47 1641.05 188.47 Q1640.59 188.47 1640.31 188.158 Q1640.03 187.83 1640.08 187.404 L1640.64 182.092 L1636.35 185.256 Q1635.99 185.502 1635.54 185.42 Q1635.12 185.322 1634.9 184.945 Q1634.67 184.535 1634.8 184.125 Q1634.95 183.699 1635.38 183.535 L1640.25 181.387 L1635.38 179.239 Q1634.95 179.075 1634.8 178.665 Q1634.67 178.239 1634.9 177.829 Q1635.12 177.452 1635.54 177.37 Q1635.99 177.272 1636.35 177.517 L1640.64 180.682 L1640.08 175.37 Q1640.03 174.927 1640.31 174.599 Q1640.61 174.271 1641.05 174.271 Q1641.49 174.271 1641.77 174.599 Q1642.07 174.927 1642.02 175.37 L1641.46 180.682 L1645.76 177.517 Q1646.12 177.272 1646.54 177.37 Q1646.99 177.452 1647.2 177.829 Q1647.43 178.239 1647.28 178.665 Q1647.15 179.075 1646.72 179.239 L1641.85 181.387 L1646.72 183.535 Q1647.15 183.699 1647.28 184.125 Q1647.43 184.535 1647.2 184.945 Z\" fill=\"#000000\" fill-rule=\"evenodd\" fill-opacity=\"1\" /><path clip-path=\"url(#clip630)\" d=\"M1677 205.64 Q1677 197.536 1680.02 191.001 Q1681.31 188.26 1683.11 185.965 Q1684.92 183.67 1686.11 182.663 Q1687.3 181.655 1687.63 181.655 Q1688.1 181.655 1688.12 182.124 Q1688.12 182.358 1687.49 182.944 Q1679.76 190.814 1679.79 205.64 Q1679.79 220.513 1687.3 228.079 Q1688.12 228.898 1688.12 229.156 Q1688.12 229.625 1687.63 229.625 Q1687.3 229.625 1686.16 228.664 Q1685.01 227.704 1683.23 225.502 Q1681.45 223.3 1680.16 220.607 Q1677 214.072 1677 205.64 Z\" fill=\"#000000\" fill-rule=\"evenodd\" fill-opacity=\"1\" /><path clip-path=\"url(#clip630)\" d=\"M1692.73 217.632 Q1692.73 216.766 1692.8 216.508 Q1692.9 216.25 1693.27 215.852 L1702.48 205.593 Q1707.51 199.925 1707.51 194.983 Q1707.51 191.774 1705.82 189.478 Q1704.16 187.183 1701.09 187.183 Q1698.99 187.183 1697.21 188.471 Q1695.43 189.76 1694.61 192.055 Q1694.75 192.008 1695.24 192.008 Q1696.43 192.008 1697.09 192.758 Q1697.77 193.507 1697.77 194.514 Q1697.77 195.803 1696.92 196.435 Q1696.1 197.044 1695.28 197.044 Q1694.96 197.044 1694.51 196.974 Q1694.09 196.903 1693.41 196.248 Q1692.73 195.568 1692.73 194.374 Q1692.73 191.024 1695.26 188.354 Q1697.81 185.684 1701.7 185.684 Q1706.11 185.684 1708.99 188.307 Q1711.89 190.907 1711.89 194.983 Q1711.89 196.411 1711.45 197.723 Q1711.02 199.011 1710.44 200.019 Q1709.88 201.026 1708.33 202.642 Q1706.78 204.258 1705.54 205.406 Q1704.3 206.553 1701.51 208.989 L1696.43 213.931 L1705.08 213.931 Q1709.29 213.931 1709.62 213.557 Q1710.09 212.877 1710.67 209.294 L1711.89 209.294 L1710.53 217.632 L1692.73 217.632 Z\" fill=\"#000000\" fill-rule=\"evenodd\" fill-opacity=\"1\" /><path clip-path=\"url(#clip630)\" d=\"M1716.68 211.168 Q1716.68 209.739 1717.5 209.06 Q1718.32 208.38 1719.37 208.38 Q1720.47 208.38 1721.25 209.106 Q1722.04 209.809 1722.04 211.051 Q1722.04 212.386 1721.11 213.135 Q1720.19 213.885 1718.88 213.697 Q1720.03 215.618 1722.14 216.485 Q1724.27 217.351 1726.24 217.351 Q1728.3 217.351 1729.96 215.571 Q1731.65 213.791 1731.65 209.434 Q1731.65 205.734 1730.19 203.602 Q1728.77 201.471 1725.93 201.471 L1723.82 201.471 Q1723.1 201.471 1722.89 201.4 Q1722.68 201.33 1722.68 200.932 Q1722.68 200.464 1723.4 200.37 Q1724.13 200.37 1725.28 200.229 Q1728.06 200.136 1729.54 197.723 Q1730.87 195.475 1730.87 192.266 Q1730.87 189.338 1729.47 188.12 Q1728.09 186.879 1726.28 186.879 Q1724.6 186.879 1722.75 187.581 Q1720.9 188.284 1719.89 189.853 Q1722.86 189.853 1722.86 192.266 Q1722.86 193.32 1722.18 194.022 Q1721.53 194.702 1720.43 194.702 Q1719.37 194.702 1718.67 194.046 Q1717.97 193.367 1717.97 192.219 Q1717.97 189.478 1720.4 187.581 Q1722.86 185.684 1726.47 185.684 Q1730.03 185.684 1732.65 187.558 Q1735.3 189.432 1735.3 192.313 Q1735.3 195.147 1733.43 197.465 Q1731.55 199.784 1728.58 200.745 Q1732.23 201.471 1734.41 203.954 Q1736.59 206.413 1736.59 209.434 Q1736.59 213.182 1733.64 215.946 Q1730.69 218.686 1726.38 218.686 Q1722.4 218.686 1719.54 216.531 Q1716.68 214.376 1716.68 211.168 Z\" fill=\"#000000\" fill-rule=\"evenodd\" fill-opacity=\"1\" /><path clip-path=\"url(#clip630)\" d=\"M1739.34 190.251 L1739.34 188.752 Q1745.1 188.752 1748.07 185.684 Q1748.89 185.684 1749.03 185.871 Q1749.17 186.059 1749.17 186.925 L1749.17 213.838 Q1749.17 215.267 1749.88 215.712 Q1750.58 216.157 1753.65 216.157 L1755.17 216.157 L1755.17 217.632 Q1753.48 217.492 1747.39 217.492 Q1741.3 217.492 1739.64 217.632 L1739.64 216.157 L1741.16 216.157 Q1744.18 216.157 1744.91 215.735 Q1745.64 215.29 1745.64 213.838 L1745.64 188.987 Q1743.13 190.251 1739.34 190.251 Z\" fill=\"#000000\" fill-rule=\"evenodd\" fill-opacity=\"1\" /><path clip-path=\"url(#clip630)\" d=\"M1756.6 195.076 L1758.16 185.216 L1759.36 185.216 Q1759.5 185.801 1759.73 186.059 Q1759.99 186.316 1761.35 186.527 Q1762.73 186.738 1765.52 186.738 L1777.16 186.738 Q1777.16 187.839 1776.74 188.424 L1770.25 197.536 Q1768.19 200.417 1767.28 205.734 Q1766.74 209.294 1766.76 213.604 L1766.76 216.039 Q1766.76 218.686 1764.54 218.686 Q1762.33 218.686 1762.33 216.039 Q1762.33 206.881 1768.24 198.004 Q1768.87 197.091 1771.19 193.835 Q1773.53 190.579 1773.62 190.439 L1763.69 190.439 Q1759.34 190.439 1758.98 190.72 Q1758.52 191.141 1757.79 195.076 L1756.6 195.076 Z\" fill=\"#000000\" fill-rule=\"evenodd\" fill-opacity=\"1\" /><path clip-path=\"url(#clip630)\" d=\"M1780.54 229.156 Q1780.54 228.922 1781.15 228.336 Q1788.88 220.466 1788.88 205.64 Q1788.88 190.767 1781.46 183.248 Q1780.54 182.381 1780.54 182.124 Q1780.54 181.655 1781.01 181.655 Q1781.34 181.655 1782.49 182.616 Q1783.66 183.576 1785.42 185.778 Q1787.2 187.979 1788.51 190.673 Q1791.67 197.208 1791.67 205.64 Q1791.67 213.744 1788.65 220.279 Q1787.36 223.019 1785.56 225.315 Q1783.75 227.61 1782.56 228.617 Q1781.36 229.625 1781.01 229.625 Q1780.54 229.625 1780.54 229.156 Z\" fill=\"#000000\" fill-rule=\"evenodd\" fill-opacity=\"1\" /><path clip-path=\"url(#clip630)\" d=\"M1826.16 179.858 L1814.04 179.858 L1814.04 178.809 L1826.16 178.809 L1826.16 179.858 Z\" fill=\"#000000\" fill-rule=\"evenodd\" fill-opacity=\"1\" /><path clip-path=\"url(#clip630)\" d=\"M1835.62 196.997 Q1835.62 200.862 1833.96 204.656 Q1832.32 208.427 1829.65 211.285 Q1827 214.119 1823.42 215.876 Q1819.83 217.632 1816.18 217.632 L1800.3 217.632 Q1799.74 217.632 1799.5 217.609 Q1799.29 217.585 1799.13 217.468 Q1798.96 217.328 1798.96 217.047 Q1798.96 216.602 1799.15 216.414 Q1799.34 216.203 1799.55 216.18 Q1799.76 216.157 1800.3 216.157 Q1801.47 216.157 1802.17 216.086 Q1802.88 216.016 1803.32 215.922 Q1803.79 215.805 1804.02 215.477 Q1804.28 215.149 1804.4 214.868 Q1804.52 214.564 1804.68 213.885 L1811.1 188.12 Q1811.28 187.347 1811.28 187.23 Q1811.28 186.832 1811.05 186.691 Q1810.84 186.527 1810.23 186.457 Q1809.06 186.363 1808.17 186.363 Q1807.58 186.363 1807.35 186.34 Q1807.14 186.316 1806.95 186.199 Q1806.79 186.059 1806.79 185.778 Q1806.79 185.333 1806.97 185.145 Q1807.19 184.934 1807.42 184.911 Q1807.65 184.864 1808.22 184.864 L1824.33 184.864 Q1827.82 184.864 1830.42 186.504 Q1833.02 188.12 1834.31 190.86 Q1835.62 193.577 1835.62 196.997 M1831.43 195.24 Q1831.43 190.767 1828.99 188.565 Q1826.58 186.363 1822.76 186.363 L1817.63 186.363 Q1816.11 186.363 1815.73 186.644 Q1815.36 186.902 1815.03 188.19 L1808.45 214.517 Q1808.22 215.384 1808.22 215.618 Q1808.22 215.876 1808.33 215.969 Q1808.47 216.039 1808.85 216.086 Q1809.27 216.157 1809.9 216.157 L1815.31 216.157 Q1817.4 216.157 1819.29 215.594 Q1821.22 215.009 1822.6 214.095 Q1823.98 213.159 1824.87 212.362 Q1825.76 211.542 1826.39 210.723 Q1827.82 208.872 1828.87 206.46 Q1829.95 204.047 1830.44 201.845 Q1830.96 199.62 1831.19 197.981 Q1831.43 196.318 1831.43 195.24 Z\" fill=\"#000000\" fill-rule=\"evenodd\" fill-opacity=\"1\" /><path clip-path=\"url(#clip630)\" d=\"M1852.75 214.495 Q1852.75 215.414 1852.29 215.905 Q1851.83 216.381 1851.21 216.381 Q1850.7 216.381 1850.42 216.086 Q1850.16 215.791 1850.16 215.397 Q1850.16 214.823 1850.62 214.364 Q1851.09 213.905 1851.78 213.889 Q1851.55 213.282 1850.95 212.921 Q1850.34 212.544 1849.8 212.446 Q1849.27 212.348 1848.75 212.348 Q1847.72 212.348 1846.93 212.675 Q1846.14 213.003 1845.75 213.512 Q1845.35 214.003 1845.17 214.479 Q1844.99 214.954 1844.99 215.364 Q1844.99 215.725 1845.08 216.02 Q1845.17 216.299 1845.4 216.512 Q1845.63 216.709 1845.8 216.84 Q1845.98 216.971 1846.37 217.086 Q1846.76 217.201 1846.93 217.25 Q1847.09 217.283 1847.55 217.381 Q1848.5 217.578 1848.93 217.693 Q1849.35 217.791 1849.91 218.07 Q1850.49 218.348 1850.91 218.791 Q1851.95 219.824 1851.95 221.25 Q1851.95 221.775 1851.76 222.414 Q1851.6 223.054 1851.13 223.857 Q1850.65 224.661 1849.93 225.3 Q1849.21 225.94 1847.96 226.382 Q1846.73 226.825 1845.19 226.825 Q1843.04 226.825 1841.71 225.923 Q1840.39 225.005 1840.39 223.562 Q1840.39 222.513 1840.96 221.939 Q1841.53 221.349 1842.27 221.349 Q1842.83 221.349 1843.17 221.66 Q1843.52 221.955 1843.52 222.513 Q1843.52 223.267 1842.91 223.841 Q1842.3 224.415 1841.4 224.3 Q1842.17 226.071 1845.22 226.071 Q1846.37 226.071 1847.26 225.776 Q1848.16 225.464 1848.65 225.038 Q1849.16 224.595 1849.49 224.054 Q1849.81 223.513 1849.91 223.103 Q1850.03 222.693 1850.03 222.382 Q1850.03 221.841 1849.81 221.431 Q1849.6 221.021 1849.31 220.791 Q1849.03 220.545 1848.49 220.349 Q1847.96 220.135 1847.58 220.054 Q1847.21 219.972 1846.53 219.84 Q1846.22 219.775 1846.03 219.742 Q1845.83 219.693 1845.42 219.562 Q1845.03 219.414 1844.75 219.267 Q1844.49 219.119 1844.14 218.857 Q1843.8 218.594 1843.58 218.283 Q1843.37 217.971 1843.22 217.512 Q1843.08 217.053 1843.08 216.512 Q1843.08 216.02 1843.22 215.43 Q1843.39 214.84 1843.8 214.151 Q1844.22 213.462 1844.83 212.905 Q1845.44 212.348 1846.45 211.987 Q1847.49 211.61 1848.75 211.61 Q1850.58 211.61 1851.67 212.462 Q1852.75 213.298 1852.75 214.495 Z\" fill=\"#000000\" fill-rule=\"evenodd\" fill-opacity=\"1\" /></svg>\n"
      ]
     },
     "execution_count": 21,
     "metadata": {},
     "output_type": "execute_result"
    }
   ],
   "source": [
    "\n",
    "x =4.28:0.0001: 4.30\n",
    "y1 = [real(VGgauss0.(x))]\n",
    "\n",
    "Plots.plot(x, y1, color=:blue, linewidth=2, label=\"Re G\")\n",
    "vline!([mds02317+mds], line=:dash, label=L\"D_{s0}^{\\ast}(2317)\\bar{D}_s\")"
   ]
  },
  {
   "cell_type": "code",
   "execution_count": 22,
   "metadata": {},
   "outputs": [
    {
     "data": {
      "image/svg+xml": [
       "<?xml version=\"1.0\" encoding=\"utf-8\"?>\n",
       "<svg xmlns=\"http://www.w3.org/2000/svg\" xmlns:xlink=\"http://www.w3.org/1999/xlink\" width=\"500\" height=\"350\" viewBox=\"0 0 2000 1400\">\n",
       "<defs>\n",
       "  <clipPath id=\"clip670\">\n",
       "    <rect x=\"0\" y=\"0\" width=\"2000\" height=\"1400\"/>\n",
       "  </clipPath>\n",
       "</defs>\n",
       "<path clip-path=\"url(#clip670)\" d=\"\n",
       "M0 1400 L2000 1400 L2000 0 L0 0  Z\n",
       "  \" fill=\"#ffffff\" fill-rule=\"evenodd\" fill-opacity=\"1\"/>\n",
       "<defs>\n",
       "  <clipPath id=\"clip671\">\n",
       "    <rect x=\"400\" y=\"0\" width=\"1401\" height=\"1400\"/>\n",
       "  </clipPath>\n",
       "</defs>\n",
       "<defs>\n",
       "  <clipPath id=\"clip672\">\n",
       "    <rect x=\"242\" y=\"47\" width=\"1711\" height=\"1240\"/>\n",
       "  </clipPath>\n",
       "</defs>\n",
       "<path clip-path=\"url(#clip670)\" d=\"\n",
       "M249.612 1286.72 L1952.76 1286.72 L1952.76 47.2441 L249.612 47.2441  Z\n",
       "  \" fill=\"#ffffff\" fill-rule=\"evenodd\" fill-opacity=\"1\"/>\n",
       "<defs>\n",
       "  <clipPath id=\"clip673\">\n",
       "    <rect x=\"249\" y=\"47\" width=\"1704\" height=\"1240\"/>\n",
       "  </clipPath>\n",
       "</defs>\n",
       "<polyline clip-path=\"url(#clip673)\" style=\"stroke:#000000; stroke-linecap:butt; stroke-linejoin:round; stroke-width:2; stroke-opacity:0.1; fill:none\" points=\"\n",
       "  297.814,1286.72 297.814,47.2441 \n",
       "  \"/>\n",
       "<polyline clip-path=\"url(#clip673)\" style=\"stroke:#000000; stroke-linecap:butt; stroke-linejoin:round; stroke-width:2; stroke-opacity:0.1; fill:none\" points=\"\n",
       "  675.87,1286.72 675.87,47.2441 \n",
       "  \"/>\n",
       "<polyline clip-path=\"url(#clip673)\" style=\"stroke:#000000; stroke-linecap:butt; stroke-linejoin:round; stroke-width:2; stroke-opacity:0.1; fill:none\" points=\"\n",
       "  1053.93,1286.72 1053.93,47.2441 \n",
       "  \"/>\n",
       "<polyline clip-path=\"url(#clip673)\" style=\"stroke:#000000; stroke-linecap:butt; stroke-linejoin:round; stroke-width:2; stroke-opacity:0.1; fill:none\" points=\"\n",
       "  1431.98,1286.72 1431.98,47.2441 \n",
       "  \"/>\n",
       "<polyline clip-path=\"url(#clip673)\" style=\"stroke:#000000; stroke-linecap:butt; stroke-linejoin:round; stroke-width:2; stroke-opacity:0.1; fill:none\" points=\"\n",
       "  1810.04,1286.72 1810.04,47.2441 \n",
       "  \"/>\n",
       "<polyline clip-path=\"url(#clip670)\" style=\"stroke:#000000; stroke-linecap:butt; stroke-linejoin:round; stroke-width:4; stroke-opacity:1; fill:none\" points=\"\n",
       "  249.612,1286.72 1952.76,1286.72 \n",
       "  \"/>\n",
       "<polyline clip-path=\"url(#clip670)\" style=\"stroke:#000000; stroke-linecap:butt; stroke-linejoin:round; stroke-width:4; stroke-opacity:1; fill:none\" points=\"\n",
       "  249.612,47.2441 1952.76,47.2441 \n",
       "  \"/>\n",
       "<polyline clip-path=\"url(#clip670)\" style=\"stroke:#000000; stroke-linecap:butt; stroke-linejoin:round; stroke-width:4; stroke-opacity:1; fill:none\" points=\"\n",
       "  297.814,1286.72 297.814,1267.82 \n",
       "  \"/>\n",
       "<polyline clip-path=\"url(#clip670)\" style=\"stroke:#000000; stroke-linecap:butt; stroke-linejoin:round; stroke-width:4; stroke-opacity:1; fill:none\" points=\"\n",
       "  675.87,1286.72 675.87,1267.82 \n",
       "  \"/>\n",
       "<polyline clip-path=\"url(#clip670)\" style=\"stroke:#000000; stroke-linecap:butt; stroke-linejoin:round; stroke-width:4; stroke-opacity:1; fill:none\" points=\"\n",
       "  1053.93,1286.72 1053.93,1267.82 \n",
       "  \"/>\n",
       "<polyline clip-path=\"url(#clip670)\" style=\"stroke:#000000; stroke-linecap:butt; stroke-linejoin:round; stroke-width:4; stroke-opacity:1; fill:none\" points=\"\n",
       "  1431.98,1286.72 1431.98,1267.82 \n",
       "  \"/>\n",
       "<polyline clip-path=\"url(#clip670)\" style=\"stroke:#000000; stroke-linecap:butt; stroke-linejoin:round; stroke-width:4; stroke-opacity:1; fill:none\" points=\"\n",
       "  1810.04,1286.72 1810.04,1267.82 \n",
       "  \"/>\n",
       "<polyline clip-path=\"url(#clip670)\" style=\"stroke:#000000; stroke-linecap:butt; stroke-linejoin:round; stroke-width:4; stroke-opacity:1; fill:none\" points=\"\n",
       "  373.425,1286.72 373.425,1277.27 \n",
       "  \"/>\n",
       "<polyline clip-path=\"url(#clip670)\" style=\"stroke:#000000; stroke-linecap:butt; stroke-linejoin:round; stroke-width:4; stroke-opacity:1; fill:none\" points=\"\n",
       "  449.036,1286.72 449.036,1277.27 \n",
       "  \"/>\n",
       "<polyline clip-path=\"url(#clip670)\" style=\"stroke:#000000; stroke-linecap:butt; stroke-linejoin:round; stroke-width:4; stroke-opacity:1; fill:none\" points=\"\n",
       "  524.648,1286.72 524.648,1277.27 \n",
       "  \"/>\n",
       "<polyline clip-path=\"url(#clip670)\" style=\"stroke:#000000; stroke-linecap:butt; stroke-linejoin:round; stroke-width:4; stroke-opacity:1; fill:none\" points=\"\n",
       "  600.259,1286.72 600.259,1277.27 \n",
       "  \"/>\n",
       "<polyline clip-path=\"url(#clip670)\" style=\"stroke:#000000; stroke-linecap:butt; stroke-linejoin:round; stroke-width:4; stroke-opacity:1; fill:none\" points=\"\n",
       "  751.482,1286.72 751.482,1277.27 \n",
       "  \"/>\n",
       "<polyline clip-path=\"url(#clip670)\" style=\"stroke:#000000; stroke-linecap:butt; stroke-linejoin:round; stroke-width:4; stroke-opacity:1; fill:none\" points=\"\n",
       "  827.093,1286.72 827.093,1277.27 \n",
       "  \"/>\n",
       "<polyline clip-path=\"url(#clip670)\" style=\"stroke:#000000; stroke-linecap:butt; stroke-linejoin:round; stroke-width:4; stroke-opacity:1; fill:none\" points=\"\n",
       "  902.704,1286.72 902.704,1277.27 \n",
       "  \"/>\n",
       "<polyline clip-path=\"url(#clip670)\" style=\"stroke:#000000; stroke-linecap:butt; stroke-linejoin:round; stroke-width:4; stroke-opacity:1; fill:none\" points=\"\n",
       "  978.315,1286.72 978.315,1277.27 \n",
       "  \"/>\n",
       "<polyline clip-path=\"url(#clip670)\" style=\"stroke:#000000; stroke-linecap:butt; stroke-linejoin:round; stroke-width:4; stroke-opacity:1; fill:none\" points=\"\n",
       "  1129.54,1286.72 1129.54,1277.27 \n",
       "  \"/>\n",
       "<polyline clip-path=\"url(#clip670)\" style=\"stroke:#000000; stroke-linecap:butt; stroke-linejoin:round; stroke-width:4; stroke-opacity:1; fill:none\" points=\"\n",
       "  1205.15,1286.72 1205.15,1277.27 \n",
       "  \"/>\n",
       "<polyline clip-path=\"url(#clip670)\" style=\"stroke:#000000; stroke-linecap:butt; stroke-linejoin:round; stroke-width:4; stroke-opacity:1; fill:none\" points=\"\n",
       "  1280.76,1286.72 1280.76,1277.27 \n",
       "  \"/>\n",
       "<polyline clip-path=\"url(#clip670)\" style=\"stroke:#000000; stroke-linecap:butt; stroke-linejoin:round; stroke-width:4; stroke-opacity:1; fill:none\" points=\"\n",
       "  1356.37,1286.72 1356.37,1277.27 \n",
       "  \"/>\n",
       "<polyline clip-path=\"url(#clip670)\" style=\"stroke:#000000; stroke-linecap:butt; stroke-linejoin:round; stroke-width:4; stroke-opacity:1; fill:none\" points=\"\n",
       "  1507.59,1286.72 1507.59,1277.27 \n",
       "  \"/>\n",
       "<polyline clip-path=\"url(#clip670)\" style=\"stroke:#000000; stroke-linecap:butt; stroke-linejoin:round; stroke-width:4; stroke-opacity:1; fill:none\" points=\"\n",
       "  1583.21,1286.72 1583.21,1277.27 \n",
       "  \"/>\n",
       "<polyline clip-path=\"url(#clip670)\" style=\"stroke:#000000; stroke-linecap:butt; stroke-linejoin:round; stroke-width:4; stroke-opacity:1; fill:none\" points=\"\n",
       "  1658.82,1286.72 1658.82,1277.27 \n",
       "  \"/>\n",
       "<polyline clip-path=\"url(#clip670)\" style=\"stroke:#000000; stroke-linecap:butt; stroke-linejoin:round; stroke-width:4; stroke-opacity:1; fill:none\" points=\"\n",
       "  1734.43,1286.72 1734.43,1277.27 \n",
       "  \"/>\n",
       "<polyline clip-path=\"url(#clip670)\" style=\"stroke:#000000; stroke-linecap:butt; stroke-linejoin:round; stroke-width:4; stroke-opacity:1; fill:none\" points=\"\n",
       "  1885.65,1286.72 1885.65,1277.27 \n",
       "  \"/>\n",
       "<path clip-path=\"url(#clip670)\" d=\"M263.289 1315.43 L251.483 1333.88 L263.289 1333.88 L263.289 1315.43 M262.062 1311.36 L267.941 1311.36 L267.941 1333.88 L272.872 1333.88 L272.872 1337.77 L267.941 1337.77 L267.941 1345.92 L263.289 1345.92 L263.289 1337.77 L247.687 1337.77 L247.687 1333.26 L262.062 1311.36 Z\" fill=\"#000000\" fill-rule=\"evenodd\" fill-opacity=\"1\" /><path clip-path=\"url(#clip670)\" d=\"M280.603 1340.04 L285.487 1340.04 L285.487 1345.92 L280.603 1345.92 L280.603 1340.04 Z\" fill=\"#000000\" fill-rule=\"evenodd\" fill-opacity=\"1\" /><path clip-path=\"url(#clip670)\" d=\"M299.7 1341.98 L316.02 1341.98 L316.02 1345.92 L294.075 1345.92 L294.075 1341.98 Q296.737 1339.23 301.321 1334.6 Q305.927 1329.95 307.108 1328.61 Q309.353 1326.08 310.233 1324.35 Q311.135 1322.59 311.135 1320.9 Q311.135 1318.14 309.191 1316.41 Q307.27 1314.67 304.168 1314.67 Q301.969 1314.67 299.515 1315.43 Q297.085 1316.2 294.307 1317.75 L294.307 1313.03 Q297.131 1311.89 299.585 1311.31 Q302.038 1310.73 304.075 1310.73 Q309.446 1310.73 312.64 1313.42 Q315.835 1316.11 315.835 1320.6 Q315.835 1322.73 315.024 1324.65 Q314.237 1326.54 312.131 1329.14 Q311.552 1329.81 308.45 1333.03 Q305.348 1336.22 299.7 1341.98 Z\" fill=\"#000000\" fill-rule=\"evenodd\" fill-opacity=\"1\" /><path clip-path=\"url(#clip670)\" d=\"M336.413 1326.78 Q333.265 1326.78 331.413 1328.93 Q329.584 1331.08 329.584 1334.83 Q329.584 1338.56 331.413 1340.73 Q333.265 1342.89 336.413 1342.89 Q339.561 1342.89 341.39 1340.73 Q343.242 1338.56 343.242 1334.83 Q343.242 1331.08 341.39 1328.93 Q339.561 1326.78 336.413 1326.78 M345.695 1312.12 L345.695 1316.38 Q343.936 1315.55 342.131 1315.11 Q340.348 1314.67 338.589 1314.67 Q333.959 1314.67 331.506 1317.8 Q329.075 1320.92 328.728 1327.24 Q330.094 1325.23 332.154 1324.16 Q334.214 1323.07 336.691 1323.07 Q341.899 1323.07 344.908 1326.24 Q347.941 1329.39 347.941 1334.83 Q347.941 1340.16 344.793 1343.37 Q341.645 1346.59 336.413 1346.59 Q330.418 1346.59 327.247 1342.01 Q324.075 1337.4 324.075 1328.67 Q324.075 1320.48 327.964 1315.62 Q331.853 1310.73 338.404 1310.73 Q340.163 1310.73 341.946 1311.08 Q343.751 1311.43 345.695 1312.12 Z\" fill=\"#000000\" fill-rule=\"evenodd\" fill-opacity=\"1\" /><path clip-path=\"url(#clip670)\" d=\"M641.472 1315.43 L629.667 1333.88 L641.472 1333.88 L641.472 1315.43 M640.245 1311.36 L646.125 1311.36 L646.125 1333.88 L651.056 1333.88 L651.056 1337.77 L646.125 1337.77 L646.125 1345.92 L641.472 1345.92 L641.472 1337.77 L625.871 1337.77 L625.871 1333.26 L640.245 1311.36 Z\" fill=\"#000000\" fill-rule=\"evenodd\" fill-opacity=\"1\" /><path clip-path=\"url(#clip670)\" d=\"M658.787 1340.04 L663.671 1340.04 L663.671 1345.92 L658.787 1345.92 L658.787 1340.04 Z\" fill=\"#000000\" fill-rule=\"evenodd\" fill-opacity=\"1\" /><path clip-path=\"url(#clip670)\" d=\"M677.884 1341.98 L694.203 1341.98 L694.203 1345.92 L672.259 1345.92 L672.259 1341.98 Q674.921 1339.23 679.504 1334.6 Q684.111 1329.95 685.291 1328.61 Q687.537 1326.08 688.416 1324.35 Q689.319 1322.59 689.319 1320.9 Q689.319 1318.14 687.375 1316.41 Q685.454 1314.67 682.352 1314.67 Q680.153 1314.67 677.699 1315.43 Q675.268 1316.2 672.491 1317.75 L672.491 1313.03 Q675.315 1311.89 677.768 1311.31 Q680.222 1310.73 682.259 1310.73 Q687.629 1310.73 690.824 1313.42 Q694.018 1316.11 694.018 1320.6 Q694.018 1322.73 693.208 1324.65 Q692.421 1326.54 690.315 1329.14 Q689.736 1329.81 686.634 1333.03 Q683.532 1336.22 677.884 1341.98 Z\" fill=\"#000000\" fill-rule=\"evenodd\" fill-opacity=\"1\" /><path clip-path=\"url(#clip670)\" d=\"M714.018 1329.51 Q710.685 1329.51 708.764 1331.29 Q706.865 1333.07 706.865 1336.2 Q706.865 1339.32 708.764 1341.11 Q710.685 1342.89 714.018 1342.89 Q717.352 1342.89 719.273 1341.11 Q721.194 1339.3 721.194 1336.2 Q721.194 1333.07 719.273 1331.29 Q717.375 1329.51 714.018 1329.51 M709.342 1327.52 Q706.333 1326.78 704.643 1324.72 Q702.977 1322.66 702.977 1319.69 Q702.977 1315.55 705.916 1313.14 Q708.879 1310.73 714.018 1310.73 Q719.18 1310.73 722.12 1313.14 Q725.06 1315.55 725.06 1319.69 Q725.06 1322.66 723.37 1324.72 Q721.703 1326.78 718.717 1327.52 Q722.097 1328.3 723.972 1330.6 Q725.87 1332.89 725.87 1336.2 Q725.87 1341.22 722.791 1343.91 Q719.736 1346.59 714.018 1346.59 Q708.301 1346.59 705.222 1343.91 Q702.166 1341.22 702.166 1336.2 Q702.166 1332.89 704.065 1330.6 Q705.963 1328.3 709.342 1327.52 M707.629 1320.13 Q707.629 1322.82 709.296 1324.32 Q710.986 1325.83 714.018 1325.83 Q717.027 1325.83 718.717 1324.32 Q720.43 1322.82 720.43 1320.13 Q720.43 1317.45 718.717 1315.94 Q717.027 1314.44 714.018 1314.44 Q710.986 1314.44 709.296 1315.94 Q707.629 1317.45 707.629 1320.13 Z\" fill=\"#000000\" fill-rule=\"evenodd\" fill-opacity=\"1\" /><path clip-path=\"url(#clip670)\" d=\"M1019.48 1315.43 L1007.68 1333.88 L1019.48 1333.88 L1019.48 1315.43 M1018.26 1311.36 L1024.14 1311.36 L1024.14 1333.88 L1029.07 1333.88 L1029.07 1337.77 L1024.14 1337.77 L1024.14 1345.92 L1019.48 1345.92 L1019.48 1337.77 L1003.88 1337.77 L1003.88 1333.26 L1018.26 1311.36 Z\" fill=\"#000000\" fill-rule=\"evenodd\" fill-opacity=\"1\" /><path clip-path=\"url(#clip670)\" d=\"M1036.8 1340.04 L1041.68 1340.04 L1041.68 1345.92 L1036.8 1345.92 L1036.8 1340.04 Z\" fill=\"#000000\" fill-rule=\"evenodd\" fill-opacity=\"1\" /><path clip-path=\"url(#clip670)\" d=\"M1066.03 1327.29 Q1069.39 1328 1071.26 1330.27 Q1073.16 1332.54 1073.16 1335.87 Q1073.16 1340.99 1069.64 1343.79 Q1066.13 1346.59 1059.64 1346.59 Q1057.47 1346.59 1055.15 1346.15 Q1052.86 1345.73 1050.41 1344.88 L1050.41 1340.36 Q1052.35 1341.5 1054.67 1342.08 Q1056.98 1342.66 1059.51 1342.66 Q1063.9 1342.66 1066.2 1340.92 Q1068.51 1339.18 1068.51 1335.87 Q1068.51 1332.82 1066.36 1331.11 Q1064.23 1329.37 1060.41 1329.37 L1056.38 1329.37 L1056.38 1325.53 L1060.59 1325.53 Q1064.04 1325.53 1065.87 1324.16 Q1067.7 1322.77 1067.7 1320.18 Q1067.7 1317.52 1065.8 1316.11 Q1063.93 1314.67 1060.41 1314.67 Q1058.49 1314.67 1056.29 1315.09 Q1054.09 1315.5 1051.45 1316.38 L1051.45 1312.22 Q1054.11 1311.48 1056.43 1311.11 Q1058.76 1310.73 1060.82 1310.73 Q1066.15 1310.73 1069.25 1313.17 Q1072.35 1315.57 1072.35 1319.69 Q1072.35 1322.56 1070.71 1324.55 Q1069.07 1326.52 1066.03 1327.29 Z\" fill=\"#000000\" fill-rule=\"evenodd\" fill-opacity=\"1\" /><path clip-path=\"url(#clip670)\" d=\"M1092.03 1314.44 Q1088.42 1314.44 1086.59 1318 Q1084.78 1321.55 1084.78 1328.67 Q1084.78 1335.78 1086.59 1339.35 Q1088.42 1342.89 1092.03 1342.89 Q1095.66 1342.89 1097.47 1339.35 Q1099.3 1335.78 1099.3 1328.67 Q1099.3 1321.55 1097.47 1318 Q1095.66 1314.44 1092.03 1314.44 M1092.03 1310.73 Q1097.84 1310.73 1100.89 1315.34 Q1103.97 1319.92 1103.97 1328.67 Q1103.97 1337.4 1100.89 1342.01 Q1097.84 1346.59 1092.03 1346.59 Q1086.22 1346.59 1083.14 1342.01 Q1080.08 1337.4 1080.08 1328.67 Q1080.08 1319.92 1083.14 1315.34 Q1086.22 1310.73 1092.03 1310.73 Z\" fill=\"#000000\" fill-rule=\"evenodd\" fill-opacity=\"1\" /><path clip-path=\"url(#clip670)\" d=\"M1398.34 1315.43 L1386.53 1333.88 L1398.34 1333.88 L1398.34 1315.43 M1397.11 1311.36 L1402.99 1311.36 L1402.99 1333.88 L1407.92 1333.88 L1407.92 1337.77 L1402.99 1337.77 L1402.99 1345.92 L1398.34 1345.92 L1398.34 1337.77 L1382.74 1337.77 L1382.74 1333.26 L1397.11 1311.36 Z\" fill=\"#000000\" fill-rule=\"evenodd\" fill-opacity=\"1\" /><path clip-path=\"url(#clip670)\" d=\"M1415.65 1340.04 L1420.54 1340.04 L1420.54 1345.92 L1415.65 1345.92 L1415.65 1340.04 Z\" fill=\"#000000\" fill-rule=\"evenodd\" fill-opacity=\"1\" /><path clip-path=\"url(#clip670)\" d=\"M1444.89 1327.29 Q1448.24 1328 1450.12 1330.27 Q1452.02 1332.54 1452.02 1335.87 Q1452.02 1340.99 1448.5 1343.79 Q1444.98 1346.59 1438.5 1346.59 Q1436.32 1346.59 1434.01 1346.15 Q1431.72 1345.73 1429.26 1344.88 L1429.26 1340.36 Q1431.21 1341.5 1433.52 1342.08 Q1435.84 1342.66 1438.36 1342.66 Q1442.76 1342.66 1445.05 1340.92 Q1447.37 1339.18 1447.37 1335.87 Q1447.37 1332.82 1445.21 1331.11 Q1443.08 1329.37 1439.26 1329.37 L1435.24 1329.37 L1435.24 1325.53 L1439.45 1325.53 Q1442.9 1325.53 1444.73 1324.16 Q1446.55 1322.77 1446.55 1320.18 Q1446.55 1317.52 1444.66 1316.11 Q1442.78 1314.67 1439.26 1314.67 Q1437.34 1314.67 1435.14 1315.09 Q1432.94 1315.5 1430.3 1316.38 L1430.3 1312.22 Q1432.97 1311.48 1435.28 1311.11 Q1437.62 1310.73 1439.68 1310.73 Q1445 1310.73 1448.11 1313.17 Q1451.21 1315.57 1451.21 1319.69 Q1451.21 1322.56 1449.56 1324.55 Q1447.92 1326.52 1444.89 1327.29 Z\" fill=\"#000000\" fill-rule=\"evenodd\" fill-opacity=\"1\" /><path clip-path=\"url(#clip670)\" d=\"M1464.91 1341.98 L1481.23 1341.98 L1481.23 1345.92 L1459.29 1345.92 L1459.29 1341.98 Q1461.95 1339.23 1466.53 1334.6 Q1471.14 1329.95 1472.32 1328.61 Q1474.56 1326.08 1475.44 1324.35 Q1476.35 1322.59 1476.35 1320.9 Q1476.35 1318.14 1474.4 1316.41 Q1472.48 1314.67 1469.38 1314.67 Q1467.18 1314.67 1464.73 1315.43 Q1462.3 1316.2 1459.52 1317.75 L1459.52 1313.03 Q1462.34 1311.89 1464.8 1311.31 Q1467.25 1310.73 1469.29 1310.73 Q1474.66 1310.73 1477.85 1313.42 Q1481.05 1316.11 1481.05 1320.6 Q1481.05 1322.73 1480.24 1324.65 Q1479.45 1326.54 1477.34 1329.14 Q1476.76 1329.81 1473.66 1333.03 Q1470.56 1336.22 1464.91 1341.98 Z\" fill=\"#000000\" fill-rule=\"evenodd\" fill-opacity=\"1\" /><path clip-path=\"url(#clip670)\" d=\"M1775.35 1315.43 L1763.55 1333.88 L1775.35 1333.88 L1775.35 1315.43 M1774.13 1311.36 L1780.01 1311.36 L1780.01 1333.88 L1784.94 1333.88 L1784.94 1337.77 L1780.01 1337.77 L1780.01 1345.92 L1775.35 1345.92 L1775.35 1337.77 L1759.75 1337.77 L1759.75 1333.26 L1774.13 1311.36 Z\" fill=\"#000000\" fill-rule=\"evenodd\" fill-opacity=\"1\" /><path clip-path=\"url(#clip670)\" d=\"M1792.67 1340.04 L1797.55 1340.04 L1797.55 1345.92 L1792.67 1345.92 L1792.67 1340.04 Z\" fill=\"#000000\" fill-rule=\"evenodd\" fill-opacity=\"1\" /><path clip-path=\"url(#clip670)\" d=\"M1821.9 1327.29 Q1825.26 1328 1827.13 1330.27 Q1829.03 1332.54 1829.03 1335.87 Q1829.03 1340.99 1825.51 1343.79 Q1822 1346.59 1815.51 1346.59 Q1813.34 1346.59 1811.02 1346.15 Q1808.73 1345.73 1806.28 1344.88 L1806.28 1340.36 Q1808.22 1341.5 1810.54 1342.08 Q1812.85 1342.66 1815.38 1342.66 Q1819.77 1342.66 1822.06 1340.92 Q1824.38 1339.18 1824.38 1335.87 Q1824.38 1332.82 1822.23 1331.11 Q1820.1 1329.37 1816.28 1329.37 L1812.25 1329.37 L1812.25 1325.53 L1816.46 1325.53 Q1819.91 1325.53 1821.74 1324.16 Q1823.57 1322.77 1823.57 1320.18 Q1823.57 1317.52 1821.67 1316.11 Q1819.8 1314.67 1816.28 1314.67 Q1814.36 1314.67 1812.16 1315.09 Q1809.96 1315.5 1807.32 1316.38 L1807.32 1312.22 Q1809.98 1311.48 1812.3 1311.11 Q1814.63 1310.73 1816.69 1310.73 Q1822.02 1310.73 1825.12 1313.17 Q1828.22 1315.57 1828.22 1319.69 Q1828.22 1322.56 1826.58 1324.55 Q1824.94 1326.52 1821.9 1327.29 Z\" fill=\"#000000\" fill-rule=\"evenodd\" fill-opacity=\"1\" /><path clip-path=\"url(#clip670)\" d=\"M1850.75 1315.43 L1838.94 1333.88 L1850.75 1333.88 L1850.75 1315.43 M1849.52 1311.36 L1855.4 1311.36 L1855.4 1333.88 L1860.33 1333.88 L1860.33 1337.77 L1855.4 1337.77 L1855.4 1345.92 L1850.75 1345.92 L1850.75 1337.77 L1835.14 1337.77 L1835.14 1333.26 L1849.52 1311.36 Z\" fill=\"#000000\" fill-rule=\"evenodd\" fill-opacity=\"1\" /><polyline clip-path=\"url(#clip673)\" style=\"stroke:#000000; stroke-linecap:butt; stroke-linejoin:round; stroke-width:2; stroke-opacity:0.1; fill:none\" points=\"\n",
       "  249.612,1050.16 1952.76,1050.16 \n",
       "  \"/>\n",
       "<polyline clip-path=\"url(#clip673)\" style=\"stroke:#000000; stroke-linecap:butt; stroke-linejoin:round; stroke-width:2; stroke-opacity:0.1; fill:none\" points=\"\n",
       "  249.612,727.555 1952.76,727.555 \n",
       "  \"/>\n",
       "<polyline clip-path=\"url(#clip673)\" style=\"stroke:#000000; stroke-linecap:butt; stroke-linejoin:round; stroke-width:2; stroke-opacity:0.1; fill:none\" points=\"\n",
       "  249.612,404.95 1952.76,404.95 \n",
       "  \"/>\n",
       "<polyline clip-path=\"url(#clip673)\" style=\"stroke:#000000; stroke-linecap:butt; stroke-linejoin:round; stroke-width:2; stroke-opacity:0.1; fill:none\" points=\"\n",
       "  249.612,82.3451 1952.76,82.3451 \n",
       "  \"/>\n",
       "<polyline clip-path=\"url(#clip670)\" style=\"stroke:#000000; stroke-linecap:butt; stroke-linejoin:round; stroke-width:4; stroke-opacity:1; fill:none\" points=\"\n",
       "  249.612,1286.72 249.612,47.2441 \n",
       "  \"/>\n",
       "<polyline clip-path=\"url(#clip670)\" style=\"stroke:#000000; stroke-linecap:butt; stroke-linejoin:round; stroke-width:4; stroke-opacity:1; fill:none\" points=\"\n",
       "  1952.76,1286.72 1952.76,47.2441 \n",
       "  \"/>\n",
       "<polyline clip-path=\"url(#clip670)\" style=\"stroke:#000000; stroke-linecap:butt; stroke-linejoin:round; stroke-width:4; stroke-opacity:1; fill:none\" points=\"\n",
       "  249.612,1050.16 268.509,1050.16 \n",
       "  \"/>\n",
       "<polyline clip-path=\"url(#clip670)\" style=\"stroke:#000000; stroke-linecap:butt; stroke-linejoin:round; stroke-width:4; stroke-opacity:1; fill:none\" points=\"\n",
       "  249.612,727.555 268.509,727.555 \n",
       "  \"/>\n",
       "<polyline clip-path=\"url(#clip670)\" style=\"stroke:#000000; stroke-linecap:butt; stroke-linejoin:round; stroke-width:4; stroke-opacity:1; fill:none\" points=\"\n",
       "  249.612,404.95 268.509,404.95 \n",
       "  \"/>\n",
       "<polyline clip-path=\"url(#clip670)\" style=\"stroke:#000000; stroke-linecap:butt; stroke-linejoin:round; stroke-width:4; stroke-opacity:1; fill:none\" points=\"\n",
       "  249.612,82.3451 268.509,82.3451 \n",
       "  \"/>\n",
       "<polyline clip-path=\"url(#clip670)\" style=\"stroke:#000000; stroke-linecap:butt; stroke-linejoin:round; stroke-width:4; stroke-opacity:1; fill:none\" points=\"\n",
       "  249.612,1243.72 259.06,1243.72 \n",
       "  \"/>\n",
       "<polyline clip-path=\"url(#clip670)\" style=\"stroke:#000000; stroke-linecap:butt; stroke-linejoin:round; stroke-width:4; stroke-opacity:1; fill:none\" points=\"\n",
       "  249.612,1179.2 259.06,1179.2 \n",
       "  \"/>\n",
       "<polyline clip-path=\"url(#clip670)\" style=\"stroke:#000000; stroke-linecap:butt; stroke-linejoin:round; stroke-width:4; stroke-opacity:1; fill:none\" points=\"\n",
       "  249.612,1114.68 259.06,1114.68 \n",
       "  \"/>\n",
       "<polyline clip-path=\"url(#clip670)\" style=\"stroke:#000000; stroke-linecap:butt; stroke-linejoin:round; stroke-width:4; stroke-opacity:1; fill:none\" points=\"\n",
       "  249.612,985.638 259.06,985.638 \n",
       "  \"/>\n",
       "<polyline clip-path=\"url(#clip670)\" style=\"stroke:#000000; stroke-linecap:butt; stroke-linejoin:round; stroke-width:4; stroke-opacity:1; fill:none\" points=\"\n",
       "  249.612,921.117 259.06,921.117 \n",
       "  \"/>\n",
       "<polyline clip-path=\"url(#clip670)\" style=\"stroke:#000000; stroke-linecap:butt; stroke-linejoin:round; stroke-width:4; stroke-opacity:1; fill:none\" points=\"\n",
       "  249.612,856.597 259.06,856.597 \n",
       "  \"/>\n",
       "<polyline clip-path=\"url(#clip670)\" style=\"stroke:#000000; stroke-linecap:butt; stroke-linejoin:round; stroke-width:4; stroke-opacity:1; fill:none\" points=\"\n",
       "  249.612,792.076 259.06,792.076 \n",
       "  \"/>\n",
       "<polyline clip-path=\"url(#clip670)\" style=\"stroke:#000000; stroke-linecap:butt; stroke-linejoin:round; stroke-width:4; stroke-opacity:1; fill:none\" points=\"\n",
       "  249.612,663.034 259.06,663.034 \n",
       "  \"/>\n",
       "<polyline clip-path=\"url(#clip670)\" style=\"stroke:#000000; stroke-linecap:butt; stroke-linejoin:round; stroke-width:4; stroke-opacity:1; fill:none\" points=\"\n",
       "  249.612,598.513 259.06,598.513 \n",
       "  \"/>\n",
       "<polyline clip-path=\"url(#clip670)\" style=\"stroke:#000000; stroke-linecap:butt; stroke-linejoin:round; stroke-width:4; stroke-opacity:1; fill:none\" points=\"\n",
       "  249.612,533.992 259.06,533.992 \n",
       "  \"/>\n",
       "<polyline clip-path=\"url(#clip670)\" style=\"stroke:#000000; stroke-linecap:butt; stroke-linejoin:round; stroke-width:4; stroke-opacity:1; fill:none\" points=\"\n",
       "  249.612,469.471 259.06,469.471 \n",
       "  \"/>\n",
       "<polyline clip-path=\"url(#clip670)\" style=\"stroke:#000000; stroke-linecap:butt; stroke-linejoin:round; stroke-width:4; stroke-opacity:1; fill:none\" points=\"\n",
       "  249.612,340.429 259.06,340.429 \n",
       "  \"/>\n",
       "<polyline clip-path=\"url(#clip670)\" style=\"stroke:#000000; stroke-linecap:butt; stroke-linejoin:round; stroke-width:4; stroke-opacity:1; fill:none\" points=\"\n",
       "  249.612,275.908 259.06,275.908 \n",
       "  \"/>\n",
       "<polyline clip-path=\"url(#clip670)\" style=\"stroke:#000000; stroke-linecap:butt; stroke-linejoin:round; stroke-width:4; stroke-opacity:1; fill:none\" points=\"\n",
       "  249.612,211.387 259.06,211.387 \n",
       "  \"/>\n",
       "<polyline clip-path=\"url(#clip670)\" style=\"stroke:#000000; stroke-linecap:butt; stroke-linejoin:round; stroke-width:4; stroke-opacity:1; fill:none\" points=\"\n",
       "  249.612,146.866 259.06,146.866 \n",
       "  \"/>\n",
       "<path clip-path=\"url(#clip670)\" d=\"M52.9921 1050.61 L82.6679 1050.61 L82.6679 1054.55 L52.9921 1054.55 L52.9921 1050.61 Z\" fill=\"#000000\" fill-rule=\"evenodd\" fill-opacity=\"1\" /><path clip-path=\"url(#clip670)\" d=\"M102.76 1035.96 Q99.1493 1035.96 97.3206 1039.52 Q95.515 1043.06 95.515 1050.19 Q95.515 1057.3 97.3206 1060.87 Q99.1493 1064.41 102.76 1064.41 Q106.395 1064.41 108.2 1060.87 Q110.029 1057.3 110.029 1050.19 Q110.029 1043.06 108.2 1039.52 Q106.395 1035.96 102.76 1035.96 M102.76 1032.25 Q108.571 1032.25 111.626 1036.86 Q114.705 1041.44 114.705 1050.19 Q114.705 1058.92 111.626 1063.53 Q108.571 1068.11 102.76 1068.11 Q96.9502 1068.11 93.8715 1063.53 Q90.816 1058.92 90.816 1050.19 Q90.816 1041.44 93.8715 1036.86 Q96.9502 1032.25 102.76 1032.25 Z\" fill=\"#000000\" fill-rule=\"evenodd\" fill-opacity=\"1\" /><path clip-path=\"url(#clip670)\" d=\"M122.922 1061.56 L127.807 1061.56 L127.807 1067.44 L122.922 1067.44 L122.922 1061.56 Z\" fill=\"#000000\" fill-rule=\"evenodd\" fill-opacity=\"1\" /><path clip-path=\"url(#clip670)\" d=\"M147.992 1035.96 Q144.381 1035.96 142.552 1039.52 Q140.746 1043.06 140.746 1050.19 Q140.746 1057.3 142.552 1060.87 Q144.381 1064.41 147.992 1064.41 Q151.626 1064.41 153.431 1060.87 Q155.26 1057.3 155.26 1050.19 Q155.26 1043.06 153.431 1039.52 Q151.626 1035.96 147.992 1035.96 M147.992 1032.25 Q153.802 1032.25 156.857 1036.86 Q159.936 1041.44 159.936 1050.19 Q159.936 1058.92 156.857 1063.53 Q153.802 1068.11 147.992 1068.11 Q142.181 1068.11 139.103 1063.53 Q136.047 1058.92 136.047 1050.19 Q136.047 1041.44 139.103 1036.86 Q142.181 1032.25 147.992 1032.25 Z\" fill=\"#000000\" fill-rule=\"evenodd\" fill-opacity=\"1\" /><path clip-path=\"url(#clip670)\" d=\"M178.153 1035.96 Q174.542 1035.96 172.714 1039.52 Q170.908 1043.06 170.908 1050.19 Q170.908 1057.3 172.714 1060.87 Q174.542 1064.41 178.153 1064.41 Q181.788 1064.41 183.593 1060.87 Q185.422 1057.3 185.422 1050.19 Q185.422 1043.06 183.593 1039.52 Q181.788 1035.96 178.153 1035.96 M178.153 1032.25 Q183.964 1032.25 187.019 1036.86 Q190.098 1041.44 190.098 1050.19 Q190.098 1058.92 187.019 1063.53 Q183.964 1068.11 178.153 1068.11 Q172.343 1068.11 169.265 1063.53 Q166.209 1058.92 166.209 1050.19 Q166.209 1041.44 169.265 1036.86 Q172.343 1032.25 178.153 1032.25 Z\" fill=\"#000000\" fill-rule=\"evenodd\" fill-opacity=\"1\" /><path clip-path=\"url(#clip670)\" d=\"M212.482 1048.81 Q215.838 1049.52 217.713 1051.79 Q219.612 1054.06 219.612 1057.39 Q219.612 1062.51 216.093 1065.31 Q212.575 1068.11 206.093 1068.11 Q203.917 1068.11 201.602 1067.67 Q199.311 1067.25 196.857 1066.4 L196.857 1061.88 Q198.802 1063.02 201.116 1063.6 Q203.431 1064.18 205.954 1064.18 Q210.352 1064.18 212.644 1062.44 Q214.959 1060.7 214.959 1057.39 Q214.959 1054.34 212.806 1052.62 Q210.676 1050.89 206.857 1050.89 L202.829 1050.89 L202.829 1047.05 L207.042 1047.05 Q210.491 1047.05 212.32 1045.68 Q214.149 1044.29 214.149 1041.7 Q214.149 1039.04 212.251 1037.62 Q210.376 1036.19 206.857 1036.19 Q204.936 1036.19 202.737 1036.61 Q200.538 1037.02 197.899 1037.9 L197.899 1033.74 Q200.561 1033 202.876 1032.62 Q205.214 1032.25 207.274 1032.25 Q212.598 1032.25 215.7 1034.68 Q218.801 1037.09 218.801 1041.21 Q218.801 1044.08 217.158 1046.07 Q215.514 1048.04 212.482 1048.81 Z\" fill=\"#000000\" fill-rule=\"evenodd\" fill-opacity=\"1\" /><path clip-path=\"url(#clip670)\" d=\"M53.9412 728.006 L83.617 728.006 L83.617 731.941 L53.9412 731.941 L53.9412 728.006 Z\" fill=\"#000000\" fill-rule=\"evenodd\" fill-opacity=\"1\" /><path clip-path=\"url(#clip670)\" d=\"M103.709 713.353 Q100.098 713.353 98.2697 716.918 Q96.4641 720.46 96.4641 727.589 Q96.4641 734.696 98.2697 738.261 Q100.098 741.802 103.709 741.802 Q107.344 741.802 109.149 738.261 Q110.978 734.696 110.978 727.589 Q110.978 720.46 109.149 716.918 Q107.344 713.353 103.709 713.353 M103.709 709.65 Q109.52 709.65 112.575 714.256 Q115.654 718.839 115.654 727.589 Q115.654 736.316 112.575 740.923 Q109.52 745.506 103.709 745.506 Q97.8993 745.506 94.8206 740.923 Q91.7651 736.316 91.7651 727.589 Q91.7651 718.839 94.8206 714.256 Q97.8993 709.65 103.709 709.65 Z\" fill=\"#000000\" fill-rule=\"evenodd\" fill-opacity=\"1\" /><path clip-path=\"url(#clip670)\" d=\"M123.871 738.955 L128.756 738.955 L128.756 744.835 L123.871 744.835 L123.871 738.955 Z\" fill=\"#000000\" fill-rule=\"evenodd\" fill-opacity=\"1\" /><path clip-path=\"url(#clip670)\" d=\"M148.941 713.353 Q145.33 713.353 143.501 716.918 Q141.695 720.46 141.695 727.589 Q141.695 734.696 143.501 738.261 Q145.33 741.802 148.941 741.802 Q152.575 741.802 154.38 738.261 Q156.209 734.696 156.209 727.589 Q156.209 720.46 154.38 716.918 Q152.575 713.353 148.941 713.353 M148.941 709.65 Q154.751 709.65 157.806 714.256 Q160.885 718.839 160.885 727.589 Q160.885 736.316 157.806 740.923 Q154.751 745.506 148.941 745.506 Q143.131 745.506 140.052 740.923 Q136.996 736.316 136.996 727.589 Q136.996 718.839 140.052 714.256 Q143.131 709.65 148.941 709.65 Z\" fill=\"#000000\" fill-rule=\"evenodd\" fill-opacity=\"1\" /><path clip-path=\"url(#clip670)\" d=\"M179.103 713.353 Q175.491 713.353 173.663 716.918 Q171.857 720.46 171.857 727.589 Q171.857 734.696 173.663 738.261 Q175.491 741.802 179.103 741.802 Q182.737 741.802 184.542 738.261 Q186.371 734.696 186.371 727.589 Q186.371 720.46 184.542 716.918 Q182.737 713.353 179.103 713.353 M179.103 709.65 Q184.913 709.65 187.968 714.256 Q191.047 718.839 191.047 727.589 Q191.047 736.316 187.968 740.923 Q184.913 745.506 179.103 745.506 Q173.292 745.506 170.214 740.923 Q167.158 736.316 167.158 727.589 Q167.158 718.839 170.214 714.256 Q173.292 709.65 179.103 709.65 Z\" fill=\"#000000\" fill-rule=\"evenodd\" fill-opacity=\"1\" /><path clip-path=\"url(#clip670)\" d=\"M203.292 740.899 L219.612 740.899 L219.612 744.835 L197.667 744.835 L197.667 740.899 Q200.329 738.145 204.913 733.515 Q209.519 728.862 210.7 727.52 Q212.945 724.997 213.825 723.261 Q214.727 721.501 214.727 719.812 Q214.727 717.057 212.783 715.321 Q210.862 713.585 207.76 713.585 Q205.561 713.585 203.107 714.349 Q200.677 715.113 197.899 716.663 L197.899 711.941 Q200.723 710.807 203.177 710.228 Q205.63 709.65 207.667 709.65 Q213.038 709.65 216.232 712.335 Q219.426 715.02 219.426 719.511 Q219.426 721.64 218.616 723.562 Q217.829 725.46 215.723 728.052 Q215.144 728.724 212.042 731.941 Q208.94 735.136 203.292 740.899 Z\" fill=\"#000000\" fill-rule=\"evenodd\" fill-opacity=\"1\" /><path clip-path=\"url(#clip670)\" d=\"M53.5708 405.401 L83.2466 405.401 L83.2466 409.336 L53.5708 409.336 L53.5708 405.401 Z\" fill=\"#000000\" fill-rule=\"evenodd\" fill-opacity=\"1\" /><path clip-path=\"url(#clip670)\" d=\"M103.339 390.749 Q99.728 390.749 97.8993 394.313 Q96.0937 397.855 96.0937 404.985 Q96.0937 412.091 97.8993 415.656 Q99.728 419.197 103.339 419.197 Q106.973 419.197 108.779 415.656 Q110.608 412.091 110.608 404.985 Q110.608 397.855 108.779 394.313 Q106.973 390.749 103.339 390.749 M103.339 387.045 Q109.149 387.045 112.205 391.651 Q115.283 396.235 115.283 404.985 Q115.283 413.711 112.205 418.318 Q109.149 422.901 103.339 422.901 Q97.5289 422.901 94.4502 418.318 Q91.3947 413.711 91.3947 404.985 Q91.3947 396.235 94.4502 391.651 Q97.5289 387.045 103.339 387.045 Z\" fill=\"#000000\" fill-rule=\"evenodd\" fill-opacity=\"1\" /><path clip-path=\"url(#clip670)\" d=\"M123.501 416.35 L128.385 416.35 L128.385 422.23 L123.501 422.23 L123.501 416.35 Z\" fill=\"#000000\" fill-rule=\"evenodd\" fill-opacity=\"1\" /><path clip-path=\"url(#clip670)\" d=\"M148.57 390.749 Q144.959 390.749 143.131 394.313 Q141.325 397.855 141.325 404.985 Q141.325 412.091 143.131 415.656 Q144.959 419.197 148.57 419.197 Q152.205 419.197 154.01 415.656 Q155.839 412.091 155.839 404.985 Q155.839 397.855 154.01 394.313 Q152.205 390.749 148.57 390.749 M148.57 387.045 Q154.38 387.045 157.436 391.651 Q160.515 396.235 160.515 404.985 Q160.515 413.711 157.436 418.318 Q154.38 422.901 148.57 422.901 Q142.76 422.901 139.681 418.318 Q136.626 413.711 136.626 404.985 Q136.626 396.235 139.681 391.651 Q142.76 387.045 148.57 387.045 Z\" fill=\"#000000\" fill-rule=\"evenodd\" fill-opacity=\"1\" /><path clip-path=\"url(#clip670)\" d=\"M178.732 390.749 Q175.121 390.749 173.292 394.313 Q171.487 397.855 171.487 404.985 Q171.487 412.091 173.292 415.656 Q175.121 419.197 178.732 419.197 Q182.366 419.197 184.172 415.656 Q186.001 412.091 186.001 404.985 Q186.001 397.855 184.172 394.313 Q182.366 390.749 178.732 390.749 M178.732 387.045 Q184.542 387.045 187.598 391.651 Q190.677 396.235 190.677 404.985 Q190.677 413.711 187.598 418.318 Q184.542 422.901 178.732 422.901 Q172.922 422.901 169.843 418.318 Q166.788 413.711 166.788 404.985 Q166.788 396.235 169.843 391.651 Q172.922 387.045 178.732 387.045 Z\" fill=\"#000000\" fill-rule=\"evenodd\" fill-opacity=\"1\" /><path clip-path=\"url(#clip670)\" d=\"M199.704 418.295 L207.343 418.295 L207.343 391.929 L199.033 393.596 L199.033 389.336 L207.297 387.67 L211.973 387.67 L211.973 418.295 L219.612 418.295 L219.612 422.23 L199.704 422.23 L199.704 418.295 Z\" fill=\"#000000\" fill-rule=\"evenodd\" fill-opacity=\"1\" /><path clip-path=\"url(#clip670)\" d=\"M102.112 68.1437 Q98.5011 68.1437 96.6724 71.7085 Q94.8669 75.2502 94.8669 82.3798 Q94.8669 89.4862 96.6724 93.051 Q98.5011 96.5927 102.112 96.5927 Q105.746 96.5927 107.552 93.051 Q109.381 89.4862 109.381 82.3798 Q109.381 75.2502 107.552 71.7085 Q105.746 68.1437 102.112 68.1437 M102.112 64.4401 Q107.922 64.4401 110.978 69.0465 Q114.057 73.6298 114.057 82.3798 Q114.057 91.1066 110.978 95.713 Q107.922 100.296 102.112 100.296 Q96.3021 100.296 93.2234 95.713 Q90.1679 91.1066 90.1679 82.3798 Q90.1679 73.6298 93.2234 69.0465 Q96.3021 64.4401 102.112 64.4401 Z\" fill=\"#000000\" fill-rule=\"evenodd\" fill-opacity=\"1\" /><path clip-path=\"url(#clip670)\" d=\"M122.274 93.7455 L127.158 93.7455 L127.158 99.6251 L122.274 99.6251 L122.274 93.7455 Z\" fill=\"#000000\" fill-rule=\"evenodd\" fill-opacity=\"1\" /><path clip-path=\"url(#clip670)\" d=\"M147.343 68.1437 Q143.732 68.1437 141.904 71.7085 Q140.098 75.2502 140.098 82.3798 Q140.098 89.4862 141.904 93.051 Q143.732 96.5927 147.343 96.5927 Q150.978 96.5927 152.783 93.051 Q154.612 89.4862 154.612 82.3798 Q154.612 75.2502 152.783 71.7085 Q150.978 68.1437 147.343 68.1437 M147.343 64.4401 Q153.154 64.4401 156.209 69.0465 Q159.288 73.6298 159.288 82.3798 Q159.288 91.1066 156.209 95.713 Q153.154 100.296 147.343 100.296 Q141.533 100.296 138.455 95.713 Q135.399 91.1066 135.399 82.3798 Q135.399 73.6298 138.455 69.0465 Q141.533 64.4401 147.343 64.4401 Z\" fill=\"#000000\" fill-rule=\"evenodd\" fill-opacity=\"1\" /><path clip-path=\"url(#clip670)\" d=\"M177.505 68.1437 Q173.894 68.1437 172.066 71.7085 Q170.26 75.2502 170.26 82.3798 Q170.26 89.4862 172.066 93.051 Q173.894 96.5927 177.505 96.5927 Q181.14 96.5927 182.945 93.051 Q184.774 89.4862 184.774 82.3798 Q184.774 75.2502 182.945 71.7085 Q181.14 68.1437 177.505 68.1437 M177.505 64.4401 Q183.316 64.4401 186.371 69.0465 Q189.45 73.6298 189.45 82.3798 Q189.45 91.1066 186.371 95.713 Q183.316 100.296 177.505 100.296 Q171.695 100.296 168.617 95.713 Q165.561 91.1066 165.561 82.3798 Q165.561 73.6298 168.617 69.0465 Q171.695 64.4401 177.505 64.4401 Z\" fill=\"#000000\" fill-rule=\"evenodd\" fill-opacity=\"1\" /><path clip-path=\"url(#clip670)\" d=\"M207.667 68.1437 Q204.056 68.1437 202.227 71.7085 Q200.422 75.2502 200.422 82.3798 Q200.422 89.4862 202.227 93.051 Q204.056 96.5927 207.667 96.5927 Q211.301 96.5927 213.107 93.051 Q214.936 89.4862 214.936 82.3798 Q214.936 75.2502 213.107 71.7085 Q211.301 68.1437 207.667 68.1437 M207.667 64.4401 Q213.477 64.4401 216.533 69.0465 Q219.612 73.6298 219.612 82.3798 Q219.612 91.1066 216.533 95.713 Q213.477 100.296 207.667 100.296 Q201.857 100.296 198.778 95.713 Q195.723 91.1066 195.723 82.3798 Q195.723 73.6298 198.778 69.0465 Q201.857 64.4401 207.667 64.4401 Z\" fill=\"#000000\" fill-rule=\"evenodd\" fill-opacity=\"1\" /><polyline clip-path=\"url(#clip673)\" style=\"stroke:#ff0000; stroke-linecap:butt; stroke-linejoin:round; stroke-width:8; stroke-opacity:1; fill:none\" points=\"\n",
       "  297.814,82.3446 307.265,82.3446 316.717,82.3446 326.168,82.3446 335.619,82.3446 345.071,82.3446 354.522,82.3446 363.974,82.3446 373.425,82.3446 382.877,82.3446 \n",
       "  392.328,82.3446 401.779,82.3446 411.231,82.3445 420.682,82.3445 430.134,82.3445 439.585,82.3445 449.036,82.3445 458.488,82.3445 467.939,82.3445 477.391,82.3445 \n",
       "  486.842,82.3445 496.293,82.3444 505.745,82.3444 515.196,82.3444 524.648,82.3444 534.099,82.3444 543.55,82.3444 553.002,82.3443 562.453,82.3443 571.905,82.3443 \n",
       "  581.356,82.3443 590.808,82.3442 600.259,82.3442 609.71,82.3442 619.162,82.3441 628.613,82.3441 638.065,82.3441 647.516,82.344 656.967,82.344 666.419,82.3439 \n",
       "  675.87,82.3438 685.322,82.3438 694.773,82.3437 704.224,82.3436 713.676,82.3435 723.127,82.3433 732.579,82.3432 742.03,82.343 751.482,82.3427 760.933,82.3422 \n",
       "  770.384,82.3415 779.836,82.3399 789.287,82.3236 798.739,353.654 808.19,468.429 817.641,551.466 827.093,618.109 836.544,674.07 845.996,722.388 855.447,764.858 \n",
       "  864.898,802.664 874.35,836.637 883.801,867.384 893.253,895.412 902.704,921.027 912.156,944.561 921.607,966.249 931.058,986.293 940.51,1004.86 949.961,1022.1 \n",
       "  959.413,1038.13 968.864,1053.06 978.315,1066.99 987.767,1079.99 997.218,1092.14 1006.67,1103.51 1016.12,1114.15 1025.57,1124.12 1035.02,1133.43 1044.48,1142.23 \n",
       "  1053.93,1150.43 1063.38,1158.13 1072.83,1165.35 1082.28,1172.13 1091.73,1178.48 1101.18,1184.43 1110.64,1190.01 1120.09,1195.23 1129.54,1200.13 1138.99,1204.7 \n",
       "  1148.44,1208.98 1157.89,1212.98 1167.34,1216.71 1176.8,1220.18 1186.25,1223.42 1195.7,1226.42 1205.15,1229.2 1214.6,1231.78 1224.05,1234.16 1233.5,1236.35 \n",
       "  1242.95,1238.37 1252.41,1240.21 1261.86,1241.88 1271.31,1243.4 1280.76,1244.77 1290.21,1246 1299.66,1247.08 1309.11,1248.06 1318.57,1248.89 1328.02,1249.61 \n",
       "  1337.47,1250.2 1346.92,1250.69 1356.37,1251.08 1365.82,1251.36 1375.27,1251.55 1384.73,1251.64 1394.18,1251.64 1403.63,1251.56 1413.08,1251.39 1422.53,1251.14 \n",
       "  1431.98,1250.82 1441.43,1250.43 1450.89,1249.96 1460.34,1249.42 1469.79,1248.82 1479.24,1248.16 1488.69,1247.44 1498.14,1246.66 1507.59,1245.82 1517.05,1244.93 \n",
       "  1526.5,1243.98 1535.95,1242.99 1545.4,1241.95 1554.85,1240.86 1564.3,1239.72 1573.75,1238.55 1583.21,1237.33 1592.66,1236.07 1602.11,1234.77 1611.56,1233.44 \n",
       "  1621.01,1232.06 1630.46,1230.66 1639.91,1229.22 1649.37,1227.75 1658.82,1226.25 1668.27,1224.71 1677.72,1223.15 1687.17,1221.56 1696.62,1219.95 1706.07,1218.3 \n",
       "  1715.53,1216.64 1724.98,1214.94 1734.43,1213.21 1743.88,1211.5 1753.33,1209.74 1762.78,1207.96 1772.23,1206.16 1781.69,1204.34 1791.14,1202.5 1800.59,1200.65 \n",
       "  1810.04,1198.77 1819.49,1196.88 1828.94,1194.98 1838.39,1193.06 1847.85,1191.12 1857.3,1189.17 1866.75,1187.21 1876.2,1185.23 1885.65,1183.24 1895.1,1181.24 \n",
       "  1904.55,1179.23 \n",
       "  \"/>\n",
       "<polyline clip-path=\"url(#clip673)\" style=\"stroke:#e26f46; stroke-linecap:butt; stroke-linejoin:round; stroke-width:4; stroke-opacity:1; fill:none\" stroke-dasharray=\"16, 10\" points=\"\n",
       "  790.043,2526.2 790.043,-1192.23 \n",
       "  \"/>\n",
       "<path clip-path=\"url(#clip670)\" d=\"\n",
       "M1442.25 260.269 L1895.98 260.269 L1895.98 88.56 L1442.25 88.56  Z\n",
       "  \" fill=\"#ffffff\" fill-rule=\"evenodd\" fill-opacity=\"1\"/>\n",
       "<polyline clip-path=\"url(#clip670)\" style=\"stroke:#000000; stroke-linecap:butt; stroke-linejoin:round; stroke-width:4; stroke-opacity:1; fill:none\" points=\"\n",
       "  1442.25,260.269 1895.98,260.269 1895.98,88.56 1442.25,88.56 1442.25,260.269 \n",
       "  \"/>\n",
       "<polyline clip-path=\"url(#clip670)\" style=\"stroke:#ff0000; stroke-linecap:butt; stroke-linejoin:round; stroke-width:4; stroke-opacity:1; fill:none\" points=\"\n",
       "  1461.17,145.796 1574.72,145.796 \n",
       "  \"/>\n",
       "<path clip-path=\"url(#clip670)\" d=\"M1593.64 128.516 L1598.32 128.516 L1598.32 163.076 L1593.64 163.076 L1593.64 128.516 Z\" fill=\"#000000\" fill-rule=\"evenodd\" fill-opacity=\"1\" /><path clip-path=\"url(#clip670)\" d=\"M1627.62 142.127 Q1629.22 139.257 1631.44 137.891 Q1633.66 136.525 1636.67 136.525 Q1640.72 136.525 1642.92 139.373 Q1645.12 142.197 1645.12 147.428 L1645.12 163.076 L1640.84 163.076 L1640.84 147.567 Q1640.84 143.84 1639.52 142.035 Q1638.2 140.229 1635.49 140.229 Q1632.18 140.229 1630.26 142.428 Q1628.34 144.627 1628.34 148.423 L1628.34 163.076 L1624.06 163.076 L1624.06 147.567 Q1624.06 143.817 1622.74 142.035 Q1621.42 140.229 1618.66 140.229 Q1615.4 140.229 1613.48 142.451 Q1611.56 144.65 1611.56 148.423 L1611.56 163.076 L1607.28 163.076 L1607.28 137.15 L1611.56 137.15 L1611.56 141.178 Q1613.02 138.794 1615.05 137.66 Q1617.09 136.525 1619.89 136.525 Q1622.72 136.525 1624.68 137.961 Q1626.67 139.396 1627.62 142.127 Z\" fill=\"#000000\" fill-rule=\"evenodd\" fill-opacity=\"1\" /><path clip-path=\"url(#clip670)\" d=\"M1692.44 158.146 L1692.44 148.863 L1684.8 148.863 L1684.8 145.021 L1697.07 145.021 L1697.07 159.859 Q1694.36 161.78 1691.09 162.775 Q1687.83 163.747 1684.13 163.747 Q1676.02 163.747 1671.44 159.025 Q1666.88 154.28 1666.88 145.831 Q1666.88 137.359 1671.44 132.637 Q1676.02 127.891 1684.13 127.891 Q1687.51 127.891 1690.54 128.724 Q1693.59 129.558 1696.16 131.178 L1696.16 136.155 Q1693.57 133.956 1690.65 132.845 Q1687.74 131.734 1684.52 131.734 Q1678.18 131.734 1674.98 135.275 Q1671.81 138.817 1671.81 145.831 Q1671.81 152.822 1674.98 156.363 Q1678.18 159.905 1684.52 159.905 Q1687 159.905 1688.94 159.488 Q1690.89 159.048 1692.44 158.146 Z\" fill=\"#000000\" fill-rule=\"evenodd\" fill-opacity=\"1\" /><polyline clip-path=\"url(#clip670)\" style=\"stroke:#e26f46; stroke-linecap:butt; stroke-linejoin:round; stroke-width:4; stroke-opacity:1; fill:none\" stroke-dasharray=\"16, 10\" points=\"\n",
       "  1461.17,203.032 1574.72,203.032 \n",
       "  \"/>\n",
       "<path clip-path=\"url(#clip670)\" d=\"M1630.3 196.997 Q1630.3 200.862 1628.63 204.656 Q1626.99 208.427 1624.32 211.285 Q1621.68 214.119 1618.09 215.876 Q1614.51 217.632 1610.86 217.632 L1594.98 217.632 Q1594.41 217.632 1594.18 217.609 Q1593.97 217.585 1593.81 217.468 Q1593.64 217.328 1593.64 217.047 Q1593.64 216.602 1593.83 216.414 Q1594.02 216.203 1594.23 216.18 Q1594.44 216.157 1594.98 216.157 Q1596.15 216.157 1596.85 216.086 Q1597.55 216.016 1598 215.922 Q1598.47 215.805 1598.7 215.477 Q1598.96 215.149 1599.08 214.868 Q1599.19 214.564 1599.36 213.885 L1605.77 188.12 Q1605.96 187.347 1605.96 187.23 Q1605.96 186.832 1605.73 186.691 Q1605.52 186.527 1604.91 186.457 Q1603.74 186.363 1602.85 186.363 Q1602.26 186.363 1602.03 186.34 Q1601.82 186.316 1601.63 186.199 Q1601.46 186.059 1601.46 185.778 Q1601.46 185.333 1601.65 185.145 Q1601.86 184.934 1602.1 184.911 Q1602.33 184.864 1602.89 184.864 L1619.01 184.864 Q1622.5 184.864 1625.1 186.504 Q1627.7 188.12 1628.99 190.86 Q1630.3 193.577 1630.3 196.997 M1626.1 195.24 Q1626.1 190.767 1623.67 188.565 Q1621.26 186.363 1617.44 186.363 L1612.31 186.363 Q1610.79 186.363 1610.41 186.644 Q1610.04 186.902 1609.71 188.19 L1603.13 214.517 Q1602.89 215.384 1602.89 215.618 Q1602.89 215.876 1603.01 215.969 Q1603.15 216.039 1603.53 216.086 Q1603.95 216.157 1604.58 216.157 L1609.99 216.157 Q1612.07 216.157 1613.97 215.594 Q1615.89 215.009 1617.27 214.095 Q1618.66 213.159 1619.55 212.362 Q1620.44 211.542 1621.07 210.723 Q1622.5 208.872 1623.55 206.46 Q1624.63 204.047 1625.12 201.845 Q1625.64 199.62 1625.87 197.981 Q1626.1 196.318 1626.1 195.24 Z\" fill=\"#000000\" fill-rule=\"evenodd\" fill-opacity=\"1\" /><path clip-path=\"url(#clip670)\" d=\"M1647.43 218.969 Q1647.43 219.887 1646.97 220.379 Q1646.51 220.854 1645.88 220.854 Q1645.38 220.854 1645.1 220.559 Q1644.84 220.264 1644.84 219.871 Q1644.84 219.297 1645.29 218.838 Q1645.77 218.379 1646.46 218.362 Q1646.23 217.756 1645.62 217.395 Q1645.02 217.018 1644.47 216.919 Q1643.95 216.821 1643.43 216.821 Q1642.39 216.821 1641.61 217.149 Q1640.82 217.477 1640.42 217.985 Q1640.03 218.477 1639.85 218.952 Q1639.67 219.428 1639.67 219.838 Q1639.67 220.198 1639.75 220.494 Q1639.85 220.772 1640.08 220.985 Q1640.31 221.182 1640.47 221.313 Q1640.65 221.445 1641.05 221.559 Q1641.44 221.674 1641.61 221.723 Q1641.77 221.756 1642.23 221.854 Q1643.18 222.051 1643.61 222.166 Q1644.03 222.264 1644.59 222.543 Q1645.16 222.822 1645.59 223.264 Q1646.62 224.297 1646.62 225.724 Q1646.62 226.249 1646.44 226.888 Q1646.28 227.527 1645.8 228.331 Q1645.33 229.134 1644.61 229.774 Q1643.88 230.413 1642.64 230.856 Q1641.41 231.298 1639.87 231.298 Q1637.72 231.298 1636.39 230.397 Q1635.06 229.478 1635.06 228.036 Q1635.06 226.986 1635.64 226.412 Q1636.21 225.822 1636.95 225.822 Q1637.51 225.822 1637.85 226.134 Q1638.19 226.429 1638.19 226.986 Q1638.19 227.741 1637.59 228.314 Q1636.98 228.888 1636.08 228.773 Q1636.85 230.544 1639.9 230.544 Q1641.05 230.544 1641.93 230.249 Q1642.83 229.938 1643.33 229.511 Q1643.83 229.069 1644.16 228.528 Q1644.49 227.986 1644.59 227.577 Q1644.7 227.167 1644.7 226.855 Q1644.7 226.314 1644.49 225.904 Q1644.28 225.494 1643.98 225.265 Q1643.7 225.019 1643.16 224.822 Q1642.64 224.609 1642.26 224.527 Q1641.88 224.445 1641.21 224.314 Q1640.9 224.248 1640.7 224.215 Q1640.51 224.166 1640.1 224.035 Q1639.7 223.888 1639.42 223.74 Q1639.16 223.592 1638.82 223.33 Q1638.47 223.068 1638.26 222.756 Q1638.05 222.445 1637.9 221.986 Q1637.75 221.527 1637.75 220.985 Q1637.75 220.494 1637.9 219.903 Q1638.06 219.313 1638.47 218.624 Q1638.9 217.936 1639.51 217.378 Q1640.11 216.821 1641.13 216.46 Q1642.16 216.083 1643.43 216.083 Q1645.26 216.083 1646.34 216.936 Q1647.43 217.772 1647.43 218.969 Z\" fill=\"#000000\" fill-rule=\"evenodd\" fill-opacity=\"1\" /><path clip-path=\"url(#clip670)\" d=\"M1650.52 220.182 Q1650.52 215.247 1651.77 212.558 Q1653.5 208.558 1657.6 208.558 Q1658.47 208.558 1659.37 208.803 Q1660.29 209.033 1661.44 209.935 Q1662.6 210.837 1663.31 212.312 Q1664.65 215.165 1664.65 220.182 Q1664.65 225.084 1663.41 227.757 Q1661.59 231.659 1657.57 231.659 Q1656.06 231.659 1654.52 230.888 Q1652.99 230.118 1652.03 228.265 Q1650.52 225.494 1650.52 220.182 M1653.31 219.772 Q1653.31 224.838 1653.67 226.855 Q1654.08 229.036 1655.19 229.987 Q1656.32 230.921 1657.57 230.921 Q1658.91 230.921 1660.03 229.921 Q1661.16 228.905 1661.5 226.724 Q1661.88 224.576 1661.86 219.772 Q1661.86 215.099 1661.54 213.23 Q1661.09 211.05 1659.91 210.181 Q1658.75 209.295 1657.57 209.295 Q1657.13 209.295 1656.65 209.427 Q1656.19 209.558 1655.52 209.935 Q1654.85 210.312 1654.32 211.246 Q1653.81 212.181 1653.57 213.591 Q1653.31 215.411 1653.31 219.772 Z\" fill=\"#000000\" fill-rule=\"evenodd\" fill-opacity=\"1\" /><path clip-path=\"url(#clip670)\" d=\"M1647.59 184.945 Q1647.38 185.322 1646.93 185.42 Q1646.51 185.502 1646.15 185.256 L1641.85 182.092 L1642.41 187.404 Q1642.46 187.83 1642.18 188.158 Q1641.9 188.47 1641.44 188.47 Q1640.98 188.47 1640.7 188.158 Q1640.42 187.83 1640.47 187.404 L1641.03 182.092 L1636.74 185.256 Q1636.37 185.502 1635.93 185.42 Q1635.51 185.322 1635.29 184.945 Q1635.06 184.535 1635.19 184.125 Q1635.34 183.699 1635.77 183.535 L1640.64 181.387 L1635.77 179.239 Q1635.34 179.075 1635.19 178.665 Q1635.06 178.239 1635.29 177.829 Q1635.51 177.452 1635.93 177.37 Q1636.37 177.272 1636.74 177.517 L1641.03 180.682 L1640.47 175.37 Q1640.42 174.927 1640.7 174.599 Q1641 174.271 1641.44 174.271 Q1641.88 174.271 1642.16 174.599 Q1642.46 174.927 1642.41 175.37 L1641.85 180.682 L1646.15 177.517 Q1646.51 177.272 1646.93 177.37 Q1647.38 177.452 1647.59 177.829 Q1647.82 178.239 1647.67 178.665 Q1647.54 179.075 1647.11 179.239 L1642.24 181.387 L1647.11 183.535 Q1647.54 183.699 1647.67 184.125 Q1647.82 184.535 1647.59 184.945 Z\" fill=\"#000000\" fill-rule=\"evenodd\" fill-opacity=\"1\" /><path clip-path=\"url(#clip670)\" d=\"M1677.39 205.64 Q1677.39 197.536 1680.41 191.001 Q1681.7 188.26 1683.5 185.965 Q1685.31 183.67 1686.5 182.663 Q1687.69 181.655 1688.02 181.655 Q1688.49 181.655 1688.51 182.124 Q1688.51 182.358 1687.88 182.944 Q1680.15 190.814 1680.18 205.64 Q1680.18 220.513 1687.69 228.079 Q1688.51 228.898 1688.51 229.156 Q1688.51 229.625 1688.02 229.625 Q1687.69 229.625 1686.55 228.664 Q1685.4 227.704 1683.62 225.502 Q1681.84 223.3 1680.55 220.607 Q1677.39 214.072 1677.39 205.64 Z\" fill=\"#000000\" fill-rule=\"evenodd\" fill-opacity=\"1\" /><path clip-path=\"url(#clip670)\" d=\"M1693.12 217.632 Q1693.12 216.766 1693.19 216.508 Q1693.29 216.25 1693.66 215.852 L1702.86 205.593 Q1707.9 199.925 1707.9 194.983 Q1707.9 191.774 1706.21 189.478 Q1704.55 187.183 1701.48 187.183 Q1699.37 187.183 1697.59 188.471 Q1695.81 189.76 1694.99 192.055 Q1695.14 192.008 1695.63 192.008 Q1696.82 192.008 1697.48 192.758 Q1698.16 193.507 1698.16 194.514 Q1698.16 195.803 1697.31 196.435 Q1696.49 197.044 1695.67 197.044 Q1695.35 197.044 1694.9 196.974 Q1694.48 196.903 1693.8 196.248 Q1693.12 195.568 1693.12 194.374 Q1693.12 191.024 1695.65 188.354 Q1698.2 185.684 1702.09 185.684 Q1706.5 185.684 1709.38 188.307 Q1712.28 190.907 1712.28 194.983 Q1712.28 196.411 1711.84 197.723 Q1711.41 199.011 1710.83 200.019 Q1710.27 201.026 1708.72 202.642 Q1707.17 204.258 1705.93 205.406 Q1704.69 206.553 1701.9 208.989 L1696.82 213.931 L1705.46 213.931 Q1709.68 213.931 1710.01 213.557 Q1710.48 212.877 1711.06 209.294 L1712.28 209.294 L1710.92 217.632 L1693.12 217.632 Z\" fill=\"#000000\" fill-rule=\"evenodd\" fill-opacity=\"1\" /><path clip-path=\"url(#clip670)\" d=\"M1717.07 211.168 Q1717.07 209.739 1717.89 209.06 Q1718.71 208.38 1719.76 208.38 Q1720.86 208.38 1721.64 209.106 Q1722.43 209.809 1722.43 211.051 Q1722.43 212.386 1721.5 213.135 Q1720.58 213.885 1719.27 213.697 Q1720.42 215.618 1722.53 216.485 Q1724.66 217.351 1726.63 217.351 Q1728.69 217.351 1730.35 215.571 Q1732.04 213.791 1732.04 209.434 Q1732.04 205.734 1730.58 203.602 Q1729.16 201.471 1726.32 201.471 L1724.21 201.471 Q1723.49 201.471 1723.28 201.4 Q1723.07 201.33 1723.07 200.932 Q1723.07 200.464 1723.79 200.37 Q1724.52 200.37 1725.67 200.229 Q1728.45 200.136 1729.93 197.723 Q1731.26 195.475 1731.26 192.266 Q1731.26 189.338 1729.86 188.12 Q1728.48 186.879 1726.67 186.879 Q1724.99 186.879 1723.14 187.581 Q1721.29 188.284 1720.28 189.853 Q1723.25 189.853 1723.25 192.266 Q1723.25 193.32 1722.57 194.022 Q1721.92 194.702 1720.82 194.702 Q1719.76 194.702 1719.06 194.046 Q1718.36 193.367 1718.36 192.219 Q1718.36 189.478 1720.79 187.581 Q1723.25 185.684 1726.86 185.684 Q1730.42 185.684 1733.04 187.558 Q1735.69 189.432 1735.69 192.313 Q1735.69 195.147 1733.82 197.465 Q1731.94 199.784 1728.97 200.745 Q1732.62 201.471 1734.8 203.954 Q1736.98 206.413 1736.98 209.434 Q1736.98 213.182 1734.03 215.946 Q1731.08 218.686 1726.77 218.686 Q1722.78 218.686 1719.93 216.531 Q1717.07 214.376 1717.07 211.168 Z\" fill=\"#000000\" fill-rule=\"evenodd\" fill-opacity=\"1\" /><path clip-path=\"url(#clip670)\" d=\"M1739.73 190.251 L1739.73 188.752 Q1745.49 188.752 1748.46 185.684 Q1749.28 185.684 1749.42 185.871 Q1749.56 186.059 1749.56 186.925 L1749.56 213.838 Q1749.56 215.267 1750.27 215.712 Q1750.97 216.157 1754.04 216.157 L1755.56 216.157 L1755.56 217.632 Q1753.87 217.492 1747.78 217.492 Q1741.69 217.492 1740.03 217.632 L1740.03 216.157 L1741.55 216.157 Q1744.57 216.157 1745.3 215.735 Q1746.03 215.29 1746.03 213.838 L1746.03 188.987 Q1743.52 190.251 1739.73 190.251 Z\" fill=\"#000000\" fill-rule=\"evenodd\" fill-opacity=\"1\" /><path clip-path=\"url(#clip670)\" d=\"M1756.98 195.076 L1758.55 185.216 L1759.75 185.216 Q1759.89 185.801 1760.12 186.059 Q1760.38 186.316 1761.74 186.527 Q1763.12 186.738 1765.91 186.738 L1777.55 186.738 Q1777.55 187.839 1777.13 188.424 L1770.64 197.536 Q1768.58 200.417 1767.67 205.734 Q1767.13 209.294 1767.15 213.604 L1767.15 216.039 Q1767.15 218.686 1764.92 218.686 Q1762.72 218.686 1762.72 216.039 Q1762.72 206.881 1768.63 198.004 Q1769.26 197.091 1771.58 193.835 Q1773.92 190.579 1774.01 190.439 L1764.08 190.439 Q1759.73 190.439 1759.37 190.72 Q1758.91 191.141 1758.18 195.076 L1756.98 195.076 Z\" fill=\"#000000\" fill-rule=\"evenodd\" fill-opacity=\"1\" /><path clip-path=\"url(#clip670)\" d=\"M1780.93 229.156 Q1780.93 228.922 1781.54 228.336 Q1789.27 220.466 1789.27 205.64 Q1789.27 190.767 1781.85 183.248 Q1780.93 182.381 1780.93 182.124 Q1780.93 181.655 1781.4 181.655 Q1781.73 181.655 1782.88 182.616 Q1784.05 183.576 1785.81 185.778 Q1787.59 187.979 1788.9 190.673 Q1792.06 197.208 1792.06 205.64 Q1792.06 213.744 1789.04 220.279 Q1787.75 223.019 1785.95 225.315 Q1784.14 227.61 1782.95 228.617 Q1781.75 229.625 1781.4 229.625 Q1780.93 229.625 1780.93 229.156 Z\" fill=\"#000000\" fill-rule=\"evenodd\" fill-opacity=\"1\" /><path clip-path=\"url(#clip670)\" d=\"M1826.55 179.858 L1814.43 179.858 L1814.43 178.809 L1826.55 178.809 L1826.55 179.858 Z\" fill=\"#000000\" fill-rule=\"evenodd\" fill-opacity=\"1\" /><path clip-path=\"url(#clip670)\" d=\"M1836.01 196.997 Q1836.01 200.862 1834.35 204.656 Q1832.71 208.427 1830.04 211.285 Q1827.39 214.119 1823.81 215.876 Q1820.22 217.632 1816.57 217.632 L1800.69 217.632 Q1800.13 217.632 1799.89 217.609 Q1799.68 217.585 1799.52 217.468 Q1799.35 217.328 1799.35 217.047 Q1799.35 216.602 1799.54 216.414 Q1799.73 216.203 1799.94 216.18 Q1800.15 216.157 1800.69 216.157 Q1801.86 216.157 1802.56 216.086 Q1803.27 216.016 1803.71 215.922 Q1804.18 215.805 1804.41 215.477 Q1804.67 215.149 1804.79 214.868 Q1804.9 214.564 1805.07 213.885 L1811.49 188.12 Q1811.67 187.347 1811.67 187.23 Q1811.67 186.832 1811.44 186.691 Q1811.23 186.527 1810.62 186.457 Q1809.45 186.363 1808.56 186.363 Q1807.97 186.363 1807.74 186.34 Q1807.53 186.316 1807.34 186.199 Q1807.18 186.059 1807.18 185.778 Q1807.18 185.333 1807.36 185.145 Q1807.58 184.934 1807.81 184.911 Q1808.04 184.864 1808.61 184.864 L1824.72 184.864 Q1828.21 184.864 1830.81 186.504 Q1833.41 188.12 1834.7 190.86 Q1836.01 193.577 1836.01 196.997 M1831.82 195.24 Q1831.82 190.767 1829.38 188.565 Q1826.97 186.363 1823.15 186.363 L1818.02 186.363 Q1816.5 186.363 1816.12 186.644 Q1815.75 186.902 1815.42 188.19 L1808.84 214.517 Q1808.61 215.384 1808.61 215.618 Q1808.61 215.876 1808.72 215.969 Q1808.86 216.039 1809.24 216.086 Q1809.66 216.157 1810.29 216.157 L1815.7 216.157 Q1817.79 216.157 1819.68 215.594 Q1821.61 215.009 1822.99 214.095 Q1824.37 213.159 1825.26 212.362 Q1826.15 211.542 1826.78 210.723 Q1828.21 208.872 1829.26 206.46 Q1830.34 204.047 1830.83 201.845 Q1831.35 199.62 1831.58 197.981 Q1831.82 196.318 1831.82 195.24 Z\" fill=\"#000000\" fill-rule=\"evenodd\" fill-opacity=\"1\" /><path clip-path=\"url(#clip670)\" d=\"M1853.14 214.495 Q1853.14 215.414 1852.68 215.905 Q1852.22 216.381 1851.6 216.381 Q1851.09 216.381 1850.81 216.086 Q1850.55 215.791 1850.55 215.397 Q1850.55 214.823 1851.01 214.364 Q1851.48 213.905 1852.17 213.889 Q1851.94 213.282 1851.33 212.921 Q1850.73 212.544 1850.19 212.446 Q1849.66 212.348 1849.14 212.348 Q1848.1 212.348 1847.32 212.675 Q1846.53 213.003 1846.14 213.512 Q1845.74 214.003 1845.56 214.479 Q1845.38 214.954 1845.38 215.364 Q1845.38 215.725 1845.47 216.02 Q1845.56 216.299 1845.79 216.512 Q1846.02 216.709 1846.19 216.84 Q1846.37 216.971 1846.76 217.086 Q1847.15 217.201 1847.32 217.25 Q1847.48 217.283 1847.94 217.381 Q1848.89 217.578 1849.32 217.693 Q1849.74 217.791 1850.3 218.07 Q1850.88 218.348 1851.3 218.791 Q1852.33 219.824 1852.33 221.25 Q1852.33 221.775 1852.15 222.414 Q1851.99 223.054 1851.52 223.857 Q1851.04 224.661 1850.32 225.3 Q1849.6 225.94 1848.35 226.382 Q1847.12 226.825 1845.58 226.825 Q1843.43 226.825 1842.1 225.923 Q1840.78 225.005 1840.78 223.562 Q1840.78 222.513 1841.35 221.939 Q1841.92 221.349 1842.66 221.349 Q1843.22 221.349 1843.56 221.66 Q1843.91 221.955 1843.91 222.513 Q1843.91 223.267 1843.3 223.841 Q1842.69 224.415 1841.79 224.3 Q1842.56 226.071 1845.61 226.071 Q1846.76 226.071 1847.65 225.776 Q1848.55 225.464 1849.04 225.038 Q1849.55 224.595 1849.88 224.054 Q1850.2 223.513 1850.3 223.103 Q1850.42 222.693 1850.42 222.382 Q1850.42 221.841 1850.2 221.431 Q1849.99 221.021 1849.7 220.791 Q1849.42 220.545 1848.88 220.349 Q1848.35 220.135 1847.97 220.054 Q1847.6 219.972 1846.92 219.84 Q1846.61 219.775 1846.42 219.742 Q1846.22 219.693 1845.81 219.562 Q1845.42 219.414 1845.14 219.267 Q1844.87 219.119 1844.53 218.857 Q1844.19 218.594 1843.97 218.283 Q1843.76 217.971 1843.61 217.512 Q1843.46 217.053 1843.46 216.512 Q1843.46 216.02 1843.61 215.43 Q1843.78 214.84 1844.19 214.151 Q1844.61 213.462 1845.22 212.905 Q1845.83 212.348 1846.84 211.987 Q1847.88 211.61 1849.14 211.61 Q1850.97 211.61 1852.06 212.462 Q1853.14 213.298 1853.14 214.495 Z\" fill=\"#000000\" fill-rule=\"evenodd\" fill-opacity=\"1\" /></svg>\n"
      ]
     },
     "execution_count": 22,
     "metadata": {},
     "output_type": "execute_result"
    }
   ],
   "source": [
    "x = 4.260: 0.0005: 4.345\n",
    "y2 = [imag(VGgauss0.(x))]\n",
    "\n",
    "Plots.plot(x, y2, color=:red, linewidth=2, label=\"Im G\")\n",
    "vline!([mds02317+mds], line=:dash, label=L\"D_{s0}^{\\ast}(2317)\\bar{D}_s\")"
   ]
  },
  {
   "cell_type": "code",
   "execution_count": 23,
   "metadata": {},
   "outputs": [
    {
     "data": {
      "text/plain": [
       "4.28604"
      ]
     },
     "execution_count": 23,
     "metadata": {},
     "output_type": "execute_result"
    }
   ],
   "source": [
    "mds+mds02317"
   ]
  },
  {
   "cell_type": "code",
   "execution_count": 24,
   "metadata": {},
   "outputs": [
    {
     "data": {
      "text/plain": [
       "dist01 (generic function with 1 method)"
      ]
     },
     "execution_count": 24,
     "metadata": {},
     "output_type": "execute_result"
    }
   ],
   "source": [
    "function dist0(w,par)\n",
    "   a1,a2,vp,geff=par\n",
    "      @fastmath amp=vp/(1-VGgaussRS(w,m1,m2,metaeff,geff^2, 1.0) +a1*qsq(w,mjψ,mphi)+1im*a2)\n",
    "    return (abs2(amp)* phsp(w,mjψ,mphi)*qsq(w,mjψ,mphi))\n",
    "end\n",
    "\n",
    "function dist01(w,par)\n",
    "   a1,a2,vp,geff=par\n",
    "      @fastmath amp=vp/(1-VGgaussRS(w,m1,m2,metaeff,geff^2, 1.5) +a1*qsq(w,mjψ,mphi)+1im*a2)\n",
    "    return (abs2(amp)* phsp(w,mjψ,mphi)*qsq(w,mjψ,mphi))\n",
    "end"
   ]
  },
  {
   "cell_type": "code",
   "execution_count": 25,
   "metadata": {},
   "outputs": [
    {
     "data": {
      "text/plain": [
       "dist11 (generic function with 1 method)"
      ]
     },
     "execution_count": 25,
     "metadata": {},
     "output_type": "execute_result"
    }
   ],
   "source": [
    "function dist1(w,par)\n",
    "   a1,a2,vp,geff=par\n",
    "      @fastmath amp=vp/(1-VGgaussRS(w,m1,m2,metaeff,geff^2, 1.0) +a1*qsq(w,mjψ,mphi)+1im*a2)\n",
    "    return (abs2(amp)* phsp(w,mjψ,mphi))\n",
    "end\n",
    "\n",
    "function dist10(w,par)\n",
    "   a1,a2,vp,geff=par\n",
    "      @fastmath amp=vp/(1-VGgaussRS(w,m1,m2,metaeff,geff^2, 1.5) +a1*qsq(w,mjψ,mphi)+1im*a2)\n",
    "    return (abs2(amp)* phsp(w,mjψ,mphi))\n",
    "end\n",
    "\n",
    "\n",
    "function dist11(w,par)\n",
    "   a1,a2,vp,geff=par\n",
    "      @fastmath amp=vp/(1-VGgaussRS(w,m1,m2,metaeff,geff^2, 0.5) +a1*qsq(w,mjψ,mphi)+1im*a2)\n",
    "    return (abs2(amp)* phsp(w,mjψ,mphi))\n",
    "end\n"
   ]
  },
  {
   "cell_type": "code",
   "execution_count": 26,
   "metadata": {},
   "outputs": [
    {
     "name": "stdout",
     "output_type": "stream",
     "text": [
      "  0.010918 seconds (29.18 k allocations: 1.601 MiB, 99.39% compilation time)\n"
     ]
    },
    {
     "data": {
      "text/plain": [
       "0.00019818135453402892"
      ]
     },
     "execution_count": 26,
     "metadata": {},
     "output_type": "execute_result"
    }
   ],
   "source": [
    "@time dist0(4.2,ones(5))"
   ]
  },
  {
   "cell_type": "code",
   "execution_count": 27,
   "metadata": {},
   "outputs": [],
   "source": [
    "const ndata=9;\n",
    "const nvar=4;\n",
    "const parname = [:a1,:a2,:vp,:geff];"
   ]
  },
  {
   "cell_type": "markdown",
   "metadata": {},
   "source": [
    "## Fitting"
   ]
  },
  {
   "cell_type": "code",
   "execution_count": 28,
   "metadata": {},
   "outputs": [
    {
     "data": {
      "text/plain": [
       "do_minos (generic function with 1 method)"
      ]
     },
     "execution_count": 28,
     "metadata": {},
     "output_type": "execute_result"
    }
   ],
   "source": [
    "function makefit(fit::AbstractFit; dof=ndata-nvar, printout=true)\n",
    "    migrad(fit); migrad(fit); hesse(fit)\n",
    "    printout && println(\"χ²/dof = \", fit.fva/ldof)\n",
    "    migrad(fit)\n",
    "end\n",
    "\n",
    "function do_minos(fit)\n",
    "    migrad(fit); minos(fit); migrad(fit)\n",
    "end"
   ]
  },
  {
   "cell_type": "code",
   "execution_count": null,
   "metadata": {},
   "outputs": [],
   "source": []
  },
  {
   "cell_type": "code",
   "execution_count": 29,
   "metadata": {},
   "outputs": [
    {
     "data": {
      "text/plain": [
       "search_init_rand"
      ]
     },
     "execution_count": 29,
     "metadata": {},
     "output_type": "execute_result"
    }
   ],
   "source": [
    "\"\"\"\n",
    "search_init_rand(fun, data; nrand=100, dof=4, onlynan=false, nchannels=2, par...)\n",
    "\n",
    "search for proper initial values for the LECs with Monte Carlo in the range [-50, 50] for 2-channel fit.\n",
    "* keep only the initial values leading to a fit with χ²/dof < 1.25 and that the corresponding \n",
    "1st sheet pole is not found if `onlynan=true` or the im part is larger than 0.3 GeV if `onlynan=false`; \n",
    "real pole on 1st sheet is kept.\n",
    "* `nchannels=2` for two channels and `nchannels=3` for three channels \n",
    "\"\"\"\n",
    "function search_init_rand(fun, data; nrand=100, dof=ndata-nvar, onlynan=false,par...)\n",
    "    df = DataFrame(chisq = Real[], lecs_init = Tuple[], lecs_final = Tuple[])   \n",
    "    #nlecs = nchannels ==2 ? 2 : 2\n",
    "    ar = zeros(nvar)\n",
    "    \n",
    "    for i = 1:nrand\n",
    "        ar .= rand(-50:0.001:50, nvar)\n",
    "      \n",
    "            _initval = (ar...,)  \n",
    "            _fit = model_fit(fun, data, _initval; name=parname,  par...)\n",
    "        _fit.strategy = 2\n",
    "        migrad(_fit); migrad(_fit)\n",
    "        _chsq = _fit.fval/dof\n",
    "        (_chsq <1.25)  && push!(df, (round(_chsq, digits=4), _initval, Tuple(args(_fit))) )\n",
    "    end\n",
    "    sort!(df)\n",
    "    return unique!(df, :chisq)\n",
    "    \n",
    "end"
   ]
  },
  {
   "cell_type": "code",
   "execution_count": 30,
   "metadata": {},
   "outputs": [
    {
     "name": "stdout",
     "output_type": "stream",
     "text": [
      "139.666964 seconds (4.62 G allocations: 133.962 GiB, 15.36% gc time, 0.91% compilation time)\n"
     ]
    },
    {
     "data": {
      "text/html": [
       "<div class=\"data-frame\"><p>3 rows × 3 columns</p><table class=\"data-frame\"><thead><tr><th></th><th>chisq</th><th>lecs_init</th><th>lecs_final</th></tr><tr><th></th><th title=\"Real\">Real</th><th title=\"Tuple\">Tuple</th><th title=\"Tuple\">Tuple</th></tr></thead><tbody><tr><th>1</th><td>1.0076</td><td>(-48.993, 15.304, 30.768, 4.947)</td><td>(-3.75507, -0.376845, 233.603, 3.02067)</td></tr><tr><th>2</th><td>1.1287</td><td>(-49.764, 32.991, -32.309, -0.18)</td><td>(-3.69653, 0.333014, -209.389, 0.000172816)</td></tr><tr><th>3</th><td>1.1288</td><td>(4.575, 1.303, 5.361, 29.881)</td><td>(-3.69631, 0.332817, -209.264, 0.0119976)</td></tr></tbody></table></div>"
      ],
      "text/latex": [
       "\\begin{tabular}{r|ccc}\n",
       "\t& chisq & lecs\\_init & lecs\\_final\\\\\n",
       "\t\\hline\n",
       "\t& Real & Tuple & Tuple\\\\\n",
       "\t\\hline\n",
       "\t1 & 1.0076 & (-48.993, 15.304, 30.768, 4.947) & (-3.75507, -0.376845, 233.603, 3.02067) \\\\\n",
       "\t2 & 1.1287 & (-49.764, 32.991, -32.309, -0.18) & (-3.69653, 0.333014, -209.389, 0.000172816) \\\\\n",
       "\t3 & 1.1288 & (4.575, 1.303, 5.361, 29.881) & (-3.69631, 0.332817, -209.264, 0.0119976) \\\\\n",
       "\\end{tabular}\n"
      ],
      "text/plain": [
       "\u001b[1m3×3 DataFrame\u001b[0m\n",
       "\u001b[1m Row \u001b[0m│\u001b[1m chisq  \u001b[0m\u001b[1m lecs_init                         \u001b[0m\u001b[1m lecs_final                        \u001b[0m\n",
       "\u001b[1m     \u001b[0m│\u001b[90m Real   \u001b[0m\u001b[90m Tuple                             \u001b[0m\u001b[90m Tuple                             \u001b[0m\n",
       "─────┼──────────────────────────────────────────────────────────────────────────────\n",
       "   1 │ 1.0076  (-48.993, 15.304, 30.768, 4.947)   (-3.75507, -0.376845, 233.603, 3…\n",
       "   2 │ 1.1287  (-49.764, 32.991, -32.309, -0.18)  (-3.69653, 0.333014, -209.389, 0…\n",
       "   3 │ 1.1288  (4.575, 1.303, 5.361, 29.881)      (-3.69631, 0.332817, -209.264, 0…"
      ]
     },
     "execution_count": 30,
     "metadata": {},
     "output_type": "execute_result"
    }
   ],
   "source": [
    "@time search_init_rand(dist0, data_full[1:ndata], nrand=2000, onlynan=true)"
   ]
  },
  {
   "cell_type": "code",
   "execution_count": 123,
   "metadata": {},
   "outputs": [
    {
     "data": {
      "text/html": [
       "<div class=\"data-frame\"><p>3 rows × 3 columns</p><table class=\"data-frame\"><thead><tr><th></th><th>chisq</th><th>lecs_init</th><th>lecs_final</th></tr><tr><th></th><th title=\"Real\">Real</th><th title=\"Tuple\">Tuple</th><th title=\"Tuple\">Tuple</th></tr></thead><tbody><tr><th>1</th><td>1.0052</td><td>(-49.644, -28.617, -33.16, 37.481)</td><td>(-3.7254, -0.376535, -233.438, -2.99556)</td></tr><tr><th>2</th><td>1.1287</td><td>(-49.654, -10.603, 10.218, -34.072)</td><td>(-3.69654, 0.333015, 209.39, 0.000108537)</td></tr><tr><th>3</th><td>1.1288</td><td>(-0.696, 40.391, 21.391, -48.678)</td><td>(-3.69699, 0.333179, 209.493, -0.0146747)</td></tr></tbody></table></div>"
      ],
      "text/latex": [
       "\\begin{tabular}{r|ccc}\n",
       "\t& chisq & lecs\\_init & lecs\\_final\\\\\n",
       "\t\\hline\n",
       "\t& Real & Tuple & Tuple\\\\\n",
       "\t\\hline\n",
       "\t1 & 1.0052 & (-49.644, -28.617, -33.16, 37.481) & (-3.7254, -0.376535, -233.438, -2.99556) \\\\\n",
       "\t2 & 1.1287 & (-49.654, -10.603, 10.218, -34.072) & (-3.69654, 0.333015, 209.39, 0.000108537) \\\\\n",
       "\t3 & 1.1288 & (-0.696, 40.391, 21.391, -48.678) & (-3.69699, 0.333179, 209.493, -0.0146747) \\\\\n",
       "\\end{tabular}\n"
      ],
      "text/plain": [
       "\u001b[1m3×3 DataFrame\u001b[0m\n",
       "\u001b[1m Row \u001b[0m│\u001b[1m chisq  \u001b[0m\u001b[1m lecs_init                         \u001b[0m\u001b[1m lecs_final                        \u001b[0m\n",
       "\u001b[1m     \u001b[0m│\u001b[90m Real   \u001b[0m\u001b[90m Tuple                             \u001b[0m\u001b[90m Tuple                             \u001b[0m\n",
       "─────┼──────────────────────────────────────────────────────────────────────────────\n",
       "   1 │ 1.0052  (-49.644, -28.617, -33.16, 37.48…  (-3.7254, -0.376535, -233.438, -…\n",
       "   2 │ 1.1287  (-49.654, -10.603, 10.218, -34.0…  (-3.69654, 0.333015, 209.39, 0.0…\n",
       "   3 │ 1.1288  (-0.696, 40.391, 21.391, -48.678)  (-3.69699, 0.333179, 209.493, -0…"
      ]
     },
     "execution_count": 123,
     "metadata": {},
     "output_type": "execute_result"
    },
    {
     "name": "stdout",
     "output_type": "stream",
     "text": [
      "144.766533 seconds (4.68 G allocations: 135.523 GiB, 17.71% gc time, 0.02% compilation time)\n"
     ]
    }
   ],
   "source": [
    "@time search_init_rand(dist01, data_full[1:ndata], nrand=2000, onlynan=true)"
   ]
  },
  {
   "cell_type": "code",
   "execution_count": 124,
   "metadata": {},
   "outputs": [
    {
     "name": "stdout",
     "output_type": "stream",
     "text": [
      "124.677984 seconds (4.00 G allocations: 116.471 GiB, 17.25% gc time, 0.03% compilation time)\n"
     ]
    },
    {
     "data": {
      "text/html": [
       "<div class=\"data-frame\"><p>2 rows × 3 columns</p><table class=\"data-frame\"><thead><tr><th></th><th>chisq</th><th>lecs_init</th><th>lecs_final</th></tr><tr><th></th><th title=\"Real\">Real</th><th title=\"Tuple\">Tuple</th><th title=\"Tuple\">Tuple</th></tr></thead><tbody><tr><th>1</th><td>1.0992</td><td>(-49.96, 45.164, 4.887, -5.204)</td><td>(-3.51578, -0.398895, -127.291, -2.69414)</td></tr><tr><th>2</th><td>1.1889</td><td>(-49.349, -7.608, 47.862, -6.122)</td><td>(-3.47724, 0.338789, 111.879, 0.000296836)</td></tr></tbody></table></div>"
      ],
      "text/latex": [
       "\\begin{tabular}{r|ccc}\n",
       "\t& chisq & lecs\\_init & lecs\\_final\\\\\n",
       "\t\\hline\n",
       "\t& Real & Tuple & Tuple\\\\\n",
       "\t\\hline\n",
       "\t1 & 1.0992 & (-49.96, 45.164, 4.887, -5.204) & (-3.51578, -0.398895, -127.291, -2.69414) \\\\\n",
       "\t2 & 1.1889 & (-49.349, -7.608, 47.862, -6.122) & (-3.47724, 0.338789, 111.879, 0.000296836) \\\\\n",
       "\\end{tabular}\n"
      ],
      "text/plain": [
       "\u001b[1m2×3 DataFrame\u001b[0m\n",
       "\u001b[1m Row \u001b[0m│\u001b[1m chisq  \u001b[0m\u001b[1m lecs_init                         \u001b[0m\u001b[1m lecs_final                        \u001b[0m\n",
       "\u001b[1m     \u001b[0m│\u001b[90m Real   \u001b[0m\u001b[90m Tuple                             \u001b[0m\u001b[90m Tuple                             \u001b[0m\n",
       "─────┼──────────────────────────────────────────────────────────────────────────────\n",
       "   1 │ 1.0992  (-49.96, 45.164, 4.887, -5.204)    (-3.51578, -0.398895, -127.291, …\n",
       "   2 │ 1.1889  (-49.349, -7.608, 47.862, -6.122)  (-3.47724, 0.338789, 111.879, 0.…"
      ]
     },
     "execution_count": 124,
     "metadata": {},
     "output_type": "execute_result"
    }
   ],
   "source": [
    "@time search_init_rand(dist1, data_full[1:ndata], nrand=2000, onlynan=true)"
   ]
  },
  {
   "cell_type": "code",
   "execution_count": 125,
   "metadata": {},
   "outputs": [
    {
     "data": {
      "text/html": [
       "<div class=\"data-frame\"><p>3 rows × 3 columns</p><table class=\"data-frame\"><thead><tr><th></th><th>chisq</th><th>lecs_init</th><th>lecs_final</th></tr><tr><th></th><th title=\"Real\">Real</th><th title=\"Tuple\">Tuple</th><th title=\"Tuple\">Tuple</th></tr></thead><tbody><tr><th>1</th><td>1.0998</td><td>(-49.678, -11.556, 17.689, 40.642)</td><td>(-3.5399, -0.399654, 127.64, -2.79664)</td></tr><tr><th>2</th><td>1.0999</td><td>(-47.679, 10.806, 14.256, -47.479)</td><td>(-3.54114, -0.400778, 127.946, 2.82269)</td></tr><tr><th>3</th><td>1.1889</td><td>(-49.345, -32.835, 35.791, 2.016)</td><td>(-3.47724, 0.338788, 111.878, 4.10815e-5)</td></tr></tbody></table></div>"
      ],
      "text/latex": [
       "\\begin{tabular}{r|ccc}\n",
       "\t& chisq & lecs\\_init & lecs\\_final\\\\\n",
       "\t\\hline\n",
       "\t& Real & Tuple & Tuple\\\\\n",
       "\t\\hline\n",
       "\t1 & 1.0998 & (-49.678, -11.556, 17.689, 40.642) & (-3.5399, -0.399654, 127.64, -2.79664) \\\\\n",
       "\t2 & 1.0999 & (-47.679, 10.806, 14.256, -47.479) & (-3.54114, -0.400778, 127.946, 2.82269) \\\\\n",
       "\t3 & 1.1889 & (-49.345, -32.835, 35.791, 2.016) & (-3.47724, 0.338788, 111.878, 4.10815e-5) \\\\\n",
       "\\end{tabular}\n"
      ],
      "text/plain": [
       "\u001b[1m3×3 DataFrame\u001b[0m\n",
       "\u001b[1m Row \u001b[0m│\u001b[1m chisq  \u001b[0m\u001b[1m lecs_init                         \u001b[0m\u001b[1m lecs_final                        \u001b[0m\n",
       "\u001b[1m     \u001b[0m│\u001b[90m Real   \u001b[0m\u001b[90m Tuple                             \u001b[0m\u001b[90m Tuple                             \u001b[0m\n",
       "─────┼──────────────────────────────────────────────────────────────────────────────\n",
       "   1 │ 1.0998  (-49.678, -11.556, 17.689, 40.64…  (-3.5399, -0.399654, 127.64, -2.…\n",
       "   2 │ 1.0999  (-47.679, 10.806, 14.256, -47.47…  (-3.54114, -0.400778, 127.946, 2…\n",
       "   3 │ 1.1889  (-49.345, -32.835, 35.791, 2.016)  (-3.47724, 0.338788, 111.878, 4.…"
      ]
     },
     "execution_count": 125,
     "metadata": {},
     "output_type": "execute_result"
    },
    {
     "name": "stdout",
     "output_type": "stream",
     "text": [
      " 87.899052 seconds (2.78 G allocations: 80.911 GiB, 17.74% gc time, 0.04% compilation time)\n"
     ]
    }
   ],
   "source": [
    "@time search_init_rand(dist11, data_full[1:ndata], nrand=2000, onlynan=true)"
   ]
  },
  {
   "cell_type": "code",
   "execution_count": 126,
   "metadata": {},
   "outputs": [
    {
     "data": {
      "text/plain": [
       "0.0 + 0.23544314336571903im"
      ]
     },
     "execution_count": 126,
     "metadata": {},
     "output_type": "execute_result"
    }
   ],
   "source": [
    "const mu0=m1*m2/(m1+m2);\n",
    "xsqrt(-2mu0*(m1+m2-4.26))"
   ]
  },
  {
   "cell_type": "code",
   "execution_count": 127,
   "metadata": {},
   "outputs": [
    {
     "data": {
      "text/plain": [
       "0.0 + 0.235075619456549im"
      ]
     },
     "execution_count": 127,
     "metadata": {},
     "output_type": "execute_result"
    }
   ],
   "source": [
    "xsqrt(qsq(4.26,m1,m2))"
   ]
  },
  {
   "cell_type": "markdown",
   "metadata": {},
   "source": [
    "## Fiting scheme-II"
   ]
  },
  {
   "cell_type": "code",
   "execution_count": 128,
   "metadata": {},
   "outputs": [
    {
     "data": {
      "text/plain": [
       "dist2 (generic function with 1 method)"
      ]
     },
     "execution_count": 128,
     "metadata": {},
     "output_type": "execute_result"
    }
   ],
   "source": [
    "function dist2(w,par)\n",
    "  a1, a2,vp=par\n",
    "    \n",
    "      @fastmath amp=vp/(1-VGgaussRS(w,m1,m2,metaeff,1/4*geff^2, 1.0) +a1*qsq(w,mjψ,mphi)+1im*a2)\n",
    "    return (abs2(amp)* phsp(w,mjψ,mphi))\n",
    "end"
   ]
  },
  {
   "cell_type": "code",
   "execution_count": 129,
   "metadata": {},
   "outputs": [
    {
     "data": {
      "text/plain": [
       "dist3 (generic function with 1 method)"
      ]
     },
     "execution_count": 129,
     "metadata": {},
     "output_type": "execute_result"
    }
   ],
   "source": [
    "function dist3(w,par)\n",
    "  a1, a2,vp=par\n",
    "    \n",
    "      @fastmath amp=vp/(1-VGgaussRS(w,m1,m2,metaeff,1/4*geff^2, 1.0) +a1*qsq(w,mjψ,mphi)+1im*a2*qsq(w,mjψ,mphi))\n",
    "    return (abs2(amp)* phsp(w,mjψ,mphi))\n",
    "end"
   ]
  },
  {
   "cell_type": "code",
   "execution_count": 130,
   "metadata": {},
   "outputs": [
    {
     "name": "stderr",
     "output_type": "stream",
     "text": [
      "WARNING: redefinition of constant nvar. This may fail, cause incorrect answers, or produce other errors.\n",
      "WARNING: redefinition of constant parname. This may fail, cause incorrect answers, or produce other errors.\n"
     ]
    }
   ],
   "source": [
    "const ndata=9;\n",
    "const nvar=3;\n",
    "const parname = [:a1,:a2,:vp];"
   ]
  },
  {
   "cell_type": "code",
   "execution_count": 131,
   "metadata": {},
   "outputs": [
    {
     "data": {
      "text/plain": [
       "search_init_rand (generic function with 1 method)"
      ]
     },
     "execution_count": 131,
     "metadata": {},
     "output_type": "execute_result"
    }
   ],
   "source": [
    "function search_init_rand(fun, data; nrand=100, dof=ndata-nvar, onlynan=false,par...)\n",
    "    df = DataFrame(chisq = Real[], lecs_init = Tuple[], lecs_final = Tuple[])   \n",
    "    #nlecs = nchannels ==2 ? 2 : 2\n",
    "    ar = zeros(nvar)\n",
    "    \n",
    "    for i = 1:nrand\n",
    "        ar .= rand(-50:0.001:50, nvar)\n",
    "      \n",
    "            _initval = (ar...,)  \n",
    "            _fit = model_fit(fun, data, _initval; name=parname,  par...)\n",
    "        _fit.strategy = 2\n",
    "        migrad(_fit); migrad(_fit)\n",
    "        _chsq = _fit.fval/dof\n",
    "        (_chsq <1.25)  && push!(df, (round(_chsq, digits=4), _initval, Tuple(args(_fit))) )\n",
    "    end\n",
    "    sort!(df)\n",
    "    return unique!(df, :chisq)\n",
    "    \n",
    "end"
   ]
  },
  {
   "cell_type": "code",
   "execution_count": 132,
   "metadata": {},
   "outputs": [
    {
     "name": "stdout",
     "output_type": "stream",
     "text": [
      "337.433793 seconds (11.32 G allocations: 329.580 GiB, 17.12% gc time, 0.02% compilation time)\n"
     ]
    },
    {
     "data": {
      "text/html": [
       "<div class=\"data-frame\"><p>1 rows × 3 columns</p><table class=\"data-frame\"><thead><tr><th></th><th>chisq</th><th>lecs_init</th><th>lecs_final</th></tr><tr><th></th><th title=\"Real\">Real</th><th title=\"Tuple\">Tuple</th><th title=\"Tuple\">Tuple</th></tr></thead><tbody><tr><th>1</th><td>0.9459</td><td>(-49.956, 12.878, 48.471)</td><td>(-3.55084, -0.437467, 137.837)</td></tr></tbody></table></div>"
      ],
      "text/latex": [
       "\\begin{tabular}{r|ccc}\n",
       "\t& chisq & lecs\\_init & lecs\\_final\\\\\n",
       "\t\\hline\n",
       "\t& Real & Tuple & Tuple\\\\\n",
       "\t\\hline\n",
       "\t1 & 0.9459 & (-49.956, 12.878, 48.471) & (-3.55084, -0.437467, 137.837) \\\\\n",
       "\\end{tabular}\n"
      ],
      "text/plain": [
       "\u001b[1m1×3 DataFrame\u001b[0m\n",
       "\u001b[1m Row \u001b[0m│\u001b[1m chisq  \u001b[0m\u001b[1m lecs_init                 \u001b[0m\u001b[1m lecs_final                     \u001b[0m\n",
       "\u001b[1m     \u001b[0m│\u001b[90m Real   \u001b[0m\u001b[90m Tuple                     \u001b[0m\u001b[90m Tuple                          \u001b[0m\n",
       "─────┼───────────────────────────────────────────────────────────────────\n",
       "   1 │ 0.9459  (-49.956, 12.878, 48.471)  (-3.55084, -0.437467, 137.837)"
      ]
     },
     "execution_count": 132,
     "metadata": {},
     "output_type": "execute_result"
    }
   ],
   "source": [
    "@time search_init_rand(dist2, data_full[1:ndata], nrand=20000, onlynan=true)"
   ]
  },
  {
   "cell_type": "code",
   "execution_count": 133,
   "metadata": {},
   "outputs": [
    {
     "name": "stdout",
     "output_type": "stream",
     "text": [
      " 33.739938 seconds (1.22 G allocations: 35.537 GiB, 17.06% gc time, 0.20% compilation time)\n"
     ]
    },
    {
     "data": {
      "text/html": [
       "<div class=\"data-frame\"><p>1 rows × 3 columns</p><table class=\"data-frame\"><thead><tr><th></th><th>chisq</th><th>lecs_init</th><th>lecs_final</th></tr><tr><th></th><th title=\"Real\">Real</th><th title=\"Tuple\">Tuple</th><th title=\"Tuple\">Tuple</th></tr></thead><tbody><tr><th>1</th><td>0.9991</td><td>(-49.996, 25.736, -48.365)</td><td>(-2.91569, -1.54035, -140.012)</td></tr></tbody></table></div>"
      ],
      "text/latex": [
       "\\begin{tabular}{r|ccc}\n",
       "\t& chisq & lecs\\_init & lecs\\_final\\\\\n",
       "\t\\hline\n",
       "\t& Real & Tuple & Tuple\\\\\n",
       "\t\\hline\n",
       "\t1 & 0.9991 & (-49.996, 25.736, -48.365) & (-2.91569, -1.54035, -140.012) \\\\\n",
       "\\end{tabular}\n"
      ],
      "text/plain": [
       "\u001b[1m1×3 DataFrame\u001b[0m\n",
       "\u001b[1m Row \u001b[0m│\u001b[1m chisq  \u001b[0m\u001b[1m lecs_init                  \u001b[0m\u001b[1m lecs_final                     \u001b[0m\n",
       "\u001b[1m     \u001b[0m│\u001b[90m Real   \u001b[0m\u001b[90m Tuple                      \u001b[0m\u001b[90m Tuple                          \u001b[0m\n",
       "─────┼────────────────────────────────────────────────────────────────────\n",
       "   1 │ 0.9991  (-49.996, 25.736, -48.365)  (-2.91569, -1.54035, -140.012)"
      ]
     },
     "execution_count": 133,
     "metadata": {},
     "output_type": "execute_result"
    }
   ],
   "source": [
    "\n",
    "@time search_init_rand(dist3, data_full[1:ndata], nrand=2000, onlynan=true)"
   ]
  },
  {
   "cell_type": "code",
   "execution_count": 134,
   "metadata": {},
   "outputs": [
    {
     "data": {
      "text/plain": [
       "dist4 (generic function with 1 method)"
      ]
     },
     "execution_count": 134,
     "metadata": {},
     "output_type": "execute_result"
    }
   ],
   "source": [
    "function dist4(w,par)\n",
    "  a1, a2,vp=par\n",
    "    \n",
    "      @fastmath amp=vp/(1-VGgaussRS(w,m1,m2,metaeff,1/4*geff^2, 1.0) +a1+1im*a2)\n",
    "    return (abs2(amp)* phsp(w,mjψ,mphi))\n",
    "end"
   ]
  },
  {
   "cell_type": "code",
   "execution_count": 135,
   "metadata": {},
   "outputs": [
    {
     "name": "stdout",
     "output_type": "stream",
     "text": [
      "119.824510 seconds (4.32 G allocations: 125.821 GiB, 17.06% gc time, 0.02% compilation time)\n"
     ]
    },
    {
     "data": {
      "text/html": [
       "<div class=\"data-frame\"><p>0 rows × 3 columns</p><table class=\"data-frame\"><thead><tr><th></th><th>chisq</th><th>lecs_init</th><th>lecs_final</th></tr><tr><th></th><th title=\"Real\">Real</th><th title=\"Tuple\">Tuple</th><th title=\"Tuple\">Tuple</th></tr></thead><tbody></tbody></table></div>"
      ],
      "text/latex": [
       "\\begin{tabular}{r|ccc}\n",
       "\t& chisq & lecs\\_init & lecs\\_final\\\\\n",
       "\t\\hline\n",
       "\t& Real & Tuple & Tuple\\\\\n",
       "\t\\hline\n",
       "\\end{tabular}\n"
      ],
      "text/plain": [
       "\u001b[1m0×3 DataFrame\u001b[0m"
      ]
     },
     "execution_count": 135,
     "metadata": {},
     "output_type": "execute_result"
    }
   ],
   "source": [
    "@time search_init_rand(dist4, data_full[1:ndata], nrand=5000, onlynan=true)"
   ]
  },
  {
   "cell_type": "code",
   "execution_count": 48,
   "metadata": {},
   "outputs": [
    {
     "name": "stderr",
     "output_type": "stream",
     "text": [
      "WARNING: redefinition of constant nvar. This may fail, cause incorrect answers, or produce other errors.\n",
      "WARNING: redefinition of constant parname. This may fail, cause incorrect answers, or produce other errors.\n"
     ]
    }
   ],
   "source": [
    "const ndata=9;\n",
    "const nvar=3;\n",
    "const parname = [:a2,:vp,:geff];"
   ]
  },
  {
   "cell_type": "code",
   "execution_count": 49,
   "metadata": {},
   "outputs": [
    {
     "data": {
      "text/plain": [
       "dist5 (generic function with 1 method)"
      ]
     },
     "execution_count": 49,
     "metadata": {},
     "output_type": "execute_result"
    }
   ],
   "source": [
    "function dist5(w,par)\n",
    "   a2,vp,geff=par\n",
    "    \n",
    "      @fastmath amp=vp/(1-VGgaussRS(w,m1,m2,metaeff,geff^2, 1.0) +1im*a2)\n",
    "    return (abs2(amp)* phsp(w,mjψ,mphi))\n",
    "end"
   ]
  },
  {
   "cell_type": "code",
   "execution_count": 52,
   "metadata": {},
   "outputs": [
    {
     "data": {
      "text/plain": [
       "search_init_rand (generic function with 1 method)"
      ]
     },
     "execution_count": 52,
     "metadata": {},
     "output_type": "execute_result"
    }
   ],
   "source": [
    "function search_init_rand(fun, data; nrand=100, dof=ndata-nvar, onlynan=false,par...)\n",
    "    df = DataFrame(chisq = Real[], lecs_init = Tuple[], lecs_final = Tuple[])   \n",
    "    #nlecs = nchannels ==2 ? 2 : 2\n",
    "    ar = zeros(nvar)\n",
    "    \n",
    "    for i = 1:nrand\n",
    "        ar .= rand(-50:0.001:50, nvar)\n",
    "      \n",
    "            _initval = (ar...,)  \n",
    "            _fit = model_fit(fun, data, _initval; name=parname,  par...)\n",
    "        _fit.strategy = 2\n",
    "        migrad(_fit); migrad(_fit)\n",
    "        _chsq = _fit.fval/dof\n",
    "        (_chsq <10)  && push!(df, (round(_chsq, digits=4), _initval, Tuple(args(_fit))) )\n",
    "    end\n",
    "    sort!(df)\n",
    "    return unique!(df, :chisq)\n",
    "end"
   ]
  },
  {
   "cell_type": "code",
   "execution_count": 53,
   "metadata": {},
   "outputs": [
    {
     "name": "stdout",
     "output_type": "stream",
     "text": [
      "237.546778 seconds (7.96 G allocations: 232.431 GiB, 16.26% gc time, 0.03% compilation time)\n"
     ]
    },
    {
     "data": {
      "text/html": [
       "<div class=\"data-frame\"><p>1 rows × 3 columns</p><table class=\"data-frame\"><thead><tr><th></th><th>chisq</th><th>lecs_init</th><th>lecs_final</th></tr><tr><th></th><th title=\"Real\">Real</th><th title=\"Tuple\">Tuple</th><th title=\"Tuple\">Tuple</th></tr></thead><tbody><tr><th>1</th><td>6.9705</td><td>(-49.991, -44.084, -38.261)</td><td>(0.457966, -294.926, -7.35989)</td></tr></tbody></table></div>"
      ],
      "text/latex": [
       "\\begin{tabular}{r|ccc}\n",
       "\t& chisq & lecs\\_init & lecs\\_final\\\\\n",
       "\t\\hline\n",
       "\t& Real & Tuple & Tuple\\\\\n",
       "\t\\hline\n",
       "\t1 & 6.9705 & (-49.991, -44.084, -38.261) & (0.457966, -294.926, -7.35989) \\\\\n",
       "\\end{tabular}\n"
      ],
      "text/plain": [
       "\u001b[1m1×3 DataFrame\u001b[0m\n",
       "\u001b[1m Row \u001b[0m│\u001b[1m chisq  \u001b[0m\u001b[1m lecs_init                   \u001b[0m\u001b[1m lecs_final                     \u001b[0m\n",
       "\u001b[1m     \u001b[0m│\u001b[90m Real   \u001b[0m\u001b[90m Tuple                       \u001b[0m\u001b[90m Tuple                          \u001b[0m\n",
       "─────┼─────────────────────────────────────────────────────────────────────\n",
       "   1 │ 6.9705  (-49.991, -44.084, -38.261)  (0.457966, -294.926, -7.35989)"
      ]
     },
     "execution_count": 53,
     "metadata": {},
     "output_type": "execute_result"
    }
   ],
   "source": [
    "@time search_init_rand(dist5, data_full[1:ndata], nrand=5000, onlynan=true)"
   ]
  },
  {
   "cell_type": "markdown",
   "metadata": {},
   "source": [
    "## Fitting result"
   ]
  },
  {
   "cell_type": "code",
   "execution_count": 136,
   "metadata": {},
   "outputs": [
    {
     "name": "stderr",
     "output_type": "stream",
     "text": [
      "WARNING: redefinition of constant vpFit. This may fail, cause incorrect answers, or produce other errors.\n"
     ]
    }
   ],
   "source": [
    "const a1Fit=-3.55084;#chisq=0.9459,Lambda=1.0 GeV;\n",
    "const a2Fit=-0.437467;\n",
    "const vpFit=-137.837;\n"
   ]
  },
  {
   "cell_type": "code",
   "execution_count": 137,
   "metadata": {},
   "outputs": [
    {
     "data": {
      "text/plain": [
       "dist2Fit (generic function with 1 method)"
      ]
     },
     "execution_count": 137,
     "metadata": {},
     "output_type": "execute_result"
    }
   ],
   "source": [
    "function dist2Fit(w)\n",
    "   a1=a1Fit;\n",
    "    a2=a2Fit;\n",
    "    vp=vpFit;\n",
    "    \n",
    "     @fastmath amp=vp/(1-VGgaussRS(w,m1,m2,metaeff,1/4*geff^2, 1.0) +a1*qsq(w,mjψ,mphi)+1im*a2)\n",
    "    return (abs2(amp)* phsp(w,mjψ,mphi))\n",
    "end"
   ]
  },
  {
   "cell_type": "code",
   "execution_count": 140,
   "metadata": {},
   "outputs": [
    {
     "data": {
      "image/svg+xml": [
       "<?xml version=\"1.0\" encoding=\"utf-8\"?>\n",
       "<svg xmlns=\"http://www.w3.org/2000/svg\" xmlns:xlink=\"http://www.w3.org/1999/xlink\" width=\"500\" height=\"350\" viewBox=\"0 0 2000 1400\">\n",
       "<defs>\n",
       "  <clipPath id=\"clip730\">\n",
       "    <rect x=\"0\" y=\"0\" width=\"2000\" height=\"1400\"/>\n",
       "  </clipPath>\n",
       "</defs>\n",
       "<path clip-path=\"url(#clip730)\" d=\"\n",
       "M0 1400 L2000 1400 L2000 0 L0 0  Z\n",
       "  \" fill=\"#ffffff\" fill-rule=\"evenodd\" fill-opacity=\"1\"/>\n",
       "<defs>\n",
       "  <clipPath id=\"clip731\">\n",
       "    <rect x=\"400\" y=\"0\" width=\"1401\" height=\"1400\"/>\n",
       "  </clipPath>\n",
       "</defs>\n",
       "<defs>\n",
       "  <clipPath id=\"clip732\">\n",
       "    <rect x=\"168\" y=\"47\" width=\"1786\" height=\"1240\"/>\n",
       "  </clipPath>\n",
       "</defs>\n",
       "<path clip-path=\"url(#clip730)\" d=\"\n",
       "M233.659 1221.08 L1952.76 1221.08 L1952.76 47.2441 L233.659 47.2441  Z\n",
       "  \" fill=\"#ffffff\" fill-rule=\"evenodd\" fill-opacity=\"1\"/>\n",
       "<defs>\n",
       "  <clipPath id=\"clip733\">\n",
       "    <rect x=\"233\" y=\"47\" width=\"1720\" height=\"1175\"/>\n",
       "  </clipPath>\n",
       "</defs>\n",
       "<polyline clip-path=\"url(#clip733)\" style=\"stroke:#000000; stroke-linecap:butt; stroke-linejoin:round; stroke-width:2; stroke-opacity:0.1; fill:none\" points=\"\n",
       "  513.997,1221.08 513.997,47.2441 \n",
       "  \"/>\n",
       "<polyline clip-path=\"url(#clip733)\" style=\"stroke:#000000; stroke-linecap:butt; stroke-linejoin:round; stroke-width:2; stroke-opacity:0.1; fill:none\" points=\"\n",
       "  977.365,1221.08 977.365,47.2441 \n",
       "  \"/>\n",
       "<polyline clip-path=\"url(#clip733)\" style=\"stroke:#000000; stroke-linecap:butt; stroke-linejoin:round; stroke-width:2; stroke-opacity:0.1; fill:none\" points=\"\n",
       "  1440.73,1221.08 1440.73,47.2441 \n",
       "  \"/>\n",
       "<polyline clip-path=\"url(#clip733)\" style=\"stroke:#000000; stroke-linecap:butt; stroke-linejoin:round; stroke-width:2; stroke-opacity:0.1; fill:none\" points=\"\n",
       "  1904.1,1221.08 1904.1,47.2441 \n",
       "  \"/>\n",
       "<polyline clip-path=\"url(#clip730)\" style=\"stroke:#000000; stroke-linecap:butt; stroke-linejoin:round; stroke-width:4; stroke-opacity:1; fill:none\" points=\"\n",
       "  233.659,1221.08 1952.76,1221.08 \n",
       "  \"/>\n",
       "<polyline clip-path=\"url(#clip730)\" style=\"stroke:#000000; stroke-linecap:butt; stroke-linejoin:round; stroke-width:4; stroke-opacity:1; fill:none\" points=\"\n",
       "  233.659,47.2441 1952.76,47.2441 \n",
       "  \"/>\n",
       "<polyline clip-path=\"url(#clip730)\" style=\"stroke:#000000; stroke-linecap:butt; stroke-linejoin:round; stroke-width:4; stroke-opacity:1; fill:none\" points=\"\n",
       "  513.997,1221.08 513.997,1202.18 \n",
       "  \"/>\n",
       "<polyline clip-path=\"url(#clip730)\" style=\"stroke:#000000; stroke-linecap:butt; stroke-linejoin:round; stroke-width:4; stroke-opacity:1; fill:none\" points=\"\n",
       "  977.365,1221.08 977.365,1202.18 \n",
       "  \"/>\n",
       "<polyline clip-path=\"url(#clip730)\" style=\"stroke:#000000; stroke-linecap:butt; stroke-linejoin:round; stroke-width:4; stroke-opacity:1; fill:none\" points=\"\n",
       "  1440.73,1221.08 1440.73,1202.18 \n",
       "  \"/>\n",
       "<polyline clip-path=\"url(#clip730)\" style=\"stroke:#000000; stroke-linecap:butt; stroke-linejoin:round; stroke-width:4; stroke-opacity:1; fill:none\" points=\"\n",
       "  1904.1,1221.08 1904.1,1202.18 \n",
       "  \"/>\n",
       "<polyline clip-path=\"url(#clip730)\" style=\"stroke:#000000; stroke-linecap:butt; stroke-linejoin:round; stroke-width:4; stroke-opacity:1; fill:none\" points=\"\n",
       "  235.976,1221.08 235.976,1211.63 \n",
       "  \"/>\n",
       "<polyline clip-path=\"url(#clip730)\" style=\"stroke:#000000; stroke-linecap:butt; stroke-linejoin:round; stroke-width:4; stroke-opacity:1; fill:none\" points=\"\n",
       "  328.649,1221.08 328.649,1211.63 \n",
       "  \"/>\n",
       "<polyline clip-path=\"url(#clip730)\" style=\"stroke:#000000; stroke-linecap:butt; stroke-linejoin:round; stroke-width:4; stroke-opacity:1; fill:none\" points=\"\n",
       "  421.323,1221.08 421.323,1211.63 \n",
       "  \"/>\n",
       "<polyline clip-path=\"url(#clip730)\" style=\"stroke:#000000; stroke-linecap:butt; stroke-linejoin:round; stroke-width:4; stroke-opacity:1; fill:none\" points=\"\n",
       "  606.67,1221.08 606.67,1211.63 \n",
       "  \"/>\n",
       "<polyline clip-path=\"url(#clip730)\" style=\"stroke:#000000; stroke-linecap:butt; stroke-linejoin:round; stroke-width:4; stroke-opacity:1; fill:none\" points=\"\n",
       "  699.344,1221.08 699.344,1211.63 \n",
       "  \"/>\n",
       "<polyline clip-path=\"url(#clip730)\" style=\"stroke:#000000; stroke-linecap:butt; stroke-linejoin:round; stroke-width:4; stroke-opacity:1; fill:none\" points=\"\n",
       "  792.018,1221.08 792.018,1211.63 \n",
       "  \"/>\n",
       "<polyline clip-path=\"url(#clip730)\" style=\"stroke:#000000; stroke-linecap:butt; stroke-linejoin:round; stroke-width:4; stroke-opacity:1; fill:none\" points=\"\n",
       "  884.692,1221.08 884.692,1211.63 \n",
       "  \"/>\n",
       "<polyline clip-path=\"url(#clip730)\" style=\"stroke:#000000; stroke-linecap:butt; stroke-linejoin:round; stroke-width:4; stroke-opacity:1; fill:none\" points=\"\n",
       "  1070.04,1221.08 1070.04,1211.63 \n",
       "  \"/>\n",
       "<polyline clip-path=\"url(#clip730)\" style=\"stroke:#000000; stroke-linecap:butt; stroke-linejoin:round; stroke-width:4; stroke-opacity:1; fill:none\" points=\"\n",
       "  1162.71,1221.08 1162.71,1211.63 \n",
       "  \"/>\n",
       "<polyline clip-path=\"url(#clip730)\" style=\"stroke:#000000; stroke-linecap:butt; stroke-linejoin:round; stroke-width:4; stroke-opacity:1; fill:none\" points=\"\n",
       "  1255.39,1221.08 1255.39,1211.63 \n",
       "  \"/>\n",
       "<polyline clip-path=\"url(#clip730)\" style=\"stroke:#000000; stroke-linecap:butt; stroke-linejoin:round; stroke-width:4; stroke-opacity:1; fill:none\" points=\"\n",
       "  1348.06,1221.08 1348.06,1211.63 \n",
       "  \"/>\n",
       "<polyline clip-path=\"url(#clip730)\" style=\"stroke:#000000; stroke-linecap:butt; stroke-linejoin:round; stroke-width:4; stroke-opacity:1; fill:none\" points=\"\n",
       "  1533.41,1221.08 1533.41,1211.63 \n",
       "  \"/>\n",
       "<polyline clip-path=\"url(#clip730)\" style=\"stroke:#000000; stroke-linecap:butt; stroke-linejoin:round; stroke-width:4; stroke-opacity:1; fill:none\" points=\"\n",
       "  1626.08,1221.08 1626.08,1211.63 \n",
       "  \"/>\n",
       "<polyline clip-path=\"url(#clip730)\" style=\"stroke:#000000; stroke-linecap:butt; stroke-linejoin:round; stroke-width:4; stroke-opacity:1; fill:none\" points=\"\n",
       "  1718.75,1221.08 1718.75,1211.63 \n",
       "  \"/>\n",
       "<polyline clip-path=\"url(#clip730)\" style=\"stroke:#000000; stroke-linecap:butt; stroke-linejoin:round; stroke-width:4; stroke-opacity:1; fill:none\" points=\"\n",
       "  1811.43,1221.08 1811.43,1211.63 \n",
       "  \"/>\n",
       "<path clip-path=\"url(#clip730)\" d=\"M479.599 1249.79 L467.793 1268.24 L479.599 1268.24 L479.599 1249.79 M478.372 1245.72 L484.252 1245.72 L484.252 1268.24 L489.182 1268.24 L489.182 1272.13 L484.252 1272.13 L484.252 1280.28 L479.599 1280.28 L479.599 1272.13 L463.997 1272.13 L463.997 1267.61 L478.372 1245.72 Z\" fill=\"#000000\" fill-rule=\"evenodd\" fill-opacity=\"1\" /><path clip-path=\"url(#clip730)\" d=\"M496.914 1274.4 L501.798 1274.4 L501.798 1280.28 L496.914 1280.28 L496.914 1274.4 Z\" fill=\"#000000\" fill-rule=\"evenodd\" fill-opacity=\"1\" /><path clip-path=\"url(#clip730)\" d=\"M516.011 1276.34 L532.33 1276.34 L532.33 1280.28 L510.386 1280.28 L510.386 1276.34 Q513.048 1273.59 517.631 1268.96 Q522.237 1264.3 523.418 1262.96 Q525.663 1260.44 526.543 1258.7 Q527.446 1256.94 527.446 1255.25 Q527.446 1252.5 525.501 1250.76 Q523.58 1249.03 520.478 1249.03 Q518.279 1249.03 515.825 1249.79 Q513.395 1250.55 510.617 1252.1 L510.617 1247.38 Q513.441 1246.25 515.895 1245.67 Q518.349 1245.09 520.386 1245.09 Q525.756 1245.09 528.95 1247.78 Q532.145 1250.46 532.145 1254.95 Q532.145 1257.08 531.335 1259 Q530.548 1260.9 528.441 1263.49 Q527.862 1264.16 524.761 1267.38 Q521.659 1270.58 516.011 1276.34 Z\" fill=\"#000000\" fill-rule=\"evenodd\" fill-opacity=\"1\" /><path clip-path=\"url(#clip730)\" d=\"M552.145 1263.86 Q548.811 1263.86 546.89 1265.65 Q544.992 1267.43 544.992 1270.55 Q544.992 1273.68 546.89 1275.46 Q548.811 1277.24 552.145 1277.24 Q555.478 1277.24 557.399 1275.46 Q559.321 1273.66 559.321 1270.55 Q559.321 1267.43 557.399 1265.65 Q555.501 1263.86 552.145 1263.86 M547.469 1261.87 Q544.46 1261.13 542.77 1259.07 Q541.103 1257.01 541.103 1254.05 Q541.103 1249.91 544.043 1247.5 Q547.006 1245.09 552.145 1245.09 Q557.307 1245.09 560.247 1247.5 Q563.186 1249.91 563.186 1254.05 Q563.186 1257.01 561.497 1259.07 Q559.83 1261.13 556.844 1261.87 Q560.223 1262.66 562.098 1264.95 Q563.997 1267.24 563.997 1270.55 Q563.997 1275.58 560.918 1278.26 Q557.862 1280.95 552.145 1280.95 Q546.427 1280.95 543.348 1278.26 Q540.293 1275.58 540.293 1270.55 Q540.293 1267.24 542.191 1264.95 Q544.089 1262.66 547.469 1261.87 M545.756 1254.49 Q545.756 1257.17 547.423 1258.68 Q549.112 1260.18 552.145 1260.18 Q555.154 1260.18 556.844 1258.68 Q558.557 1257.17 558.557 1254.49 Q558.557 1251.8 556.844 1250.3 Q555.154 1248.79 552.145 1248.79 Q549.112 1248.79 547.423 1250.3 Q545.756 1251.8 545.756 1254.49 Z\" fill=\"#000000\" fill-rule=\"evenodd\" fill-opacity=\"1\" /><path clip-path=\"url(#clip730)\" d=\"M942.921 1249.79 L931.116 1268.24 L942.921 1268.24 L942.921 1249.79 M941.694 1245.72 L947.574 1245.72 L947.574 1268.24 L952.504 1268.24 L952.504 1272.13 L947.574 1272.13 L947.574 1280.28 L942.921 1280.28 L942.921 1272.13 L927.319 1272.13 L927.319 1267.61 L941.694 1245.72 Z\" fill=\"#000000\" fill-rule=\"evenodd\" fill-opacity=\"1\" /><path clip-path=\"url(#clip730)\" d=\"M960.236 1274.4 L965.12 1274.4 L965.12 1280.28 L960.236 1280.28 L960.236 1274.4 Z\" fill=\"#000000\" fill-rule=\"evenodd\" fill-opacity=\"1\" /><path clip-path=\"url(#clip730)\" d=\"M989.472 1261.64 Q992.828 1262.36 994.703 1264.63 Q996.601 1266.9 996.601 1270.23 Q996.601 1275.35 993.083 1278.15 Q989.564 1280.95 983.083 1280.95 Q980.907 1280.95 978.592 1280.51 Q976.3 1280.09 973.847 1279.23 L973.847 1274.72 Q975.791 1275.85 978.106 1276.43 Q980.421 1277.01 982.944 1277.01 Q987.342 1277.01 989.634 1275.28 Q991.949 1273.54 991.949 1270.23 Q991.949 1267.17 989.796 1265.46 Q987.666 1263.73 983.847 1263.73 L979.819 1263.73 L979.819 1259.88 L984.032 1259.88 Q987.481 1259.88 989.31 1258.52 Q991.138 1257.13 991.138 1254.54 Q991.138 1251.87 989.24 1250.46 Q987.365 1249.03 983.847 1249.03 Q981.925 1249.03 979.726 1249.44 Q977.527 1249.86 974.888 1250.74 L974.888 1246.57 Q977.55 1245.83 979.865 1245.46 Q982.203 1245.09 984.263 1245.09 Q989.587 1245.09 992.689 1247.52 Q995.791 1249.93 995.791 1254.05 Q995.791 1256.92 994.148 1258.91 Q992.504 1260.88 989.472 1261.64 Z\" fill=\"#000000\" fill-rule=\"evenodd\" fill-opacity=\"1\" /><path clip-path=\"url(#clip730)\" d=\"M1015.47 1248.79 Q1011.86 1248.79 1010.03 1252.36 Q1008.22 1255.9 1008.22 1263.03 Q1008.22 1270.14 1010.03 1273.7 Q1011.86 1277.24 1015.47 1277.24 Q1019.1 1277.24 1020.91 1273.7 Q1022.74 1270.14 1022.74 1263.03 Q1022.74 1255.9 1020.91 1252.36 Q1019.1 1248.79 1015.47 1248.79 M1015.47 1245.09 Q1021.28 1245.09 1024.33 1249.7 Q1027.41 1254.28 1027.41 1263.03 Q1027.41 1271.76 1024.33 1276.36 Q1021.28 1280.95 1015.47 1280.95 Q1009.66 1280.95 1006.58 1276.36 Q1003.52 1271.76 1003.52 1263.03 Q1003.52 1254.28 1006.58 1249.7 Q1009.66 1245.09 1015.47 1245.09 Z\" fill=\"#000000\" fill-rule=\"evenodd\" fill-opacity=\"1\" /><path clip-path=\"url(#clip730)\" d=\"M1407.09 1249.79 L1395.28 1268.24 L1407.09 1268.24 L1407.09 1249.79 M1405.86 1245.72 L1411.74 1245.72 L1411.74 1268.24 L1416.67 1268.24 L1416.67 1272.13 L1411.74 1272.13 L1411.74 1280.28 L1407.09 1280.28 L1407.09 1272.13 L1391.49 1272.13 L1391.49 1267.61 L1405.86 1245.72 Z\" fill=\"#000000\" fill-rule=\"evenodd\" fill-opacity=\"1\" /><path clip-path=\"url(#clip730)\" d=\"M1424.4 1274.4 L1429.29 1274.4 L1429.29 1280.28 L1424.4 1280.28 L1424.4 1274.4 Z\" fill=\"#000000\" fill-rule=\"evenodd\" fill-opacity=\"1\" /><path clip-path=\"url(#clip730)\" d=\"M1453.64 1261.64 Q1457 1262.36 1458.87 1264.63 Q1460.77 1266.9 1460.77 1270.23 Q1460.77 1275.35 1457.25 1278.15 Q1453.73 1280.95 1447.25 1280.95 Q1445.07 1280.95 1442.76 1280.51 Q1440.47 1280.09 1438.01 1279.23 L1438.01 1274.72 Q1439.96 1275.85 1442.27 1276.43 Q1444.59 1277.01 1447.11 1277.01 Q1451.51 1277.01 1453.8 1275.28 Q1456.12 1273.54 1456.12 1270.23 Q1456.12 1267.17 1453.96 1265.46 Q1451.83 1263.73 1448.01 1263.73 L1443.99 1263.73 L1443.99 1259.88 L1448.2 1259.88 Q1451.65 1259.88 1453.48 1258.52 Q1455.31 1257.13 1455.31 1254.54 Q1455.31 1251.87 1453.41 1250.46 Q1451.53 1249.03 1448.01 1249.03 Q1446.09 1249.03 1443.89 1249.44 Q1441.69 1249.86 1439.06 1250.74 L1439.06 1246.57 Q1441.72 1245.83 1444.03 1245.46 Q1446.37 1245.09 1448.43 1245.09 Q1453.75 1245.09 1456.86 1247.52 Q1459.96 1249.93 1459.96 1254.05 Q1459.96 1256.92 1458.31 1258.91 Q1456.67 1260.88 1453.64 1261.64 Z\" fill=\"#000000\" fill-rule=\"evenodd\" fill-opacity=\"1\" /><path clip-path=\"url(#clip730)\" d=\"M1473.66 1276.34 L1489.98 1276.34 L1489.98 1280.28 L1468.04 1280.28 L1468.04 1276.34 Q1470.7 1273.59 1475.28 1268.96 Q1479.89 1264.3 1481.07 1262.96 Q1483.31 1260.44 1484.19 1258.7 Q1485.1 1256.94 1485.1 1255.25 Q1485.1 1252.5 1483.15 1250.76 Q1481.23 1249.03 1478.13 1249.03 Q1475.93 1249.03 1473.48 1249.79 Q1471.05 1250.55 1468.27 1252.1 L1468.27 1247.38 Q1471.09 1246.25 1473.55 1245.67 Q1476 1245.09 1478.04 1245.09 Q1483.41 1245.09 1486.6 1247.78 Q1489.8 1250.46 1489.8 1254.95 Q1489.8 1257.08 1488.99 1259 Q1488.2 1260.9 1486.09 1263.49 Q1485.51 1264.16 1482.41 1267.38 Q1479.31 1270.58 1473.66 1276.34 Z\" fill=\"#000000\" fill-rule=\"evenodd\" fill-opacity=\"1\" /><path clip-path=\"url(#clip730)\" d=\"M1869.41 1249.79 L1857.61 1268.24 L1869.41 1268.24 L1869.41 1249.79 M1868.19 1245.72 L1874.07 1245.72 L1874.07 1268.24 L1879 1268.24 L1879 1272.13 L1874.07 1272.13 L1874.07 1280.28 L1869.41 1280.28 L1869.41 1272.13 L1853.81 1272.13 L1853.81 1267.61 L1868.19 1245.72 Z\" fill=\"#000000\" fill-rule=\"evenodd\" fill-opacity=\"1\" /><path clip-path=\"url(#clip730)\" d=\"M1886.73 1274.4 L1891.61 1274.4 L1891.61 1280.28 L1886.73 1280.28 L1886.73 1274.4 Z\" fill=\"#000000\" fill-rule=\"evenodd\" fill-opacity=\"1\" /><path clip-path=\"url(#clip730)\" d=\"M1915.97 1261.64 Q1919.32 1262.36 1921.2 1264.63 Q1923.1 1266.9 1923.1 1270.23 Q1923.1 1275.35 1919.58 1278.15 Q1916.06 1280.95 1909.58 1280.95 Q1907.4 1280.95 1905.09 1280.51 Q1902.79 1280.09 1900.34 1279.23 L1900.34 1274.72 Q1902.29 1275.85 1904.6 1276.43 Q1906.91 1277.01 1909.44 1277.01 Q1913.84 1277.01 1916.13 1275.28 Q1918.44 1273.54 1918.44 1270.23 Q1918.44 1267.17 1916.29 1265.46 Q1914.16 1263.73 1910.34 1263.73 L1906.31 1263.73 L1906.31 1259.88 L1910.53 1259.88 Q1913.97 1259.88 1915.8 1258.52 Q1917.63 1257.13 1917.63 1254.54 Q1917.63 1251.87 1915.73 1250.46 Q1913.86 1249.03 1910.34 1249.03 Q1908.42 1249.03 1906.22 1249.44 Q1904.02 1249.86 1901.38 1250.74 L1901.38 1246.57 Q1904.04 1245.83 1906.36 1245.46 Q1908.7 1245.09 1910.76 1245.09 Q1916.08 1245.09 1919.18 1247.52 Q1922.28 1249.93 1922.28 1254.05 Q1922.28 1256.92 1920.64 1258.91 Q1919 1260.88 1915.97 1261.64 Z\" fill=\"#000000\" fill-rule=\"evenodd\" fill-opacity=\"1\" /><path clip-path=\"url(#clip730)\" d=\"M1944.81 1249.79 L1933 1268.24 L1944.81 1268.24 L1944.81 1249.79 M1943.58 1245.72 L1949.46 1245.72 L1949.46 1268.24 L1954.39 1268.24 L1954.39 1272.13 L1949.46 1272.13 L1949.46 1280.28 L1944.81 1280.28 L1944.81 1272.13 L1929.21 1272.13 L1929.21 1267.61 L1943.58 1245.72 Z\" fill=\"#000000\" fill-rule=\"evenodd\" fill-opacity=\"1\" /><path clip-path=\"url(#clip730)\" d=\"M1109.82 1324.29 L1096.93 1341.64 L1110.49 1359.94 L1103.58 1359.94 L1093.21 1345.94 L1082.83 1359.94 L1075.92 1359.94 L1089.77 1341.29 L1077.1 1324.29 L1084.01 1324.29 L1093.46 1336.99 L1102.92 1324.29 L1109.82 1324.29 Z\" fill=\"#000000\" fill-rule=\"evenodd\" fill-opacity=\"1\" /><polyline clip-path=\"url(#clip733)\" style=\"stroke:#000000; stroke-linecap:butt; stroke-linejoin:round; stroke-width:2; stroke-opacity:0.1; fill:none\" points=\"\n",
       "  233.659,1082.23 1952.76,1082.23 \n",
       "  \"/>\n",
       "<polyline clip-path=\"url(#clip733)\" style=\"stroke:#000000; stroke-linecap:butt; stroke-linejoin:round; stroke-width:2; stroke-opacity:0.1; fill:none\" points=\"\n",
       "  233.659,837.914 1952.76,837.914 \n",
       "  \"/>\n",
       "<polyline clip-path=\"url(#clip733)\" style=\"stroke:#000000; stroke-linecap:butt; stroke-linejoin:round; stroke-width:2; stroke-opacity:0.1; fill:none\" points=\"\n",
       "  233.659,593.599 1952.76,593.599 \n",
       "  \"/>\n",
       "<polyline clip-path=\"url(#clip733)\" style=\"stroke:#000000; stroke-linecap:butt; stroke-linejoin:round; stroke-width:2; stroke-opacity:0.1; fill:none\" points=\"\n",
       "  233.659,349.284 1952.76,349.284 \n",
       "  \"/>\n",
       "<polyline clip-path=\"url(#clip733)\" style=\"stroke:#000000; stroke-linecap:butt; stroke-linejoin:round; stroke-width:2; stroke-opacity:0.1; fill:none\" points=\"\n",
       "  233.659,104.969 1952.76,104.969 \n",
       "  \"/>\n",
       "<polyline clip-path=\"url(#clip730)\" style=\"stroke:#000000; stroke-linecap:butt; stroke-linejoin:round; stroke-width:4; stroke-opacity:1; fill:none\" points=\"\n",
       "  233.659,1221.08 233.659,47.2441 \n",
       "  \"/>\n",
       "<polyline clip-path=\"url(#clip730)\" style=\"stroke:#000000; stroke-linecap:butt; stroke-linejoin:round; stroke-width:4; stroke-opacity:1; fill:none\" points=\"\n",
       "  1952.76,1221.08 1952.76,47.2441 \n",
       "  \"/>\n",
       "<polyline clip-path=\"url(#clip730)\" style=\"stroke:#000000; stroke-linecap:butt; stroke-linejoin:round; stroke-width:4; stroke-opacity:1; fill:none\" points=\"\n",
       "  233.659,1082.23 252.556,1082.23 \n",
       "  \"/>\n",
       "<polyline clip-path=\"url(#clip730)\" style=\"stroke:#000000; stroke-linecap:butt; stroke-linejoin:round; stroke-width:4; stroke-opacity:1; fill:none\" points=\"\n",
       "  233.659,837.914 252.556,837.914 \n",
       "  \"/>\n",
       "<polyline clip-path=\"url(#clip730)\" style=\"stroke:#000000; stroke-linecap:butt; stroke-linejoin:round; stroke-width:4; stroke-opacity:1; fill:none\" points=\"\n",
       "  233.659,593.599 252.556,593.599 \n",
       "  \"/>\n",
       "<polyline clip-path=\"url(#clip730)\" style=\"stroke:#000000; stroke-linecap:butt; stroke-linejoin:round; stroke-width:4; stroke-opacity:1; fill:none\" points=\"\n",
       "  233.659,349.284 252.556,349.284 \n",
       "  \"/>\n",
       "<polyline clip-path=\"url(#clip730)\" style=\"stroke:#000000; stroke-linecap:butt; stroke-linejoin:round; stroke-width:4; stroke-opacity:1; fill:none\" points=\"\n",
       "  233.659,104.969 252.556,104.969 \n",
       "  \"/>\n",
       "<polyline clip-path=\"url(#clip730)\" style=\"stroke:#000000; stroke-linecap:butt; stroke-linejoin:round; stroke-width:4; stroke-opacity:1; fill:none\" points=\"\n",
       "  233.659,1179.96 243.108,1179.96 \n",
       "  \"/>\n",
       "<polyline clip-path=\"url(#clip730)\" style=\"stroke:#000000; stroke-linecap:butt; stroke-linejoin:round; stroke-width:4; stroke-opacity:1; fill:none\" points=\"\n",
       "  233.659,1131.09 243.108,1131.09 \n",
       "  \"/>\n",
       "<polyline clip-path=\"url(#clip730)\" style=\"stroke:#000000; stroke-linecap:butt; stroke-linejoin:round; stroke-width:4; stroke-opacity:1; fill:none\" points=\"\n",
       "  233.659,1033.37 243.108,1033.37 \n",
       "  \"/>\n",
       "<polyline clip-path=\"url(#clip730)\" style=\"stroke:#000000; stroke-linecap:butt; stroke-linejoin:round; stroke-width:4; stroke-opacity:1; fill:none\" points=\"\n",
       "  233.659,984.503 243.108,984.503 \n",
       "  \"/>\n",
       "<polyline clip-path=\"url(#clip730)\" style=\"stroke:#000000; stroke-linecap:butt; stroke-linejoin:round; stroke-width:4; stroke-opacity:1; fill:none\" points=\"\n",
       "  233.659,935.64 243.108,935.64 \n",
       "  \"/>\n",
       "<polyline clip-path=\"url(#clip730)\" style=\"stroke:#000000; stroke-linecap:butt; stroke-linejoin:round; stroke-width:4; stroke-opacity:1; fill:none\" points=\"\n",
       "  233.659,886.777 243.108,886.777 \n",
       "  \"/>\n",
       "<polyline clip-path=\"url(#clip730)\" style=\"stroke:#000000; stroke-linecap:butt; stroke-linejoin:round; stroke-width:4; stroke-opacity:1; fill:none\" points=\"\n",
       "  233.659,789.051 243.108,789.051 \n",
       "  \"/>\n",
       "<polyline clip-path=\"url(#clip730)\" style=\"stroke:#000000; stroke-linecap:butt; stroke-linejoin:round; stroke-width:4; stroke-opacity:1; fill:none\" points=\"\n",
       "  233.659,740.188 243.108,740.188 \n",
       "  \"/>\n",
       "<polyline clip-path=\"url(#clip730)\" style=\"stroke:#000000; stroke-linecap:butt; stroke-linejoin:round; stroke-width:4; stroke-opacity:1; fill:none\" points=\"\n",
       "  233.659,691.325 243.108,691.325 \n",
       "  \"/>\n",
       "<polyline clip-path=\"url(#clip730)\" style=\"stroke:#000000; stroke-linecap:butt; stroke-linejoin:round; stroke-width:4; stroke-opacity:1; fill:none\" points=\"\n",
       "  233.659,642.462 243.108,642.462 \n",
       "  \"/>\n",
       "<polyline clip-path=\"url(#clip730)\" style=\"stroke:#000000; stroke-linecap:butt; stroke-linejoin:round; stroke-width:4; stroke-opacity:1; fill:none\" points=\"\n",
       "  233.659,544.736 243.108,544.736 \n",
       "  \"/>\n",
       "<polyline clip-path=\"url(#clip730)\" style=\"stroke:#000000; stroke-linecap:butt; stroke-linejoin:round; stroke-width:4; stroke-opacity:1; fill:none\" points=\"\n",
       "  233.659,495.873 243.108,495.873 \n",
       "  \"/>\n",
       "<polyline clip-path=\"url(#clip730)\" style=\"stroke:#000000; stroke-linecap:butt; stroke-linejoin:round; stroke-width:4; stroke-opacity:1; fill:none\" points=\"\n",
       "  233.659,447.01 243.108,447.01 \n",
       "  \"/>\n",
       "<polyline clip-path=\"url(#clip730)\" style=\"stroke:#000000; stroke-linecap:butt; stroke-linejoin:round; stroke-width:4; stroke-opacity:1; fill:none\" points=\"\n",
       "  233.659,398.147 243.108,398.147 \n",
       "  \"/>\n",
       "<polyline clip-path=\"url(#clip730)\" style=\"stroke:#000000; stroke-linecap:butt; stroke-linejoin:round; stroke-width:4; stroke-opacity:1; fill:none\" points=\"\n",
       "  233.659,300.421 243.108,300.421 \n",
       "  \"/>\n",
       "<polyline clip-path=\"url(#clip730)\" style=\"stroke:#000000; stroke-linecap:butt; stroke-linejoin:round; stroke-width:4; stroke-opacity:1; fill:none\" points=\"\n",
       "  233.659,251.558 243.108,251.558 \n",
       "  \"/>\n",
       "<polyline clip-path=\"url(#clip730)\" style=\"stroke:#000000; stroke-linecap:butt; stroke-linejoin:round; stroke-width:4; stroke-opacity:1; fill:none\" points=\"\n",
       "  233.659,202.695 243.108,202.695 \n",
       "  \"/>\n",
       "<polyline clip-path=\"url(#clip730)\" style=\"stroke:#000000; stroke-linecap:butt; stroke-linejoin:round; stroke-width:4; stroke-opacity:1; fill:none\" points=\"\n",
       "  233.659,153.832 243.108,153.832 \n",
       "  \"/>\n",
       "<polyline clip-path=\"url(#clip730)\" style=\"stroke:#000000; stroke-linecap:butt; stroke-linejoin:round; stroke-width:4; stroke-opacity:1; fill:none\" points=\"\n",
       "  233.659,56.1056 243.108,56.1056 \n",
       "  \"/>\n",
       "<path clip-path=\"url(#clip730)\" d=\"M134.238 1069.02 L122.432 1087.47 L134.238 1087.47 L134.238 1069.02 M133.011 1064.95 L138.891 1064.95 L138.891 1087.47 L143.821 1087.47 L143.821 1091.36 L138.891 1091.36 L138.891 1099.51 L134.238 1099.51 L134.238 1091.36 L118.636 1091.36 L118.636 1086.85 L133.011 1064.95 Z\" fill=\"#000000\" fill-rule=\"evenodd\" fill-opacity=\"1\" /><path clip-path=\"url(#clip730)\" d=\"M161.553 1068.03 Q157.942 1068.03 156.113 1071.59 Q154.307 1075.13 154.307 1082.26 Q154.307 1089.37 156.113 1092.94 Q157.942 1096.48 161.553 1096.48 Q165.187 1096.48 166.992 1092.94 Q168.821 1089.37 168.821 1082.26 Q168.821 1075.13 166.992 1071.59 Q165.187 1068.03 161.553 1068.03 M161.553 1064.32 Q167.363 1064.32 170.418 1068.93 Q173.497 1073.51 173.497 1082.26 Q173.497 1090.99 170.418 1095.6 Q167.363 1100.18 161.553 1100.18 Q155.742 1100.18 152.664 1095.6 Q149.608 1090.99 149.608 1082.26 Q149.608 1073.51 152.664 1068.93 Q155.742 1064.32 161.553 1064.32 Z\" fill=\"#000000\" fill-rule=\"evenodd\" fill-opacity=\"1\" /><path clip-path=\"url(#clip730)\" d=\"M191.714 1068.03 Q188.103 1068.03 186.275 1071.59 Q184.469 1075.13 184.469 1082.26 Q184.469 1089.37 186.275 1092.94 Q188.103 1096.48 191.714 1096.48 Q195.349 1096.48 197.154 1092.94 Q198.983 1089.37 198.983 1082.26 Q198.983 1075.13 197.154 1071.59 Q195.349 1068.03 191.714 1068.03 M191.714 1064.32 Q197.525 1064.32 200.58 1068.93 Q203.659 1073.51 203.659 1082.26 Q203.659 1090.99 200.58 1095.6 Q197.525 1100.18 191.714 1100.18 Q185.904 1100.18 182.826 1095.6 Q179.77 1090.99 179.77 1082.26 Q179.77 1073.51 182.826 1068.93 Q185.904 1064.32 191.714 1064.32 Z\" fill=\"#000000\" fill-rule=\"evenodd\" fill-opacity=\"1\" /><path clip-path=\"url(#clip730)\" d=\"M134.238 824.708 L122.432 843.157 L134.238 843.157 L134.238 824.708 M133.011 820.634 L138.891 820.634 L138.891 843.157 L143.821 843.157 L143.821 847.046 L138.891 847.046 L138.891 855.194 L134.238 855.194 L134.238 847.046 L118.636 847.046 L118.636 842.532 L133.011 820.634 Z\" fill=\"#000000\" fill-rule=\"evenodd\" fill-opacity=\"1\" /><path clip-path=\"url(#clip730)\" d=\"M151.599 820.634 L169.955 820.634 L169.955 824.569 L155.881 824.569 L155.881 833.042 Q156.9 832.694 157.918 832.532 Q158.937 832.347 159.955 832.347 Q165.742 832.347 169.122 835.518 Q172.502 838.69 172.502 844.106 Q172.502 849.685 169.029 852.787 Q165.557 855.866 159.238 855.866 Q157.062 855.866 154.793 855.495 Q152.548 855.125 150.141 854.384 L150.141 849.685 Q152.224 850.819 154.446 851.375 Q156.668 851.93 159.145 851.93 Q163.15 851.93 165.488 849.824 Q167.826 847.717 167.826 844.106 Q167.826 840.495 165.488 838.389 Q163.15 836.282 159.145 836.282 Q157.27 836.282 155.395 836.699 Q153.543 837.116 151.599 837.995 L151.599 820.634 Z\" fill=\"#000000\" fill-rule=\"evenodd\" fill-opacity=\"1\" /><path clip-path=\"url(#clip730)\" d=\"M191.714 823.713 Q188.103 823.713 186.275 827.278 Q184.469 830.819 184.469 837.949 Q184.469 845.055 186.275 848.62 Q188.103 852.162 191.714 852.162 Q195.349 852.162 197.154 848.62 Q198.983 845.055 198.983 837.949 Q198.983 830.819 197.154 827.278 Q195.349 823.713 191.714 823.713 M191.714 820.009 Q197.525 820.009 200.58 824.616 Q203.659 829.199 203.659 837.949 Q203.659 846.676 200.58 851.282 Q197.525 855.866 191.714 855.866 Q185.904 855.866 182.826 851.282 Q179.77 846.676 179.77 837.949 Q179.77 829.199 182.826 824.616 Q185.904 820.009 191.714 820.009 Z\" fill=\"#000000\" fill-rule=\"evenodd\" fill-opacity=\"1\" /><path clip-path=\"url(#clip730)\" d=\"M121.437 576.319 L139.793 576.319 L139.793 580.254 L125.719 580.254 L125.719 588.726 Q126.738 588.379 127.756 588.217 Q128.775 588.032 129.794 588.032 Q135.581 588.032 138.96 591.203 Q142.34 594.375 142.34 599.791 Q142.34 605.37 138.868 608.472 Q135.395 611.55 129.076 611.55 Q126.9 611.55 124.631 611.18 Q122.386 610.81 119.979 610.069 L119.979 605.37 Q122.062 606.504 124.284 607.06 Q126.506 607.615 128.983 607.615 Q132.988 607.615 135.326 605.509 Q137.664 603.402 137.664 599.791 Q137.664 596.18 135.326 594.074 Q132.988 591.967 128.983 591.967 Q127.108 591.967 125.233 592.384 Q123.382 592.8 121.437 593.68 L121.437 576.319 Z\" fill=\"#000000\" fill-rule=\"evenodd\" fill-opacity=\"1\" /><path clip-path=\"url(#clip730)\" d=\"M161.553 579.398 Q157.942 579.398 156.113 582.963 Q154.307 586.504 154.307 593.634 Q154.307 600.74 156.113 604.305 Q157.942 607.847 161.553 607.847 Q165.187 607.847 166.992 604.305 Q168.821 600.74 168.821 593.634 Q168.821 586.504 166.992 582.963 Q165.187 579.398 161.553 579.398 M161.553 575.694 Q167.363 575.694 170.418 580.301 Q173.497 584.884 173.497 593.634 Q173.497 602.361 170.418 606.967 Q167.363 611.55 161.553 611.55 Q155.742 611.55 152.664 606.967 Q149.608 602.361 149.608 593.634 Q149.608 584.884 152.664 580.301 Q155.742 575.694 161.553 575.694 Z\" fill=\"#000000\" fill-rule=\"evenodd\" fill-opacity=\"1\" /><path clip-path=\"url(#clip730)\" d=\"M191.714 579.398 Q188.103 579.398 186.275 582.963 Q184.469 586.504 184.469 593.634 Q184.469 600.74 186.275 604.305 Q188.103 607.847 191.714 607.847 Q195.349 607.847 197.154 604.305 Q198.983 600.74 198.983 593.634 Q198.983 586.504 197.154 582.963 Q195.349 579.398 191.714 579.398 M191.714 575.694 Q197.525 575.694 200.58 580.301 Q203.659 584.884 203.659 593.634 Q203.659 602.361 200.58 606.967 Q197.525 611.55 191.714 611.55 Q185.904 611.55 182.826 606.967 Q179.77 602.361 179.77 593.634 Q179.77 584.884 182.826 580.301 Q185.904 575.694 191.714 575.694 Z\" fill=\"#000000\" fill-rule=\"evenodd\" fill-opacity=\"1\" /><path clip-path=\"url(#clip730)\" d=\"M121.437 332.004 L139.793 332.004 L139.793 335.939 L125.719 335.939 L125.719 344.411 Q126.738 344.064 127.756 343.902 Q128.775 343.717 129.794 343.717 Q135.581 343.717 138.96 346.888 Q142.34 350.059 142.34 355.476 Q142.34 361.055 138.868 364.156 Q135.395 367.235 129.076 367.235 Q126.9 367.235 124.631 366.865 Q122.386 366.494 119.979 365.754 L119.979 361.055 Q122.062 362.189 124.284 362.744 Q126.506 363.3 128.983 363.3 Q132.988 363.3 135.326 361.194 Q137.664 359.087 137.664 355.476 Q137.664 351.865 135.326 349.758 Q132.988 347.652 128.983 347.652 Q127.108 347.652 125.233 348.069 Q123.382 348.485 121.437 349.365 L121.437 332.004 Z\" fill=\"#000000\" fill-rule=\"evenodd\" fill-opacity=\"1\" /><path clip-path=\"url(#clip730)\" d=\"M151.599 332.004 L169.955 332.004 L169.955 335.939 L155.881 335.939 L155.881 344.411 Q156.9 344.064 157.918 343.902 Q158.937 343.717 159.955 343.717 Q165.742 343.717 169.122 346.888 Q172.502 350.059 172.502 355.476 Q172.502 361.055 169.029 364.156 Q165.557 367.235 159.238 367.235 Q157.062 367.235 154.793 366.865 Q152.548 366.494 150.141 365.754 L150.141 361.055 Q152.224 362.189 154.446 362.744 Q156.668 363.3 159.145 363.3 Q163.15 363.3 165.488 361.194 Q167.826 359.087 167.826 355.476 Q167.826 351.865 165.488 349.758 Q163.15 347.652 159.145 347.652 Q157.27 347.652 155.395 348.069 Q153.543 348.485 151.599 349.365 L151.599 332.004 Z\" fill=\"#000000\" fill-rule=\"evenodd\" fill-opacity=\"1\" /><path clip-path=\"url(#clip730)\" d=\"M191.714 335.083 Q188.103 335.083 186.275 338.647 Q184.469 342.189 184.469 349.319 Q184.469 356.425 186.275 359.99 Q188.103 363.531 191.714 363.531 Q195.349 363.531 197.154 359.99 Q198.983 356.425 198.983 349.319 Q198.983 342.189 197.154 338.647 Q195.349 335.083 191.714 335.083 M191.714 331.379 Q197.525 331.379 200.58 335.985 Q203.659 340.569 203.659 349.319 Q203.659 358.045 200.58 362.652 Q197.525 367.235 191.714 367.235 Q185.904 367.235 182.826 362.652 Q179.77 358.045 179.77 349.319 Q179.77 340.569 182.826 335.985 Q185.904 331.379 191.714 331.379 Z\" fill=\"#000000\" fill-rule=\"evenodd\" fill-opacity=\"1\" /><path clip-path=\"url(#clip730)\" d=\"M131.969 103.105 Q128.821 103.105 126.969 105.258 Q125.141 107.411 125.141 111.161 Q125.141 114.888 126.969 117.064 Q128.821 119.216 131.969 119.216 Q135.118 119.216 136.946 117.064 Q138.798 114.888 138.798 111.161 Q138.798 107.411 136.946 105.258 Q135.118 103.105 131.969 103.105 M141.252 88.4525 L141.252 92.7118 Q139.493 91.8784 137.687 91.4386 Q135.905 90.9988 134.145 90.9988 Q129.516 90.9988 127.062 94.1238 Q124.631 97.2488 124.284 103.568 Q125.65 101.554 127.71 100.49 Q129.77 99.4016 132.247 99.4016 Q137.456 99.4016 140.465 102.573 Q143.497 105.721 143.497 111.161 Q143.497 116.485 140.349 119.702 Q137.201 122.92 131.969 122.92 Q125.974 122.92 122.803 118.337 Q119.632 113.73 119.632 105.003 Q119.632 96.809 123.52 91.9479 Q127.409 87.0637 133.96 87.0637 Q135.719 87.0637 137.502 87.4109 Q139.307 87.7581 141.252 88.4525 Z\" fill=\"#000000\" fill-rule=\"evenodd\" fill-opacity=\"1\" /><path clip-path=\"url(#clip730)\" d=\"M161.553 90.7673 Q157.942 90.7673 156.113 94.3321 Q154.307 97.8738 154.307 105.003 Q154.307 112.11 156.113 115.675 Q157.942 119.216 161.553 119.216 Q165.187 119.216 166.992 115.675 Q168.821 112.11 168.821 105.003 Q168.821 97.8738 166.992 94.3321 Q165.187 90.7673 161.553 90.7673 M161.553 87.0637 Q167.363 87.0637 170.418 91.6701 Q173.497 96.2534 173.497 105.003 Q173.497 113.73 170.418 118.337 Q167.363 122.92 161.553 122.92 Q155.742 122.92 152.664 118.337 Q149.608 113.73 149.608 105.003 Q149.608 96.2534 152.664 91.6701 Q155.742 87.0637 161.553 87.0637 Z\" fill=\"#000000\" fill-rule=\"evenodd\" fill-opacity=\"1\" /><path clip-path=\"url(#clip730)\" d=\"M191.714 90.7673 Q188.103 90.7673 186.275 94.3321 Q184.469 97.8738 184.469 105.003 Q184.469 112.11 186.275 115.675 Q188.103 119.216 191.714 119.216 Q195.349 119.216 197.154 115.675 Q198.983 112.11 198.983 105.003 Q198.983 97.8738 197.154 94.3321 Q195.349 90.7673 191.714 90.7673 M191.714 87.0637 Q197.525 87.0637 200.58 91.6701 Q203.659 96.2534 203.659 105.003 Q203.659 113.73 200.58 118.337 Q197.525 122.92 191.714 122.92 Q185.904 122.92 182.826 118.337 Q179.77 113.73 179.77 105.003 Q179.77 96.2534 182.826 91.6701 Q185.904 87.0637 191.714 87.0637 Z\" fill=\"#000000\" fill-rule=\"evenodd\" fill-opacity=\"1\" /><path clip-path=\"url(#clip730)\" d=\"M77.6903 632.473 Q84.056 634.956 85.9976 637.311 Q87.9391 639.666 87.9391 643.613 L87.9391 648.292 L83.0375 648.292 L83.0375 644.854 Q83.0375 642.435 81.8917 641.099 Q80.7459 639.762 76.4808 638.139 L73.8072 637.088 L38.7322 651.507 L38.7322 645.3 L66.614 634.16 L38.7322 623.02 L38.7322 616.813 L77.6903 632.473 Z\" fill=\"#000000\" fill-rule=\"evenodd\" fill-opacity=\"1\" /><polyline clip-path=\"url(#clip733)\" style=\"stroke:#0000ff; stroke-linecap:butt; stroke-linejoin:round; stroke-width:8; stroke-opacity:1; fill:none\" points=\"\n",
       "  282.313,896.468 305.481,876.889 328.649,857.913 351.818,839.584 374.986,821.951 398.155,805.064 421.323,788.979 444.492,773.756 467.66,759.464 490.828,746.184 \n",
       "  513.997,734.012 537.165,723.07 560.334,713.524 583.502,705.615 606.67,699.751 629.839,696.824 653.007,701.972 676.176,550.115 699.344,486.483 722.513,441.787 \n",
       "  745.681,407.933 768.849,381.707 792.018,361.372 815.186,345.88 838.355,334.489 861.523,326.666 884.692,321.995 907.86,320.148 931.028,320.851 954.197,323.888 \n",
       "  977.365,329.009 1000.53,336.091 1023.7,344.96 1046.87,355.472 1070.04,367.5 1093.21,380.925 1116.38,395.636 1139.54,411.533 1162.71,428.519 1185.88,446.507 \n",
       "  1209.05,465.411 1232.22,485.153 1255.39,505.659 1278.55,526.86 1301.72,548.681 1324.89,571.071 1348.06,593.966 1371.23,617.309 1394.4,641.049 1417.57,665.134 \n",
       "  1440.73,689.518 1463.9,714.156 1487.07,739.007 1510.24,764.031 1533.41,789.191 1556.58,814.453 1579.74,839.784 1602.91,865.153 1626.08,890.533 1649.25,915.895 \n",
       "  1672.42,941.217 1695.59,966.474 1718.75,991.645 1741.92,1016.71 1765.09,1041.65 1788.26,1066.46 1811.43,1091.1 1834.6,1115.58 1857.77,1139.87 1880.93,1163.96 \n",
       "  1904.1,1187.85 \n",
       "  \"/>\n",
       "<polyline clip-path=\"url(#clip733)\" style=\"stroke:#e26f46; stroke-linecap:butt; stroke-linejoin:round; stroke-width:4; stroke-opacity:1; fill:none\" stroke-dasharray=\"16, 10\" points=\"\n",
       "  653.934,2394.91 653.934,-1126.59 \n",
       "  \"/>\n",
       "<polyline clip-path=\"url(#clip733)\" style=\"stroke:#000000; stroke-linecap:butt; stroke-linejoin:round; stroke-width:4; stroke-opacity:1; fill:none\" points=\"\n",
       "  302.006,1036.86 302.006,819.684 \n",
       "  \"/>\n",
       "<polyline clip-path=\"url(#clip733)\" style=\"stroke:#000000; stroke-linecap:butt; stroke-linejoin:round; stroke-width:4; stroke-opacity:1; fill:none\" points=\"\n",
       "  489.67,805.001 489.67,577.414 \n",
       "  \"/>\n",
       "<polyline clip-path=\"url(#clip733)\" style=\"stroke:#000000; stroke-linecap:butt; stroke-linejoin:round; stroke-width:4; stroke-opacity:1; fill:none\" points=\"\n",
       "  677.334,632.442 677.334,399.05 \n",
       "  \"/>\n",
       "<polyline clip-path=\"url(#clip733)\" style=\"stroke:#000000; stroke-linecap:butt; stroke-linejoin:round; stroke-width:4; stroke-opacity:1; fill:none\" points=\"\n",
       "  864.998,548.61 864.998,313.673 \n",
       "  \"/>\n",
       "<polyline clip-path=\"url(#clip733)\" style=\"stroke:#000000; stroke-linecap:butt; stroke-linejoin:round; stroke-width:4; stroke-opacity:1; fill:none\" points=\"\n",
       "  1052.66,324.478 1052.66,80.4657 \n",
       "  \"/>\n",
       "<polyline clip-path=\"url(#clip733)\" style=\"stroke:#000000; stroke-linecap:butt; stroke-linejoin:round; stroke-width:4; stroke-opacity:1; fill:none\" points=\"\n",
       "  1240.33,581.981 1240.33,348.147 \n",
       "  \"/>\n",
       "<polyline clip-path=\"url(#clip733)\" style=\"stroke:#000000; stroke-linecap:butt; stroke-linejoin:round; stroke-width:4; stroke-opacity:1; fill:none\" points=\"\n",
       "  1427.99,948.691 1427.99,732.872 \n",
       "  \"/>\n",
       "<polyline clip-path=\"url(#clip733)\" style=\"stroke:#000000; stroke-linecap:butt; stroke-linejoin:round; stroke-width:4; stroke-opacity:1; fill:none\" points=\"\n",
       "  1615.66,966.373 1615.66,753.029 \n",
       "  \"/>\n",
       "<polyline clip-path=\"url(#clip733)\" style=\"stroke:#000000; stroke-linecap:butt; stroke-linejoin:round; stroke-width:4; stroke-opacity:1; fill:none\" points=\"\n",
       "  1803.32,1127.06 1803.32,923.71 \n",
       "  \"/>\n",
       "<line clip-path=\"url(#clip733)\" x1=\"318.006\" y1=\"1036.86\" x2=\"286.006\" y2=\"1036.86\" style=\"stroke:#000000; stroke-width:2.8; stroke-opacity:1\"/>\n",
       "<line clip-path=\"url(#clip733)\" x1=\"318.006\" y1=\"819.684\" x2=\"286.006\" y2=\"819.684\" style=\"stroke:#000000; stroke-width:2.8; stroke-opacity:1\"/>\n",
       "<line clip-path=\"url(#clip733)\" x1=\"505.67\" y1=\"805.001\" x2=\"473.67\" y2=\"805.001\" style=\"stroke:#000000; stroke-width:2.8; stroke-opacity:1\"/>\n",
       "<line clip-path=\"url(#clip733)\" x1=\"505.67\" y1=\"577.414\" x2=\"473.67\" y2=\"577.414\" style=\"stroke:#000000; stroke-width:2.8; stroke-opacity:1\"/>\n",
       "<line clip-path=\"url(#clip733)\" x1=\"693.334\" y1=\"632.442\" x2=\"661.334\" y2=\"632.442\" style=\"stroke:#000000; stroke-width:2.8; stroke-opacity:1\"/>\n",
       "<line clip-path=\"url(#clip733)\" x1=\"693.334\" y1=\"399.05\" x2=\"661.334\" y2=\"399.05\" style=\"stroke:#000000; stroke-width:2.8; stroke-opacity:1\"/>\n",
       "<line clip-path=\"url(#clip733)\" x1=\"880.998\" y1=\"548.61\" x2=\"848.998\" y2=\"548.61\" style=\"stroke:#000000; stroke-width:2.8; stroke-opacity:1\"/>\n",
       "<line clip-path=\"url(#clip733)\" x1=\"880.998\" y1=\"313.673\" x2=\"848.998\" y2=\"313.673\" style=\"stroke:#000000; stroke-width:2.8; stroke-opacity:1\"/>\n",
       "<line clip-path=\"url(#clip733)\" x1=\"1068.66\" y1=\"324.478\" x2=\"1036.66\" y2=\"324.478\" style=\"stroke:#000000; stroke-width:2.8; stroke-opacity:1\"/>\n",
       "<line clip-path=\"url(#clip733)\" x1=\"1068.66\" y1=\"80.4657\" x2=\"1036.66\" y2=\"80.4657\" style=\"stroke:#000000; stroke-width:2.8; stroke-opacity:1\"/>\n",
       "<line clip-path=\"url(#clip733)\" x1=\"1256.33\" y1=\"581.981\" x2=\"1224.33\" y2=\"581.981\" style=\"stroke:#000000; stroke-width:2.8; stroke-opacity:1\"/>\n",
       "<line clip-path=\"url(#clip733)\" x1=\"1256.33\" y1=\"348.147\" x2=\"1224.33\" y2=\"348.147\" style=\"stroke:#000000; stroke-width:2.8; stroke-opacity:1\"/>\n",
       "<line clip-path=\"url(#clip733)\" x1=\"1443.99\" y1=\"948.691\" x2=\"1411.99\" y2=\"948.691\" style=\"stroke:#000000; stroke-width:2.8; stroke-opacity:1\"/>\n",
       "<line clip-path=\"url(#clip733)\" x1=\"1443.99\" y1=\"732.872\" x2=\"1411.99\" y2=\"732.872\" style=\"stroke:#000000; stroke-width:2.8; stroke-opacity:1\"/>\n",
       "<line clip-path=\"url(#clip733)\" x1=\"1631.66\" y1=\"966.373\" x2=\"1599.66\" y2=\"966.373\" style=\"stroke:#000000; stroke-width:2.8; stroke-opacity:1\"/>\n",
       "<line clip-path=\"url(#clip733)\" x1=\"1631.66\" y1=\"753.029\" x2=\"1599.66\" y2=\"753.029\" style=\"stroke:#000000; stroke-width:2.8; stroke-opacity:1\"/>\n",
       "<line clip-path=\"url(#clip733)\" x1=\"1819.32\" y1=\"1127.06\" x2=\"1787.32\" y2=\"1127.06\" style=\"stroke:#000000; stroke-width:2.8; stroke-opacity:1\"/>\n",
       "<line clip-path=\"url(#clip733)\" x1=\"1819.32\" y1=\"923.71\" x2=\"1787.32\" y2=\"923.71\" style=\"stroke:#000000; stroke-width:2.8; stroke-opacity:1\"/>\n",
       "<circle clip-path=\"url(#clip733)\" cx=\"302.006\" cy=\"928.273\" r=\"14.4\" fill=\"#3da44d\" fill-rule=\"evenodd\" fill-opacity=\"1\" stroke=\"#000000\" stroke-opacity=\"1\" stroke-width=\"2.8\"/>\n",
       "<circle clip-path=\"url(#clip733)\" cx=\"489.67\" cy=\"691.208\" r=\"14.4\" fill=\"#3da44d\" fill-rule=\"evenodd\" fill-opacity=\"1\" stroke=\"#000000\" stroke-opacity=\"1\" stroke-width=\"2.8\"/>\n",
       "<circle clip-path=\"url(#clip733)\" cx=\"677.334\" cy=\"515.746\" r=\"14.4\" fill=\"#3da44d\" fill-rule=\"evenodd\" fill-opacity=\"1\" stroke=\"#000000\" stroke-opacity=\"1\" stroke-width=\"2.8\"/>\n",
       "<circle clip-path=\"url(#clip733)\" cx=\"864.998\" cy=\"431.142\" r=\"14.4\" fill=\"#3da44d\" fill-rule=\"evenodd\" fill-opacity=\"1\" stroke=\"#000000\" stroke-opacity=\"1\" stroke-width=\"2.8\"/>\n",
       "<circle clip-path=\"url(#clip733)\" cx=\"1052.66\" cy=\"202.472\" r=\"14.4\" fill=\"#3da44d\" fill-rule=\"evenodd\" fill-opacity=\"1\" stroke=\"#000000\" stroke-opacity=\"1\" stroke-width=\"2.8\"/>\n",
       "<circle clip-path=\"url(#clip733)\" cx=\"1240.33\" cy=\"465.064\" r=\"14.4\" fill=\"#3da44d\" fill-rule=\"evenodd\" fill-opacity=\"1\" stroke=\"#000000\" stroke-opacity=\"1\" stroke-width=\"2.8\"/>\n",
       "<circle clip-path=\"url(#clip733)\" cx=\"1427.99\" cy=\"840.781\" r=\"14.4\" fill=\"#3da44d\" fill-rule=\"evenodd\" fill-opacity=\"1\" stroke=\"#000000\" stroke-opacity=\"1\" stroke-width=\"2.8\"/>\n",
       "<circle clip-path=\"url(#clip733)\" cx=\"1615.66\" cy=\"859.701\" r=\"14.4\" fill=\"#3da44d\" fill-rule=\"evenodd\" fill-opacity=\"1\" stroke=\"#000000\" stroke-opacity=\"1\" stroke-width=\"2.8\"/>\n",
       "<circle clip-path=\"url(#clip733)\" cx=\"1803.32\" cy=\"1025.38\" r=\"14.4\" fill=\"#3da44d\" fill-rule=\"evenodd\" fill-opacity=\"1\" stroke=\"#000000\" stroke-opacity=\"1\" stroke-width=\"2.8\"/>\n",
       "<polyline clip-path=\"url(#clip733)\" style=\"stroke:#0000ff; stroke-linecap:butt; stroke-linejoin:round; stroke-width:8; stroke-opacity:1; fill:none\" points=\"\n",
       "  282.313,896.468 305.481,876.889 328.649,857.913 351.818,839.584 374.986,821.951 398.155,805.064 421.323,788.979 444.492,773.756 467.66,759.464 490.828,746.184 \n",
       "  513.997,734.012 537.165,723.07 560.334,713.524 583.502,705.615 606.67,699.751 629.839,696.824 653.007,701.972 676.176,550.115 699.344,486.483 722.513,441.787 \n",
       "  745.681,407.933 768.849,381.707 792.018,361.372 815.186,345.88 838.355,334.489 861.523,326.666 884.692,321.995 907.86,320.148 931.028,320.851 954.197,323.888 \n",
       "  977.365,329.009 1000.53,336.091 1023.7,344.96 1046.87,355.472 1070.04,367.5 1093.21,380.925 1116.38,395.636 1139.54,411.533 1162.71,428.519 1185.88,446.507 \n",
       "  1209.05,465.411 1232.22,485.153 1255.39,505.659 1278.55,526.86 1301.72,548.681 1324.89,571.071 1348.06,593.966 1371.23,617.309 1394.4,641.049 1417.57,665.134 \n",
       "  1440.73,689.518 1463.9,714.156 1487.07,739.007 1510.24,764.031 1533.41,789.191 1556.58,814.453 1579.74,839.784 1602.91,865.153 1626.08,890.533 1649.25,915.895 \n",
       "  1672.42,941.217 1695.59,966.474 1718.75,991.645 1741.92,1016.71 1765.09,1041.65 1788.26,1066.46 1811.43,1091.1 1834.6,1115.58 1857.77,1139.87 1880.93,1163.96 \n",
       "  1904.1,1187.85 \n",
       "  \"/>\n",
       "<polyline clip-path=\"url(#clip733)\" style=\"stroke:#ac8d18; stroke-linecap:butt; stroke-linejoin:round; stroke-width:4; stroke-opacity:1; fill:none\" stroke-dasharray=\"16, 10\" points=\"\n",
       "  653.934,2394.91 653.934,-1126.59 \n",
       "  \"/>\n",
       "<path clip-path=\"url(#clip730)\" d=\"\n",
       "M1439.95 429.789 L1895.45 429.789 L1895.45 86.3718 L1439.95 86.3718  Z\n",
       "  \" fill=\"#ffffff\" fill-rule=\"evenodd\" fill-opacity=\"1\"/>\n",
       "<polyline clip-path=\"url(#clip730)\" style=\"stroke:#000000; stroke-linecap:butt; stroke-linejoin:round; stroke-width:4; stroke-opacity:1; fill:none\" points=\"\n",
       "  1439.95,429.789 1895.45,429.789 1895.45,86.3718 1439.95,86.3718 1439.95,429.789 \n",
       "  \"/>\n",
       "<polyline clip-path=\"url(#clip730)\" style=\"stroke:#0000ff; stroke-linecap:butt; stroke-linejoin:round; stroke-width:4; stroke-opacity:1; fill:none\" points=\"\n",
       "  1459.05,143.608 1573.65,143.608 \n",
       "  \"/>\n",
       "<path clip-path=\"url(#clip730)\" d=\"M1592.75 126.328 L1612.62 126.328 L1612.62 130.263 L1597.43 130.263 L1597.43 140.448 L1611.13 140.448 L1611.13 144.383 L1597.43 144.383 L1597.43 160.888 L1592.75 160.888 L1592.75 126.328 Z\" fill=\"#000000\" fill-rule=\"evenodd\" fill-opacity=\"1\" /><path clip-path=\"url(#clip730)\" d=\"M1616.39 134.962 L1620.65 134.962 L1620.65 160.888 L1616.39 160.888 L1616.39 134.962 M1616.39 124.87 L1620.65 124.87 L1620.65 130.263 L1616.39 130.263 L1616.39 124.87 Z\" fill=\"#000000\" fill-rule=\"evenodd\" fill-opacity=\"1\" /><path clip-path=\"url(#clip730)\" d=\"M1633.77 127.601 L1633.77 134.962 L1642.55 134.962 L1642.55 138.272 L1633.77 138.272 L1633.77 152.346 Q1633.77 155.518 1634.63 156.42 Q1635.51 157.323 1638.17 157.323 L1642.55 157.323 L1642.55 160.888 L1638.17 160.888 Q1633.24 160.888 1631.37 159.059 Q1629.49 157.207 1629.49 152.346 L1629.49 138.272 L1626.37 138.272 L1626.37 134.962 L1629.49 134.962 L1629.49 127.601 L1633.77 127.601 Z\" fill=\"#000000\" fill-rule=\"evenodd\" fill-opacity=\"1\" /><path clip-path=\"url(#clip730)\" d=\"M1652.36 127.601 L1652.36 134.962 L1661.13 134.962 L1661.13 138.272 L1652.36 138.272 L1652.36 152.346 Q1652.36 155.518 1653.22 156.42 Q1654.1 157.323 1656.76 157.323 L1661.13 157.323 L1661.13 160.888 L1656.76 160.888 Q1651.83 160.888 1649.95 159.059 Q1648.08 157.207 1648.08 152.346 L1648.08 138.272 L1644.95 138.272 L1644.95 134.962 L1648.08 134.962 L1648.08 127.601 L1652.36 127.601 Z\" fill=\"#000000\" fill-rule=\"evenodd\" fill-opacity=\"1\" /><path clip-path=\"url(#clip730)\" d=\"M1666.74 134.962 L1671 134.962 L1671 160.888 L1666.74 160.888 L1666.74 134.962 M1666.74 124.87 L1671 124.87 L1671 130.263 L1666.74 130.263 L1666.74 124.87 Z\" fill=\"#000000\" fill-rule=\"evenodd\" fill-opacity=\"1\" /><path clip-path=\"url(#clip730)\" d=\"M1701.46 145.24 L1701.46 160.888 L1697.2 160.888 L1697.2 145.379 Q1697.2 141.698 1695.76 139.87 Q1694.33 138.041 1691.46 138.041 Q1688.01 138.041 1686.02 140.24 Q1684.03 142.439 1684.03 146.235 L1684.03 160.888 L1679.75 160.888 L1679.75 134.962 L1684.03 134.962 L1684.03 138.99 Q1685.56 136.652 1687.62 135.495 Q1689.7 134.337 1692.41 134.337 Q1696.87 134.337 1699.17 137.115 Q1701.46 139.87 1701.46 145.24 Z\" fill=\"#000000\" fill-rule=\"evenodd\" fill-opacity=\"1\" /><path clip-path=\"url(#clip730)\" d=\"M1727.01 147.624 Q1727.01 142.995 1725.09 140.448 Q1723.19 137.902 1719.74 137.902 Q1716.32 137.902 1714.4 140.448 Q1712.5 142.995 1712.5 147.624 Q1712.5 152.231 1714.4 154.777 Q1716.32 157.323 1719.74 157.323 Q1723.19 157.323 1725.09 154.777 Q1727.01 152.231 1727.01 147.624 M1731.27 157.67 Q1731.27 164.291 1728.33 167.508 Q1725.39 170.749 1719.33 170.749 Q1717.08 170.749 1715.09 170.402 Q1713.1 170.078 1711.23 169.383 L1711.23 165.24 Q1713.1 166.258 1714.93 166.744 Q1716.76 167.231 1718.66 167.231 Q1722.85 167.231 1724.93 165.032 Q1727.01 162.856 1727.01 158.434 L1727.01 156.328 Q1725.69 158.62 1723.63 159.754 Q1721.57 160.888 1718.7 160.888 Q1713.93 160.888 1711.02 157.254 Q1708.1 153.62 1708.1 147.624 Q1708.1 141.606 1711.02 137.971 Q1713.93 134.337 1718.7 134.337 Q1721.57 134.337 1723.63 135.471 Q1725.69 136.606 1727.01 138.897 L1727.01 134.962 L1731.27 134.962 L1731.27 157.67 Z\" fill=\"#000000\" fill-rule=\"evenodd\" fill-opacity=\"1\" /><polyline clip-path=\"url(#clip730)\" style=\"stroke:#e26f46; stroke-linecap:butt; stroke-linejoin:round; stroke-width:4; stroke-opacity:1; fill:none\" stroke-dasharray=\"16, 10\" points=\"\n",
       "  1459.05,200.844 1573.65,200.844 \n",
       "  \"/>\n",
       "<path clip-path=\"url(#clip730)\" d=\"M1629.41 194.809 Q1629.41 198.674 1627.75 202.468 Q1626.11 206.239 1623.44 209.097 Q1620.79 211.931 1617.21 213.687 Q1613.62 215.444 1609.97 215.444 L1594.09 215.444 Q1593.53 215.444 1593.29 215.421 Q1593.08 215.397 1592.92 215.28 Q1592.75 215.14 1592.75 214.859 Q1592.75 214.413 1592.94 214.226 Q1593.13 214.015 1593.34 213.992 Q1593.55 213.968 1594.09 213.968 Q1595.26 213.968 1595.96 213.898 Q1596.67 213.828 1597.11 213.734 Q1597.58 213.617 1597.81 213.289 Q1598.07 212.961 1598.19 212.68 Q1598.31 212.376 1598.47 211.696 L1604.89 185.932 Q1605.08 185.159 1605.08 185.042 Q1605.08 184.644 1604.84 184.503 Q1604.63 184.339 1604.02 184.269 Q1602.85 184.175 1601.96 184.175 Q1601.37 184.175 1601.14 184.152 Q1600.93 184.128 1600.74 184.011 Q1600.58 183.871 1600.58 183.59 Q1600.58 183.145 1600.77 182.957 Q1600.98 182.746 1601.21 182.723 Q1601.44 182.676 1602.01 182.676 L1618.12 182.676 Q1621.61 182.676 1624.21 184.316 Q1626.81 185.932 1628.1 188.672 Q1629.41 191.389 1629.41 194.809 M1625.22 193.052 Q1625.22 188.579 1622.78 186.377 Q1620.37 184.175 1616.55 184.175 L1611.42 184.175 Q1609.9 184.175 1609.53 184.456 Q1609.15 184.714 1608.82 186.002 L1602.24 212.329 Q1602.01 213.196 1602.01 213.43 Q1602.01 213.687 1602.12 213.781 Q1602.26 213.851 1602.64 213.898 Q1603.06 213.968 1603.69 213.968 L1609.1 213.968 Q1611.19 213.968 1613.09 213.406 Q1615.01 212.821 1616.39 211.907 Q1617.77 210.97 1618.66 210.174 Q1619.55 209.354 1620.18 208.534 Q1621.61 206.684 1622.67 204.272 Q1623.74 201.859 1624.23 199.657 Q1624.75 197.432 1624.98 195.793 Q1625.22 194.13 1625.22 193.052 Z\" fill=\"#000000\" fill-rule=\"evenodd\" fill-opacity=\"1\" /><path clip-path=\"url(#clip730)\" d=\"M1646.54 216.781 Q1646.54 217.699 1646.08 218.191 Q1645.62 218.666 1645 218.666 Q1644.49 218.666 1644.21 218.371 Q1643.95 218.076 1643.95 217.682 Q1643.95 217.109 1644.41 216.65 Q1644.88 216.19 1645.57 216.174 Q1645.34 215.567 1644.74 215.207 Q1644.13 214.83 1643.59 214.731 Q1643.06 214.633 1642.54 214.633 Q1641.51 214.633 1640.72 214.961 Q1639.93 215.289 1639.54 215.797 Q1639.14 216.289 1638.96 216.764 Q1638.78 217.24 1638.78 217.65 Q1638.78 218.01 1638.87 218.305 Q1638.96 218.584 1639.19 218.797 Q1639.42 218.994 1639.59 219.125 Q1639.77 219.256 1640.16 219.371 Q1640.55 219.486 1640.72 219.535 Q1640.88 219.568 1641.34 219.666 Q1642.29 219.863 1642.72 219.978 Q1643.15 220.076 1643.7 220.355 Q1644.28 220.634 1644.7 221.076 Q1645.74 222.109 1645.74 223.536 Q1645.74 224.06 1645.56 224.7 Q1645.39 225.339 1644.92 226.143 Q1644.44 226.946 1643.72 227.585 Q1643 228.225 1641.75 228.668 Q1640.52 229.11 1638.98 229.11 Q1636.83 229.11 1635.51 228.208 Q1634.18 227.29 1634.18 225.848 Q1634.18 224.798 1634.75 224.224 Q1635.32 223.634 1636.06 223.634 Q1636.62 223.634 1636.96 223.946 Q1637.31 224.241 1637.31 224.798 Q1637.31 225.552 1636.7 226.126 Q1636.1 226.7 1635.19 226.585 Q1635.96 228.356 1639.01 228.356 Q1640.16 228.356 1641.05 228.061 Q1641.95 227.749 1642.44 227.323 Q1642.95 226.88 1643.28 226.339 Q1643.6 225.798 1643.7 225.388 Q1643.82 224.979 1643.82 224.667 Q1643.82 224.126 1643.6 223.716 Q1643.39 223.306 1643.1 223.077 Q1642.82 222.831 1642.28 222.634 Q1641.75 222.421 1641.37 222.339 Q1641 222.257 1640.33 222.126 Q1640.01 222.06 1639.82 222.027 Q1639.62 221.978 1639.21 221.847 Q1638.82 221.699 1638.54 221.552 Q1638.28 221.404 1637.93 221.142 Q1637.59 220.88 1637.37 220.568 Q1637.16 220.257 1637.01 219.797 Q1636.87 219.338 1636.87 218.797 Q1636.87 218.305 1637.01 217.715 Q1637.18 217.125 1637.59 216.436 Q1638.01 215.748 1638.62 215.19 Q1639.23 214.633 1640.24 214.272 Q1641.28 213.895 1642.54 213.895 Q1644.38 213.895 1645.46 214.748 Q1646.54 215.584 1646.54 216.781 Z\" fill=\"#000000\" fill-rule=\"evenodd\" fill-opacity=\"1\" /><path clip-path=\"url(#clip730)\" d=\"M1649.63 217.994 Q1649.63 213.059 1650.88 210.37 Q1652.62 206.369 1656.72 206.369 Q1657.58 206.369 1658.49 206.615 Q1659.4 206.845 1660.55 207.747 Q1661.72 208.648 1662.42 210.124 Q1663.77 212.977 1663.77 217.994 Q1663.77 222.896 1662.52 225.569 Q1660.7 229.471 1656.68 229.471 Q1655.17 229.471 1653.63 228.7 Q1652.11 227.93 1651.14 226.077 Q1649.63 223.306 1649.63 217.994 M1652.42 217.584 Q1652.42 222.65 1652.78 224.667 Q1653.19 226.848 1654.31 227.799 Q1655.44 228.733 1656.68 228.733 Q1658.03 228.733 1659.14 227.733 Q1660.27 226.716 1660.62 224.536 Q1661 222.388 1660.98 217.584 Q1660.98 212.911 1660.65 211.042 Q1660.21 208.862 1659.03 207.993 Q1657.86 207.107 1656.68 207.107 Q1656.24 207.107 1655.76 207.238 Q1655.31 207.37 1654.63 207.747 Q1653.96 208.124 1653.44 209.058 Q1652.93 209.993 1652.68 211.403 Q1652.42 213.223 1652.42 217.584 Z\" fill=\"#000000\" fill-rule=\"evenodd\" fill-opacity=\"1\" /><path clip-path=\"url(#clip730)\" d=\"M1646.7 182.757 Q1646.49 183.134 1646.05 183.232 Q1645.62 183.314 1645.26 183.068 L1640.96 179.904 L1641.52 185.216 Q1641.57 185.642 1641.29 185.97 Q1641.01 186.282 1640.55 186.282 Q1640.1 186.282 1639.82 185.97 Q1639.54 185.642 1639.59 185.216 L1640.15 179.904 L1635.85 183.068 Q1635.49 183.314 1635.05 183.232 Q1634.62 183.134 1634.41 182.757 Q1634.18 182.347 1634.31 181.937 Q1634.46 181.51 1634.88 181.347 L1639.75 179.199 L1634.88 177.051 Q1634.46 176.887 1634.31 176.477 Q1634.18 176.051 1634.41 175.641 Q1634.62 175.264 1635.05 175.182 Q1635.49 175.083 1635.85 175.329 L1640.15 178.494 L1639.59 173.181 Q1639.54 172.739 1639.82 172.411 Q1640.11 172.083 1640.55 172.083 Q1641 172.083 1641.28 172.411 Q1641.57 172.739 1641.52 173.181 L1640.96 178.494 L1645.26 175.329 Q1645.62 175.083 1646.05 175.182 Q1646.49 175.264 1646.7 175.641 Q1646.93 176.051 1646.79 176.477 Q1646.65 176.887 1646.23 177.051 L1641.36 179.199 L1646.23 181.347 Q1646.65 181.51 1646.79 181.937 Q1646.93 182.347 1646.7 182.757 Z\" fill=\"#000000\" fill-rule=\"evenodd\" fill-opacity=\"1\" /><path clip-path=\"url(#clip730)\" d=\"M1676.5 203.452 Q1676.5 195.348 1679.52 188.813 Q1680.81 186.072 1682.62 183.777 Q1684.42 181.482 1685.61 180.474 Q1686.81 179.467 1687.14 179.467 Q1687.6 179.467 1687.63 179.936 Q1687.63 180.17 1687 180.755 Q1679.27 188.625 1679.29 203.452 Q1679.29 218.325 1686.81 225.89 Q1687.63 226.71 1687.63 226.968 Q1687.63 227.436 1687.14 227.436 Q1686.81 227.436 1685.66 226.476 Q1684.51 225.516 1682.73 223.314 Q1680.95 221.112 1679.66 218.419 Q1676.5 211.884 1676.5 203.452 Z\" fill=\"#000000\" fill-rule=\"evenodd\" fill-opacity=\"1\" /><path clip-path=\"url(#clip730)\" d=\"M1692.23 215.444 Q1692.23 214.577 1692.31 214.32 Q1692.4 214.062 1692.77 213.664 L1701.98 203.405 Q1707.01 197.737 1707.01 192.795 Q1707.01 189.586 1705.33 187.29 Q1703.67 184.995 1700.6 184.995 Q1698.49 184.995 1696.71 186.283 Q1694.93 187.571 1694.11 189.867 Q1694.25 189.82 1694.74 189.82 Q1695.94 189.82 1696.59 190.569 Q1697.27 191.319 1697.27 192.326 Q1697.27 193.614 1696.43 194.247 Q1695.61 194.856 1694.79 194.856 Q1694.46 194.856 1694.02 194.785 Q1693.59 194.715 1692.91 194.059 Q1692.23 193.38 1692.23 192.186 Q1692.23 188.836 1694.76 186.166 Q1697.32 183.496 1701.21 183.496 Q1705.61 183.496 1708.49 186.119 Q1711.39 188.719 1711.39 192.795 Q1711.39 194.223 1710.95 195.535 Q1710.53 196.823 1709.94 197.83 Q1709.38 198.838 1707.83 200.454 Q1706.29 202.07 1705.05 203.218 Q1703.81 204.365 1701.02 206.801 L1695.94 211.743 L1704.58 211.743 Q1708.79 211.743 1709.12 211.369 Q1709.59 210.689 1710.18 207.106 L1711.39 207.106 L1710.04 215.444 L1692.23 215.444 Z\" fill=\"#000000\" fill-rule=\"evenodd\" fill-opacity=\"1\" /><path clip-path=\"url(#clip730)\" d=\"M1716.18 208.979 Q1716.18 207.551 1717 206.871 Q1717.82 206.192 1718.88 206.192 Q1719.98 206.192 1720.75 206.918 Q1721.55 207.621 1721.55 208.862 Q1721.55 210.197 1720.61 210.947 Q1719.7 211.696 1718.39 211.509 Q1719.53 213.43 1721.64 214.296 Q1723.77 215.163 1725.74 215.163 Q1727.8 215.163 1729.46 213.383 Q1731.15 211.603 1731.15 207.246 Q1731.15 203.545 1729.7 201.414 Q1728.27 199.283 1725.44 199.283 L1723.33 199.283 Q1722.6 199.283 1722.39 199.212 Q1722.18 199.142 1722.18 198.744 Q1722.18 198.275 1722.91 198.182 Q1723.63 198.182 1724.78 198.041 Q1727.57 197.948 1729.04 195.535 Q1730.38 193.286 1730.38 190.078 Q1730.38 187.15 1728.97 185.932 Q1727.59 184.69 1725.79 184.69 Q1724.1 184.69 1722.25 185.393 Q1720.4 186.096 1719.39 187.665 Q1722.37 187.665 1722.37 190.078 Q1722.37 191.132 1721.69 191.834 Q1721.03 192.514 1719.93 192.514 Q1718.88 192.514 1718.17 191.858 Q1717.47 191.178 1717.47 190.031 Q1717.47 187.29 1719.91 185.393 Q1722.37 183.496 1725.97 183.496 Q1729.53 183.496 1732.16 185.37 Q1734.8 187.243 1734.8 190.124 Q1734.8 192.959 1732.93 195.277 Q1731.06 197.596 1728.08 198.557 Q1731.74 199.283 1733.91 201.765 Q1736.09 204.225 1736.09 207.246 Q1736.09 210.994 1733.14 213.758 Q1730.19 216.498 1725.88 216.498 Q1721.9 216.498 1719.04 214.343 Q1716.18 212.188 1716.18 208.979 Z\" fill=\"#000000\" fill-rule=\"evenodd\" fill-opacity=\"1\" /><path clip-path=\"url(#clip730)\" d=\"M1738.84 188.063 L1738.84 186.564 Q1744.6 186.564 1747.58 183.496 Q1748.4 183.496 1748.54 183.683 Q1748.68 183.871 1748.68 184.737 L1748.68 211.65 Q1748.68 213.078 1749.38 213.523 Q1750.08 213.968 1753.15 213.968 L1754.67 213.968 L1754.67 215.444 Q1752.99 215.304 1746.9 215.304 Q1740.81 215.304 1739.14 215.444 L1739.14 213.968 L1740.67 213.968 Q1743.69 213.968 1744.41 213.547 Q1745.14 213.102 1745.14 211.65 L1745.14 186.798 Q1742.63 188.063 1738.84 188.063 Z\" fill=\"#000000\" fill-rule=\"evenodd\" fill-opacity=\"1\" /><path clip-path=\"url(#clip730)\" d=\"M1756.1 192.888 L1757.67 183.027 L1758.86 183.027 Q1759 183.613 1759.24 183.871 Q1759.49 184.128 1760.85 184.339 Q1762.24 184.55 1765.02 184.55 L1776.66 184.55 Q1776.66 185.651 1776.24 186.236 L1769.75 195.348 Q1767.69 198.229 1766.78 203.545 Q1766.24 207.106 1766.26 211.415 L1766.26 213.851 Q1766.26 216.498 1764.04 216.498 Q1761.84 216.498 1761.84 213.851 Q1761.84 204.693 1767.74 195.816 Q1768.37 194.903 1770.69 191.647 Q1773.03 188.391 1773.13 188.251 L1763.2 188.251 Q1758.84 188.251 1758.49 188.532 Q1758.02 188.953 1757.29 192.888 L1756.1 192.888 Z\" fill=\"#000000\" fill-rule=\"evenodd\" fill-opacity=\"1\" /><path clip-path=\"url(#clip730)\" d=\"M1780.05 226.968 Q1780.05 226.734 1780.66 226.148 Q1788.39 218.278 1788.39 203.452 Q1788.39 188.579 1780.96 181.06 Q1780.05 180.193 1780.05 179.936 Q1780.05 179.467 1780.52 179.467 Q1780.84 179.467 1781.99 180.428 Q1783.16 181.388 1784.92 183.59 Q1786.7 185.791 1788.01 188.485 Q1791.17 195.02 1791.17 203.452 Q1791.17 211.556 1788.15 218.091 Q1786.86 220.831 1785.06 223.127 Q1783.26 225.422 1782.06 226.429 Q1780.87 227.436 1780.52 227.436 Q1780.05 227.436 1780.05 226.968 Z\" fill=\"#000000\" fill-rule=\"evenodd\" fill-opacity=\"1\" /><path clip-path=\"url(#clip730)\" d=\"M1825.66 177.67 L1813.55 177.67 L1813.55 176.621 L1825.66 176.621 L1825.66 177.67 Z\" fill=\"#000000\" fill-rule=\"evenodd\" fill-opacity=\"1\" /><path clip-path=\"url(#clip730)\" d=\"M1835.12 194.809 Q1835.12 198.674 1833.46 202.468 Q1831.82 206.239 1829.15 209.097 Q1826.5 211.931 1822.92 213.687 Q1819.34 215.444 1815.68 215.444 L1799.8 215.444 Q1799.24 215.444 1799.01 215.421 Q1798.8 215.397 1798.63 215.28 Q1798.47 215.14 1798.47 214.859 Q1798.47 214.413 1798.65 214.226 Q1798.84 214.015 1799.05 213.992 Q1799.26 213.968 1799.8 213.968 Q1800.97 213.968 1801.68 213.898 Q1802.38 213.828 1802.82 213.734 Q1803.29 213.617 1803.53 213.289 Q1803.78 212.961 1803.9 212.68 Q1804.02 212.376 1804.18 211.696 L1810.6 185.932 Q1810.79 185.159 1810.79 185.042 Q1810.79 184.644 1810.55 184.503 Q1810.34 184.339 1809.73 184.269 Q1808.56 184.175 1807.67 184.175 Q1807.09 184.175 1806.85 184.152 Q1806.64 184.128 1806.45 184.011 Q1806.29 183.871 1806.29 183.59 Q1806.29 183.145 1806.48 182.957 Q1806.69 182.746 1806.92 182.723 Q1807.16 182.676 1807.72 182.676 L1823.83 182.676 Q1827.32 182.676 1829.92 184.316 Q1832.52 185.932 1833.81 188.672 Q1835.12 191.389 1835.12 194.809 M1830.93 193.052 Q1830.93 188.579 1828.5 186.377 Q1826.08 184.175 1822.26 184.175 L1817.14 184.175 Q1815.61 184.175 1815.24 184.456 Q1814.86 184.714 1814.54 186.002 L1807.95 212.329 Q1807.72 213.196 1807.72 213.43 Q1807.72 213.687 1807.84 213.781 Q1807.98 213.851 1808.35 213.898 Q1808.77 213.968 1809.41 213.968 L1814.82 213.968 Q1816.9 213.968 1818.8 213.406 Q1820.72 212.821 1822.1 211.907 Q1823.48 210.97 1824.37 210.174 Q1825.26 209.354 1825.9 208.534 Q1827.32 206.684 1828.38 204.272 Q1829.46 201.859 1829.95 199.657 Q1830.46 197.432 1830.7 195.793 Q1830.93 194.13 1830.93 193.052 Z\" fill=\"#000000\" fill-rule=\"evenodd\" fill-opacity=\"1\" /><path clip-path=\"url(#clip730)\" d=\"M1852.25 212.307 Q1852.25 213.225 1851.79 213.717 Q1851.33 214.193 1850.71 214.193 Q1850.2 214.193 1849.92 213.898 Q1849.66 213.602 1849.66 213.209 Q1849.66 212.635 1850.12 212.176 Q1850.6 211.717 1851.28 211.701 Q1851.06 211.094 1850.45 210.733 Q1849.84 210.356 1849.3 210.258 Q1848.78 210.159 1848.25 210.159 Q1847.22 210.159 1846.43 210.487 Q1845.64 210.815 1845.25 211.323 Q1844.86 211.815 1844.68 212.291 Q1844.5 212.766 1844.5 213.176 Q1844.5 213.537 1844.58 213.832 Q1844.68 214.111 1844.91 214.324 Q1845.14 214.521 1845.3 214.652 Q1845.48 214.783 1845.87 214.898 Q1846.27 215.013 1846.43 215.062 Q1846.6 215.095 1847.05 215.193 Q1848.01 215.39 1848.43 215.504 Q1848.86 215.603 1849.42 215.882 Q1849.99 216.16 1850.42 216.603 Q1851.45 217.636 1851.45 219.062 Q1851.45 219.587 1851.27 220.226 Q1851.1 220.866 1850.63 221.669 Q1850.15 222.473 1849.43 223.112 Q1848.71 223.751 1847.46 224.194 Q1846.23 224.637 1844.69 224.637 Q1842.55 224.637 1841.22 223.735 Q1839.89 222.817 1839.89 221.374 Q1839.89 220.325 1840.46 219.751 Q1841.04 219.161 1841.78 219.161 Q1842.33 219.161 1842.68 219.472 Q1843.02 219.767 1843.02 220.325 Q1843.02 221.079 1842.41 221.653 Q1841.81 222.227 1840.91 222.112 Q1841.68 223.883 1844.73 223.883 Q1845.87 223.883 1846.76 223.587 Q1847.66 223.276 1848.15 222.85 Q1848.66 222.407 1848.99 221.866 Q1849.32 221.325 1849.42 220.915 Q1849.53 220.505 1849.53 220.194 Q1849.53 219.653 1849.32 219.243 Q1849.1 218.833 1848.81 218.603 Q1848.53 218.357 1847.99 218.161 Q1847.46 217.947 1847.09 217.865 Q1846.71 217.783 1846.04 217.652 Q1845.73 217.587 1845.53 217.554 Q1845.33 217.505 1844.92 217.374 Q1844.53 217.226 1844.25 217.078 Q1843.99 216.931 1843.64 216.668 Q1843.3 216.406 1843.09 216.095 Q1842.87 215.783 1842.73 215.324 Q1842.58 214.865 1842.58 214.324 Q1842.58 213.832 1842.73 213.242 Q1842.89 212.652 1843.3 211.963 Q1843.73 211.274 1844.33 210.717 Q1844.94 210.159 1845.96 209.799 Q1846.99 209.422 1848.25 209.422 Q1850.09 209.422 1851.17 210.274 Q1852.25 211.11 1852.25 212.307 Z\" fill=\"#000000\" fill-rule=\"evenodd\" fill-opacity=\"1\" /><circle clip-path=\"url(#clip730)\" cx=\"1516.35\" cy=\"258.08\" r=\"23.04\" fill=\"#3da44d\" fill-rule=\"evenodd\" fill-opacity=\"1\" stroke=\"#000000\" stroke-opacity=\"1\" stroke-width=\"4.48\"/>\n",
       "<path clip-path=\"url(#clip730)\" d=\"M1597.43 244.643 L1597.43 271.518 L1603.08 271.518 Q1610.23 271.518 1613.54 268.277 Q1616.88 265.036 1616.88 258.046 Q1616.88 251.101 1613.54 247.884 Q1610.23 244.643 1603.08 244.643 L1597.43 244.643 M1592.75 240.8 L1602.36 240.8 Q1612.41 240.8 1617.11 244.99 Q1621.81 249.157 1621.81 258.046 Q1621.81 266.981 1617.08 271.171 Q1612.36 275.36 1602.36 275.36 L1592.75 275.36 L1592.75 240.8 Z\" fill=\"#000000\" fill-rule=\"evenodd\" fill-opacity=\"1\" /><path clip-path=\"url(#clip730)\" d=\"M1640.86 262.328 Q1635.69 262.328 1633.7 263.509 Q1631.71 264.689 1631.71 267.536 Q1631.71 269.805 1633.19 271.147 Q1634.7 272.467 1637.27 272.467 Q1640.81 272.467 1642.94 269.967 Q1645.09 267.444 1645.09 263.277 L1645.09 262.328 L1640.86 262.328 M1649.35 260.569 L1649.35 275.36 L1645.09 275.36 L1645.09 271.425 Q1643.63 273.786 1641.46 274.921 Q1639.28 276.032 1636.13 276.032 Q1632.15 276.032 1629.79 273.809 Q1627.45 271.564 1627.45 267.814 Q1627.45 263.439 1630.37 261.217 Q1633.31 258.995 1639.12 258.995 L1645.09 258.995 L1645.09 258.578 Q1645.09 255.638 1643.15 254.041 Q1641.23 252.421 1637.73 252.421 Q1635.51 252.421 1633.4 252.953 Q1631.3 253.486 1629.35 254.55 L1629.35 250.615 Q1631.69 249.712 1633.89 249.273 Q1636.09 248.81 1638.17 248.81 Q1643.8 248.81 1646.57 251.726 Q1649.35 254.643 1649.35 260.569 Z\" fill=\"#000000\" fill-rule=\"evenodd\" fill-opacity=\"1\" /><path clip-path=\"url(#clip730)\" d=\"M1662.34 242.074 L1662.34 249.435 L1671.11 249.435 L1671.11 252.745 L1662.34 252.745 L1662.34 266.819 Q1662.34 269.99 1663.19 270.893 Q1664.07 271.796 1666.74 271.796 L1671.11 271.796 L1671.11 275.36 L1666.74 275.36 Q1661.81 275.36 1659.93 273.532 Q1658.06 271.68 1658.06 266.819 L1658.06 252.745 L1654.93 252.745 L1654.93 249.435 L1658.06 249.435 L1658.06 242.074 L1662.34 242.074 Z\" fill=\"#000000\" fill-rule=\"evenodd\" fill-opacity=\"1\" /><path clip-path=\"url(#clip730)\" d=\"M1688.5 262.328 Q1683.33 262.328 1681.34 263.509 Q1679.35 264.689 1679.35 267.536 Q1679.35 269.805 1680.83 271.147 Q1682.34 272.467 1684.91 272.467 Q1688.45 272.467 1690.58 269.967 Q1692.73 267.444 1692.73 263.277 L1692.73 262.328 L1688.5 262.328 M1696.99 260.569 L1696.99 275.36 L1692.73 275.36 L1692.73 271.425 Q1691.27 273.786 1689.1 274.921 Q1686.92 276.032 1683.77 276.032 Q1679.79 276.032 1677.43 273.809 Q1675.09 271.564 1675.09 267.814 Q1675.09 263.439 1678.01 261.217 Q1680.95 258.995 1686.76 258.995 L1692.73 258.995 L1692.73 258.578 Q1692.73 255.638 1690.79 254.041 Q1688.87 252.421 1685.37 252.421 Q1683.15 252.421 1681.04 252.953 Q1678.93 253.486 1676.99 254.55 L1676.99 250.615 Q1679.33 249.712 1681.53 249.273 Q1683.73 248.81 1685.81 248.81 Q1691.43 248.81 1694.21 251.726 Q1696.99 254.643 1696.99 260.569 Z\" fill=\"#000000\" fill-rule=\"evenodd\" fill-opacity=\"1\" /><polyline clip-path=\"url(#clip730)\" style=\"stroke:#0000ff; stroke-linecap:butt; stroke-linejoin:round; stroke-width:4; stroke-opacity:1; fill:none\" points=\"\n",
       "  1459.05,315.317 1573.65,315.317 \n",
       "  \"/>\n",
       "<path clip-path=\"url(#clip730)\" d=\"M1592.75 298.037 L1612.62 298.037 L1612.62 301.972 L1597.43 301.972 L1597.43 312.157 L1611.13 312.157 L1611.13 316.092 L1597.43 316.092 L1597.43 332.597 L1592.75 332.597 L1592.75 298.037 Z\" fill=\"#000000\" fill-rule=\"evenodd\" fill-opacity=\"1\" /><path clip-path=\"url(#clip730)\" d=\"M1616.39 306.671 L1620.65 306.671 L1620.65 332.597 L1616.39 332.597 L1616.39 306.671 M1616.39 296.578 L1620.65 296.578 L1620.65 301.972 L1616.39 301.972 L1616.39 296.578 Z\" fill=\"#000000\" fill-rule=\"evenodd\" fill-opacity=\"1\" /><path clip-path=\"url(#clip730)\" d=\"M1633.77 299.31 L1633.77 306.671 L1642.55 306.671 L1642.55 309.981 L1633.77 309.981 L1633.77 324.055 Q1633.77 327.226 1634.63 328.129 Q1635.51 329.032 1638.17 329.032 L1642.55 329.032 L1642.55 332.597 L1638.17 332.597 Q1633.24 332.597 1631.37 330.768 Q1629.49 328.916 1629.49 324.055 L1629.49 309.981 L1626.37 309.981 L1626.37 306.671 L1629.49 306.671 L1629.49 299.31 L1633.77 299.31 Z\" fill=\"#000000\" fill-rule=\"evenodd\" fill-opacity=\"1\" /><path clip-path=\"url(#clip730)\" d=\"M1652.36 299.31 L1652.36 306.671 L1661.13 306.671 L1661.13 309.981 L1652.36 309.981 L1652.36 324.055 Q1652.36 327.226 1653.22 328.129 Q1654.1 329.032 1656.76 329.032 L1661.13 329.032 L1661.13 332.597 L1656.76 332.597 Q1651.83 332.597 1649.95 330.768 Q1648.08 328.916 1648.08 324.055 L1648.08 309.981 L1644.95 309.981 L1644.95 306.671 L1648.08 306.671 L1648.08 299.31 L1652.36 299.31 Z\" fill=\"#000000\" fill-rule=\"evenodd\" fill-opacity=\"1\" /><path clip-path=\"url(#clip730)\" d=\"M1666.74 306.671 L1671 306.671 L1671 332.597 L1666.74 332.597 L1666.74 306.671 M1666.74 296.578 L1671 296.578 L1671 301.972 L1666.74 301.972 L1666.74 296.578 Z\" fill=\"#000000\" fill-rule=\"evenodd\" fill-opacity=\"1\" /><path clip-path=\"url(#clip730)\" d=\"M1701.46 316.949 L1701.46 332.597 L1697.2 332.597 L1697.2 317.087 Q1697.2 313.407 1695.76 311.578 Q1694.33 309.75 1691.46 309.75 Q1688.01 309.75 1686.02 311.949 Q1684.03 314.148 1684.03 317.944 L1684.03 332.597 L1679.75 332.597 L1679.75 306.671 L1684.03 306.671 L1684.03 310.699 Q1685.56 308.361 1687.62 307.203 Q1689.7 306.046 1692.41 306.046 Q1696.87 306.046 1699.17 308.824 Q1701.46 311.578 1701.46 316.949 Z\" fill=\"#000000\" fill-rule=\"evenodd\" fill-opacity=\"1\" /><path clip-path=\"url(#clip730)\" d=\"M1727.01 319.333 Q1727.01 314.703 1725.09 312.157 Q1723.19 309.611 1719.74 309.611 Q1716.32 309.611 1714.4 312.157 Q1712.5 314.703 1712.5 319.333 Q1712.5 323.939 1714.4 326.486 Q1716.32 329.032 1719.74 329.032 Q1723.19 329.032 1725.09 326.486 Q1727.01 323.939 1727.01 319.333 M1731.27 329.379 Q1731.27 335.999 1728.33 339.217 Q1725.39 342.458 1719.33 342.458 Q1717.08 342.458 1715.09 342.11 Q1713.1 341.786 1711.23 341.092 L1711.23 336.948 Q1713.1 337.967 1714.93 338.453 Q1716.76 338.939 1718.66 338.939 Q1722.85 338.939 1724.93 336.74 Q1727.01 334.564 1727.01 330.143 L1727.01 328.036 Q1725.69 330.328 1723.63 331.462 Q1721.57 332.597 1718.7 332.597 Q1713.93 332.597 1711.02 328.962 Q1708.1 325.328 1708.1 319.333 Q1708.1 313.314 1711.02 309.68 Q1713.93 306.046 1718.7 306.046 Q1721.57 306.046 1723.63 307.18 Q1725.69 308.314 1727.01 310.606 L1727.01 306.671 L1731.27 306.671 L1731.27 329.379 Z\" fill=\"#000000\" fill-rule=\"evenodd\" fill-opacity=\"1\" /><polyline clip-path=\"url(#clip730)\" style=\"stroke:#ac8d18; stroke-linecap:butt; stroke-linejoin:round; stroke-width:4; stroke-opacity:1; fill:none\" stroke-dasharray=\"16, 10\" points=\"\n",
       "  1459.05,372.553 1573.65,372.553 \n",
       "  \"/>\n",
       "<path clip-path=\"url(#clip730)\" d=\"M1629.41 366.518 Q1629.41 370.382 1627.75 374.177 Q1626.11 377.948 1623.44 380.805 Q1620.79 383.639 1617.21 385.396 Q1613.62 387.153 1609.97 387.153 L1594.09 387.153 Q1593.53 387.153 1593.29 387.129 Q1593.08 387.106 1592.92 386.989 Q1592.75 386.848 1592.75 386.567 Q1592.75 386.122 1592.94 385.935 Q1593.13 385.724 1593.34 385.7 Q1593.55 385.677 1594.09 385.677 Q1595.26 385.677 1595.96 385.607 Q1596.67 385.537 1597.11 385.443 Q1597.58 385.326 1597.81 384.998 Q1598.07 384.67 1598.19 384.389 Q1598.31 384.084 1598.47 383.405 L1604.89 357.64 Q1605.08 356.867 1605.08 356.75 Q1605.08 356.352 1604.84 356.212 Q1604.63 356.048 1604.02 355.977 Q1602.85 355.884 1601.96 355.884 Q1601.37 355.884 1601.14 355.86 Q1600.93 355.837 1600.74 355.72 Q1600.58 355.579 1600.58 355.298 Q1600.58 354.853 1600.77 354.666 Q1600.98 354.455 1601.21 354.432 Q1601.44 354.385 1602.01 354.385 L1618.12 354.385 Q1621.61 354.385 1624.21 356.024 Q1626.81 357.64 1628.1 360.381 Q1629.41 363.098 1629.41 366.518 M1625.22 364.761 Q1625.22 360.287 1622.78 358.085 Q1620.37 355.884 1616.55 355.884 L1611.42 355.884 Q1609.9 355.884 1609.53 356.165 Q1609.15 356.422 1608.82 357.711 L1602.24 384.037 Q1602.01 384.904 1602.01 385.138 Q1602.01 385.396 1602.12 385.49 Q1602.26 385.56 1602.64 385.607 Q1603.06 385.677 1603.69 385.677 L1609.1 385.677 Q1611.19 385.677 1613.09 385.115 Q1615.01 384.529 1616.39 383.616 Q1617.77 382.679 1618.66 381.883 Q1619.55 381.063 1620.18 380.243 Q1621.61 378.393 1622.67 375.98 Q1623.74 373.568 1624.23 371.366 Q1624.75 369.141 1624.98 367.501 Q1625.22 365.838 1625.22 364.761 Z\" fill=\"#000000\" fill-rule=\"evenodd\" fill-opacity=\"1\" /><path clip-path=\"url(#clip730)\" d=\"M1646.54 388.489 Q1646.54 389.407 1646.08 389.899 Q1645.62 390.375 1645 390.375 Q1644.49 390.375 1644.21 390.08 Q1643.95 389.785 1643.95 389.391 Q1643.95 388.817 1644.41 388.358 Q1644.88 387.899 1645.57 387.883 Q1645.34 387.276 1644.74 386.915 Q1644.13 386.538 1643.59 386.44 Q1643.06 386.341 1642.54 386.341 Q1641.51 386.341 1640.72 386.669 Q1639.93 386.997 1639.54 387.506 Q1639.14 387.997 1638.96 388.473 Q1638.78 388.948 1638.78 389.358 Q1638.78 389.719 1638.87 390.014 Q1638.96 390.293 1639.19 390.506 Q1639.42 390.703 1639.59 390.834 Q1639.77 390.965 1640.16 391.08 Q1640.55 391.195 1640.72 391.244 Q1640.88 391.277 1641.34 391.375 Q1642.29 391.572 1642.72 391.686 Q1643.15 391.785 1643.7 392.064 Q1644.28 392.342 1644.7 392.785 Q1645.74 393.818 1645.74 395.244 Q1645.74 395.769 1645.56 396.408 Q1645.39 397.048 1644.92 397.851 Q1644.44 398.655 1643.72 399.294 Q1643 399.933 1641.75 400.376 Q1640.52 400.819 1638.98 400.819 Q1636.83 400.819 1635.51 399.917 Q1634.18 398.999 1634.18 397.556 Q1634.18 396.507 1634.75 395.933 Q1635.32 395.343 1636.06 395.343 Q1636.62 395.343 1636.96 395.654 Q1637.31 395.949 1637.31 396.507 Q1637.31 397.261 1636.7 397.835 Q1636.1 398.409 1635.19 398.294 Q1635.96 400.065 1639.01 400.065 Q1640.16 400.065 1641.05 399.77 Q1641.95 399.458 1642.44 399.032 Q1642.95 398.589 1643.28 398.048 Q1643.6 397.507 1643.7 397.097 Q1643.82 396.687 1643.82 396.376 Q1643.82 395.835 1643.6 395.425 Q1643.39 395.015 1643.1 394.785 Q1642.82 394.539 1642.28 394.343 Q1641.75 394.129 1641.37 394.047 Q1641 393.965 1640.33 393.834 Q1640.01 393.769 1639.82 393.736 Q1639.62 393.687 1639.21 393.556 Q1638.82 393.408 1638.54 393.26 Q1638.28 393.113 1637.93 392.851 Q1637.59 392.588 1637.37 392.277 Q1637.16 391.965 1637.01 391.506 Q1636.87 391.047 1636.87 390.506 Q1636.87 390.014 1637.01 389.424 Q1637.18 388.834 1637.59 388.145 Q1638.01 387.456 1638.62 386.899 Q1639.23 386.341 1640.24 385.981 Q1641.28 385.604 1642.54 385.604 Q1644.38 385.604 1645.46 386.456 Q1646.54 387.292 1646.54 388.489 Z\" fill=\"#000000\" fill-rule=\"evenodd\" fill-opacity=\"1\" /><path clip-path=\"url(#clip730)\" d=\"M1649.63 389.703 Q1649.63 384.767 1650.88 382.079 Q1652.62 378.078 1656.72 378.078 Q1657.58 378.078 1658.49 378.324 Q1659.4 378.553 1660.55 379.455 Q1661.72 380.357 1662.42 381.833 Q1663.77 384.685 1663.77 389.703 Q1663.77 394.605 1662.52 397.277 Q1660.7 401.18 1656.68 401.18 Q1655.17 401.18 1653.63 400.409 Q1652.11 399.638 1651.14 397.786 Q1649.63 395.015 1649.63 389.703 M1652.42 389.293 Q1652.42 394.359 1652.78 396.376 Q1653.19 398.556 1654.31 399.507 Q1655.44 400.442 1656.68 400.442 Q1658.03 400.442 1659.14 399.442 Q1660.27 398.425 1660.62 396.244 Q1661 394.097 1660.98 389.293 Q1660.98 384.62 1660.65 382.751 Q1660.21 380.57 1659.03 379.701 Q1657.86 378.816 1656.68 378.816 Q1656.24 378.816 1655.76 378.947 Q1655.31 379.078 1654.63 379.455 Q1653.96 379.832 1653.44 380.767 Q1652.93 381.701 1652.68 383.111 Q1652.42 384.931 1652.42 389.293 Z\" fill=\"#000000\" fill-rule=\"evenodd\" fill-opacity=\"1\" /><path clip-path=\"url(#clip730)\" d=\"M1646.7 354.465 Q1646.49 354.842 1646.05 354.941 Q1645.62 355.023 1645.26 354.777 L1640.96 351.612 L1641.52 356.925 Q1641.57 357.351 1641.29 357.679 Q1641.01 357.99 1640.55 357.99 Q1640.1 357.99 1639.82 357.679 Q1639.54 357.351 1639.59 356.925 L1640.15 351.612 L1635.85 354.777 Q1635.49 355.023 1635.05 354.941 Q1634.62 354.842 1634.41 354.465 Q1634.18 354.055 1634.31 353.645 Q1634.46 353.219 1634.88 353.055 L1639.75 350.907 L1634.88 348.759 Q1634.46 348.595 1634.31 348.186 Q1634.18 347.759 1634.41 347.349 Q1634.62 346.972 1635.05 346.89 Q1635.49 346.792 1635.85 347.038 L1640.15 350.202 L1639.59 344.89 Q1639.54 344.447 1639.82 344.119 Q1640.11 343.792 1640.55 343.792 Q1641 343.792 1641.28 344.119 Q1641.57 344.447 1641.52 344.89 L1640.96 350.202 L1645.26 347.038 Q1645.62 346.792 1646.05 346.89 Q1646.49 346.972 1646.7 347.349 Q1646.93 347.759 1646.79 348.186 Q1646.65 348.595 1646.23 348.759 L1641.36 350.907 L1646.23 353.055 Q1646.65 353.219 1646.79 353.645 Q1646.93 354.055 1646.7 354.465 Z\" fill=\"#000000\" fill-rule=\"evenodd\" fill-opacity=\"1\" /><path clip-path=\"url(#clip730)\" d=\"M1676.5 375.16 Q1676.5 367.056 1679.52 360.521 Q1680.81 357.781 1682.62 355.486 Q1684.42 353.19 1685.61 352.183 Q1686.81 351.176 1687.14 351.176 Q1687.6 351.176 1687.63 351.644 Q1687.63 351.878 1687 352.464 Q1679.27 360.334 1679.29 375.16 Q1679.29 390.034 1686.81 397.599 Q1687.63 398.419 1687.63 398.677 Q1687.63 399.145 1687.14 399.145 Q1686.81 399.145 1685.66 398.185 Q1684.51 397.224 1682.73 395.023 Q1680.95 392.821 1679.66 390.127 Q1676.5 383.592 1676.5 375.16 Z\" fill=\"#000000\" fill-rule=\"evenodd\" fill-opacity=\"1\" /><path clip-path=\"url(#clip730)\" d=\"M1692.23 387.153 Q1692.23 386.286 1692.31 386.028 Q1692.4 385.771 1692.77 385.373 L1701.98 375.114 Q1707.01 369.445 1707.01 364.503 Q1707.01 361.294 1705.33 358.999 Q1703.67 356.704 1700.6 356.704 Q1698.49 356.704 1696.71 357.992 Q1694.93 359.28 1694.11 361.575 Q1694.25 361.529 1694.74 361.529 Q1695.94 361.529 1696.59 362.278 Q1697.27 363.028 1697.27 364.035 Q1697.27 365.323 1696.43 365.955 Q1695.61 366.564 1694.79 366.564 Q1694.46 366.564 1694.02 366.494 Q1693.59 366.424 1692.91 365.768 Q1692.23 365.089 1692.23 363.894 Q1692.23 360.545 1694.76 357.875 Q1697.32 355.204 1701.21 355.204 Q1705.61 355.204 1708.49 357.828 Q1711.39 360.428 1711.39 364.503 Q1711.39 365.932 1710.95 367.244 Q1710.53 368.532 1709.94 369.539 Q1709.38 370.546 1707.83 372.162 Q1706.29 373.778 1705.05 374.926 Q1703.81 376.074 1701.02 378.51 L1695.94 383.452 L1704.58 383.452 Q1708.79 383.452 1709.12 383.077 Q1709.59 382.398 1710.18 378.814 L1711.39 378.814 L1710.04 387.153 L1692.23 387.153 Z\" fill=\"#000000\" fill-rule=\"evenodd\" fill-opacity=\"1\" /><path clip-path=\"url(#clip730)\" d=\"M1716.18 380.688 Q1716.18 379.259 1717 378.58 Q1717.82 377.901 1718.88 377.901 Q1719.98 377.901 1720.75 378.627 Q1721.55 379.33 1721.55 380.571 Q1721.55 381.906 1720.61 382.656 Q1719.7 383.405 1718.39 383.218 Q1719.53 385.138 1721.64 386.005 Q1723.77 386.872 1725.74 386.872 Q1727.8 386.872 1729.46 385.092 Q1731.15 383.311 1731.15 378.955 Q1731.15 375.254 1729.7 373.123 Q1728.27 370.991 1725.44 370.991 L1723.33 370.991 Q1722.6 370.991 1722.39 370.921 Q1722.18 370.851 1722.18 370.452 Q1722.18 369.984 1722.91 369.89 Q1723.63 369.89 1724.78 369.75 Q1727.57 369.656 1729.04 367.244 Q1730.38 364.995 1730.38 361.786 Q1730.38 358.858 1728.97 357.64 Q1727.59 356.399 1725.79 356.399 Q1724.1 356.399 1722.25 357.102 Q1720.4 357.804 1719.39 359.374 Q1722.37 359.374 1722.37 361.786 Q1722.37 362.84 1721.69 363.543 Q1721.03 364.222 1719.93 364.222 Q1718.88 364.222 1718.17 363.566 Q1717.47 362.887 1717.47 361.739 Q1717.47 358.999 1719.91 357.102 Q1722.37 355.204 1725.97 355.204 Q1729.53 355.204 1732.16 357.078 Q1734.8 358.952 1734.8 361.833 Q1734.8 364.667 1732.93 366.986 Q1731.06 369.305 1728.08 370.265 Q1731.74 370.991 1733.91 373.474 Q1736.09 375.933 1736.09 378.955 Q1736.09 382.702 1733.14 385.466 Q1730.19 388.207 1725.88 388.207 Q1721.9 388.207 1719.04 386.052 Q1716.18 383.897 1716.18 380.688 Z\" fill=\"#000000\" fill-rule=\"evenodd\" fill-opacity=\"1\" /><path clip-path=\"url(#clip730)\" d=\"M1738.84 359.772 L1738.84 358.273 Q1744.6 358.273 1747.58 355.204 Q1748.4 355.204 1748.54 355.392 Q1748.68 355.579 1748.68 356.446 L1748.68 383.358 Q1748.68 384.787 1749.38 385.232 Q1750.08 385.677 1753.15 385.677 L1754.67 385.677 L1754.67 387.153 Q1752.99 387.012 1746.9 387.012 Q1740.81 387.012 1739.14 387.153 L1739.14 385.677 L1740.67 385.677 Q1743.69 385.677 1744.41 385.255 Q1745.14 384.81 1745.14 383.358 L1745.14 358.507 Q1742.63 359.772 1738.84 359.772 Z\" fill=\"#000000\" fill-rule=\"evenodd\" fill-opacity=\"1\" /><path clip-path=\"url(#clip730)\" d=\"M1756.1 364.597 L1757.67 354.736 L1758.86 354.736 Q1759 355.322 1759.24 355.579 Q1759.49 355.837 1760.85 356.048 Q1762.24 356.258 1765.02 356.258 L1776.66 356.258 Q1776.66 357.359 1776.24 357.945 L1769.75 367.056 Q1767.69 369.937 1766.78 375.254 Q1766.24 378.814 1766.26 383.124 L1766.26 385.56 Q1766.26 388.207 1764.04 388.207 Q1761.84 388.207 1761.84 385.56 Q1761.84 376.402 1767.74 367.525 Q1768.37 366.611 1770.69 363.355 Q1773.03 360.1 1773.13 359.959 L1763.2 359.959 Q1758.84 359.959 1758.49 360.24 Q1758.02 360.662 1757.29 364.597 L1756.1 364.597 Z\" fill=\"#000000\" fill-rule=\"evenodd\" fill-opacity=\"1\" /><path clip-path=\"url(#clip730)\" d=\"M1780.05 398.677 Q1780.05 398.442 1780.66 397.857 Q1788.39 389.987 1788.39 375.16 Q1788.39 360.287 1780.96 352.769 Q1780.05 351.902 1780.05 351.644 Q1780.05 351.176 1780.52 351.176 Q1780.84 351.176 1781.99 352.136 Q1783.16 353.096 1784.92 355.298 Q1786.7 357.5 1788.01 360.193 Q1791.17 366.728 1791.17 375.16 Q1791.17 383.265 1788.15 389.799 Q1786.86 392.54 1785.06 394.835 Q1783.26 397.131 1782.06 398.138 Q1780.87 399.145 1780.52 399.145 Q1780.05 399.145 1780.05 398.677 Z\" fill=\"#000000\" fill-rule=\"evenodd\" fill-opacity=\"1\" /><path clip-path=\"url(#clip730)\" d=\"M1825.66 349.379 L1813.55 349.379 L1813.55 348.33 L1825.66 348.33 L1825.66 349.379 Z\" fill=\"#000000\" fill-rule=\"evenodd\" fill-opacity=\"1\" /><path clip-path=\"url(#clip730)\" d=\"M1835.12 366.518 Q1835.12 370.382 1833.46 374.177 Q1831.82 377.948 1829.15 380.805 Q1826.5 383.639 1822.92 385.396 Q1819.34 387.153 1815.68 387.153 L1799.8 387.153 Q1799.24 387.153 1799.01 387.129 Q1798.8 387.106 1798.63 386.989 Q1798.47 386.848 1798.47 386.567 Q1798.47 386.122 1798.65 385.935 Q1798.84 385.724 1799.05 385.7 Q1799.26 385.677 1799.8 385.677 Q1800.97 385.677 1801.68 385.607 Q1802.38 385.537 1802.82 385.443 Q1803.29 385.326 1803.53 384.998 Q1803.78 384.67 1803.9 384.389 Q1804.02 384.084 1804.18 383.405 L1810.6 357.64 Q1810.79 356.867 1810.79 356.75 Q1810.79 356.352 1810.55 356.212 Q1810.34 356.048 1809.73 355.977 Q1808.56 355.884 1807.67 355.884 Q1807.09 355.884 1806.85 355.86 Q1806.64 355.837 1806.45 355.72 Q1806.29 355.579 1806.29 355.298 Q1806.29 354.853 1806.48 354.666 Q1806.69 354.455 1806.92 354.432 Q1807.16 354.385 1807.72 354.385 L1823.83 354.385 Q1827.32 354.385 1829.92 356.024 Q1832.52 357.64 1833.81 360.381 Q1835.12 363.098 1835.12 366.518 M1830.93 364.761 Q1830.93 360.287 1828.5 358.085 Q1826.08 355.884 1822.26 355.884 L1817.14 355.884 Q1815.61 355.884 1815.24 356.165 Q1814.86 356.422 1814.54 357.711 L1807.95 384.037 Q1807.72 384.904 1807.72 385.138 Q1807.72 385.396 1807.84 385.49 Q1807.98 385.56 1808.35 385.607 Q1808.77 385.677 1809.41 385.677 L1814.82 385.677 Q1816.9 385.677 1818.8 385.115 Q1820.72 384.529 1822.1 383.616 Q1823.48 382.679 1824.37 381.883 Q1825.26 381.063 1825.9 380.243 Q1827.32 378.393 1828.38 375.98 Q1829.46 373.568 1829.95 371.366 Q1830.46 369.141 1830.7 367.501 Q1830.93 365.838 1830.93 364.761 Z\" fill=\"#000000\" fill-rule=\"evenodd\" fill-opacity=\"1\" /><path clip-path=\"url(#clip730)\" d=\"M1852.25 384.016 Q1852.25 384.934 1851.79 385.426 Q1851.33 385.901 1850.71 385.901 Q1850.2 385.901 1849.92 385.606 Q1849.66 385.311 1849.66 384.918 Q1849.66 384.344 1850.12 383.885 Q1850.6 383.426 1851.28 383.409 Q1851.06 382.803 1850.45 382.442 Q1849.84 382.065 1849.3 381.966 Q1848.78 381.868 1848.25 381.868 Q1847.22 381.868 1846.43 382.196 Q1845.64 382.524 1845.25 383.032 Q1844.86 383.524 1844.68 383.999 Q1844.5 384.475 1844.5 384.885 Q1844.5 385.246 1844.58 385.541 Q1844.68 385.819 1844.91 386.033 Q1845.14 386.229 1845.3 386.36 Q1845.48 386.492 1845.87 386.606 Q1846.27 386.721 1846.43 386.77 Q1846.6 386.803 1847.05 386.901 Q1848.01 387.098 1848.43 387.213 Q1848.86 387.311 1849.42 387.59 Q1849.99 387.869 1850.42 388.312 Q1851.45 389.344 1851.45 390.771 Q1851.45 391.296 1851.27 391.935 Q1851.1 392.574 1850.63 393.378 Q1850.15 394.181 1849.43 394.821 Q1848.71 395.46 1847.46 395.903 Q1846.23 396.345 1844.69 396.345 Q1842.55 396.345 1841.22 395.444 Q1839.89 394.525 1839.89 393.083 Q1839.89 392.033 1840.46 391.459 Q1841.04 390.869 1841.78 390.869 Q1842.33 390.869 1842.68 391.181 Q1843.02 391.476 1843.02 392.033 Q1843.02 392.788 1842.41 393.361 Q1841.81 393.935 1840.91 393.82 Q1841.68 395.591 1844.73 395.591 Q1845.87 395.591 1846.76 395.296 Q1847.66 394.985 1848.15 394.558 Q1848.66 394.116 1848.99 393.575 Q1849.32 393.033 1849.42 392.624 Q1849.53 392.214 1849.53 391.902 Q1849.53 391.361 1849.32 390.951 Q1849.1 390.541 1848.81 390.312 Q1848.53 390.066 1847.99 389.869 Q1847.46 389.656 1847.09 389.574 Q1846.71 389.492 1846.04 389.361 Q1845.73 389.295 1845.53 389.262 Q1845.33 389.213 1844.92 389.082 Q1844.53 388.935 1844.25 388.787 Q1843.99 388.639 1843.64 388.377 Q1843.3 388.115 1843.09 387.803 Q1842.87 387.492 1842.73 387.033 Q1842.58 386.574 1842.58 386.033 Q1842.58 385.541 1842.73 384.95 Q1842.89 384.36 1843.3 383.672 Q1843.73 382.983 1844.33 382.425 Q1844.94 381.868 1845.96 381.507 Q1846.99 381.13 1848.25 381.13 Q1850.09 381.13 1851.17 381.983 Q1852.25 382.819 1852.25 384.016 Z\" fill=\"#000000\" fill-rule=\"evenodd\" fill-opacity=\"1\" /></svg>\n"
      ]
     },
     "execution_count": 140,
     "metadata": {},
     "output_type": "execute_result"
    }
   ],
   "source": [
    "x = 4.270: 0.001: 4.34\n",
    "y = [dist2Fit.(x)]\n",
    "@plt_data! data_full\n",
    "Plots.plot!(x, y, color=:blue, linewidth=2, label=\"Fitting\")\n",
    "vline!([mds02317+mds], line=:dash, label=L\"D_{s0}^{\\ast}(2317)\\bar{D}_s\")"
   ]
  },
  {
   "cell_type": "code",
   "execution_count": null,
   "metadata": {},
   "outputs": [],
   "source": []
  }
 ],
 "metadata": {
  "kernelspec": {
   "display_name": "Julia 1.7.3",
   "language": "julia",
   "name": "julia-1.7"
  },
  "language_info": {
   "file_extension": ".jl",
   "mimetype": "application/julia",
   "name": "julia",
   "version": "1.7.3"
  }
 },
 "nbformat": 4,
 "nbformat_minor": 4
}
